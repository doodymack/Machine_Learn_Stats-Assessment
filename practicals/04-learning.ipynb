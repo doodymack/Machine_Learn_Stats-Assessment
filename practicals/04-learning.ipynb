{
 "cells": [
  {
   "cell_type": "markdown",
   "metadata": {},
   "source": [
    "# Machine Learning\n",
    "\n",
    "***\n",
    "\n",
    "```sh\n",
    "$ conda install tensorflow\n",
    "```\n",
    "\n",
    "\n",
    "https://keras.io/"
   ]
  },
  {
   "cell_type": "markdown",
   "metadata": {},
   "source": [
    "## Packages\n",
    "\n",
    "***"
   ]
  },
  {
   "cell_type": "code",
   "execution_count": 1,
   "metadata": {},
   "outputs": [],
   "source": [
    "# Numerical arrays.\n",
    "import numpy as np\n",
    "\n",
    "# Plotting.\n",
    "import matplotlib.pyplot as plt\n",
    "\n",
    "# Neural networks.\n",
    "import tensorflow.keras as keras"
   ]
  },
  {
   "cell_type": "code",
   "execution_count": 2,
   "metadata": {},
   "outputs": [],
   "source": [
    "# Horrible hack from: https://stackoverflow.com/a/53014308\n",
    "import os\n",
    "os.environ[\"KMP_DUPLICATE_LIB_OK\"]=\"TRUE\""
   ]
  },
  {
   "cell_type": "markdown",
   "metadata": {},
   "source": [
    "## Single Neuron\n",
    "\n",
    "***\n",
    "\n",
    "![Neuron](img/neuron.svg)"
   ]
  },
  {
   "cell_type": "markdown",
   "metadata": {},
   "source": [
    "## Single Input\n",
    "\n",
    "***\n",
    "\n",
    "![Single Input Neuron](img/neuron-single-input.svg)"
   ]
  },
  {
   "cell_type": "markdown",
   "metadata": {},
   "source": [
    "$$y = mx + c$$\n",
    "\n",
    "$$ \\phi (x) = x $$\n",
    "\n",
    "$$ \\phi (w_1 x_1 + w_0 (1)) = w_1  x_1 + w_0 $$"
   ]
  },
  {
   "cell_type": "code",
   "execution_count": 3,
   "metadata": {},
   "outputs": [],
   "source": [
    "# Identity activation function.\n",
    "def identity(x):\n",
    "    return x"
   ]
  },
  {
   "cell_type": "code",
   "execution_count": 4,
   "metadata": {},
   "outputs": [],
   "source": [
    "# Firing a neuron.\n",
    "def fire_neuron(x, w, phi):\n",
    "    return phi(np.sum(x * w))"
   ]
  },
  {
   "cell_type": "code",
   "execution_count": 5,
   "metadata": {},
   "outputs": [
    {
     "data": {
      "text/plain": [
       "(array([1., 4.]), array([2., 3.]))"
      ]
     },
     "execution_count": 5,
     "metadata": {},
     "output_type": "execute_result"
    }
   ],
   "source": [
    "# Our x values - always has to have 1.0 at index 0.\n",
    "x = np.array([1.0, 4.0])\n",
    "\n",
    "# Our weights.\n",
    "w = np.array([2.0, 3.0])\n",
    "\n",
    "x, w"
   ]
  },
  {
   "cell_type": "code",
   "execution_count": 6,
   "metadata": {},
   "outputs": [
    {
     "data": {
      "text/plain": [
       "14.0"
      ]
     },
     "execution_count": 6,
     "metadata": {},
     "output_type": "execute_result"
    }
   ],
   "source": [
    "fire_neuron(x, w, identity)"
   ]
  },
  {
   "cell_type": "markdown",
   "metadata": {},
   "source": [
    "## Data\n",
    "\n",
    "***"
   ]
  },
  {
   "cell_type": "code",
   "execution_count": 7,
   "metadata": {},
   "outputs": [
    {
     "data": {
      "text/plain": [
       "array([ 1.,  2.,  3.,  4.,  5.,  6.,  7.,  8.,  9., 10., 11., 12.])"
      ]
     },
     "execution_count": 7,
     "metadata": {},
     "output_type": "execute_result"
    }
   ],
   "source": [
    "# Real-world input values.\n",
    "data_in = np.arange(1.0, 13.0, 1.0)\n",
    "\n",
    "data_in"
   ]
  },
  {
   "cell_type": "code",
   "execution_count": 8,
   "metadata": {},
   "outputs": [
    {
     "data": {
      "text/plain": [
       "array([ 3.46702859,  8.33830859, 10.60807612, 15.45659455, 19.46354356,\n",
       "       25.42139552, 27.5433041 , 31.17257971, 34.38707312, 41.58346448,\n",
       "       43.96000677, 48.33973443])"
      ]
     },
     "execution_count": 8,
     "metadata": {},
     "output_type": "execute_result"
    }
   ],
   "source": [
    "# Real-world output values.\n",
    "data_out = 4.0 * data_in + np.random.normal(0.0, 1.0, len(data_in))\n",
    "\n",
    "data_out"
   ]
  },
  {
   "cell_type": "code",
   "execution_count": 9,
   "metadata": {},
   "outputs": [
    {
     "data": {
      "image/png": "[encoded data removed]",
      "text/plain": [
       "<Figure size 432x288 with 1 Axes>"
      ]
     },
     "metadata": {
      "needs_background": "light"
     },
     "output_type": "display_data"
    }
   ],
   "source": [
    "plt.plot(data_in, data_out, 'k.');"
   ]
  },
  {
   "cell_type": "markdown",
   "metadata": {},
   "source": [
    "## Training\n",
    "\n",
    "***"
   ]
  },
  {
   "cell_type": "code",
   "execution_count": 10,
   "metadata": {},
   "outputs": [],
   "source": [
    "# An index in the data set.\n",
    "i = 5"
   ]
  },
  {
   "cell_type": "code",
   "execution_count": 11,
   "metadata": {},
   "outputs": [
    {
     "data": {
      "text/plain": [
       "(6.0, 25.421395520603408)"
      ]
     },
     "execution_count": 11,
     "metadata": {},
     "output_type": "execute_result"
    }
   ],
   "source": [
    "# Actual input/output pair from the real world.\n",
    "data_in[i], data_out[i]"
   ]
  },
  {
   "cell_type": "code",
   "execution_count": 12,
   "metadata": {},
   "outputs": [
    {
     "data": {
      "text/plain": [
       "6.0"
      ]
     },
     "execution_count": 12,
     "metadata": {},
     "output_type": "execute_result"
    }
   ],
   "source": [
    "# Initial weights.\n",
    "w =  np.array([0.0, 1.0])\n",
    "\n",
    "# What the neuron currently outputs for the real-world input, based on current weights.\n",
    "fire_neuron(np.array([1.0, data_in[i]]), w, identity)"
   ]
  },
  {
   "cell_type": "code",
   "execution_count": 13,
   "metadata": {},
   "outputs": [
    {
     "data": {
      "text/plain": [
       "24.0"
      ]
     },
     "execution_count": 13,
     "metadata": {},
     "output_type": "execute_result"
    }
   ],
   "source": [
    "# The goal is to create an algorithm that updates w to move the output towards the real output.\n",
    "# Initial weights.\n",
    "w =  np.array([0.0, 4.0])\n",
    "\n",
    "# What the neuron could output for the real-world input, based on better weights.\n",
    "fire_neuron(np.array([1.0, data_in[i]]), w, identity)"
   ]
  },
  {
   "cell_type": "markdown",
   "metadata": {},
   "source": [
    "## Cost\n",
    "\n",
    "***"
   ]
  },
  {
   "cell_type": "code",
   "execution_count": 14,
   "metadata": {},
   "outputs": [],
   "source": [
    "# Usually use sum of squares.\n",
    "def cost(w, x, phi, y):\n",
    "    pred = fire_neuron(x, w, phi)\n",
    "    return (y - pred)**2"
   ]
  },
  {
   "cell_type": "code",
   "execution_count": 15,
   "metadata": {},
   "outputs": [],
   "source": [
    "# An index in the data set.\n",
    "i = 5"
   ]
  },
  {
   "cell_type": "code",
   "execution_count": 16,
   "metadata": {},
   "outputs": [
    {
     "data": {
      "text/plain": [
       "377.19060396771414"
      ]
     },
     "execution_count": 16,
     "metadata": {},
     "output_type": "execute_result"
    }
   ],
   "source": [
    "# Cost of initial w.\n",
    "w = np.array([0.0, 1.0])\n",
    "\n",
    "cost(w, data_in[i], identity, data_out[i])"
   ]
  },
  {
   "cell_type": "code",
   "execution_count": 17,
   "metadata": {},
   "outputs": [
    {
     "data": {
      "text/plain": [
       "2.020365225991433"
      ]
     },
     "execution_count": 17,
     "metadata": {},
     "output_type": "execute_result"
    }
   ],
   "source": [
    "# Cost of a \"better\" w.\n",
    "w = np.array([0.0, 4.0])\n",
    "\n",
    "cost(w, data_in[i], identity, data_out[i])"
   ]
  },
  {
   "cell_type": "markdown",
   "metadata": {},
   "source": [
    "## Training\n",
    "\n",
    "***"
   ]
  },
  {
   "cell_type": "code",
   "execution_count": 18,
   "metadata": {},
   "outputs": [],
   "source": [
    "# Hyperparameter.\n",
    "learning_rate = 0.001"
   ]
  },
  {
   "cell_type": "code",
   "execution_count": 19,
   "metadata": {},
   "outputs": [],
   "source": [
    "def train_neuron(x, y, w, phi):\n",
    "    # The possible adjustment to the weights.\n",
    "    adjust = np.array([0.0, learning_rate])\n",
    "    # Calculate the current cost.\n",
    "    current = cost(w, x, phi, y)\n",
    "    # Calculate the cost with slight adjustment to the weights.\n",
    "    adding = cost(w + adjust, x, phi, y)\n",
    "    # If the adjusted weights lower the cost, update the weights.\n",
    "    if adding < current:\n",
    "        w = w + adjust\n",
    "    # Otherwise move in the other direction.\n",
    "    else:\n",
    "        w = w - adjust\n",
    "    return w"
   ]
  },
  {
   "cell_type": "code",
   "execution_count": 20,
   "metadata": {},
   "outputs": [],
   "source": [
    "# Set some initial weights.\n",
    "w = np.array([0.0, 1.0])"
   ]
  },
  {
   "cell_type": "code",
   "execution_count": 21,
   "metadata": {},
   "outputs": [
    {
     "data": {
      "text/plain": [
       "(6.0, 25.421395520603408)"
      ]
     },
     "execution_count": 21,
     "metadata": {},
     "output_type": "execute_result"
    }
   ],
   "source": [
    "# The training values.\n",
    "data_in[i], data_out[i]"
   ]
  },
  {
   "cell_type": "code",
   "execution_count": 22,
   "metadata": {},
   "outputs": [
    {
     "data": {
      "text/plain": [
       "6.0"
      ]
     },
     "execution_count": 22,
     "metadata": {},
     "output_type": "execute_result"
    }
   ],
   "source": [
    "# Current neuron output for data_in[i].\n",
    "fire_neuron(np.array([1.0, data_in[i]]), w, identity)"
   ]
  },
  {
   "cell_type": "code",
   "execution_count": 23,
   "metadata": {},
   "outputs": [
    {
     "data": {
      "text/plain": [
       "array([0.   , 1.001])"
      ]
     },
     "execution_count": 23,
     "metadata": {},
     "output_type": "execute_result"
    }
   ],
   "source": [
    "# Nudge the weights towards better values.\n",
    "w_improved = train_neuron(data_in[i], data_out[i], w, identity)\n",
    "w_improved"
   ]
  },
  {
   "cell_type": "code",
   "execution_count": 24,
   "metadata": {},
   "outputs": [
    {
     "data": {
      "text/plain": [
       "6.005999999999999"
      ]
     },
     "execution_count": 24,
     "metadata": {},
     "output_type": "execute_result"
    }
   ],
   "source": [
    "# Current neuron output for data_in[i].\n",
    "fire_neuron(np.array([1.0, data_in[i]]), w_improved, identity)"
   ]
  },
  {
   "cell_type": "code",
   "execution_count": 25,
   "metadata": {},
   "outputs": [
    {
     "data": {
      "text/plain": [
       "array([0.   , 3.898])"
      ]
     },
     "execution_count": 25,
     "metadata": {},
     "output_type": "execute_result"
    }
   ],
   "source": [
    "# Set some initial weights.\n",
    "w = np.array([0.0, 1.0])\n",
    "\n",
    "# Loop several times.\n",
    "for epoch in range(10000):\n",
    "    for i in range(len(data_in)):\n",
    "        w = train_neuron(data_in[i], data_out[i], w, identity)\n",
    "\n",
    "# Show w.\n",
    "w"
   ]
  },
  {
   "cell_type": "markdown",
   "metadata": {},
   "source": [
    "## Using keras\n",
    "\n",
    "***\n",
    "\n",
    "https://github.com/keras-team/keras"
   ]
  },
  {
   "cell_type": "code",
   "execution_count": null,
   "metadata": {},
   "outputs": [],
   "source": [
    "# run through the steps with a nonesense dataset"
   ]
  },
  {
   "cell_type": "code",
   "execution_count": null,
   "metadata": {},
   "outputs": [],
   "source": [
    "# Importing keras (already installed above) - ERROR IF INSTALLED MORE THAN ONCE IN THE KERNEL\n",
    "# import tensorflow.keras as keras"
   ]
  },
  {
   "cell_type": "code",
   "execution_count": 26,
   "metadata": {},
   "outputs": [],
   "source": [
    "# Create a new sequential neural network.\n",
    "# sequentilal means designing by sequentially add neurons in layers\n",
    "model = keras.Sequential()"
   ]
  },
  {
   "cell_type": "code",
   "execution_count": 27,
   "metadata": {},
   "outputs": [],
   "source": [
    "# Add a dense layer with 64 neurons and use the relu activation function.\n",
    "# copied from github.com/keras-team/keras\n",
    "# add to model above\n",
    "# use dense.layer \n",
    "# 64 neurons will be calculated before the 10 neurons in the 2nd later below\n",
    "model.add(keras.layers.Dense(units=64, activation='relu'))"
   ]
  },
  {
   "cell_type": "code",
   "execution_count": 28,
   "metadata": {},
   "outputs": [],
   "source": [
    "# Add a dense layer with 10 neurons and the softmax activation function.\n",
    "# dense: every single of 10 neurons in 2nd layer will get an input from each of the 64 neurons in layer before it\n",
    "# 640 conenctions each with their own weight \n",
    "model.add(keras.layers.Dense(units=10, activation='softmax'))"
   ]
  },
  {
   "cell_type": "code",
   "execution_count": 29,
   "metadata": {},
   "outputs": [],
   "source": [
    "# Compile the neural network.\n",
    "# loss categorical crossentropy ?\n",
    "# stacastic gradient descent - looks for local minimum\n",
    "# loss is synonym for cost (cost function)\n",
    "# keep an eye on metrics\n",
    "# compile - make that into a nice package- i.e. build the graph in tensorflow\n",
    "model.compile(loss='categorical_crossentropy', optimizer='sgd', metrics=['accuracy'])"
   ]
  },
  {
   "cell_type": "code",
   "execution_count": 30,
   "metadata": {},
   "outputs": [],
   "source": [
    "# Create a fake training data set.\n",
    "# x and y are not related here\n",
    "# needs 54 input data points\n",
    "# output should be 10 data points\n",
    "x_train = np.random.normal(0.0, 1.0, (100, 64))# 64 values coming in 100 times for the (input) X values\n",
    "y_train = np.random.normal(0.5, 0.1, (100, 10))# 10 values coming out 100 times for the (output) Y values"
   ]
  },
  {
   "cell_type": "code",
   "execution_count": 31,
   "metadata": {},
   "outputs": [
    {
     "name": "stdout",
     "output_type": "stream",
     "text": [
      "Epoch 1/5\n",
      "4/4 [==============================] - 1s 10ms/step - loss: 13.6614 - accuracy: 0.0700\n",
      "Epoch 2/5\n",
      "4/4 [==============================] - 0s 6ms/step - loss: 13.5612 - accuracy: 0.0600\n",
      "Epoch 3/5\n",
      "4/4 [==============================] - 0s 4ms/step - loss: 13.4862 - accuracy: 0.0600\n",
      "Epoch 4/5\n",
      "4/4 [==============================] - 0s 4ms/step - loss: 13.4149 - accuracy: 0.0700\n",
      "Epoch 5/5\n",
      "4/4 [==============================] - 0s 4ms/step - loss: 13.3549 - accuracy: 0.0800\n"
     ]
    },
    {
     "data": {
      "text/plain": [
       "<keras.callbacks.History at 0x1796bc40970>"
      ]
     },
     "execution_count": 31,
     "metadata": {},
     "output_type": "execute_result"
    }
   ],
   "source": [
    "# Train the neural network.\n",
    "# we dont have x-train and y_train yet\n",
    "# epoch = number of times the data passes through the graph\n",
    "# batch size = take the data in batches of 32 and process them\n",
    "# last batch might be  <32\n",
    "model.fit(x_train, y_train, epochs=5, batch_size=32)"
   ]
  },
  {
   "cell_type": "code",
   "execution_count": 32,
   "metadata": {},
   "outputs": [],
   "source": [
    "# Create a fake training data set.\n",
    "# needs 64 input data points\n",
    "# output should be 10 data points\n",
    "# run just 10 this time\n",
    "x_test = np.random.normal(0.0, 1.0, (10, 64))\n",
    "y_test = np.random.normal(0.5, 0.1, (10, 10))"
   ]
  },
  {
   "cell_type": "code",
   "execution_count": 33,
   "metadata": {},
   "outputs": [
    {
     "name": "stdout",
     "output_type": "stream",
     "text": [
      "1/1 [==============================] - 0s 224ms/step - loss: 13.1908 - accuracy: 0.0000e+00\n"
     ]
    }
   ],
   "source": [
    "# Evaluate the network.\n",
    "loss_and_metrics = model.evaluate(x_test, y_test, batch_size=128)"
   ]
  },
  {
   "cell_type": "code",
   "execution_count": 34,
   "metadata": {},
   "outputs": [
    {
     "name": "stdout",
     "output_type": "stream",
     "text": [
      "1/1 [==============================] - 0s 112ms/step\n"
     ]
    }
   ],
   "source": [
    "# Make predictions for the test set.\n",
    "classes = model.predict(x_test, batch_size=128)"
   ]
  },
  {
   "cell_type": "code",
   "execution_count": 35,
   "metadata": {},
   "outputs": [
    {
     "data": {
      "text/plain": [
       "array([[0.04205546, 0.18232596, 0.136891  , 0.05516278, 0.04216231,\n",
       "        0.06880058, 0.28208396, 0.04567269, 0.08780894, 0.05703642],\n",
       "       [0.07855766, 0.23486555, 0.10979262, 0.0617239 , 0.03282955,\n",
       "        0.05710478, 0.16714974, 0.0256877 , 0.1989627 , 0.0333258 ],\n",
       "       [0.03315355, 0.22543176, 0.20818514, 0.12291997, 0.06295191,\n",
       "        0.07081075, 0.0480096 , 0.18077868, 0.01836228, 0.02939632],\n",
       "       [0.08489962, 0.5251574 , 0.05732492, 0.02014747, 0.07293889,\n",
       "        0.09561358, 0.02497299, 0.0224053 , 0.02459656, 0.07194329],\n",
       "       [0.15092503, 0.06605477, 0.14842781, 0.13642627, 0.21531688,\n",
       "        0.07773596, 0.11308648, 0.03398268, 0.01294088, 0.04510319],\n",
       "       [0.01441647, 0.51548153, 0.05162987, 0.01805151, 0.08649196,\n",
       "        0.03988729, 0.10834222, 0.02981665, 0.09025193, 0.04563055],\n",
       "       [0.19337831, 0.07845178, 0.10070089, 0.1167047 , 0.15109164,\n",
       "        0.1417489 , 0.03572762, 0.12729178, 0.01869179, 0.03621258],\n",
       "       [0.16684444, 0.13085634, 0.15768655, 0.06653357, 0.1745943 ,\n",
       "        0.07501654, 0.0867956 , 0.0412804 , 0.05014091, 0.05025134],\n",
       "       [0.24860232, 0.1207539 , 0.19768053, 0.10222764, 0.03213693,\n",
       "        0.02724542, 0.12776011, 0.06837755, 0.05539863, 0.01981702],\n",
       "       [0.04558328, 0.4023667 , 0.03714225, 0.08440441, 0.09982135,\n",
       "        0.07990033, 0.05074712, 0.06591355, 0.02824541, 0.10587556]],\n",
       "      dtype=float32)"
      ]
     },
     "execution_count": 35,
     "metadata": {},
     "output_type": "execute_result"
    }
   ],
   "source": [
    "classes"
   ]
  },
  {
   "cell_type": "markdown",
   "metadata": {},
   "source": [
    "## Single Neuron in keras\n",
    "\n",
    "***"
   ]
  },
  {
   "cell_type": "code",
   "execution_count": 36,
   "metadata": {},
   "outputs": [],
   "source": [
    "#CREATE A NEW MODEL AGAIN- SINGLE LAYER- ONE NEURON- NO ACTIVATION FUNCTION\n",
    "# Create a new sequential neural network.\n",
    "model = keras.Sequential()"
   ]
  },
  {
   "cell_type": "code",
   "execution_count": 37,
   "metadata": {},
   "outputs": [],
   "source": [
    "# Add a dense layer with 1 neuron and the identity activation function.\n",
    "model.add(keras.layers.Dense(units=1))"
   ]
  },
  {
   "cell_type": "code",
   "execution_count": 38,
   "metadata": {},
   "outputs": [],
   "source": [
    "# Compile the neural network.\n",
    "# loss function: keras loss functions - keras activation functions- google these\n",
    "# provides loads of types of loss funvtions\n",
    "# e.g. mean squared error function- computes the mean squared errors between labrls and predictions\n",
    "# loss takes diff of true and predicted y values squared\n",
    "# could square root but not needed\n",
    "# other: categorical CrossEntropy\n",
    "# jiggle the network to get closer to weight values that minimise the cost/loss\n",
    "#single layer-single neuron- has a bias\n",
    "\n",
    "model.compile(loss='mean_squared_error', optimizer='sgd', metrics=['accuracy'])"
   ]
  },
  {
   "cell_type": "code",
   "execution_count": 39,
   "metadata": {},
   "outputs": [
    {
     "data": {
      "text/plain": [
       "array([[ 1.  ],\n",
       "       [ 1.01],\n",
       "       [ 1.02],\n",
       "       ...,\n",
       "       [12.97],\n",
       "       [12.98],\n",
       "       [12.99]])"
      ]
     },
     "execution_count": 39,
     "metadata": {},
     "output_type": "execute_result"
    }
   ],
   "source": [
    "# Real-world input values.\n",
    "# copy and paste data in and data out from above\n",
    "# change the parameter to get hundreds of values\n",
    "# range 1-13 in iterations of 0.01\n",
    "data_in = np.arange(1.0, 13.0, 0.01)\n",
    "\n",
    "# change shape\n",
    "# different between 1d array in numpy and keras\n",
    "# keras wants to supply it each value as a 2d array- one element in each row\n",
    "# errors like this happen all the time in Keras\n",
    "# difficulty is hard to get NN to work at all\n",
    "# 1/2 battle is to get it working at all\n",
    "# don't give up\n",
    "# even if fixed might get garbage out\n",
    "# https://stackoverflow.com/a/47468541\n",
    "data_in = data_in.reshape(-1, 1)\n",
    "\n",
    "data_in"
   ]
  },
  {
   "cell_type": "code",
   "execution_count": 40,
   "metadata": {},
   "outputs": [
    {
     "data": {
      "text/plain": [
       "array([[ 2.78685948],\n",
       "       [ 5.04360287],\n",
       "       [ 4.3908048 ],\n",
       "       ...,\n",
       "       [53.3417018 ],\n",
       "       [49.75070392],\n",
       "       [52.20468426]])"
      ]
     },
     "execution_count": 40,
     "metadata": {},
     "output_type": "execute_result"
    }
   ],
   "source": [
    "# Real-world output values.\n",
    "# generate the y = mx +C\n",
    "# hope the keras model has learned the relationship between x * y (multiply the input x 4)\n",
    "# in NN will never be able to pull out all the weights from the model\n",
    "# i.e. 640 different weights 64 individual bias\n",
    "# in real will have so many weights that have tiny nudges to the answer\n",
    "# not possible to unwind and understand relevance of each one\n",
    "data_out = 4.0 * data_in + np.random.normal(0.0, 1.0, data_in.shape)\n",
    "\n",
    "data_out"
   ]
  },
  {
   "cell_type": "code",
   "execution_count": 41,
   "metadata": {},
   "outputs": [
    {
     "name": "stdout",
     "output_type": "stream",
     "text": [
      "Epoch 1/5\n",
      "38/38 [==============================] - 0s 2ms/step - loss: 26.5928 - accuracy: 0.0000e+00\n",
      "Epoch 2/5\n",
      "38/38 [==============================] - 0s 2ms/step - loss: 1.0806 - accuracy: 0.0000e+00\n",
      "Epoch 3/5\n",
      "38/38 [==============================] - 0s 2ms/step - loss: 1.0625 - accuracy: 0.0000e+00\n",
      "Epoch 4/5\n",
      "38/38 [==============================] - 0s 2ms/step - loss: 1.0534 - accuracy: 0.0000e+00\n",
      "Epoch 5/5\n",
      "38/38 [==============================] - 0s 2ms/step - loss: 1.0154 - accuracy: 0.0000e+00\n"
     ]
    },
    {
     "data": {
      "text/plain": [
       "<keras.callbacks.History at 0x17961ba0dc0>"
      ]
     },
     "execution_count": 41,
     "metadata": {},
     "output_type": "execute_result"
    }
   ],
   "source": [
    "# Train the neural network.\n",
    "model.fit(data_in, data_out, epochs=5, batch_size=32)"
   ]
  },
  {
   "cell_type": "code",
   "execution_count": 42,
   "metadata": {},
   "outputs": [
    {
     "name": "stdout",
     "output_type": "stream",
     "text": [
      "32/32 [==============================] - 0s 2ms/step\n"
     ]
    }
   ],
   "source": [
    "# Test input values.\n",
    "\n",
    "# 1001 values\n",
    "# reshape array\n",
    "# run throigh the network\n",
    "# values between -10 and + 20 (blue line in plot below)\n",
    "data_test = np.linspace(-10.0, 20.0, 1001).reshape(-1, 1)\n",
    "\n",
    "# Feed test values into neural network.\n",
    "# preds = predicted values\n",
    "# model is the keras model\n",
    "preds = model.predict(data_test)"
   ]
  },
  {
   "cell_type": "code",
   "execution_count": 43,
   "metadata": {},
   "outputs": [
    {
     "data": {
      "text/plain": [
       "-10.0"
      ]
     },
     "execution_count": 43,
     "metadata": {},
     "output_type": "execute_result"
    }
   ],
   "source": [
    "# flatten back to 1d array\n",
    "# could have included reshape in the function\n",
    "data_test.flatten()[0]"
   ]
  },
  {
   "cell_type": "code",
   "execution_count": 44,
   "metadata": {},
   "outputs": [
    {
     "data": {
      "image/png": "[encoded data removed]",
      "text/plain": [
       "<Figure size 864x432 with 1 Axes>"
      ]
     },
     "metadata": {
      "needs_background": "light"
     },
     "output_type": "display_data"
    }
   ],
   "source": [
    "# Plot the values. (12*6 plot)\n",
    "fig, ax = plt.subplots(figsize=(12, 6))\n",
    "\n",
    "# Plot the original data set. (red x )\n",
    "ax.plot(data_in.flatten(), data_out.flatten(), 'rx', label='Training')\n",
    " \n",
    "# Plot the predicted data set. (blue dots)\n",
    "ax.plot(data_test.flatten(), preds.flatten(), 'b.', label='Predictions');\n",
    "\n",
    "# single neuron NN has learned the relationship betwwen x and Y\n",
    "# can now do predictions on that\n",
    "# keras can do this easy -declare sequential NN\n",
    "# use loss function using  mean-squared error\n",
    "# dont tell the neuron how we get from X to Y"
   ]
  },
  {
   "cell_type": "markdown",
   "metadata": {},
   "source": [
    "***\n",
    "\n",
    "## End"
   ]
  }
 ],
 "metadata": {
  "kernelspec": {
   "display_name": "Python 3",
   "language": "python",
   "name": "python3"
  },
  "language_info": {
   "codemirror_mode": {
    "name": "ipython",
    "version": 3
   },
   "file_extension": ".py",
   "mimetype": "text/x-python",
   "name": "python",
   "nbconvert_exporter": "python",
   "pygments_lexer": "ipython3",
   "version": "3.8.8"
  }
 },
 "nbformat": 4,
 "nbformat_minor": 4
}
