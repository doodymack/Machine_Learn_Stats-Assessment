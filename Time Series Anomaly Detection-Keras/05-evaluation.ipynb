{
 "cells": [
  {
   "cell_type": "markdown",
   "metadata": {},
   "source": [
    "##### Paul Mc Grath - Machine Learning & Stats- Winter 2022 Module- Assessment  \n",
    "---"
   ]
  },
  {
   "cell_type": "markdown",
   "metadata": {},
   "source": [
    "[link to my public repository on Github](https://github.com/doodymack/Machine_Learn_Stats-Assessment/tree/main/Time%20Series%20Anomaly%20Detection-Keras) email: polmaccraith@outlook.com"
   ]
  },
  {
   "cell_type": "markdown",
   "metadata": {},
   "source": [
    "# Time Series Anomaly Detection\n",
    "\n",
    "***\n",
    "\n",
    "https://keras.io/examples/timeseries/timeseries_anomaly_detection/  \n",
    "\n",
    "Link to Source Material [Time_Series_Anomaly_Detection](https://keras.io/examples/timeseries/timeseries_anomaly_detection/ \"Time Series Anomaly Detection\").  \n",
    "\n"
   ]
  },
  {
   "cell_type": "markdown",
   "metadata": {},
   "source": [
    "### Introduction:\n",
    "\n",
    "#### Machine Learning\n",
    "\n",
    "Machine learning (ML) is the practice of helping software perform a task without explicit programming or rules.  \n",
    "With traditional computer programming, a programmer specifies rules that the computer should use.  \n",
    "ML requires a different mindset, though. real-world ML focuses far more on data analysis than coding  \n",
    "Programmers/Data analysts provide a set of examples and the computer learns patterns from the data.\n",
    "\n",
    "#### Tensorflow  \n",
    "\n",
    "[TensorFlow][3] is an end-to-end platform for machine learning. It supports the following:\n",
    "\n",
    "- Multidimensional-array based numeric computation  \n",
    "- GPU and distributed processing  \n",
    "- Automatic differentiation  \n",
    "- Model construction, training, and export\n",
    "\n",
    "[3]: <https://www.tensorflow.org/about>\n",
    "\n",
    "#### Keras  \n",
    "\n",
    "[Keras][4] is a deep learning API written in Python, running on top of the machine learning platform TensorFlow. It was developed with a focus on enabling fast experimentation. Being able to go from idea to result as fast as possible is key to doing good research.\n",
    "\n",
    "[4]: <https://keras.io/>\n",
    "\n",
    "#### Detecting anomalies  \n",
    "\n",
    "Much of the world's data is streaming, time-series data, where anomalies give significant information in critical situations.  \n",
    "These exist in diverse areas such as IT, Mecical, Onling Gambling, Enerty and Security.  \n",
    "Detecting anomalies in streaming data is a difficult task, requiring detectors to process data in real-time and learn while simultaneously making predictions.  \n",
    "There are limited benchmarks to adequately test and score the efficacy of real-time anomaly detectors.  \n",
    "[Anomaly detection][2] is a step in data mining that identifies data points, events, and/or observations that deviate from a dataset’s normal behavior  \n",
    "Anomalous data can indicate critical incidents, such as a technical glitch, or potential opportunities, for instance a change in consumer behavior  \n",
    "Machine learning is progressively being used to automate anomaly detection.  \n",
    "\n",
    "#### Time-series data\n",
    "Successful anomaly detection hinges on an ability to accurately analyze time-series data in real-time  \n",
    "Time series data is composed of a sequence of values over time  \n",
    "That means each point is typically a pair of two items — a timestamp for when the metric was measured, and the value associated with that metric at that time.  \n",
    "Time series anomaly detection must first create a baseline for normal behavior in primary KPIs  \n",
    "With that baseline understood, time series data anomaly detection systems can track seasonality — the cyclical patterns of behavior within key datasets.\n",
    "\n",
    "[2]: <https://www.anodot.com/blog/what-is-anomaly-detection>"
   ]
  },
  {
   "cell_type": "markdown",
   "metadata": {},
   "source": [
    "Link to Source Material [Time_Series_Anomaly_Detection](https://keras.io/examples/timeseries/timeseries_anomaly_detection/)."
   ]
  },
  {
   "cell_type": "markdown",
   "metadata": {},
   "source": [
    "#### Numenta Anomaly Benchmark  \n",
    "\n",
    "Numenta Anomaly Benchmark [NAB][1] provides a public repository of open-source tools that can be used to test and measure anomaly detection algorithms on time-series streaming data.  \n",
    "NAB supplies benchmark datasets with labeled, real-world time-series data.  \n",
    "NAB provides artifical timeseries data containing labeled anomalous periods of behavior. Data are ordered, timestamped, single-valued metrics.  \n",
    "In this notebook I will present the use of Keras to attempt to detect a time-series anomaly from one NAB dataset, *art_daily_small_noise.csv* file  and the *art_daily_jumpsup.csv* file from the NAB repository.  \n",
    "In doing so the notebook will demonstrate how Keras can be put to use to detect real-time anomalies in time-series data.\n",
    "\n",
    "\n",
    "[1]: <https://github.com/numenta/NAB>"
   ]
  },
  {
   "cell_type": "markdown",
   "metadata": {},
   "source": [
    "#### Loss Function in TensorFlow  \n",
    "\n",
    "In machine learning you develop a model, which is a hypothesis, to predict a value given a set of input values.  \n",
    "The model has a set of weights which you tune based on a set of training data.  \n",
    "The training data has several pairs of input values as well as predicted values.  \n",
    "We use a loss function to determine how far the predicted values deviate from the actual values in the training data.  \n",
    "We change the model weights to make the loss minimum.  \n",
    "This is the essence of training the model.  \n",
    "Once Neural Network training is complete and satisfactory we can use the model to predict futore events."
   ]
  },
  {
   "cell_type": "code",
   "execution_count": 1,
   "metadata": {},
   "outputs": [],
   "source": [
    "# FIRST IMPORT ALL THE LIBRARIES/PACKAGES THAT NOTEBOOK USED BY DEFAULT\n",
    "# Numerical arrays.\n",
    "import numpy as np\n",
    "\n",
    "# Spreadsheet-like Data Frames.\n",
    "import pandas as pd\n",
    "\n",
    "# Layers of Neural networks.\n",
    "import tensorflow.keras as keras \n",
    "\n",
    "# then change code below where layers.input to keras.layers.input\n",
    "# no longer require from tensorflow.keras import layers\n",
    "# makes the code function clearer to 3rd party - in code cell know where the layers are coming from\n",
    "# anytime change code- rerun the kernel\n",
    "# get in the habit of restart/run all\n",
    "# keep record of changes\n",
    "\n",
    "# Plotting\n",
    "import matplotlib.pyplot as plt"
   ]
  },
  {
   "cell_type": "markdown",
   "metadata": {},
   "source": [
    "copied and pasted each code from the above link into the notebook\n",
    "\n",
    "can explore github in link/ look at raw source code\n",
    "\n",
    "jupyter notebook available- could download this simply but better to:\n",
    "\n",
    "- copy and paste in the libraries/code one by one and run it one by one\n",
    "\n",
    "- check you get the same output as webpage\n",
    " \n",
    "- look at what the code is doing/ run the plots \n",
    " \n",
    "- try to explain what is happening"
   ]
  },
  {
   "cell_type": "markdown",
   "metadata": {},
   "source": [
    "data analytics: domain specific knowledge- someone might show this issue to you/someone else did this\n",
    "\n",
    "can you figure it out/ this shouldnt stop you exploring - figuring out\n",
    "\n",
    "you may start by knowing v little other than use numpy, ploy, keras, training the model, test data etc\n",
    "\n",
    "initially not a lot we understand, goal is to explain it in the notebook\n",
    "\n",
    "start by checking the code- do they run?\n",
    "\n",
    "\n"
   ]
  },
  {
   "cell_type": "markdown",
   "metadata": {},
   "source": [
    "## Data\n",
    "\n",
    "***\n",
    "\n",
    "https://www.kaggle.com/datasets/boltzmannbrain/nab\n",
    "\n",
    "https://github.com/numenta/NAB"
   ]
  },
  {
   "cell_type": "markdown",
   "metadata": {},
   "source": [
    "Numenta Anomaly Benchmark (NAB) - look this up from kaggle above\n",
    "\n",
    " all data is fully open source\n",
    " \n",
    " tell you all about tyhe datasets in there\n",
    "\n",
    "kaggle has a link to github including code\n",
    "\n",
    "two different csv files loaded in code\n",
    " \n",
    " - artificial no anomaly/art_daily_small_noise,csv\n",
    " - artificial with anomaly/art_daily_small_noise,csv etetc\n",
    "seems to be 2 different datasets\n",
    "\n",
    "expect explanation of the two different links contents\n",
    "\n",
    "lot of markdowns explaining where data set comes from\n",
    "\n",
    "what it contains \n",
    "\n",
    "make plots llok nicer?\n",
    "\n",
    "lot more explanations of whats going on"
   ]
  },
  {
   "cell_type": "markdown",
   "metadata": {},
   "source": [
    "#### 'Refactoring the code'- modify it, clean it up etc \n",
    "#### Get a much greater feel of whatds going on\n",
    "#### check whats in url\n",
    "doesn't explain whats going on <br>\n",
    "write a narrative for classmate so they could understand"
   ]
  },
  {
   "cell_type": "markdown",
   "metadata": {},
   "source": [
    "if  try to go to master_url_root below \n",
    "\n",
    "returns 404 in browser \n",
    "\n",
    "url is only meant to link to raw github content\n",
    "\n",
    "code is getting pandas to read csv file - 2 different csvs\n",
    "\n",
    "betetr to gp directly to github itself\n",
    "\n",
    "i.e. its in the numenta-NAB-master- data sub folder\n",
    "\n",
    "searck through these- find the CSV's\n",
    "\n",
    "if pd.read_csv(url)  it will error i.e. can't parse\n",
    "\n",
    "why: whats shown in github is html  (same as ipynb)\n",
    "\n",
    "-click on raw- get the raw file\n",
    "\n",
    "create a str x2\n",
    "\n",
    "no_anomaly_url = <url>\n",
    "with_anomaly_url = <url>\n",
    "make urls direct links to csv\n",
    "see below root url + link to csv\n",
    "\n",
    "in python do not have a code >79 chars (Python style guide  as per https://peps.python.org/pep-0008/)\n",
    "\n",
    "hence see below root url + link to csv to tidy up "
   ]
  },
  {
   "cell_type": "markdown",
   "metadata": {},
   "source": []
  },
  {
   "cell_type": "code",
   "execution_count": 2,
   "metadata": {},
   "outputs": [],
   "source": [
    "\n",
    "# Root of URLs.\n",
    "root_url = 'https://raw.githubusercontent.com/numenta/NAB/master/data/'\n",
    "\n",
    "# Data file without anomaly.\n",
    "no_anomaly_url = root_url + 'artificialNoAnomaly/art_daily_small_noise.csv'\n",
    "\n",
    "# Data file with anomaly.\n",
    "with_anomaly_url = root_url + 'artificialWithAnomaly/art_daily_jumpsup.csv'"
   ]
  },
  {
   "cell_type": "code",
   "execution_count": 3,
   "metadata": {},
   "outputs": [
    {
     "data": {
      "text/plain": [
       "'https://raw.githubusercontent.com/numenta/NAB/master/data/artificialNoAnomaly/art_daily_small_noise.csv'"
      ]
     },
     "execution_count": 3,
     "metadata": {},
     "output_type": "execute_result"
    }
   ],
   "source": [
    "# NAME OF FOLDER AND FILE IN REPOSITORY\n",
    "# HAVE A LOOK AT THE URL\n",
    "# WILL OPEN AS A TEXTBOX\n",
    "# DESCRIBE- DATASET WITH TIMESTAMPS AND NUMBER IN 2ND COLUMN\n",
    "# SENSE CHECKING IN FILE\n",
    "# SOME VALUES HAVE MORE DECIMALS IN CSV- UNUSUAL\n",
    "# SOME LOOK LIKE ROUNDED\n",
    "# return the no_anomaly_url\n",
    "no_anomaly_url"
   ]
  },
  {
   "cell_type": "markdown",
   "metadata": {},
   "source": [
    "The **artificialNoAnomaly-art_daily_small_noise.csv dataset** \n",
    "The dataset comprises of real-time data comprising of 'time-stamp'  \n",
    "and a corresponsing 'value' beginning 01 Apr 2014 and encompassing 14 days of trends.  \n",
    "For example: Initial and Final values from *artificialNoAnomaly-art_daily_small_noise* 01 Apr 2014: \n",
    "<br>\n",
    "\n",
    "*timestamp,value*  \n",
    "INITIAL:<br>2014-04-01 00:00:00,18.324918539200002<br>\n",
    "2014-04-01 00:05:00,21.970327182<br>\n",
    "2014-04-01 00:10:00,18.6248060317<br>\n",
    "2014-04-01 00:15:00,21.953683975900002<br>\n",
    "2014-04-01 00:20:00,21.909119730300002<br>\n",
    "2014-04-01 00:25:00,21.1752724156<br>\n",
    "\n",
    "<br>\n",
    "*timestamp,value* <br>\n",
    "FINAL: <br>2014-04-14 23:35:00,20.2111947366<br>\n",
    "2014-04-14 23:40:00,20.5310405757<br>\n",
    "2014-04-14 23:45:00,19.032127481099998<br>\n",
    "2014-04-14 23:50:00,21.798800887800002<br>\n",
    "2014-04-14 23:55:00,18.6826203655<br>\n",
    "<br>\n",
    "As can be seen above some of the timepoints appear to be rounded."
   ]
  },
  {
   "cell_type": "code",
   "execution_count": 4,
   "metadata": {},
   "outputs": [
    {
     "data": {
      "text/plain": [
       "'https://raw.githubusercontent.com/numenta/NAB/master/data/artificialWithAnomaly/art_daily_jumpsup.csv'"
      ]
     },
     "execution_count": 4,
     "metadata": {},
     "output_type": "execute_result"
    }
   ],
   "source": [
    "# HAVE A LOOK AT THE URL\n",
    "# OPEN IN BROWSER\n",
    "# DESCRIBE- DATASET WITH TIMESTAMPS AND NUMBER IN 2ND COLUMN\n",
    "# SENSE CHECKING IN FILE\n",
    "# SOME VALUES HAVE MORE DECIMALS IN CSV- UNUSUAL\n",
    "# SOME LOOK LIKE ROUNDED\n",
    "# return the with_anomaly_url\n",
    "with_anomaly_url"
   ]
  },
  {
   "cell_type": "markdown",
   "metadata": {},
   "source": [
    "The **artificialWithAnomaly-art_daily_jumpsup.csv** \n",
    "The dataset comprises of real-time data comprising of 'time-stamp'  \n",
    "and a corresponsing 'value' beginning 01 Apr 2014 and encompassing 14 days of trends.  \n",
    "For example: Initial and Final values from *artificialWithAnomaly-art_daily_jumpsup* 01 Apr 2014: \n",
    "<br>\n",
    "\n",
    "*timestamp,value*\n",
    "INITIAL:<br>2014-04-01 00:00:00,19.761251902999998<br>\n",
    "2014-04-01 00:05:00,20.500833287<br>\n",
    "2014-04-01 00:10:00,19.9616414445<br>\n",
    "2014-04-01 00:15:00,21.4902660734<br>\n",
    "2014-04-01 00:20:00,20.1877394098<br>\n",
    "*timestamp,value*  \n",
    "<br>\n",
    "*timestamp,value* <br>\n",
    "FINAL: <br>\n",
    "2014-04-14 23:35:00,18.0746492248<br>\n",
    "2014-04-14 23:40:00,21.0020136323<br>\n",
    "2014-04-14 23:45:00,20.5667131193<br>\n",
    "2014-04-14 23:50:00,18.254192669200002<br>\n",
    "2014-04-14 23:55:00,21.8631471547<br>\n",
    "\n",
    "<br>\n",
    "As can be seen above some of the timepoints appear to be rounded."
   ]
  },
  {
   "cell_type": "code",
   "execution_count": 5,
   "metadata": {},
   "outputs": [],
   "source": [
    "# # define df_small_noise as read in csv\n",
    "## describe the connection between no_anomaly_url and small_noise\n",
    "# i.e. why call it that\n",
    "df_small_noise = pd.read_csv(no_anomaly_url, parse_dates=True, index_col=\"timestamp\")"
   ]
  },
  {
   "cell_type": "code",
   "execution_count": 6,
   "metadata": {},
   "outputs": [
    {
     "data": {
      "text/html": [
       "<div>\n",
       "<style scoped>\n",
       "    .dataframe tbody tr th:only-of-type {\n",
       "        vertical-align: middle;\n",
       "    }\n",
       "\n",
       "    .dataframe tbody tr th {\n",
       "        vertical-align: top;\n",
       "    }\n",
       "\n",
       "    .dataframe thead th {\n",
       "        text-align: right;\n",
       "    }\n",
       "</style>\n",
       "<table border=\"1\" class=\"dataframe\">\n",
       "  <thead>\n",
       "    <tr style=\"text-align: right;\">\n",
       "      <th></th>\n",
       "      <th>value</th>\n",
       "    </tr>\n",
       "    <tr>\n",
       "      <th>timestamp</th>\n",
       "      <th></th>\n",
       "    </tr>\n",
       "  </thead>\n",
       "  <tbody>\n",
       "    <tr>\n",
       "      <th>2014-04-01 00:00:00</th>\n",
       "      <td>18.324919</td>\n",
       "    </tr>\n",
       "    <tr>\n",
       "      <th>2014-04-01 00:05:00</th>\n",
       "      <td>21.970327</td>\n",
       "    </tr>\n",
       "    <tr>\n",
       "      <th>2014-04-01 00:10:00</th>\n",
       "      <td>18.624806</td>\n",
       "    </tr>\n",
       "    <tr>\n",
       "      <th>2014-04-01 00:15:00</th>\n",
       "      <td>21.953684</td>\n",
       "    </tr>\n",
       "    <tr>\n",
       "      <th>2014-04-01 00:20:00</th>\n",
       "      <td>21.909120</td>\n",
       "    </tr>\n",
       "  </tbody>\n",
       "</table>\n",
       "</div>"
      ],
      "text/plain": [
       "                         value\n",
       "timestamp                     \n",
       "2014-04-01 00:00:00  18.324919\n",
       "2014-04-01 00:05:00  21.970327\n",
       "2014-04-01 00:10:00  18.624806\n",
       "2014-04-01 00:15:00  21.953684\n",
       "2014-04-01 00:20:00  21.909120"
      ]
     },
     "execution_count": 6,
     "metadata": {},
     "output_type": "execute_result"
    }
   ],
   "source": [
    "# lets havea look at dataset\n",
    "# GOOD PRACTICE TO DO DUE DILIGNECE ON DATASET\n",
    "# OPEN DATASETS IN GITHUB URL AS PER NOTES\n",
    "# CHECK THE # OF ROWS IN DATASET\n",
    "# I.E. 4032 (4033 INC HEADER)\n",
    "\n",
    "# CAN USE DESCRIBE AS BELOW  \n",
    "df_small_noise.head()"
   ]
  },
  {
   "cell_type": "code",
   "execution_count": 7,
   "metadata": {},
   "outputs": [
    {
     "data": {
      "text/html": [
       "<div>\n",
       "<style scoped>\n",
       "    .dataframe tbody tr th:only-of-type {\n",
       "        vertical-align: middle;\n",
       "    }\n",
       "\n",
       "    .dataframe tbody tr th {\n",
       "        vertical-align: top;\n",
       "    }\n",
       "\n",
       "    .dataframe thead th {\n",
       "        text-align: right;\n",
       "    }\n",
       "</style>\n",
       "<table border=\"1\" class=\"dataframe\">\n",
       "  <thead>\n",
       "    <tr style=\"text-align: right;\">\n",
       "      <th></th>\n",
       "      <th>value</th>\n",
       "    </tr>\n",
       "    <tr>\n",
       "      <th>timestamp</th>\n",
       "      <th></th>\n",
       "    </tr>\n",
       "  </thead>\n",
       "  <tbody>\n",
       "    <tr>\n",
       "      <th>2014-04-14 23:35:00</th>\n",
       "      <td>20.211195</td>\n",
       "    </tr>\n",
       "    <tr>\n",
       "      <th>2014-04-14 23:40:00</th>\n",
       "      <td>20.531041</td>\n",
       "    </tr>\n",
       "    <tr>\n",
       "      <th>2014-04-14 23:45:00</th>\n",
       "      <td>19.032127</td>\n",
       "    </tr>\n",
       "    <tr>\n",
       "      <th>2014-04-14 23:50:00</th>\n",
       "      <td>21.798801</td>\n",
       "    </tr>\n",
       "    <tr>\n",
       "      <th>2014-04-14 23:55:00</th>\n",
       "      <td>18.682620</td>\n",
       "    </tr>\n",
       "  </tbody>\n",
       "</table>\n",
       "</div>"
      ],
      "text/plain": [
       "                         value\n",
       "timestamp                     \n",
       "2014-04-14 23:35:00  20.211195\n",
       "2014-04-14 23:40:00  20.531041\n",
       "2014-04-14 23:45:00  19.032127\n",
       "2014-04-14 23:50:00  21.798801\n",
       "2014-04-14 23:55:00  18.682620"
      ]
     },
     "execution_count": 7,
     "metadata": {},
     "output_type": "execute_result"
    }
   ],
   "source": [
    "df_small_noise.tail()"
   ]
  },
  {
   "cell_type": "code",
   "execution_count": 8,
   "metadata": {},
   "outputs": [
    {
     "data": {
      "text/plain": [
       "(4032, 1)"
      ]
     },
     "execution_count": 8,
     "metadata": {},
     "output_type": "execute_result"
    }
   ],
   "source": [
    "# RETURN THE SHAPE\n",
    "# PANDAS RETURNS A DF WITH 4032 ROWS\n",
    "# JUST ONE FIELD. CAUTION\n",
    "# INDEX _COL ='TIMESTAMP'\n",
    "# DF INDEXED NOT WITH STANDARD NUMBERS\n",
    "# PANDAS THINKS ITS JUST ONE COLUMN AS INDEX DECLARED (TIMESTAMP) IS INDEX\n",
    "df_small_noise.shape"
   ]
  },
  {
   "cell_type": "code",
   "execution_count": 9,
   "metadata": {},
   "outputs": [
    {
     "data": {
      "text/html": [
       "<div>\n",
       "<style scoped>\n",
       "    .dataframe tbody tr th:only-of-type {\n",
       "        vertical-align: middle;\n",
       "    }\n",
       "\n",
       "    .dataframe tbody tr th {\n",
       "        vertical-align: top;\n",
       "    }\n",
       "\n",
       "    .dataframe thead th {\n",
       "        text-align: right;\n",
       "    }\n",
       "</style>\n",
       "<table border=\"1\" class=\"dataframe\">\n",
       "  <thead>\n",
       "    <tr style=\"text-align: right;\">\n",
       "      <th></th>\n",
       "      <th>value</th>\n",
       "    </tr>\n",
       "  </thead>\n",
       "  <tbody>\n",
       "    <tr>\n",
       "      <th>count</th>\n",
       "      <td>4032.000000</td>\n",
       "    </tr>\n",
       "    <tr>\n",
       "      <th>mean</th>\n",
       "      <td>42.438353</td>\n",
       "    </tr>\n",
       "    <tr>\n",
       "      <th>std</th>\n",
       "      <td>28.077122</td>\n",
       "    </tr>\n",
       "    <tr>\n",
       "      <th>min</th>\n",
       "      <td>18.000964</td>\n",
       "    </tr>\n",
       "    <tr>\n",
       "      <th>25%</th>\n",
       "      <td>19.841390</td>\n",
       "    </tr>\n",
       "    <tr>\n",
       "      <th>50%</th>\n",
       "      <td>21.608487</td>\n",
       "    </tr>\n",
       "    <tr>\n",
       "      <th>75%</th>\n",
       "      <td>75.450282</td>\n",
       "    </tr>\n",
       "    <tr>\n",
       "      <th>max</th>\n",
       "      <td>87.976128</td>\n",
       "    </tr>\n",
       "  </tbody>\n",
       "</table>\n",
       "</div>"
      ],
      "text/plain": [
       "             value\n",
       "count  4032.000000\n",
       "mean     42.438353\n",
       "std      28.077122\n",
       "min      18.000964\n",
       "25%      19.841390\n",
       "50%      21.608487\n",
       "75%      75.450282\n",
       "max      87.976128"
      ]
     },
     "execution_count": 9,
     "metadata": {},
     "output_type": "execute_result"
    }
   ],
   "source": [
    "# describe the dataframe\n",
    "# SUMMARY STATISTICS\n",
    "# GOOD TO RUN AND COMMENT\n",
    "# EXPLANATION SHOULD BE PITCHED AT CLASSMATE\n",
    "# NO END IN FUNCTIONS- UNLESS NOTEWORTHY LEAVE IT OUT\n",
    "df_small_noise.describe()"
   ]
  },
  {
   "cell_type": "markdown",
   "metadata": {},
   "source": [
    "### A closer look at the datasets \n",
    "**No_anomaly-art_daily_small_noise:**<br>\n",
    "2014-04-01 08:55:00,20.226313714<br>\n",
    "2014-04-01 09:00:00,65.8611405858<br>\n",
    "2014-04-01 17:55:00,73.9271290519<br>\n",
    "2014-04-01 18:00:00,32.541069676999996<br><br>  \n",
    "2014-04-02 08:55:00,18.3878626839<br>\n",
    "2014-04-02 09:00:00,63.6348302692<br>\n",
    "2014-04-02 17:55:00,81.4078348108<br>\n",
    "2014-04-02 18:00:00,31.529592328699998<br>\n",
    "\n",
    "**With_anomaly-art_daily_jumpsup:**<br>\n",
    "2014-04-01 08:55:00,18.1971208058<br>\n",
    "2014-04-01 09:00:00,74.1260143836<br>\n",
    "2014-04-01 17:55:00,72.5149226057<br>\n",
    "2014-04-01 18:00:00,29.105490665700003<br><br>\n",
    "2014-04-02 08:55:00,19.4520057999<br>\n",
    "2014-04-02 09:00:00,62.046248748100005<br>\n",
    "2014-04-02 17:55:00,76.6636613224<br>\n",
    "2014-04-02 18:00:00,35.000584685300005<br>"
   ]
  },
  {
   "cell_type": "markdown",
   "metadata": {},
   "source": [
    "On inspection there appears to be a shift at 09:00 for both datasets and a corresponding drop at 18:00"
   ]
  },
  {
   "cell_type": "code",
   "execution_count": 10,
   "metadata": {},
   "outputs": [
    {
     "data": {
      "text/plain": [
       "value    18.324919\n",
       "Name: 2014-04-01 00:00:00, dtype: float64"
      ]
     },
     "execution_count": 10,
     "metadata": {},
     "output_type": "execute_result"
    }
   ],
   "source": [
    "# pandas show the 1st value in df\n",
    "# REPEAT AS ABOVE TO CHECK DATASET\n",
    "# SANITY CHECK 1ST ROW IN DF\n",
    "# IS IT SAME AS RETURNED IN (HEAD)\n",
    "# GIVE ME THE THIN AS INDEX 0\n",
    "# INDEX IS TIMESTAMP\n",
    "# ILOC ROW 1 OS 0 , ROW 2 IS 1\n",
    "# FLOAT 64 FORMAT MIGHT LIMIT THE DECIMAL PLACES IN PANDAS?\n",
    "df_small_noise.iloc[0]"
   ]
  },
  {
   "cell_type": "code",
   "execution_count": 11,
   "metadata": {},
   "outputs": [
    {
     "data": {
      "text/plain": [
       "18.3249185392"
      ]
     },
     "execution_count": 11,
     "metadata": {},
     "output_type": "execute_result"
    }
   ],
   "source": [
    "# pandas returns the numerical value in df  where'value'\n",
    "# GET FIRST VALUE IN ARRAY\n",
    "# SEEMS TO HAVE ALREADY ROUNDED THE VALUE\n",
    "# MAKE NOTE OF THIS\n",
    "# CAUGHT BY THIS BEFORE\n",
    "# ROUNDING CAN MATTER WHEN THINGS ARE MULTIPLIED\n",
    "# BUT SEEMS TO BE 00002 THATS ROUNDED- DOES THIS MATTER?\n",
    "\n",
    "# ASK FOR VALUE COLUMN\n",
    "df_small_noise.iloc[0]['value']"
   ]
  },
  {
   "cell_type": "code",
   "execution_count": 12,
   "metadata": {},
   "outputs": [
    {
     "data": {
      "text/plain": [
       "18.3249185392"
      ]
     },
     "execution_count": 12,
     "metadata": {},
     "output_type": "execute_result"
    }
   ],
   "source": [
    "# another way to get the first numerical value in the df\n",
    "# VALUES IS A PIECE OF FUNCTIONALITY - DIFFERENT TO 'VALUE' STR ABOVE\n",
    "# JUPYTER -PANDAS MIGHT CONTRIVE THE DATA- LECTURER EXPERIENCE\n",
    "# THIS IS A WATCHOUT\n",
    "# BETTER TO THINK WHAT THE DATASET MIGHT LOOK LIKE- HOW WAS IT READ IN \n",
    "df_small_noise.iloc[0].values[0]"
   ]
  },
  {
   "cell_type": "code",
   "execution_count": 13,
   "metadata": {},
   "outputs": [
    {
     "data": {
      "text/plain": [
       "183249185392000.0"
      ]
     },
     "execution_count": 13,
     "metadata": {},
     "output_type": "execute_result"
    }
   ],
   "source": [
    "# multiply the value x 10e12\n",
    "# GOOD PRACTICE TO CHECK IF IT HAS ROUNDED- MULTIPLY X POWER OF 10\n",
    "# SHOULDNT LIKELY MATTER BUT GOOD TO KNOW\n",
    "# IF CHECK JUMPSUP DATASET CONFIRMS PANDAS IS ROUNDING TO KEEP WITHIN FLOAT 64\n",
    "\n",
    "df_small_noise.iloc[0].values[0] * 10e12"
   ]
  },
  {
   "cell_type": "code",
   "execution_count": 14,
   "metadata": {},
   "outputs": [
    {
     "data": {
      "text/plain": [
       "(4032, 1)"
      ]
     },
     "execution_count": 14,
     "metadata": {},
     "output_type": "execute_result"
    }
   ],
   "source": [
    "# whats the shape of the df\n",
    "# COULD USE SEABORN TO PLOT THESE BETTER\n",
    "# FANCIER- MIGHT LOOK A BIT BETTER\n",
    "# DEFAULT IS PANDAS- USES SEABORN UNDER HOOD BUT RUDIMENTARY\n",
    "# TRY\n",
    "df_small_noise.shape"
   ]
  },
  {
   "cell_type": "code",
   "execution_count": 15,
   "metadata": {},
   "outputs": [
    {
     "data": {
      "image/png": "[encoded data removed]",
      "text/plain": [
       "<Figure size 720x288 with 1 Axes>"
      ]
     },
     "metadata": {
      "needs_background": "light"
     },
     "output_type": "display_data"
    }
   ],
   "source": [
    "# set the fig size\n",
    "# fig, ax = plt.subplots(figsize=(12,6))\n",
    "# used pandas (plt) to plot a pamdas dataframe\n",
    "# plotting onto ax i.e. axes\n",
    "# use pyplot to increase fig size as desired\n",
    "fig, ax = plt.subplots(figsize=(10,4))\n",
    "\n",
    "# Use pandas to plot data frame.\n",
    "# semicolon prevents the printout of the return value\n",
    "df_small_noise.plot(legend=False, ax=ax);"
   ]
  },
  {
   "cell_type": "code",
   "execution_count": 16,
   "metadata": {},
   "outputs": [],
   "source": [
    "# define df_daily_jumpsup as read in csv\n",
    "# describe the connection between with_anomaly_url and daily_jumsup\n",
    "# i.e. why call it that\n",
    "df_daily_jumpsup = pd.read_csv(with_anomaly_url, parse_dates=True, index_col=\"timestamp\")"
   ]
  },
  {
   "cell_type": "code",
   "execution_count": 17,
   "metadata": {},
   "outputs": [
    {
     "data": {
      "text/html": [
       "<div>\n",
       "<style scoped>\n",
       "    .dataframe tbody tr th:only-of-type {\n",
       "        vertical-align: middle;\n",
       "    }\n",
       "\n",
       "    .dataframe tbody tr th {\n",
       "        vertical-align: top;\n",
       "    }\n",
       "\n",
       "    .dataframe thead th {\n",
       "        text-align: right;\n",
       "    }\n",
       "</style>\n",
       "<table border=\"1\" class=\"dataframe\">\n",
       "  <thead>\n",
       "    <tr style=\"text-align: right;\">\n",
       "      <th></th>\n",
       "      <th>value</th>\n",
       "    </tr>\n",
       "    <tr>\n",
       "      <th>timestamp</th>\n",
       "      <th></th>\n",
       "    </tr>\n",
       "  </thead>\n",
       "  <tbody>\n",
       "    <tr>\n",
       "      <th>2014-04-01 00:00:00</th>\n",
       "      <td>19.761252</td>\n",
       "    </tr>\n",
       "    <tr>\n",
       "      <th>2014-04-01 00:05:00</th>\n",
       "      <td>20.500833</td>\n",
       "    </tr>\n",
       "    <tr>\n",
       "      <th>2014-04-01 00:10:00</th>\n",
       "      <td>19.961641</td>\n",
       "    </tr>\n",
       "    <tr>\n",
       "      <th>2014-04-01 00:15:00</th>\n",
       "      <td>21.490266</td>\n",
       "    </tr>\n",
       "    <tr>\n",
       "      <th>2014-04-01 00:20:00</th>\n",
       "      <td>20.187739</td>\n",
       "    </tr>\n",
       "  </tbody>\n",
       "</table>\n",
       "</div>"
      ],
      "text/plain": [
       "                         value\n",
       "timestamp                     \n",
       "2014-04-01 00:00:00  19.761252\n",
       "2014-04-01 00:05:00  20.500833\n",
       "2014-04-01 00:10:00  19.961641\n",
       "2014-04-01 00:15:00  21.490266\n",
       "2014-04-01 00:20:00  20.187739"
      ]
     },
     "execution_count": 17,
     "metadata": {},
     "output_type": "execute_result"
    }
   ],
   "source": [
    "# printout the first 5 values in df\n",
    "df_daily_jumpsup.head()"
   ]
  },
  {
   "cell_type": "code",
   "execution_count": 18,
   "metadata": {},
   "outputs": [
    {
     "name": "stdout",
     "output_type": "stream",
     "text": [
      "             value\n",
      "count  4032.000000\n",
      "mean     44.494254\n",
      "std      32.432473\n",
      "min      18.001010\n",
      "25%      19.991382\n",
      "50%      21.648503\n",
      "75%      76.435943\n",
      "max     164.947481\n"
     ]
    }
   ],
   "source": [
    "# describe the dataframe\n",
    "print(df_daily_jumpsup.describe())\n",
    "# print function in notebook doesnt look as nice\n",
    "# better to leave out the print function as below\n",
    "# pandas is clever in jupyter notebooks\n",
    "# df_daily_jumpsup.describe()"
   ]
  },
  {
   "cell_type": "code",
   "execution_count": 19,
   "metadata": {},
   "outputs": [
    {
     "data": {
      "text/plain": [
       "19.761251903"
      ]
     },
     "execution_count": 19,
     "metadata": {},
     "output_type": "execute_result"
    }
   ],
   "source": [
    "# pandas return the 1st value in df\n",
    "df_daily_jumpsup.iloc[0]['value']"
   ]
  },
  {
   "cell_type": "code",
   "execution_count": 20,
   "metadata": {},
   "outputs": [
    {
     "data": {
      "text/plain": [
       "(4032, 1)"
      ]
     },
     "execution_count": 20,
     "metadata": {},
     "output_type": "execute_result"
    }
   ],
   "source": [
    "# describe the shape of the df\n",
    "df_daily_jumpsup.shape"
   ]
  },
  {
   "cell_type": "code",
   "execution_count": 21,
   "metadata": {},
   "outputs": [
    {
     "data": {
      "image/png": "[encoded data removed]",
      "text/plain": [
       "<Figure size 720x288 with 1 Axes>"
      ]
     },
     "metadata": {
      "needs_background": "light"
     },
     "output_type": "display_data"
    }
   ],
   "source": [
    "# set the fig size\n",
    "fig, ax = plt.subplots(figsize=(10,4))\n",
    "\n",
    "# Use pandas to plot data frame.\n",
    "df_daily_jumpsup.plot(legend=False, ax=ax);"
   ]
  },
  {
   "cell_type": "markdown",
   "metadata": {},
   "source": [
    "## Preprocessing\n",
    "\n",
    "###### values clean-up\n",
    "##### explanation of why preprocessing is required\n",
    "***"
   ]
  },
  {
   "cell_type": "code",
   "execution_count": 22,
   "metadata": {},
   "outputs": [
    {
     "data": {
      "text/plain": [
       "value    42.438353\n",
       "dtype: float64"
      ]
     },
     "execution_count": 22,
     "metadata": {},
     "output_type": "execute_result"
    }
   ],
   "source": [
    "# get the mean of small noise\n",
    " # TECHNICAL ONE DATASET- IF WERE MORE COLUMNS WOULD MEAN ALL COLS\n",
    "train_mean = df_small_noise.mean()\n",
    "\n",
    "train_mean"
   ]
  },
  {
   "cell_type": "code",
   "execution_count": 23,
   "metadata": {},
   "outputs": [
    {
     "data": {
      "text/plain": [
       "value    28.077122\n",
       "dtype: float64"
      ]
     },
     "execution_count": 23,
     "metadata": {},
     "output_type": "execute_result"
    }
   ],
   "source": [
    "# get the sd of small noise\n",
    "train_std = df_small_noise.std()\n",
    "\n",
    "train_std"
   ]
  },
  {
   "cell_type": "code",
   "execution_count": 24,
   "metadata": {},
   "outputs": [],
   "source": [
    "# subtract the mean from the value/divide by stdev\n",
    "# essentially gets all values normalized between x and y centered on zero\n",
    "# standard trick in neural networks- subtract the mean from the value/divide by stdev\n",
    "# essentially gets all values normalized between x and y centered on zero\n",
    "# df_train_vals not df_train as thats already in use\n",
    "# ONE THING TO CONSIDER:\n",
    "# DF SMALL NOISE ARRAY- COULD CREATE NEW COLUMN IN DF BT ASSIGNING VALUES TO IT\n",
    "df_train_vals = (df_small_noise - train_mean) / train_std"
   ]
  },
  {
   "cell_type": "code",
   "execution_count": 25,
   "metadata": {},
   "outputs": [
    {
     "data": {
      "text/html": [
       "<div>\n",
       "<style scoped>\n",
       "    .dataframe tbody tr th:only-of-type {\n",
       "        vertical-align: middle;\n",
       "    }\n",
       "\n",
       "    .dataframe tbody tr th {\n",
       "        vertical-align: top;\n",
       "    }\n",
       "\n",
       "    .dataframe thead th {\n",
       "        text-align: right;\n",
       "    }\n",
       "</style>\n",
       "<table border=\"1\" class=\"dataframe\">\n",
       "  <thead>\n",
       "    <tr style=\"text-align: right;\">\n",
       "      <th></th>\n",
       "      <th>value</th>\n",
       "    </tr>\n",
       "    <tr>\n",
       "      <th>timestamp</th>\n",
       "      <th></th>\n",
       "    </tr>\n",
       "  </thead>\n",
       "  <tbody>\n",
       "    <tr>\n",
       "      <th>2014-04-01 00:00:00</th>\n",
       "      <td>-0.858829</td>\n",
       "    </tr>\n",
       "    <tr>\n",
       "      <th>2014-04-01 00:05:00</th>\n",
       "      <td>-0.728993</td>\n",
       "    </tr>\n",
       "    <tr>\n",
       "      <th>2014-04-01 00:10:00</th>\n",
       "      <td>-0.848148</td>\n",
       "    </tr>\n",
       "    <tr>\n",
       "      <th>2014-04-01 00:15:00</th>\n",
       "      <td>-0.729586</td>\n",
       "    </tr>\n",
       "    <tr>\n",
       "      <th>2014-04-01 00:20:00</th>\n",
       "      <td>-0.731173</td>\n",
       "    </tr>\n",
       "  </tbody>\n",
       "</table>\n",
       "</div>"
      ],
      "text/plain": [
       "                        value\n",
       "timestamp                    \n",
       "2014-04-01 00:00:00 -0.858829\n",
       "2014-04-01 00:05:00 -0.728993\n",
       "2014-04-01 00:10:00 -0.848148\n",
       "2014-04-01 00:15:00 -0.729586\n",
       "2014-04-01 00:20:00 -0.731173"
      ]
     },
     "execution_count": 25,
     "metadata": {},
     "output_type": "execute_result"
    }
   ],
   "source": [
    "# pandas return the 1st 5 values in the dataframe\n",
    "df_train_vals.head()"
   ]
  },
  {
   "cell_type": "code",
   "execution_count": 26,
   "metadata": {},
   "outputs": [
    {
     "data": {
      "text/html": [
       "<div>\n",
       "<style scoped>\n",
       "    .dataframe tbody tr th:only-of-type {\n",
       "        vertical-align: middle;\n",
       "    }\n",
       "\n",
       "    .dataframe tbody tr th {\n",
       "        vertical-align: top;\n",
       "    }\n",
       "\n",
       "    .dataframe thead th {\n",
       "        text-align: right;\n",
       "    }\n",
       "</style>\n",
       "<table border=\"1\" class=\"dataframe\">\n",
       "  <thead>\n",
       "    <tr style=\"text-align: right;\">\n",
       "      <th></th>\n",
       "      <th>value</th>\n",
       "    </tr>\n",
       "    <tr>\n",
       "      <th>timestamp</th>\n",
       "      <th></th>\n",
       "    </tr>\n",
       "  </thead>\n",
       "  <tbody>\n",
       "    <tr>\n",
       "      <th>2014-04-14 23:35:00</th>\n",
       "      <td>-0.791647</td>\n",
       "    </tr>\n",
       "    <tr>\n",
       "      <th>2014-04-14 23:40:00</th>\n",
       "      <td>-0.780255</td>\n",
       "    </tr>\n",
       "    <tr>\n",
       "      <th>2014-04-14 23:45:00</th>\n",
       "      <td>-0.833640</td>\n",
       "    </tr>\n",
       "    <tr>\n",
       "      <th>2014-04-14 23:50:00</th>\n",
       "      <td>-0.735102</td>\n",
       "    </tr>\n",
       "    <tr>\n",
       "      <th>2014-04-14 23:55:00</th>\n",
       "      <td>-0.846089</td>\n",
       "    </tr>\n",
       "  </tbody>\n",
       "</table>\n",
       "</div>"
      ],
      "text/plain": [
       "                        value\n",
       "timestamp                    \n",
       "2014-04-14 23:35:00 -0.791647\n",
       "2014-04-14 23:40:00 -0.780255\n",
       "2014-04-14 23:45:00 -0.833640\n",
       "2014-04-14 23:50:00 -0.735102\n",
       "2014-04-14 23:55:00 -0.846089"
      ]
     },
     "execution_count": 26,
     "metadata": {},
     "output_type": "execute_result"
    }
   ],
   "source": [
    "# pandas return the last 5 values in the dataframe\n",
    "df_train_vals.tail()"
   ]
  },
  {
   "cell_type": "code",
   "execution_count": 27,
   "metadata": {},
   "outputs": [
    {
     "data": {
      "image/png": "[encoded data removed]",
      "text/plain": [
       "<Figure size 720x288 with 1 Axes>"
      ]
     },
     "metadata": {
      "needs_background": "light"
     },
     "output_type": "display_data"
    }
   ],
   "source": [
    "# first plot data frame to have a look\n",
    "# \n",
    "fig, ax = plt.subplots(figsize=(10,4))\n",
    "\n",
    "# Use pandas to plot data frame.\n",
    "df_train_vals.plot(legend=False, ax=ax);"
   ]
  },
  {
   "cell_type": "code",
   "execution_count": 28,
   "metadata": {},
   "outputs": [],
   "source": [
    "# create \n",
    "# CREATE A NEW DATASET\n",
    "# SUBTRACT THE MEAN TO CREATE THE LESS MEAN\n",
    "# SEE WHAT IT DOES BELOW\n",
    "# DESCRIBE\n",
    "# PANDAS PRINTS OFF THESE AS NEW COLUMSS\n",
    "# SEE EXACLY WHAT THE TRANSFORMATION IS\n",
    "# BASICALLY HAS TRANSFORED BY SUBTRACTIGN THE MEAN AND DIVIDING BY STDEV\n",
    "df_small_noise['less_mean'] = df_small_noise['value'] - df_small_noise['value'].mean()\n",
    "df_small_noise['div_std'] = df_small_noise['less_mean'] / df_small_noise['value'].std()"
   ]
  },
  {
   "cell_type": "code",
   "execution_count": 29,
   "metadata": {},
   "outputs": [
    {
     "data": {
      "text/html": [
       "<div>\n",
       "<style scoped>\n",
       "    .dataframe tbody tr th:only-of-type {\n",
       "        vertical-align: middle;\n",
       "    }\n",
       "\n",
       "    .dataframe tbody tr th {\n",
       "        vertical-align: top;\n",
       "    }\n",
       "\n",
       "    .dataframe thead th {\n",
       "        text-align: right;\n",
       "    }\n",
       "</style>\n",
       "<table border=\"1\" class=\"dataframe\">\n",
       "  <thead>\n",
       "    <tr style=\"text-align: right;\">\n",
       "      <th></th>\n",
       "      <th>value</th>\n",
       "      <th>less_mean</th>\n",
       "      <th>div_std</th>\n",
       "    </tr>\n",
       "    <tr>\n",
       "      <th>timestamp</th>\n",
       "      <th></th>\n",
       "      <th></th>\n",
       "      <th></th>\n",
       "    </tr>\n",
       "  </thead>\n",
       "  <tbody>\n",
       "    <tr>\n",
       "      <th>2014-04-01 00:00:00</th>\n",
       "      <td>18.324919</td>\n",
       "      <td>-24.113435</td>\n",
       "      <td>-0.858829</td>\n",
       "    </tr>\n",
       "    <tr>\n",
       "      <th>2014-04-01 00:05:00</th>\n",
       "      <td>21.970327</td>\n",
       "      <td>-20.468026</td>\n",
       "      <td>-0.728993</td>\n",
       "    </tr>\n",
       "    <tr>\n",
       "      <th>2014-04-01 00:10:00</th>\n",
       "      <td>18.624806</td>\n",
       "      <td>-23.813547</td>\n",
       "      <td>-0.848148</td>\n",
       "    </tr>\n",
       "    <tr>\n",
       "      <th>2014-04-01 00:15:00</th>\n",
       "      <td>21.953684</td>\n",
       "      <td>-20.484669</td>\n",
       "      <td>-0.729586</td>\n",
       "    </tr>\n",
       "    <tr>\n",
       "      <th>2014-04-01 00:20:00</th>\n",
       "      <td>21.909120</td>\n",
       "      <td>-20.529234</td>\n",
       "      <td>-0.731173</td>\n",
       "    </tr>\n",
       "    <tr>\n",
       "      <th>...</th>\n",
       "      <td>...</td>\n",
       "      <td>...</td>\n",
       "      <td>...</td>\n",
       "    </tr>\n",
       "    <tr>\n",
       "      <th>2014-04-14 23:35:00</th>\n",
       "      <td>20.211195</td>\n",
       "      <td>-22.227159</td>\n",
       "      <td>-0.791647</td>\n",
       "    </tr>\n",
       "    <tr>\n",
       "      <th>2014-04-14 23:40:00</th>\n",
       "      <td>20.531041</td>\n",
       "      <td>-21.907313</td>\n",
       "      <td>-0.780255</td>\n",
       "    </tr>\n",
       "    <tr>\n",
       "      <th>2014-04-14 23:45:00</th>\n",
       "      <td>19.032127</td>\n",
       "      <td>-23.406226</td>\n",
       "      <td>-0.833640</td>\n",
       "    </tr>\n",
       "    <tr>\n",
       "      <th>2014-04-14 23:50:00</th>\n",
       "      <td>21.798801</td>\n",
       "      <td>-20.639552</td>\n",
       "      <td>-0.735102</td>\n",
       "    </tr>\n",
       "    <tr>\n",
       "      <th>2014-04-14 23:55:00</th>\n",
       "      <td>18.682620</td>\n",
       "      <td>-23.755733</td>\n",
       "      <td>-0.846089</td>\n",
       "    </tr>\n",
       "  </tbody>\n",
       "</table>\n",
       "<p>4032 rows × 3 columns</p>\n",
       "</div>"
      ],
      "text/plain": [
       "                         value  less_mean   div_std\n",
       "timestamp                                          \n",
       "2014-04-01 00:00:00  18.324919 -24.113435 -0.858829\n",
       "2014-04-01 00:05:00  21.970327 -20.468026 -0.728993\n",
       "2014-04-01 00:10:00  18.624806 -23.813547 -0.848148\n",
       "2014-04-01 00:15:00  21.953684 -20.484669 -0.729586\n",
       "2014-04-01 00:20:00  21.909120 -20.529234 -0.731173\n",
       "...                        ...        ...       ...\n",
       "2014-04-14 23:35:00  20.211195 -22.227159 -0.791647\n",
       "2014-04-14 23:40:00  20.531041 -21.907313 -0.780255\n",
       "2014-04-14 23:45:00  19.032127 -23.406226 -0.833640\n",
       "2014-04-14 23:50:00  21.798801 -20.639552 -0.735102\n",
       "2014-04-14 23:55:00  18.682620 -23.755733 -0.846089\n",
       "\n",
       "[4032 rows x 3 columns]"
      ]
     },
     "execution_count": 29,
     "metadata": {},
     "output_type": "execute_result"
    }
   ],
   "source": [
    "df_small_noise"
   ]
  },
  {
   "cell_type": "code",
   "execution_count": 30,
   "metadata": {},
   "outputs": [
    {
     "data": {
      "text/plain": [
       "(42.438353335806646, -7.342627387941552e-14, -2.616541242931684e-15)"
      ]
     },
     "execution_count": 30,
     "metadata": {},
     "output_type": "execute_result"
    }
   ],
   "source": [
    "# PRINT OUT THE MEAN OF THE COLUMNS ABOVE- WHAT DO THEY MEAN?\n",
    "# MID VALUE IS MEAN OF THE LESS MEAN COLUMN (NOTE ITS VALUE E-14 SO INFITESSIMAL SMALL). ALMOST ZER0 9EFFECTIVELY ZERO)\n",
    "# RIGHT VALUE IS DIV_STD OF THE LESS MEAN COLUMN (NOTE ITS VALUE E-14 SO INFITESSIMAL SMALL). ALMOST ZER0 (EFFECTIVELY ZERO) AS SHOULD BE\n",
    "# IDEA BEHIND WHOLE THING IS TAKE THE VALUE COLUMN - MAKE A NEW VALUE COLUMS\n",
    "# LINEARLY EQUIVALENT TO ORIGINAL BUT EFFECTIVE MEAN OF 0 AND STDEV OF 1\n",
    "df_small_noise['value'].mean(), df_small_noise['less_mean'].mean(), df_small_noise['div_std'].mean()"
   ]
  },
  {
   "cell_type": "code",
   "execution_count": 31,
   "metadata": {},
   "outputs": [
    {
     "data": {
      "text/plain": [
       "(28.077122281262515, 28.077122281262508, 1.0000000000000018)"
      ]
     },
     "execution_count": 31,
     "metadata": {},
     "output_type": "execute_result"
    }
   ],
   "source": [
    "# STDEV OF THE VALUE AND LESS -MEAN ARE THE SAME -EXPLAIN\n",
    "# STDEV OF DIV_STD IS 1.0 AS EXPECTED- EXPLAIN\n",
    "# I.E. STDEV CENTERED BY MEAN\n",
    "\n",
    "df_small_noise['value'].std(), df_small_noise['less_mean'].std(), df_small_noise['div_std'].std()"
   ]
  },
  {
   "cell_type": "code",
   "execution_count": 32,
   "metadata": {},
   "outputs": [
    {
     "data": {
      "image/png": "[encoded data removed]",
      "text/plain": [
       "<Figure size 720x288 with 1 Axes>"
      ]
     },
     "metadata": {
      "needs_background": "light"
     },
     "output_type": "display_data"
    }
   ],
   "source": [
    "# define size of plot\n",
    "fig, ax = plt.subplots(figsize=(10,4))\n",
    "\n",
    "# PLOT SHOWS: TRAINING VALUES WITH MEAN/STDEV TRANSFORMATION AS AOVE ARE NOW BETWEEN +1.5 TO -0.8\n",
    "# MORE LOW VALUES THAN HIGH VALUES\n",
    "# EFFECTIVELY JUST SCALED THE GRAPH BY TRANSFORMING THE NUMBERS (SUBTRACT THE MEAN AND DIVIDE BY STDDEV)\n",
    "# EFFECT IS STANDARDISED\n",
    "# Use pandas to plot data frame.\n",
    "df_train_vals.plot(legend=False, ax=ax);"
   ]
  },
  {
   "cell_type": "code",
   "execution_count": 33,
   "metadata": {},
   "outputs": [
    {
     "data": {
      "text/plain": [
       "(4032, 1)"
      ]
     },
     "execution_count": 33,
     "metadata": {},
     "output_type": "execute_result"
    }
   ],
   "source": [
    "# have a look at the dataframe shape\n",
    "# so 4032 df_train vals\n",
    "df_train_vals.shape"
   ]
  },
  {
   "cell_type": "code",
   "execution_count": 34,
   "metadata": {},
   "outputs": [
    {
     "data": {
      "text/plain": [
       "Index(['value'], dtype='object')"
      ]
     },
     "execution_count": 34,
     "metadata": {},
     "output_type": "execute_result"
    }
   ],
   "source": [
    "# have a look at the dataframe shape\n",
    "# so 4032 df_train vals\n",
    "df_train_vals.columns\n",
    "# so col names are values , datatype = object\n",
    "# value is name of column"
   ]
  },
  {
   "cell_type": "markdown",
   "metadata": {},
   "source": [
    "#### break down the function as per ref"
   ]
  },
  {
   "cell_type": "code",
   "execution_count": 35,
   "metadata": {},
   "outputs": [],
   "source": [
    "# define the value of 'time_steps'\n",
    "# which the code originally used\n",
    "# renamed to window_size below\n",
    "time_steps =288"
   ]
  },
  {
   "cell_type": "code",
   "execution_count": 36,
   "metadata": {},
   "outputs": [],
   "source": [
    "# Generated training sequences for use in the model\n",
    "#def create_sequences(values, time_steps=TIME_STEPS):\n",
    "    #output = []\n",
    "    #for i in range(len(values)- time_steps +1):\n",
    "        #output.append(values[i : (i+ time_steps)])\n",
    "    #return np.stack(output)\n",
    "\n",
    "#def create_sequences(values, time_steps):\n",
    "    #output = []\n",
    "    #for i in range(len(values)- time_steps +1):\n",
    "        #output.append(values[i : (i+ time_steps)])\n",
    "    #return np.stack(output)"
   ]
  },
  {
   "cell_type": "code",
   "execution_count": 37,
   "metadata": {},
   "outputs": [],
   "source": [
    "# originally was 'time_steps'\n",
    "# slide a window of size 288 across the linear dataset\n",
    "# grab each 288 into a new array/layer\n",
    "# WINDOWS: QUITE COMMON THING IN DATA ANALYTICS\n",
    "# WANT TO LOOK FOR A CHANGE IN TREND ACROSS SERIES OF VALUES\n",
    "# RATHER THAN LOOKING AT A PARTICULAR VALUES\n",
    "# lOOK AT ONE PARTICULAR VALUE IN CENTER- HOW OTHER NEIGHBOURING VALUES ARE CHANGING\n",
    "# COMMON WAY IS TO HAVE A SLIDING WINDOW ACROSS THAT\n",
    "# SLIDE A WINDOW OF SIZE 3 ACROSS IT \n",
    "# TAKE 1ST THREE VALUES\n",
    "# MOVE ONE TO RIGHT ETC\n",
    "# LAST POINT INCLUDED ONLY IN ONE WINDOW\n",
    "\n",
    "window_size = 288"
   ]
  },
  {
   "cell_type": "markdown",
   "metadata": {},
   "source": [
    "###### what they are doing to process the data ready for  reading into keras\n",
    "###### each of these are whats fed into the NN\n",
    "Window example:\n",
    "\n",
    "```python\n",
    "[1, 1, 2, 4, 5, 6, 7, 1, 2, 3, 4, 5]\n",
    "window_size = 3\n",
    "[1, 1, 2]\n",
    "[1, 2, 4]\n",
    "[2, 4, 5]\n",
    "[4, 5, 6]\n",
    "...\n",
    "```"
   ]
  },
  {
   "cell_type": "code",
   "execution_count": 38,
   "metadata": {},
   "outputs": [
    {
     "data": {
      "text/plain": [
       "12"
      ]
     },
     "execution_count": 38,
     "metadata": {},
     "output_type": "execute_result"
    }
   ],
   "source": [
    "# Window list example.\n",
    "L = [1, 1, 2, 4, 5, 6, 7, 1, 2, 3, 4, 5]\n",
    "# Example window size.\n",
    "win_size = 3\n",
    "# Length of L.\n",
    "len(L)"
   ]
  },
  {
   "cell_type": "code",
   "execution_count": 39,
   "metadata": {},
   "outputs": [
    {
     "data": {
      "text/plain": [
       "10"
      ]
     },
     "execution_count": 39,
     "metadata": {},
     "output_type": "execute_result"
    }
   ],
   "source": [
    "# Number of windows from L.\n",
    "len(L) - (win_size - 1)"
   ]
  },
  {
   "cell_type": "code",
   "execution_count": 40,
   "metadata": {},
   "outputs": [
    {
     "data": {
      "text/plain": [
       "10"
      ]
     },
     "execution_count": 40,
     "metadata": {},
     "output_type": "execute_result"
    }
   ],
   "source": [
    "# Remove brackets.\n",
    "len(L) - win_size + 1"
   ]
  },
  {
   "cell_type": "code",
   "execution_count": 41,
   "metadata": {},
   "outputs": [
    {
     "name": "stdout",
     "output_type": "stream",
     "text": [
      "[1, 1, 2]\n",
      "[1, 2, 4]\n",
      "[2, 4, 5]\n",
      "[4, 5, 6]\n",
      "[5, 6, 7]\n",
      "[6, 7, 1]\n",
      "[7, 1, 2]\n",
      "[1, 2, 3]\n",
      "[2, 3, 4]\n",
      "[3, 4, 5]\n"
     ]
    }
   ],
   "source": [
    "# Print the windows.\n",
    "for i in range(len(L) - win_size + 1):\n",
    "    print(L[i:i + win_size])"
   ]
  },
  {
   "cell_type": "code",
   "execution_count": 42,
   "metadata": {},
   "outputs": [
    {
     "data": {
      "text/plain": [
       "[[1, 1, 2],\n",
       " [1, 2, 4],\n",
       " [2, 4, 5],\n",
       " [4, 5, 6],\n",
       " [5, 6, 7],\n",
       " [6, 7, 1],\n",
       " [7, 1, 2],\n",
       " [1, 2, 3],\n",
       " [2, 3, 4],\n",
       " [3, 4, 5]]"
      ]
     },
     "execution_count": 42,
     "metadata": {},
     "output_type": "execute_result"
    }
   ],
   "source": [
    "# For accumulating the windows.\n",
    "wins = []\n",
    "\n",
    "# Generate the windows\n",
    "for i in range(len(L) - win_size + 1):\n",
    "    wins.append(L[i:i + win_size])\n",
    "\n",
    "wins\n",
    "# outpus the linear array above in datadrame of len 3 starting with each element"
   ]
  },
  {
   "cell_type": "code",
   "execution_count": 43,
   "metadata": {},
   "outputs": [
    {
     "data": {
      "text/plain": [
       "array([[1, 1, 2],\n",
       "       [1, 2, 4],\n",
       "       [2, 4, 5],\n",
       "       [4, 5, 6],\n",
       "       [5, 6, 7],\n",
       "       [6, 7, 1],\n",
       "       [7, 1, 2],\n",
       "       [1, 2, 3],\n",
       "       [2, 3, 4],\n",
       "       [3, 4, 5]])"
      ]
     },
     "execution_count": 43,
     "metadata": {},
     "output_type": "execute_result"
    }
   ],
   "source": [
    "# Create a 2D numpy array from wins.\n",
    "# output as individual arrys\n",
    "np.stack(wins)"
   ]
  },
  {
   "cell_type": "code",
   "execution_count": 44,
   "metadata": {},
   "outputs": [],
   "source": [
    "# create a function to create correct data shape for input to NN (Keras)\n",
    "# PASS IN THE VALUES  AND WINOW SIZE AS PARAMETERS INTO THE FUCNTION\n",
    "def windows(vals, N=window_size):\n",
    "  # define an empty array for values\n",
    "  L = []\n",
    "  # iterate through vals for all windows of len N \n",
    "  for i in range(len(vals) - N + 1):\n",
    "    # append another row of N vals to L[]\n",
    "     # THIS IS A SLICE\n",
    "    L.append(vals[i:i+N])\n",
    "  # Stack i.e output L as individual arrays\n",
    "  return np.stack(L)"
   ]
  },
  {
   "cell_type": "code",
   "execution_count": 45,
   "metadata": {},
   "outputs": [
    {
     "data": {
      "text/plain": [
       "(10, 10)"
      ]
     },
     "execution_count": 45,
     "metadata": {},
     "output_type": "execute_result"
    }
   ],
   "source": [
    "# LENGTH OF THE ARRAY- N +1\n",
    "# THINK ABOUT HOW MANY OF ELEMENTS GET TO BE THE FIRST ELEMENT\n",
    "# I.E. EXCEPT FOR WINDOW SIZE -1 ALL WINDOWS WILL HAVE A FULL SET\n",
    "# number of windows from L\n",
    "d= len(L)-(win_size -1)\n",
    "# remove brackets\n",
    "w= len(L)-win_size +1\n",
    "d,w"
   ]
  },
  {
   "cell_type": "code",
   "execution_count": 46,
   "metadata": {},
   "outputs": [
    {
     "data": {
      "text/plain": [
       "10"
      ]
     },
     "execution_count": 46,
     "metadata": {},
     "output_type": "execute_result"
    }
   ],
   "source": [
    "# NUMBERS OF WINDOWS FROM l\n",
    "len(L) -(win_size -1)"
   ]
  },
  {
   "cell_type": "code",
   "execution_count": 47,
   "metadata": {},
   "outputs": [
    {
     "data": {
      "text/plain": [
       "10"
      ]
     },
     "execution_count": 47,
     "metadata": {},
     "output_type": "execute_result"
    }
   ],
   "source": [
    "# NUMBERS OF WINDOWS FROM l (REMOVE BRACKETS) #i.e. should be the same\n",
    "len(L) -win_size +1"
   ]
  },
  {
   "cell_type": "code",
   "execution_count": 48,
   "metadata": {},
   "outputs": [
    {
     "name": "stdout",
     "output_type": "stream",
     "text": [
      "[1, 1, 2]\n",
      "[1, 2, 4]\n",
      "[2, 4, 5]\n",
      "[4, 5, 6]\n",
      "[5, 6, 7]\n",
      "[6, 7, 1]\n",
      "[7, 1, 2]\n",
      "[1, 2, 3]\n",
      "[2, 3, 4]\n",
      "[3, 4, 5]\n"
     ]
    }
   ],
   "source": [
    "# PRINT THE WINDOWS\n",
    "for i in range(len(L) -win_size +1):\n",
    "    # THIS IS A SLICE\n",
    "    # 0 1ST TIME AROUND\n",
    "    # UP TO BUT NOT INCLUDING  I+ WINDOW_SIZE \n",
    "    print(L[i:i + win_size]) \n",
    "# RETURNS ALL THE WINDOWS"
   ]
  },
  {
   "cell_type": "code",
   "execution_count": 49,
   "metadata": {},
   "outputs": [
    {
     "data": {
      "text/plain": [
       "[[1, 1, 2],\n",
       " [1, 2, 4],\n",
       " [2, 4, 5],\n",
       " [4, 5, 6],\n",
       " [5, 6, 7],\n",
       " [6, 7, 1],\n",
       " [7, 1, 2],\n",
       " [1, 2, 3],\n",
       " [2, 3, 4],\n",
       " [3, 4, 5]]"
      ]
     },
     "execution_count": 49,
     "metadata": {},
     "output_type": "execute_result"
    }
   ],
   "source": [
    "# ACCUMULATING THE WINDOWS:\n",
    "wins = []\n",
    "\n",
    "# Generate the windows\n",
    "for i in range(len(L) -win_size +1):\n",
    "    wins.append(L[i:i + win_size]) \n",
    "wins"
   ]
  },
  {
   "cell_type": "code",
   "execution_count": 50,
   "metadata": {},
   "outputs": [
    {
     "data": {
      "text/plain": [
       "array([[1, 1, 2],\n",
       "       [1, 2, 4],\n",
       "       [2, 4, 5],\n",
       "       [4, 5, 6],\n",
       "       [5, 6, 7],\n",
       "       [6, 7, 1],\n",
       "       [7, 1, 2],\n",
       "       [1, 2, 3],\n",
       "       [2, 3, 4],\n",
       "       [3, 4, 5]])"
      ]
     },
     "execution_count": 50,
     "metadata": {},
     "output_type": "execute_result"
    }
   ],
   "source": [
    "#STACK WINS- CREATE A 2D ARRAY FROM WINS\n",
    "np.stack(wins)"
   ]
  },
  {
   "cell_type": "code",
   "execution_count": 51,
   "metadata": {},
   "outputs": [],
   "source": [
    "# use a numpy array\n",
    "# call it x_train and create it from the original dataset\n",
    "# transform the original df (4032,1) to x_train((3745, 288, 1)) using def windows()\n",
    "\n",
    "# DF TRAIN VALS IS THE ZEROED ARRAY\n",
    "# X TRAIN IS THE WINDOWS APPLIED TO DATASET\n",
    "\n",
    "x_train = windows(df_train_vals)"
   ]
  },
  {
   "cell_type": "code",
   "execution_count": 52,
   "metadata": {},
   "outputs": [
    {
     "data": {
      "text/plain": [
       "(array([-0.85882857]), array([-0.79671155]))"
      ]
     },
     "execution_count": 52,
     "metadata": {},
     "output_type": "execute_result"
    }
   ],
   "source": [
    "# have a look at the array first value [0] and last value [-1]\n",
    "# 288 ROWS\n",
    "# KERAS WANTS EACH INDIVIDUAL VALUES IN AN INDIVIDUAL LIST\n",
    "# [[VALUE]]\n",
    "x_train[0][0], x_train[0][-1]"
   ]
  },
  {
   "cell_type": "code",
   "execution_count": 53,
   "metadata": {},
   "outputs": [
    {
     "data": {
      "text/plain": [
       "(value   -0.858829\n",
       " Name: 2014-04-01 00:00:00, dtype: float64,\n",
       " value   -0.846089\n",
       " Name: 2014-04-14 23:55:00, dtype: float64)"
      ]
     },
     "execution_count": 53,
     "metadata": {},
     "output_type": "execute_result"
    }
   ],
   "source": [
    "# another way to get 1st and last values from dataframe using iloc\n",
    "# DF TRAIN VALS IS THE ZEROED ARRAY\n",
    "# X TRAIN IS THE WINDOWS APPLIED TO DATASET\n",
    "\n",
    " #1ST VALUE IN TRAINING VALS IS THE FIRST VALUE IN TRAINING ARRAY- A CHECK\n",
    "df_train_vals.iloc[0], df_train_vals.iloc[-1]"
   ]
  },
  {
   "cell_type": "code",
   "execution_count": 54,
   "metadata": {},
   "outputs": [
    {
     "data": {
      "text/plain": [
       "value   -0.776113\n",
       "Name: 2014-04-01 08:20:00, dtype: float64"
      ]
     },
     "execution_count": 54,
     "metadata": {},
     "output_type": "execute_result"
    }
   ],
   "source": [
    "# another way to get 100th value from dataframe using iloc\n",
    "df_train_vals.iloc[100]"
   ]
  },
  {
   "cell_type": "code",
   "execution_count": 55,
   "metadata": {},
   "outputs": [
    {
     "data": {
      "text/plain": [
       "(array([-0.85882857]), array([-0.8460886]))"
      ]
     },
     "execution_count": 55,
     "metadata": {},
     "output_type": "execute_result"
    }
   ],
   "source": [
    "# have a look at the array first value [0] and value [1]\n",
    "#RETURN 1ST VALUE IN 1ST WINDOW ALONG WITH FIRST VALUE IN THE LAST WINDOW\n",
    "x_train[0][0], x_train[-1][-1]"
   ]
  },
  {
   "cell_type": "code",
   "execution_count": 56,
   "metadata": {},
   "outputs": [
    {
     "data": {
      "text/plain": [
       "(4032, 1)"
      ]
     },
     "execution_count": 56,
     "metadata": {},
     "output_type": "execute_result"
    }
   ],
   "source": [
    "# review original shape of df -i.e 4032 values\n",
    "df_train_vals.shape"
   ]
  },
  {
   "cell_type": "code",
   "execution_count": 57,
   "metadata": {},
   "outputs": [
    {
     "data": {
      "text/plain": [
       "(3745, 288, 1)"
      ]
     },
     "execution_count": 57,
     "metadata": {},
     "output_type": "execute_result"
    }
   ],
   "source": [
    "# check shape\n",
    "x_train.shape\n",
    "\n",
    "# 4032(dataset)-288(window size)+1 =3745\n",
    "# ',1' says 3rd dimension of 1\n",
    "\n",
    "#windows of size 288 ,3745 of these X_train examples"
   ]
  },
  {
   "cell_type": "code",
   "execution_count": 58,
   "metadata": {},
   "outputs": [
    {
     "data": {
      "text/plain": [
       "array([-0.85882857, -0.72899302, -0.84814772, ..., -0.83364049,\n",
       "       -0.73510213, -0.8460886 ])"
      ]
     },
     "execution_count": 58,
     "metadata": {},
     "output_type": "execute_result"
    }
   ],
   "source": [
    "# print out the values where 'value'\n",
    "df_train_vals['value'].values"
   ]
  },
  {
   "cell_type": "code",
   "execution_count": 59,
   "metadata": {},
   "outputs": [
    {
     "data": {
      "text/plain": [
       "array([-0.85882857, -0.72899302, -0.84814772, -0.72958579, -0.731173  ,\n",
       "       -0.75730984, -0.77645641, -0.7880838 , -0.747012  , -0.829166  ,\n",
       "       -0.80377285, -0.7821597 , -0.81182078, -0.80949918, -0.82334701,\n",
       "       -0.79001779, -0.74922405, -0.84169024, -0.73727717, -0.77223023,\n",
       "       -0.75311352, -0.79116337, -0.75934728, -0.86809294, -0.75381057,\n",
       "       -0.86468256, -0.74361965, -0.72908121, -0.82850668, -0.84043795,\n",
       "       -0.76136364, -0.8343536 , -0.74708881, -0.85574949, -0.85245676,\n",
       "       -0.73090636, -0.77440264, -0.74974936, -0.82419543, -0.77402585,\n",
       "       -0.78574242, -0.7844733 , -0.77316412, -0.78843253, -0.80927467,\n",
       "       -0.83109167, -0.76090519, -0.83816509, -0.77176485, -0.83715923,\n",
       "       -0.78131343, -0.76396862, -0.83924191, -0.86186112, -0.85174179,\n",
       "       -0.78406773, -0.74938477, -0.86399047, -0.76581026, -0.82177506,\n",
       "       -0.80222751, -0.73807119, -0.82310669, -0.80410682, -0.86845167,\n",
       "       -0.85877599, -0.83356075, -0.86643297, -0.78045221, -0.8096542 ,\n",
       "       -0.79230956, -0.84551986, -0.82824105, -0.77582935, -0.73287933,\n",
       "       -0.86321832, -0.74355256, -0.7882157 , -0.79006227, -0.79912888,\n",
       "       -0.86051472, -0.85759665, -0.78479216, -0.82182635, -0.73972257,\n",
       "       -0.81247611, -0.84998837, -0.76857869, -0.82860841, -0.79553994,\n",
       "       -0.77098436, -0.74214503, -0.75754161, -0.77404332, -0.77357716,\n",
       "       -0.73564002, -0.82825643, -0.8702425 , -0.83165699, -0.83935909,\n",
       "       -0.77611284, -0.78011937, -0.78585361, -0.86808681, -0.76657575,\n",
       "       -0.82430925, -0.7756539 , -0.79110813,  0.83423034,  0.73340436,\n",
       "        0.71395293,  1.07098925,  1.11307181,  0.98296271,  0.71831972,\n",
       "        0.86295228,  1.02130195,  1.04594803,  0.72548104,  0.66823317,\n",
       "        1.36958529,  1.17305538,  1.11661005,  0.98307138,  1.27459976,\n",
       "        1.44642694,  1.50528567,  1.28866513,  1.26031743,  1.02295817,\n",
       "        1.27933882,  1.18598059,  1.3813925 ,  1.25767699,  1.1736019 ,\n",
       "        1.09127902,  1.21586925,  1.09223039,  1.13768838,  1.59675342,\n",
       "        1.28904484,  1.33876025,  1.53233922,  1.60141677,  1.38146244,\n",
       "        1.51223576,  1.23588256,  1.22381772,  1.2790048 ,  1.43257027,\n",
       "        1.43808241,  1.22922231,  1.12561563,  1.40974009,  1.12283575,\n",
       "        1.37905941,  1.44731563,  1.45141157,  1.48152744,  1.54954504,\n",
       "        1.33709539,  1.46829683,  1.4050141 ,  1.15859057,  1.06689361,\n",
       "        1.21436719,  1.30466379,  1.40383661,  1.53708371,  1.16457702,\n",
       "        1.12429225,  1.60177134,  1.11431721,  1.32540935,  1.38642273,\n",
       "        1.36124227,  1.10177385,  1.08524575,  1.1128578 ,  1.38643638,\n",
       "        1.36304532,  1.18604649,  1.41628631,  1.52016681,  1.07654239,\n",
       "        1.33670957,  1.44565443,  1.19662931,  1.22823281,  1.40253218,\n",
       "        1.56454005,  1.51438674,  1.38516952,  1.46899077,  1.26076513,\n",
       "        1.41812743,  1.31852542,  1.16110478,  1.45275926,  1.36997393,\n",
       "        1.25723151,  1.57220199,  1.06479764,  1.23281399,  1.08528647,\n",
       "        1.48968441,  1.45297419,  1.24169607,  1.43790453,  1.2785004 ,\n",
       "        1.48382995,  1.31169265,  1.28781332,  1.58553613,  1.19583776,\n",
       "        1.12151008, -0.35250349, -0.26479567, -0.39962031, -0.47160544,\n",
       "       -0.40840388, -0.37042247, -0.44883702, -0.33573617, -0.25831579,\n",
       "       -0.38277522, -0.40488824, -0.39440839, -0.77509723, -0.65253443,\n",
       "       -0.72728022, -0.73167631, -0.6882095 , -0.72293893, -0.69003755,\n",
       "       -0.78366561, -0.6636319 , -0.64340272, -0.68995268, -0.64115899,\n",
       "       -0.83292321, -0.78536741, -0.76722084, -0.77014874, -0.79644794,\n",
       "       -0.80569367, -0.83651316, -0.79786583, -0.83128515, -0.74788262,\n",
       "       -0.82454968, -0.84647101, -0.78825327, -0.78211741, -0.74251058,\n",
       "       -0.7847296 , -0.8178686 , -0.75237369, -0.78998354, -0.85597483,\n",
       "       -0.78632299, -0.73734213, -0.81059211, -0.82490508, -0.84932652,\n",
       "       -0.84818912, -0.80807162, -0.78484064, -0.8582896 , -0.73580158,\n",
       "       -0.76210229, -0.78613203, -0.75164888, -0.85835073, -0.80178754,\n",
       "       -0.77993325, -0.75220135, -0.75863962, -0.83079766, -0.73620985,\n",
       "       -0.85255954, -0.74557822, -0.73192653, -0.84503486, -0.76738913,\n",
       "       -0.86453747, -0.81250829, -0.79671155])"
      ]
     },
     "execution_count": 59,
     "metadata": {},
     "output_type": "execute_result"
    }
   ],
   "source": [
    "# return 1st window of 288 values\n",
    "x_train[0].flatten()"
   ]
  },
  {
   "cell_type": "code",
   "execution_count": 60,
   "metadata": {},
   "outputs": [
    {
     "data": {
      "text/plain": [
       "array([-0.85882857, -0.72899302, -0.84814772, ..., -0.83364049,\n",
       "       -0.73510213, -0.8460886 ])"
      ]
     },
     "execution_count": 60,
     "metadata": {},
     "output_type": "execute_result"
    }
   ],
   "source": [
    "df_train_vals['value'].values"
   ]
  },
  {
   "cell_type": "code",
   "execution_count": 61,
   "metadata": {},
   "outputs": [
    {
     "data": {
      "text/plain": [
       "[<matplotlib.lines.Line2D at 0x1dae7eccdc0>]"
      ]
     },
     "execution_count": 61,
     "metadata": {},
     "output_type": "execute_result"
    },
    {
     "data": {
      "image/png": "[encoded data removed]",
      "text/plain": [
       "<Figure size 864x432 with 1 Axes>"
      ]
     },
     "metadata": {
      "needs_background": "light"
     },
     "output_type": "display_data"
    }
   ],
   "source": [
    "# \n",
    "fig, ax = plt.subplots(figsize=(12, 6))\n",
    "\n",
    "# \n",
    "y =df_train_vals['value'].values\n",
    "# y =df_train_vals['value'].values[:100] -SEE WHAT HAPPENS\n",
    "# y =df_train_vals['value'].values[:200] -SEE WHAT HAPPENS\n",
    "# y =df_train_vals['value'].values[:1200] -1ST 4 PEAKS\n",
    "# EVENTUALLY WILL SEE THE STEP UP \n",
    "\n",
    "# QUICK HACK\n",
    "# PLOT FIRST OF ALL AX.PLOT DF TRAIN VALS\n",
    "# PULL OUT THE VALUES \n",
    "# RECREATE THE PLOT OF DF TRAIN VALS AS ABOVE BUT WITH MORE CONTROLS\n",
    "# 4032V VALUES IN HERE\n",
    "# CHANGE TO 1ST 100 -SEEWHAT HAPPENS\n",
    "ax.plot(np.arange(y.shape[0]), y)"
   ]
  },
  {
   "cell_type": "code",
   "execution_count": 62,
   "metadata": {},
   "outputs": [
    {
     "data": {
      "image/png": "[encoded data removed]",
      "text/plain": [
       "<Figure size 864x432 with 1 Axes>"
      ]
     },
     "metadata": {
      "needs_background": "light"
     },
     "output_type": "display_data"
    }
   ],
   "source": [
    "# DEFINE WINDOW NUMBER\n",
    "window_no = 200\n",
    "\n",
    "# \n",
    "fig, ax = plt.subplots(figsize=(12, 6))\n",
    "\n",
    "\n",
    "y = df_train_vals['value'].values # ADD [:1200] ETC TO VIEW LESS DATA\n",
    "\n",
    "\n",
    "# X AXIS NOW IS NUMBER OF DATAPOINT\n",
    "# THIS JUST CREATES AN ARRAY FRON 0-4032. JUST A TRICK\n",
    "# CHANGE THE '0' BELOW- SEE WHAT HAPPENS\n",
    "# IN ORANGE IS THE WINDOW\n",
    "# CHANGE '0' TO CHANGE WINDOW\n",
    "ax.plot(np.arange(y.shape[0]), y, label='signal')\n",
    "\n",
    "# The first window. \n",
    "# X TRAIN 0 (EACH VALUE IN OWN ARRAY)\n",
    "# FLATTEN REMOVES THIS INNER ARRAY\n",
    "\n",
    "w = x_train[window_no].flatten()\n",
    "\n",
    "# CHANGE THE '0' BELOW- SEE \n",
    "# CHANGE THE WINDOW NUMBER- SEE WHAT HAPPENS\n",
    "# 200TH WINDOW ETC\n",
    "ax.plot(np.arange(w.shape[0]) + window_no, w, label='window')\n",
    "\n",
    "# ADD A LEGEND\n",
    "ax.legend();"
   ]
  },
  {
   "cell_type": "markdown",
   "metadata": {},
   "source": [
    "## Neural Network\n",
    "\n",
    "***"
   ]
  },
  {
   "cell_type": "markdown",
   "metadata": {},
   "source": [
    "##### Training a Model:  \n",
    "Training a model simply means learning (determining) good values for all the weights and the bias from labeled examples.  \n",
    "In supervised learning, a machine learning algorithm builds a model by examining many examples and attempting to find a model that minimizes loss; this process is called empirical risk minimization.  \n",
    "<br>Loss is the penalty for a bad prediction.  \n",
    "That is, loss is a number indicating how bad the model's prediction was on a single example. \n",
    "If the model's prediction is perfect, the loss is zero; otherwise, the loss is greater.  \n",
    "The goal of training a model is to find a set of weights and biases that have low loss, on average, given a set of input values.  \n",
    "<br>\n",
    "The **squared loss** for a single example is square of the difference between the label and the prediction:  \n",
    "\n",
    "  = (observation - prediction(x))2  \n",
    "  = (y - y')2  \n",
    "  \n",
    "##### Mean absolute error (MAE)**  \n",
    "\n",
    "In the context of machine learning, absolute error refers to the magnitude of difference between the prediction of an observation and the true value of that observation.  \n",
    "MAE takes the average of absolute errors for a group of predictions and observations as a measurement of the magnitude of errors for the entire group  \n",
    "MAE can also be referred as L1 loss function, least absolute deviations (LAD), least absolute errors (LAE).  It is basically minimizing the sum of the absolute differences between the real value and the predicted values.  \n",
    "\n",
    "##### Mean square error (MSE)** \n",
    "\n",
    "Mean square error is the average **squared** loss per example over the whole dataset. \n",
    "To calculate MSE, sum up all the squared losses for individual examples and then divide by the number of examples.  \n",
    "The choice of which to use is related to robustness of the model and likelihood of outliers.  \n",
    "MAE is more robust than MSE as the former is more resistant to potential outliers in the data.  \n",
    "This may be helpful in studies where outliers may be safely and effectively ignored\n",
    "If it is important to pay attention to any and all outliers, the method of least squares is a better choice.\n",
    "\n"
   ]
  },
  {
   "cell_type": "code",
   "execution_count": 63,
   "metadata": {},
   "outputs": [
    {
     "data": {
      "text/plain": [
       "(3745, 288, 1)"
      ]
     },
     "execution_count": 63,
     "metadata": {},
     "output_type": "execute_result"
    }
   ],
   "source": [
    " # get less windows than values(4032) as effectively run out of '288' \n",
    "# numbers remaining in array cannot make-up a 288 window thus not used\n",
    "# keras needs the third dimension below i.e. '1'\n",
    "\n",
    "x_train.shape"
   ]
  },
  {
   "cell_type": "code",
   "execution_count": 64,
   "metadata": {},
   "outputs": [],
   "source": [
    "# WHAT IS THE NEURAL NETWORK ACTUALLY DOING\n",
    "# SHAPE 1 IS 288, SHAPE 2 IS 1.\n",
    "# ONE DIMENSIONAL\n",
    "# ALL OF THE NODES WITH 288 VALUES ARE COMING IN AS ONE\n",
    "# GOOGLE CONVOLUTIONAL 1D LAYER\n",
    "# EXPLAIN WHAT THIS IS\n",
    "# WE HAVE AN INPUT LATER SO NO NEED FOR 1D\n",
    "# GOOGLE TOWARDSDATASCIENCE.COM/UNDERSTANDING-1D-AND 3D- CONVOLUTION-NEURAL-NETWORK-KERAS\n",
    "# GENERALLY WE REFER TO A 2D CNN\n",
    "# ALSO 1D 3D CNN AND APPLCATIONS IN REAL WORLD\n",
    "# INTRODUCED IN IMAGE CLASSIFICATION\n",
    "# KERNEL SLIDES ALONG 2 DIMENSIONS ALONG THE INPUT\n",
    "# LOT LIKE THE WINDOW WE HAVE ABOVE WHEN 1D\n",
    "# NOT TOO DIFFICULT TO WORK OUT WHAT THE LAYER DOES\n",
    "# WAS SUGGESTED  IN TDS.COM MORE COMMON TO HAVE A 2D\n",
    "# CHECK TENSORFLOW - 2D CONV\n",
    "# NOT THE MOST HELPFUL BUT IF GO DOWN THROUGH-# DO RESEARCH ON THIS\n",
    "# LOOK AT LAYERS OF THE NN BUILT IN THIS EVAL NOTEBOOK\n",
    "# HAS AN INPUT LAYER- DOES WHAT IT SATS ON THE TIN\n",
    "# CONV 1D LAYER\n",
    "# DROPOUT LATER\n",
    "# CONV 1D LAYER\n",
    "# CONV ID TRANSPOSE LAYER- MATRIX TRNSPOSE?\n",
    "# ALL HAVE IS INPUT, CONVID, DROPOUT, CONV1D TRANSPOSE\n",
    "# CONV 1D/CONV 1D TRANSPOSE ARE SIMILAR\n",
    "# SEE IF YOU CAN FIND INFORMATION THERE\n",
    "\n",
    "# GOAL OF PROJECT IS - SHOW YOU CAN WORK OUTSIDE COMFORT ZONE\n",
    "# GIVE YOU THE TOOLS TO LOOK UP - STACKOVERFLOW/TOWARDS DATASCIENCE/DATACAMP\n",
    "# GET THAT IT WILL BE TRICKY FOR YOU -\n",
    "# PART OF THE ASSESSMENT\n",
    "# TRY 1ST - ASK QUESTIONS IF STUCK\n"
   ]
  },
  {
   "cell_type": "markdown",
   "metadata": {},
   "source": [
    "An input layer only has nodes. It's only job is take in the data and pass it on the hidden layer.\n",
    "\n",
    "A dense layer has the links (edges) connected to it, with weights and everything. It also has an activation function.\n",
    "\n",
    "The data from each input node gets multiplied with the weights of the links via which those input nodes are connected to the first hidden layer. Each node of the hidden layer then combines all the inputs to it (one from each input node) and passes through an activation fuction.\n",
    "\n",
    "Similar process repeats for the second hidden layer.\n",
    "\n",
    "A dropout layer is added before the output layer. It drops a certain percentage (20% in our case) of the links randomly, that are connected to the output node. It's a good practice and generally helps in curbing overfitting.\n",
    "\n",
    "We simply define each layer and the preceding layer it's connected to, and then package them all together using the function 'Model'\n",
    "\n",
    "The 15 new columns dataframe (df_new) will be passed through this network, one row at a time. The network will spit out an answer which will be compared with the value in the first column. This first prediction will be based on weights that mare set randomly. The error in the prediction will be used to change the weights in such a way that the prediction is better.\n",
    "\n",
    "This will happen for all the 1034 rows. We can adjust the weights after passing through multiple samples (rows) in what we call a \"batch\". When all the rows have passed in this way, we say one \"epoch\" is over. We go through many epochs.\n",
    "\n",
    "But how many epochs do we have to go through, you ask? You already might have guessed. When we get the feel that out neural network model has captured the patterns in the data and is in a position to make predictions. How do we ensure that?\n",
    "\n",
    "What we do is hold out a few samples of data as a validation set. We don't use them for training (i.e for updating the weights). We only run the validation set after every epoch, and check the error. We also keep a track of the training error but it's not as important as validation error since the training error is what adjusts the weights. So, in a sense the training data is what the network soaks in. The validation data is something it doesn't soak in. As we keep checking the errors, only when the validation error has come down to near the training error, we stop further training.\n",
    "\n",
    "**There are many ways to calcualte error. Here, we have used \"mean_squared_error\", and also used the \"adam\" optimizer algorith that is responsible for updating the weights**.  \n",
    "\n",
    "https://www.kaggle.com/code/nitinsss/time-series-prediction-with-keras-for-beginners"
   ]
  },
  {
   "cell_type": "markdown",
   "metadata": {},
   "source": [
    "ConvolutionLayer(filters,kernelsize,opts) creates a convolutional neural network layer with filter filter and kernel size kernelsize.  \n",
    "\n",
    "Conv1d is used when you slide your convolution kernels along 1 dimensions (i.e. you reuse the same weights, sliding them along 1 dimensions).  \n",
    "\n",
    "\n",
    "On the other hand tf. layers. conv2d is used when you slide your convolution kernels along 2 dimensions (i.e. you reuse the same weights, sliding them along 2 dimensions)."
   ]
  },
  {
   "cell_type": "code",
   "execution_count": 65,
   "metadata": {},
   "outputs": [],
   "source": [
    "# create layers for keras\n",
    "# \n",
    "# check original code\n",
    "# model =keras.Sequential(\n",
    "#[\n",
    " # Layers = ######\n",
    "    \n",
    "# Neater syntax is to extract the 'Layers'\n",
    "# keep indent\n",
    "# put comments in each layer\n",
    "# Google: keras.layers.input \n",
    "# Google: keras.layers.Conv1D\n",
    "# research what the code means and describe the layer code meaning comments below\n",
    "\n",
    "layers = [\n",
    "  #\n",
    "  keras.layers.Input(shape=(x_train.shape[1], x_train.shape[2])),\n",
    "  #\n",
    "  keras.layers.Conv1D(\n",
    "    filters=32, kernel_size=7, padding=\"same\", strides=2, activation=\"relu\"),\n",
    "  #\n",
    "  keras.layers.Dropout(rate=0.2),\n",
    "  #\n",
    "  keras.layers.Conv1D(\n",
    "    filters=16, kernel_size=7, padding=\"same\", strides=2, activation=\"relu\"),\n",
    "  #\n",
    "  keras.layers.Conv1DTranspose(\n",
    "    filters=16, kernel_size=7, padding=\"same\", strides=2, activation=\"relu\"),\n",
    "  #\n",
    "  keras.layers.Dropout(rate=0.2),\n",
    "  #\n",
    "  keras.layers.Conv1DTranspose(\n",
    "    filters=32, kernel_size=7, padding=\"same\", strides=2, activation=\"relu\"),\n",
    "  #\n",
    "  keras.layers.Conv1DTranspose(filters=1, kernel_size=7, padding=\"same\"),\n",
    "]"
   ]
  },
  {
   "cell_type": "code",
   "execution_count": 66,
   "metadata": {},
   "outputs": [],
   "source": [
    "# pass in layers var into keras Sequential function\n",
    "# model is an instance of keras.Sequential\n",
    "# ORDER THAT THESE LAYERS ARE LISTED ABOVE IS THE WAY THAT THE NN IS GOING TO BE BUILT UP\n",
    "model = keras.Sequential(layers)"
   ]
  },
  {
   "cell_type": "code",
   "execution_count": 67,
   "metadata": {},
   "outputs": [],
   "source": [
    "# optimiser = Adam - find out what is this\n",
    "# ADAPTIVE STOCASTIC GRADIENT DESCENT\n",
    "# LITERATURE GENERALLY COMPARES ADAM OPTIMISER TO THE STANDARD OPTIMISER\n",
    "optimizer = keras.optimizers.Adam(learning_rate=0.001)"
   ]
  },
  {
   "cell_type": "code",
   "execution_count": 68,
   "metadata": {},
   "outputs": [],
   "source": [
    "# compile the output 'model'\n",
    "# look as mse - find out what is this\n",
    "# SHOULD BE ABLE TO FIGURE THIS ONE OUT\n",
    "# JUST A CALCULATION THATS DONE\n",
    "model.compile(optimizer=optimizer, loss=\"mse\")"
   ]
  },
  {
   "cell_type": "code",
   "execution_count": 69,
   "metadata": {},
   "outputs": [
    {
     "name": "stdout",
     "output_type": "stream",
     "text": [
      "Model: \"sequential\"\n",
      "_________________________________________________________________\n",
      " Layer (type)                Output Shape              Param #   \n",
      "=================================================================\n",
      " conv1d (Conv1D)             (None, 144, 32)           256       \n",
      "                                                                 \n",
      " dropout (Dropout)           (None, 144, 32)           0         \n",
      "                                                                 \n",
      " conv1d_1 (Conv1D)           (None, 72, 16)            3600      \n",
      "                                                                 \n",
      " conv1d_transpose (Conv1DTra  (None, 144, 16)          1808      \n",
      " nspose)                                                         \n",
      "                                                                 \n",
      " dropout_1 (Dropout)         (None, 144, 16)           0         \n",
      "                                                                 \n",
      " conv1d_transpose_1 (Conv1DT  (None, 288, 32)          3616      \n",
      " ranspose)                                                       \n",
      "                                                                 \n",
      " conv1d_transpose_2 (Conv1DT  (None, 288, 1)           225       \n",
      " ranspose)                                                       \n",
      "                                                                 \n",
      "=================================================================\n",
      "Total params: 9,505\n",
      "Trainable params: 9,505\n",
      "Non-trainable params: 0\n",
      "_________________________________________________________________\n"
     ]
    }
   ],
   "source": [
    "# print out a summary\n",
    "model.summary()"
   ]
  },
  {
   "cell_type": "code",
   "execution_count": 70,
   "metadata": {},
   "outputs": [
    {
     "name": "stdout",
     "output_type": "stream",
     "text": [
      "Epoch 1/50\n",
      "27/27 [==============================] - 4s 88ms/step - loss: 0.4622 - val_loss: 0.0933\n",
      "Epoch 2/50\n",
      "27/27 [==============================] - 2s 74ms/step - loss: 0.0760 - val_loss: 0.0416\n",
      "Epoch 3/50\n",
      "27/27 [==============================] - 2s 72ms/step - loss: 0.0575 - val_loss: 0.0383\n",
      "Epoch 4/50\n",
      "27/27 [==============================] - 2s 77ms/step - loss: 0.0494 - val_loss: 0.0328\n",
      "Epoch 5/50\n",
      "27/27 [==============================] - 2s 75ms/step - loss: 0.0430 - val_loss: 0.0305\n",
      "Epoch 6/50\n",
      "27/27 [==============================] - 2s 75ms/step - loss: 0.0385 - val_loss: 0.0302\n",
      "Epoch 7/50\n",
      "27/27 [==============================] - 2s 72ms/step - loss: 0.0354 - val_loss: 0.0280\n",
      "Epoch 8/50\n",
      "27/27 [==============================] - 2s 78ms/step - loss: 0.0327 - val_loss: 0.0278\n",
      "Epoch 9/50\n",
      "27/27 [==============================] - 2s 73ms/step - loss: 0.0305 - val_loss: 0.0291\n",
      "Epoch 10/50\n",
      "27/27 [==============================] - 2s 72ms/step - loss: 0.0287 - val_loss: 0.0266\n",
      "Epoch 11/50\n",
      "27/27 [==============================] - 2s 74ms/step - loss: 0.0272 - val_loss: 0.0276\n",
      "Epoch 12/50\n",
      "27/27 [==============================] - 2s 74ms/step - loss: 0.0259 - val_loss: 0.0249\n",
      "Epoch 13/50\n",
      "27/27 [==============================] - 2s 75ms/step - loss: 0.0247 - val_loss: 0.0251\n",
      "Epoch 14/50\n",
      "27/27 [==============================] - 2s 78ms/step - loss: 0.0236 - val_loss: 0.0250\n",
      "Epoch 15/50\n",
      "27/27 [==============================] - 2s 79ms/step - loss: 0.0226 - val_loss: 0.0245\n",
      "Epoch 16/50\n",
      "27/27 [==============================] - 2s 80ms/step - loss: 0.0217 - val_loss: 0.0215\n",
      "Epoch 17/50\n",
      "27/27 [==============================] - 2s 77ms/step - loss: 0.0208 - val_loss: 0.0228\n",
      "Epoch 18/50\n",
      "27/27 [==============================] - 2s 79ms/step - loss: 0.0198 - val_loss: 0.0230\n",
      "Epoch 19/50\n",
      "27/27 [==============================] - 2s 77ms/step - loss: 0.0191 - val_loss: 0.0201\n",
      "Epoch 20/50\n",
      "27/27 [==============================] - 2s 74ms/step - loss: 0.0183 - val_loss: 0.0182\n",
      "Epoch 21/50\n",
      "27/27 [==============================] - 2s 79ms/step - loss: 0.0174 - val_loss: 0.0178\n",
      "Epoch 22/50\n",
      "27/27 [==============================] - 2s 93ms/step - loss: 0.0166 - val_loss: 0.0165\n",
      "Epoch 23/50\n",
      "27/27 [==============================] - 2s 80ms/step - loss: 0.0160 - val_loss: 0.0155\n",
      "Epoch 24/50\n",
      "27/27 [==============================] - 2s 72ms/step - loss: 0.0154 - val_loss: 0.0142\n",
      "Epoch 25/50\n",
      "27/27 [==============================] - 2s 77ms/step - loss: 0.0148 - val_loss: 0.0135\n",
      "Epoch 26/50\n",
      "27/27 [==============================] - 2s 76ms/step - loss: 0.0142 - val_loss: 0.0126\n",
      "Epoch 27/50\n",
      "27/27 [==============================] - 2s 76ms/step - loss: 0.0137 - val_loss: 0.0129\n",
      "Epoch 28/50\n",
      "27/27 [==============================] - 2s 78ms/step - loss: 0.0133 - val_loss: 0.0118\n",
      "Epoch 29/50\n",
      "27/27 [==============================] - 2s 76ms/step - loss: 0.0129 - val_loss: 0.0112\n",
      "Epoch 30/50\n",
      "27/27 [==============================] - 2s 92ms/step - loss: 0.0124 - val_loss: 0.0115\n",
      "Epoch 31/50\n",
      "27/27 [==============================] - 2s 83ms/step - loss: 0.0120 - val_loss: 0.0106\n",
      "Epoch 32/50\n",
      "27/27 [==============================] - 2s 77ms/step - loss: 0.0115 - val_loss: 0.0102\n",
      "Epoch 33/50\n",
      "27/27 [==============================] - 2s 74ms/step - loss: 0.0112 - val_loss: 0.0088\n",
      "Epoch 34/50\n",
      "27/27 [==============================] - 2s 77ms/step - loss: 0.0108 - val_loss: 0.0089\n",
      "Epoch 35/50\n",
      "27/27 [==============================] - 2s 78ms/step - loss: 0.0104 - val_loss: 0.0092\n",
      "Epoch 36/50\n",
      "27/27 [==============================] - 2s 78ms/step - loss: 0.0100 - val_loss: 0.0086\n",
      "Epoch 37/50\n",
      "27/27 [==============================] - 2s 77ms/step - loss: 0.0097 - val_loss: 0.0077\n",
      "Epoch 38/50\n",
      "27/27 [==============================] - 2s 75ms/step - loss: 0.0094 - val_loss: 0.0070\n",
      "Epoch 39/50\n",
      "27/27 [==============================] - 2s 77ms/step - loss: 0.0091 - val_loss: 0.0070\n",
      "Epoch 40/50\n",
      "27/27 [==============================] - 2s 76ms/step - loss: 0.0088 - val_loss: 0.0069\n",
      "Epoch 41/50\n",
      "27/27 [==============================] - 2s 76ms/step - loss: 0.0085 - val_loss: 0.0068\n",
      "Epoch 42/50\n",
      "27/27 [==============================] - 2s 78ms/step - loss: 0.0082 - val_loss: 0.0065\n",
      "Epoch 43/50\n",
      "27/27 [==============================] - 2s 81ms/step - loss: 0.0081 - val_loss: 0.0063\n",
      "Epoch 44/50\n",
      "27/27 [==============================] - 2s 86ms/step - loss: 0.0078 - val_loss: 0.0063\n",
      "Epoch 45/50\n",
      "27/27 [==============================] - 2s 76ms/step - loss: 0.0077 - val_loss: 0.0057\n",
      "Epoch 46/50\n",
      "27/27 [==============================] - 2s 73ms/step - loss: 0.0075 - val_loss: 0.0060\n",
      "Epoch 47/50\n",
      "27/27 [==============================] - 2s 74ms/step - loss: 0.0073 - val_loss: 0.0058\n",
      "Epoch 48/50\n",
      "27/27 [==============================] - 2s 93ms/step - loss: 0.0072 - val_loss: 0.0057\n",
      "Epoch 49/50\n",
      "27/27 [==============================] - 2s 81ms/step - loss: 0.0070 - val_loss: 0.0055\n",
      "Epoch 50/50\n",
      "27/27 [==============================] - 2s 79ms/step - loss: 0.0069 - val_loss: 0.0054\n"
     ]
    }
   ],
   "source": [
    "# model.fit function\n",
    "# explained here: https://keras.io/api/models/model_training_apis/\n",
    "\n",
    "# training data fed in with both input and output data\n",
    "# df_small_noise should be called 'df_no_anomaly'\n",
    "# training funvtion when run\n",
    "# original stopped after epoch 15\n",
    "\n",
    "# this code stops at epoch 12/50\n",
    "# Why?\n",
    "\n",
    "history = model.fit(\n",
    "    x_train,\n",
    "    x_train,\n",
    "    epochs=50, # USUALLY ENDS AFTER 20. CAN STOP EARLIER IF LOSS ISNT GOING DOWN MUCH\n",
    "    batch_size=128, # HOW MANY WINDOWS ARE OUSHED IN AT ONE TIME TO NN\n",
    "    validation_split=0.1, # ASK IT TO TO DO A LITTLE BIT OF VALIDATION IN  CALLBACKS (10% HELD BACK FOR VALIDATION)\n",
    "    callbacks=[\n",
    "        keras.callbacks.EarlyStopping(monitor=\"val_loss\", patience=5, mode=\"min\")\n",
    "    ],\n",
    ")\n",
    " #INTERESTIGN THING IS XTRAIN IS PASSED INTO MODEL.FIT TWICE -EXPLAIN"
   ]
  },
  {
   "cell_type": "markdown",
   "metadata": {},
   "source": [
    "In case the validation loss had remained significantly more than the training loss at the end of training, but was continously coming down in the last few epochs, it would have been an indication that we need to run our model for more epochs, as the model needed more training.\n",
    "\n",
    "If the validation loss had remained significantly more than the training loss at the end of training, and also become more or less static, then it would have been an indication of \"overfitting\", that is our model works far too well on the training data, it has perfectly captured it, including the noise, but it would work poorly on unseen data. In such a case, it's advised to increase the value in the dropout layer, reduce number of epcohs, increase the batch size, reduce the number of hidden layers, reduce the number of nodes in the hidden layers.\n",
    "\n",
    "https://www.kaggle.com/code/nitinsss/time-series-prediction-with-keras-for-beginners"
   ]
  },
  {
   "cell_type": "markdown",
   "metadata": {},
   "source": [
    "Accuracy calculates the percentage of predicted values (yPred) that match with actual values (yTrue)  \n",
    "For a record, if the predicted value is equal to the actual value, it is considered accurate  \n",
    "We then calculate Accuracy by dividing the number of accurately predicted records by the total number of records."
   ]
  },
  {
   "cell_type": "markdown",
   "metadata": {},
   "source": [
    "What's a loss function?  \n",
    "At its core, a loss function is incredibly simple: It's a method of evaluating how well your algorithm models your dataset.  \n",
    "If your predictions are totally off, your loss function will output a higher number  \n",
    "If they're pretty good, it'll output a lower number.  \n",
    "We use a loss function to determine how far the predicted values deviate from the actual values in the training data  \n",
    "We change the model weights to make the loss minimum.  \n",
    "\n",
    "##### Epochs:  \n",
    "The right number of epochs depends on the inherent complexity of the dataset. \n"
   ]
  },
  {
   "cell_type": "markdown",
   "metadata": {},
   "source": [
    "## Evaluation\n",
    "\n",
    "##### evaluating the model\n",
    "***"
   ]
  },
  {
   "cell_type": "code",
   "execution_count": 71,
   "metadata": {},
   "outputs": [],
   "source": [
    "# look at NAB github repository\n",
    "# READ.me has a list of which model works well with datasets"
   ]
  },
  {
   "cell_type": "code",
   "execution_count": 72,
   "metadata": {},
   "outputs": [
    {
     "data": {
      "text/plain": [
       "[0.4622121751308441,\n",
       " 0.07600800693035126,\n",
       " 0.05754614993929863,\n",
       " 0.04938843101263046,\n",
       " 0.04303135722875595,\n",
       " 0.03854985907673836,\n",
       " 0.035386621952056885,\n",
       " 0.032662685960531235,\n",
       " 0.030488424003124237,\n",
       " 0.028658447787165642,\n",
       " 0.027182063087821007,\n",
       " 0.02585139498114586,\n",
       " 0.02467549778521061,\n",
       " 0.023625221103429794,\n",
       " 0.02263525128364563,\n",
       " 0.021706338971853256,\n",
       " 0.020798467099666595,\n",
       " 0.019845081493258476,\n",
       " 0.019056223332881927,\n",
       " 0.018252938985824585,\n",
       " 0.01736973412334919,\n",
       " 0.016646042466163635,\n",
       " 0.016009042039513588,\n",
       " 0.0153950285166502,\n",
       " 0.01476509403437376,\n",
       " 0.014248929917812347,\n",
       " 0.013706726022064686,\n",
       " 0.013311980292201042,\n",
       " 0.01289675384759903,\n",
       " 0.012382899411022663,\n",
       " 0.011991661973297596,\n",
       " 0.011533769778907299,\n",
       " 0.011183642782270908,\n",
       " 0.010797361843287945,\n",
       " 0.010400744155049324,\n",
       " 0.01001783087849617,\n",
       " 0.00970221497118473,\n",
       " 0.009359221905469894,\n",
       " 0.009057113900780678,\n",
       " 0.008798797614872456,\n",
       " 0.008532734587788582,\n",
       " 0.008234403096139431,\n",
       " 0.008062566630542278,\n",
       " 0.007837986573576927,\n",
       " 0.007665290962904692,\n",
       " 0.007495395839214325,\n",
       " 0.0073255025781691074,\n",
       " 0.007152934093028307,\n",
       " 0.007031912915408611,\n",
       " 0.006899252533912659]"
      ]
     },
     "execution_count": 72,
     "metadata": {},
     "output_type": "execute_result"
    }
   ],
   "source": [
    "# history is the fitted model\n",
    "# training loss [\"loss\"] and validation loss {\"val_loss\"]\n",
    "\n",
    "# keras. history- there is a history dict that returned from model.fit\n",
    "# look it up\n",
    "# output the values\n",
    "# NN KEEPS A HISTORY AS WEVE SEEN BECAUSE WE INCLUDED 'CALLBACKS' ABOVE\n",
    "# IT WILL KEEP A HISTRY OF HOW THE FITTING PROCEDURE WENT\n",
    "# FIGURE OUT WHAT THE 'TRAINING LOSS' AND 'VALIDATION LOSS' MEAN\n",
    "history.history[\"loss\"]"
   ]
  },
  {
   "cell_type": "code",
   "execution_count": 73,
   "metadata": {},
   "outputs": [
    {
     "data": {
      "text/plain": [
       "[0.09329003840684891,\n",
       " 0.04156458377838135,\n",
       " 0.03827853500843048,\n",
       " 0.03277343139052391,\n",
       " 0.030455972999334335,\n",
       " 0.030237140133976936,\n",
       " 0.028028523549437523,\n",
       " 0.027833255007863045,\n",
       " 0.029120633378624916,\n",
       " 0.026583602651953697,\n",
       " 0.02759966067969799,\n",
       " 0.024885552003979683,\n",
       " 0.025050049647688866,\n",
       " 0.024990543723106384,\n",
       " 0.02448987029492855,\n",
       " 0.021492552012205124,\n",
       " 0.022752895951271057,\n",
       " 0.02299332618713379,\n",
       " 0.020072918385267258,\n",
       " 0.01822853833436966,\n",
       " 0.017808901146054268,\n",
       " 0.016461409628391266,\n",
       " 0.015546342357993126,\n",
       " 0.01421311404556036,\n",
       " 0.013485678471624851,\n",
       " 0.012581339105963707,\n",
       " 0.012940085493028164,\n",
       " 0.011789803393185139,\n",
       " 0.01122747827321291,\n",
       " 0.011474021710455418,\n",
       " 0.010604314506053925,\n",
       " 0.010232270695269108,\n",
       " 0.008797578513622284,\n",
       " 0.008866154588758945,\n",
       " 0.009151574224233627,\n",
       " 0.008578989654779434,\n",
       " 0.00767551688477397,\n",
       " 0.00704088993370533,\n",
       " 0.0070032584480941296,\n",
       " 0.006930000148713589,\n",
       " 0.006843152455985546,\n",
       " 0.006547012832015753,\n",
       " 0.006287489086389542,\n",
       " 0.0062851207330822945,\n",
       " 0.005662204697728157,\n",
       " 0.005987515673041344,\n",
       " 0.005839566700160503,\n",
       " 0.00567107368260622,\n",
       " 0.005541726481169462,\n",
       " 0.0054097953252494335]"
      ]
     },
     "execution_count": 73,
     "metadata": {},
     "output_type": "execute_result"
    }
   ],
   "source": [
    "# output the values\n",
    "history.history[\"val_loss\"]"
   ]
  },
  {
   "cell_type": "code",
   "execution_count": 74,
   "metadata": {},
   "outputs": [],
   "source": [
    "# history.history loss is just an array of values\n",
    "# history.val_loss is just an array of values\n",
    "# SHOULD BE EASY TO WORK OUT WHAT THEY MEAN"
   ]
  },
  {
   "cell_type": "code",
   "execution_count": 75,
   "metadata": {},
   "outputs": [
    {
     "data": {
      "image/png": "[encoded data removed]",
      "text/plain": [
       "<Figure size 720x432 with 1 Axes>"
      ]
     },
     "metadata": {
      "needs_background": "light"
     },
     "output_type": "display_data"
    }
   ],
   "source": [
    "# pandas fig -define the size\n",
    "fig, ax = plt.subplots(figsize=(10, 6))\n",
    "# plot values of history.history[\"loss\"]\n",
    "ax.plot(history.history[\"loss\"], label=\"Training Loss\")\n",
    "# plot values of history.history[\"val_loss\"]\n",
    "ax.plot(history.history[\"val_loss\"], label=\"Validation Loss\")\n",
    "# \n",
    "ax.legend();"
   ]
  },
  {
   "cell_type": "code",
   "execution_count": 76,
   "metadata": {},
   "outputs": [],
   "source": [
    "# original code from url:\n",
    "# x_train_pred = model.predict(x_train)\n",
    "# train_mae_loss = np.mean(np.abs(x_train_pred - x_train), axis=1)\n",
    "# plotting code\n",
    "\n",
    "# clearer to sepearte it out as below"
   ]
  },
  {
   "cell_type": "code",
   "execution_count": 77,
   "metadata": {},
   "outputs": [
    {
     "name": "stdout",
     "output_type": "stream",
     "text": [
      "118/118 [==============================] - 1s 7ms/step\n"
     ]
    }
   ],
   "source": [
    "# Get train MAE loss.\n",
    " #ASK IT TO DO A FEW PREDICTIONS\n",
    "\n",
    "# what doing: get the mode that s trained to predict the vaslues out of the training set\n",
    "# looking for anomalies\n",
    "x_train_pred = model.predict(x_train)"
   ]
  },
  {
   "cell_type": "code",
   "execution_count": 78,
   "metadata": {},
   "outputs": [],
   "source": [
    "# Calculate loss...\n",
    "# standard way to see how accurate you are\n",
    "# take the predicted values- take absolute value. \n",
    "# THEN PLOT TRAINING MAE LOSS VS # SAMPLES - FIGURE OUT WHAT THESE MEAN 9DIFFERENCE BETWEEN TRAINIGN LOSS AND VALIDATION LOSS)\n",
    "# THEN IT SHOULD BECOME CLEAR WHATS BEING PLOTTED BELOW\n",
    "# Plot\n",
    "train_mae_loss = np.mean(np.abs(x_train_pred - x_train), axis=1)"
   ]
  },
  {
   "cell_type": "code",
   "execution_count": 79,
   "metadata": {},
   "outputs": [
    {
     "data": {
      "image/png": "[encoded data removed]",
      "text/plain": [
       "<Figure size 720x432 with 1 Axes>"
      ]
     },
     "metadata": {
      "needs_background": "light"
     },
     "output_type": "display_data"
    }
   ],
   "source": [
    "# Pandas fig size\n",
    "fig, ax = plt.subplots(figsize=(10, 6))\n",
    "# create a histogram\n",
    "ax.hist(train_mae_loss, bins=50)\n",
    "# add x label\n",
    "ax.set_xlabel(\"Train MAE loss\")\n",
    "#add y label\n",
    "ax.set_ylabel(\"No of samples\");\n",
    "\n",
    "# no requirement for plt(show) in jupyter"
   ]
  },
  {
   "cell_type": "code",
   "execution_count": 80,
   "metadata": {},
   "outputs": [
    {
     "data": {
      "text/plain": [
       "0.06821113347045915"
      ]
     },
     "execution_count": 80,
     "metadata": {},
     "output_type": "execute_result"
    }
   ],
   "source": [
    "# Get reconstruction loss threshold.\n",
    "# declare threshold\n",
    "threshold = np.max(train_mae_loss)\n",
    "\n",
    "# print out the threshold\n",
    "threshold"
   ]
  },
  {
   "cell_type": "code",
   "execution_count": 81,
   "metadata": {},
   "outputs": [
    {
     "data": {
      "image/png": "[encoded data removed]",
      "text/plain": [
       "<Figure size 720x432 with 1 Axes>"
      ]
     },
     "metadata": {
      "needs_background": "light"
     },
     "output_type": "display_data"
    }
   ],
   "source": [
    "# BASICALLY THEY PLOT THE TRAINING SET AGAINST WHAT THE NN IS PREDICTING (BASED ON THE TRAINING INPUT) WHAT THE NN PREDICTS WHAT IT SHOULD BE\n",
    "# NN IS RECEIVING TRAINING SET AS INPUT AND AN OUTPUT\n",
    "# TRYING TO TRAIN ITSELF FOR THIS INPUT GIVE THE SAME THING AS OUTPUT\n",
    "# WHEN ANOMALLY THE DIFF IS SIGNIFICANT\n",
    "# THERE MUST BE AN ANOMALLY FOR THIS DATA\n",
    "# Pandas fig size\n",
    "fig, ax = plt.subplots(figsize=(10, 6))\n",
    "\n",
    "# define x axis\n",
    "ax.plot(x_train[0])\n",
    "\n",
    "# define y axis\n",
    "ax.plot(x_train_pred[0]);\n",
    "\n",
    "# when training on the window things get smoothed out"
   ]
  },
  {
   "cell_type": "code",
   "execution_count": 82,
   "metadata": {},
   "outputs": [],
   "source": [
    "# subtract the training mean and training stdev from the values\n",
    "\n",
    "# train_mean and train_std as defined above\n",
    "#  new dataset = df_daily_jumpsup\n",
    "# apply anything from training set to new dataset hence same operation\n",
    "# get final dataset we can plot 'df_test_value'\n",
    "df_test_value = (df_daily_jumpsup - train_mean) / train_std"
   ]
  },
  {
   "cell_type": "code",
   "execution_count": 83,
   "metadata": {},
   "outputs": [
    {
     "data": {
      "image/png": "[encoded data removed]",
      "text/plain": [
       "<Figure size 720x432 with 1 Axes>"
      ]
     },
     "metadata": {
      "needs_background": "light"
     },
     "output_type": "display_data"
    }
   ],
   "source": [
    "# define pandas fig size\n",
    "fig, ax = plt.subplots(figsize=(10, 6))\n",
    "\n",
    "#  plot df_test_value values\n",
    "df_test_value.plot(legend=False, ax=ax);"
   ]
  },
  {
   "cell_type": "code",
   "execution_count": 84,
   "metadata": {},
   "outputs": [
    {
     "data": {
      "text/plain": [
       "(3745, 288, 1)"
      ]
     },
     "execution_count": 84,
     "metadata": {},
     "output_type": "execute_result"
    }
   ],
   "source": [
    "# Create sequences from test values.\n",
    "# same as above rearrange the data frame \n",
    "# window size = 288\n",
    "x_test = windows(df_test_value.values)\n",
    "# check the x shape as output\n",
    "x_test.shape"
   ]
  },
  {
   "cell_type": "code",
   "execution_count": 85,
   "metadata": {},
   "outputs": [
    {
     "name": "stdout",
     "output_type": "stream",
     "text": [
      "118/118 [==============================] - 1s 7ms/step\n"
     ]
    }
   ],
   "source": [
    "# feed the dataset into the keras.Sequential model\n",
    "x_test_pred = model.predict(x_test)"
   ]
  },
  {
   "cell_type": "code",
   "execution_count": 86,
   "metadata": {},
   "outputs": [
    {
     "data": {
      "text/plain": [
       "array([[0.05267017],\n",
       "       [0.05077617],\n",
       "       [0.05320183],\n",
       "       ...,\n",
       "       [0.05254261],\n",
       "       [0.05469228],\n",
       "       [0.05325327]])"
      ]
     },
     "execution_count": 86,
     "metadata": {},
     "output_type": "execute_result"
    }
   ],
   "source": [
    "# \n",
    "test_mae_loss = np.mean(np.abs(x_test_pred - x_test), axis=1)\n",
    "\n",
    "test_mae_loss"
   ]
  },
  {
   "cell_type": "code",
   "execution_count": 87,
   "metadata": {},
   "outputs": [
    {
     "data": {
      "text/plain": [
       "array([0.05267017, 0.05077617, 0.05320183, ..., 0.05254261, 0.05469228,\n",
       "       0.05325327])"
      ]
     },
     "execution_count": 87,
     "metadata": {},
     "output_type": "execute_result"
    }
   ],
   "source": [
    "# \n",
    "test_mae_loss = test_mae_loss.reshape((-1))\n",
    "\n",
    "test_mae_loss"
   ]
  },
  {
   "cell_type": "code",
   "execution_count": 88,
   "metadata": {},
   "outputs": [
    {
     "data": {
      "image/png": "[encoded data removed]",
      "text/plain": [
       "<Figure size 720x432 with 1 Axes>"
      ]
     },
     "metadata": {
      "needs_background": "light"
     },
     "output_type": "display_data"
    }
   ],
   "source": [
    "#SEGREGATE THE ANOMALLY\n",
    "\n",
    "# define pandas fig size (histogram)\n",
    "fig, ax = plt.subplots(figsize=(10, 6))\n",
    "\n",
    "# plot the histogram\n",
    "ax.hist(test_mae_loss, bins=50)\n",
    "\n",
    "# set x label\n",
    "ax.set_xlabel(\"test MAE loss\")\n",
    "\n",
    "# set y label\n",
    "ax.set_ylabel(\"No of samples\");"
   ]
  },
  {
   "cell_type": "code",
   "execution_count": 89,
   "metadata": {},
   "outputs": [
    {
     "data": {
      "text/plain": [
       "401"
      ]
     },
     "execution_count": 89,
     "metadata": {},
     "output_type": "execute_result"
    }
   ],
   "source": [
    "# Detect all the samples which are anomalies.\n",
    "anomalies = test_mae_loss > threshold\n",
    "\n",
    "# Number of anomalies.\n",
    "np.sum(anomalies)"
   ]
  },
  {
   "cell_type": "code",
   "execution_count": 90,
   "metadata": {},
   "outputs": [
    {
     "data": {
      "text/plain": [
       "(array([ 790,  793, 1942, 2521, 2522, 2701, 2702, 2703, 2704, 2705, 2706,\n",
       "        2707, 2708, 2709, 2710, 2711, 2712, 2713, 2714, 2715, 2716, 2717,\n",
       "        2718, 2719, 2720, 2721, 2722, 2723, 2724, 2725, 2726, 2727, 2728,\n",
       "        2729, 2730, 2731, 2732, 2733, 2734, 2735, 2736, 2737, 2738, 2739,\n",
       "        2740, 2741, 2742, 2743, 2744, 2745, 2746, 2747, 2748, 2749, 2750,\n",
       "        2751, 2752, 2753, 2754, 2755, 2756, 2757, 2758, 2759, 2760, 2761,\n",
       "        2762, 2763, 2764, 2765, 2766, 2767, 2768, 2769, 2770, 2771, 2772,\n",
       "        2773, 2774, 2775, 2776, 2777, 2778, 2779, 2780, 2781, 2782, 2783,\n",
       "        2784, 2785, 2786, 2787, 2788, 2789, 2790, 2791, 2792, 2793, 2794,\n",
       "        2795, 2796, 2797, 2798, 2799, 2800, 2801, 2802, 2803, 2804, 2805,\n",
       "        2806, 2807, 2808, 2809, 2810, 2811, 2812, 2813, 2814, 2815, 2816,\n",
       "        2817, 2818, 2819, 2820, 2821, 2822, 2823, 2824, 2825, 2826, 2827,\n",
       "        2828, 2829, 2830, 2831, 2832, 2833, 2834, 2835, 2836, 2837, 2838,\n",
       "        2839, 2840, 2841, 2842, 2843, 2844, 2845, 2846, 2847, 2848, 2849,\n",
       "        2850, 2851, 2852, 2853, 2854, 2855, 2856, 2857, 2858, 2859, 2860,\n",
       "        2861, 2862, 2863, 2864, 2865, 2866, 2867, 2868, 2869, 2870, 2871,\n",
       "        2872, 2873, 2874, 2875, 2876, 2877, 2878, 2879, 2880, 2881, 2882,\n",
       "        2883, 2884, 2885, 2886, 2887, 2888, 2889, 2890, 2891, 2892, 2893,\n",
       "        2894, 2895, 2896, 2897, 2898, 2899, 2900, 2901, 2902, 2903, 2904,\n",
       "        2905, 2906, 2907, 2908, 2909, 2910, 2911, 2912, 2913, 2914, 2915,\n",
       "        2916, 2917, 2918, 2919, 2920, 2921, 2922, 2923, 2924, 2925, 2926,\n",
       "        2927, 2928, 2929, 2930, 2931, 2932, 2933, 2934, 2935, 2936, 2937,\n",
       "        2938, 2939, 2940, 2941, 2942, 2943, 2944, 2945, 2946, 2947, 2948,\n",
       "        2949, 2950, 2951, 2952, 2953, 2954, 2955, 2956, 2957, 2958, 2959,\n",
       "        2960, 2961, 2962, 2963, 2964, 2965, 2966, 2967, 2968, 2969, 2970,\n",
       "        2971, 2972, 2973, 2974, 2975, 2976, 2977, 2978, 2979, 2980, 2981,\n",
       "        2982, 2983, 2984, 2985, 2986, 2987, 2988, 2989, 2990, 2991, 2992,\n",
       "        2993, 2994, 2995, 2996, 2997, 2998, 2999, 3000, 3001, 3002, 3003,\n",
       "        3004, 3005, 3006, 3007, 3008, 3009, 3010, 3011, 3012, 3013, 3014,\n",
       "        3015, 3016, 3017, 3018, 3019, 3020, 3021, 3022, 3023, 3024, 3025,\n",
       "        3026, 3027, 3028, 3029, 3030, 3031, 3032, 3033, 3034, 3035, 3036,\n",
       "        3037, 3038, 3039, 3040, 3041, 3042, 3043, 3044, 3045, 3046, 3047,\n",
       "        3048, 3049, 3050, 3051, 3052, 3053, 3054, 3055, 3056, 3057, 3058,\n",
       "        3059, 3060, 3061, 3062, 3063, 3064, 3065, 3066, 3067, 3068, 3069,\n",
       "        3070, 3071, 3072, 3073, 3074, 3075, 3076, 3077, 3078, 3079, 3080,\n",
       "        3081, 3082, 3083, 3084, 3085, 3086, 3087, 3088, 3089, 3090, 3091,\n",
       "        3092, 3093, 3094, 3095, 3097], dtype=int64),)"
      ]
     },
     "execution_count": 90,
     "metadata": {},
     "output_type": "execute_result"
    }
   ],
   "source": [
    "# Indices of anomalies\n",
    "# DONT BOTHER DOING THIS\n",
    "np.where(anomalies)"
   ]
  },
  {
   "cell_type": "code",
   "execution_count": 91,
   "metadata": {},
   "outputs": [],
   "source": [
    "#original code from url\n",
    "# data i is an anomaly if samples [(i - timesteps + 1) to (i)] are anomalies\n",
    "#anomalous_data_indices =[]\n",
    "#for data_idx in range(TIME_STEPS-1, len(df_test_value) - TIME_STEPS +1):\n",
    "    #if np.all(anomalies[data_idx -TIME_STEPS +1 : data_idx]):\n",
    "        #anomalous_data_indices.append(data_idx)"
   ]
  },
  {
   "cell_type": "code",
   "execution_count": 92,
   "metadata": {},
   "outputs": [],
   "source": [
    "# simplified\n",
    "# data i is an anomaly if samples [(i - timesteps + 1) to (i)] are anomalies\n",
    "inds = []\n",
    "\n",
    "for i in range(window_size - 1, len(df_test_value) - window_size + 1):\n",
    "    if np.all(anomalies[i - window_size + 1 : i]):\n",
    "        inds.append(i)"
   ]
  },
  {
   "cell_type": "code",
   "execution_count": 93,
   "metadata": {},
   "outputs": [
    {
     "data": {
      "text/plain": [
       "[2988,\n",
       " 2989,\n",
       " 2990,\n",
       " 2991,\n",
       " 2992,\n",
       " 2993,\n",
       " 2994,\n",
       " 2995,\n",
       " 2996,\n",
       " 2997,\n",
       " 2998,\n",
       " 2999,\n",
       " 3000,\n",
       " 3001,\n",
       " 3002,\n",
       " 3003,\n",
       " 3004,\n",
       " 3005,\n",
       " 3006,\n",
       " 3007,\n",
       " 3008,\n",
       " 3009,\n",
       " 3010,\n",
       " 3011,\n",
       " 3012,\n",
       " 3013,\n",
       " 3014,\n",
       " 3015,\n",
       " 3016,\n",
       " 3017,\n",
       " 3018,\n",
       " 3019,\n",
       " 3020,\n",
       " 3021,\n",
       " 3022,\n",
       " 3023,\n",
       " 3024,\n",
       " 3025,\n",
       " 3026,\n",
       " 3027,\n",
       " 3028,\n",
       " 3029,\n",
       " 3030,\n",
       " 3031,\n",
       " 3032,\n",
       " 3033,\n",
       " 3034,\n",
       " 3035,\n",
       " 3036,\n",
       " 3037,\n",
       " 3038,\n",
       " 3039,\n",
       " 3040,\n",
       " 3041,\n",
       " 3042,\n",
       " 3043,\n",
       " 3044,\n",
       " 3045,\n",
       " 3046,\n",
       " 3047,\n",
       " 3048,\n",
       " 3049,\n",
       " 3050,\n",
       " 3051,\n",
       " 3052,\n",
       " 3053,\n",
       " 3054,\n",
       " 3055,\n",
       " 3056,\n",
       " 3057,\n",
       " 3058,\n",
       " 3059,\n",
       " 3060,\n",
       " 3061,\n",
       " 3062,\n",
       " 3063,\n",
       " 3064,\n",
       " 3065,\n",
       " 3066,\n",
       " 3067,\n",
       " 3068,\n",
       " 3069,\n",
       " 3070,\n",
       " 3071,\n",
       " 3072,\n",
       " 3073,\n",
       " 3074,\n",
       " 3075,\n",
       " 3076,\n",
       " 3077,\n",
       " 3078,\n",
       " 3079,\n",
       " 3080,\n",
       " 3081,\n",
       " 3082,\n",
       " 3083,\n",
       " 3084,\n",
       " 3085,\n",
       " 3086,\n",
       " 3087,\n",
       " 3088,\n",
       " 3089,\n",
       " 3090,\n",
       " 3091,\n",
       " 3092,\n",
       " 3093,\n",
       " 3094,\n",
       " 3095,\n",
       " 3096]"
      ]
     },
     "execution_count": 93,
     "metadata": {},
     "output_type": "execute_result"
    }
   ],
   "source": [
    "inds"
   ]
  },
  {
   "cell_type": "code",
   "execution_count": 94,
   "metadata": {},
   "outputs": [],
   "source": [
    "# gest the subset of df_subset where anomaliess\n",
    "df_subset = df_daily_jumpsup.iloc[inds]"
   ]
  },
  {
   "cell_type": "code",
   "execution_count": 95,
   "metadata": {},
   "outputs": [
    {
     "data": {
      "image/png": "[encoded data removed]",
      "text/plain": [
       "<Figure size 720x432 with 1 Axes>"
      ]
     },
     "metadata": {
      "needs_background": "light"
     },
     "output_type": "display_data"
    }
   ],
   "source": [
    "# WHATS PREDICTED OUT OF THIS WITH THIS ANOMALLY  FOR NN IS V DIFFERENT TO WHATS SEEN\n",
    " #NICE LITTLE PLOT THAT COULD BE \n",
    "# define pandas plot size\n",
    "fig, ax = plt.subplots(figsize=(10, 6))\n",
    "\n",
    "# plot the original dataset in blue\n",
    "df_daily_jumpsup.plot(legend=False, ax=ax)\n",
    "\n",
    "# plot anomalies over the original plot in red\n",
    "df_subset.plot(legend=False, ax=ax, color=\"r\");"
   ]
  },
  {
   "cell_type": "code",
   "execution_count": 96,
   "metadata": {},
   "outputs": [],
   "source": [
    "# SHOULD HAVE A GOOD GROUNDING OF THE DATASET UNDER THE HOOD\n",
    "# HERES WHATS HAPPENING -WINDOW ACROSS\n",
    "# NN THAT TAKES IN WINDOW/WINDOES AS INPUT\n",
    "# NN TAKES INPUT/OUTPUT AT SAME TIME\n",
    "# WHEN ANOMALLY IT WILL FIND  THAT SIGNAL GOES TOO HIGH\n",
    "# ABLE TO DETECT AN ANONMALLY IN THE SIGNAL\n",
    "\n",
    "# TRICKY ENOUGH ASSESSMENT\n",
    "# PULL THIS APART A BIT \n",
    "# SEE WHAT THE \n",
    "\n",
    "# EXPLAIN THIS SOMEHOW\n",
    "# KNOW WHAT A DF IS \n",
    "#LOOK AT THE DATA - 2 DATA SETS\n",
    "# SEE WHATS HAPPENING TO THOSE NUMBERS - DESPITE ADAM/VALIDATION LOSS\n",
    "# ASK Q IN FORUM \n",
    "# SEND SAMPLE WHAT YOU TRIED -PRESENT A SNIPPET OF WORK\n",
    "\n",
    "# AT VERY LEAST EVEN PUT EXPLANATIONS ON WHAT THE DATASET IS, WHER IT CAME FROM, WINDOWS, TECHHIE STUFF\n",
    "\n",
    "# JUST HAVE TO DO WHAT YOU CAN DO\n",
    "\n",
    "# PLENTY OF MARKS FROM THE EXERCISES\n"
   ]
  },
  {
   "cell_type": "markdown",
   "metadata": {},
   "source": [
    "#### References:  \n",
    "\n",
    "1. Numenta Anomaly Benchmark <https://github.com/numenta/NAB>\n",
    "2. Time Series Anomaly Detection <https://keras.io/examples/timeseries/timeseries_anomaly_detection/>\n",
    "3. Evaluating Real-time Anomaly Detection Algorithms - the Numenta Anomaly Benchmark https://doi.org/10.48550/arXiv.1510.03336\n",
    "4. Anomaly detection https://www.anodot.com/blog/what-is-anomaly-detection  \n",
    "5. Detecting anomalies using autoencoder  https://www.kaggle.com/code/ohseokkim/dectecting-anomaly-using-autoencoder\n",
    "6. Keras <https://keras.io/>\n",
    "7. Training and Loss <https://developers.google.com/machine-learning/crash-course/descending-into-ml/training-and-loss>  \n",
    "8.  ML Training <https://developers.google.com/machine-learning>\n",
    "9. Cross-entropy & loss functions <https://ml-cheatsheet.readthedocs.io/en/latest/loss_functions.html#cross-entropy>\n",
    "10. Loss-funvtion in Tensorflow <https://medium.datadriveninvestor.com/loss-function-in-tensorflow-b7eb1215ef78>"
   ]
  },
  {
   "cell_type": "markdown",
   "metadata": {},
   "source": [
    "#### Additional References\n",
    "\n",
    "https://towardsdatascience.com/a-comprehensive-guide-to-convolutional-neural-networks-the-eli5-way-3bd2b1164a53  \n",
    "Synopsis:\n",
    "Artificial Intelligence has been witnessing monumental growth in bridging the gap between the capabilities of humans and machines. Researchers and enthusiasts alike, work on numerous aspects of the field to make amazing things happen. One of many such areas is the domain of Computer Vision.\n",
    "\n",
    "The element involved in the convolution operation in the first part of a Convolutional Layer is called the Kernel/Filter, K.  \n",
    "The Kernel shifts 9 times because of Stride Length = 1 (Non-Strided), every time performing an elementwise multiplication operation (Hadamard Product) between K and the portion P of the image over which the kernel is hovering.  The filter moves to the right with a certain Stride Value till it parses the complete width.  \n",
    "\n",
    "The flattened output is fed to a feed-forward neural network and backpropagation is applied to every iteration of training\n",
    "\n",
    "Over a series of epochs, the model is able to distinguish between dominant and low-level signal and classify them using the Softmax Classification technique.\n",
    "\n",
    "https://machinelearningmastery.com/convolutional-layers-for-deep-learning-neural-networks/\n",
    "\n",
    "Synopsis:  \n",
    "Convolutional layers are the major building blocks used in convolutional neural networks.  \n",
    "\n",
    "The convolutional neural network, or CNN for short, is a specialized type of neural network model designed for working with two-dimensional image data, although they can be used with one-dimensional and three-dimensional data.  \n",
    "Central to the convolutional neural network is the convolutional layer that gives the network its name. This layer performs an operation called a *convolution*.\n",
    "A convolution is a linear operation that involves the multiplication of a set of weights with the input, much like a traditional neural network. The multiplication is performed between an array of input data and a two-dimensional array of weights, called a filter or a kernel.  \n",
    "The Keras deep learning library provides a suite of convolutional layers.  \n",
    "Example of 1D Convolutional Layer  \n",
    "\n",
    "We can define a one-dimensional input that has eight elements all with the value of 0.0, with a two element bump in the middle with the values 1.0. e.g. [0, 0, 0, 1, 1, 0, 0, 0] .\n",
    "\n",
    "The first dimension refers to each input sample; in this case, we only have one sample  \n",
    "The second dimension refers to the length of each sample; in this case, the length is eight  \n",
    "The third dimension refers to the number of channels in each sample; in this case, we only have a single channel.  \n",
    "Therefore, the shape of the input array will be [1, 8, 1].\n",
    "\n",
    "\n",
    "https://machinelearningmastery.com/crash-course-convolutional-neural-networks/  \n",
    "\n",
    "https://keras.io/api/layers/convolution_layers/  \n",
    "\n",
    "https://ikhlestov.github.io/pages/machine-learning/convolutions-types/\n",
    "\n",
    "\n",
    "Synopsis:  \n",
    "\n",
    "### Different types of Convolution Layers\n",
    "\n",
    "- Simple Convolution.\n",
    "- 1x1 Convolutions.\n",
    "- Flattened Convolutions.\n",
    "- Spatial and Cross-Channel convolutions.\n",
    "- Depthwise Separable Convolutions.\n",
    "- Grouped Convolutions.\n",
    "- Shuffled Grouped Convolutions.\n",
    "\n",
    "\n",
    "https://towardsdatascience.com/a-comprehensive-introduction-to-different-types-of-convolutions-in-deep-learning-669281e58215\n",
    "\n",
    "\n",
    "### Understanding ID and 3D Convolution  \n",
    "Synopsis:\n",
    "\n",
    "https://towardsdatascience.com/understanding-1d-and-3d-convolution-neural-network-keras-9d8f76e29610\n",
    "\n",
    "### Understanding ID and 3D Convolution  \n",
    "Synopsis:\n",
    "\n",
    "When we say Convolution Neural Network (CNN), generally we refer to a 2 dimensional CNN 'Conv2D' which is used for image classification. But there are two other types of Convolution Neural Networks used in the real world, which are 1 dimensional and 3-dimensional CNNs.    \n",
    "\n",
    "Conv2D is generally used on Image data. It is called 2 dimensional CNN because the kernel slides along 2 dimensions on the data.  \n",
    "The whole advantage of using CNN is that it can extract the spatial features from the data using its kernel, which other networks are unable to do. For example, CNN can detect edges, distribution of colours etc in the image which makes these networks very robust in image classification and other similar data which contain spatial properties.  \n",
    "\n",
    "On the other hand In Conv1D, kernel slides along one dimension.  Time-Series data has spatial properties thus is perfectly suited to use kernel sliding in only one dimension.  The kernel can only move in one dimension along the x axis which in the case of out data is time. \n",
    "\n",
    "In 1D CNN, kernel moves in 1 direction. Input and output data of 1D CNN is 2 dimensional. Mostly used on Time-Series data.\n",
    "\n",
    "'''\n",
    "import keras\n",
    "from keras.layers import Conv1D\n",
    "model = keras.models.Sequential()\n",
    "model.add(Conv1D(1, kernel_size=5, input_shape = (120, 3)))  \n",
    "\n",
    "Argument input_shape (120, 3), represents 120 time-steps with 3 data points in each time step.  Argument kernel_size is 5, representing the width of the kernel. \n",
    "Argument kernel_size is 5, representing the width of the kernel.\n",
    "\n",
    "\n",
    "\n",
    "model.summary()'''\n"
   ]
  },
  {
   "cell_type": "markdown",
   "metadata": {},
   "source": [
    "***\n",
    "\n",
    "## End"
   ]
  }
 ],
 "metadata": {
  "kernelspec": {
   "display_name": "Python 3",
   "language": "python",
   "name": "python3"
  },
  "language_info": {
   "codemirror_mode": {
    "name": "ipython",
    "version": 3
   },
   "file_extension": ".py",
   "mimetype": "text/x-python",
   "name": "python",
   "nbconvert_exporter": "python",
   "pygments_lexer": "ipython3",
   "version": "3.8.8"
  }
 },
 "nbformat": 4,
 "nbformat_minor": 4
}
