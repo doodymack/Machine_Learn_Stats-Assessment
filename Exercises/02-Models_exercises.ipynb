{
 "cells": [
  {
   "cell_type": "markdown",
   "id": "8b7c41ec-1d06-4a69-a08e-4d689782fb1e",
   "metadata": {},
   "source": [
    "##  Models Exercises \n",
    "---"
   ]
  },
  {
   "cell_type": "code",
   "execution_count": 1,
   "id": "9cd9174f-0ad7-44ab-82d9-b22a58fdea63",
   "metadata": {},
   "outputs": [],
   "source": [
    "import numpy as np\n",
    "import matplotlib.pyplot as plt"
   ]
  },
  {
   "cell_type": "markdown",
   "id": "0ec6c7f1-a1f1-45a8-9642-0655df0c2b88",
   "metadata": {},
   "source": [
    "### Exercise 1"
   ]
  },
  {
   "cell_type": "markdown",
   "id": "7927d5f1-925d-4a64-9d5f-15088074deff",
   "metadata": {},
   "source": [
    "##### Use numpy and matplotlib to plot the absolute value function.\n",
    "##### Research and explain why the absolute value function is not typically used in fitting straight lines to data.\n",
    "\n"
   ]
  },
  {
   "cell_type": "markdown",
   "id": "09e3a94f-7040-4f0f-b146-47fe68fd7652",
   "metadata": {},
   "source": [
    "##### Usage of NumPy absolute() Function\n",
    "This mathematical Python NumPy in-built function absolute() takes the input array as param and returns the absolute value of each element in the input array. An absolute value is a positive value of a given negative value, so it just removes the negative sign from the input value. For positive value, it just returns the same value."
   ]
  },
  {
   "cell_type": "markdown",
   "id": "8d4736a6-0159-4c4d-91dd-b19ca5a4b39d",
   "metadata": {},
   "source": [
    "##### Polyfit and Polyval  \n",
    "Polyfit is a Matlab function that computes a least squares polynomial for a given set of data.  \n",
    "Polyfit generates the coefficients of the polynomial, which can be used to model a curve to fit the data.  \n",
    "Polyval evaluates a polynomial for a given set of x values.  \n",
    "Polyval generates a curve to fit the data based on the coefficients found using polyfit."
   ]
  },
  {
   "cell_type": "markdown",
   "id": "1db50eb7-44df-45a5-a070-7fe72e04584d",
   "metadata": {},
   "source": [
    "-  Numpy.Polyfit returns the coefficients of your polynomial\n",
    "-  Polyfit will only return an equation that goes through all the points (say you have N) if the degree of the polynomial is at least N-1.\n",
    "-  Otherwise, it will return a best fit that minimises the squared error"
   ]
  },
  {
   "cell_type": "markdown",
   "id": "04cfda96-d359-4b7c-a73e-a02da70697c3",
   "metadata": {},
   "source": [
    "https://numpy.org/doc/stable/reference/generated/numpy.absolute.html"
   ]
  },
  {
   "cell_type": "markdown",
   "id": "86d3b89d-4003-47a4-9f4d-09ae80b2241e",
   "metadata": {},
   "source": [
    "https://sparkbyexamples.com/numpy/numpy-absolute-value/"
   ]
  },
  {
   "cell_type": "code",
   "execution_count": 2,
   "id": "49c2a7cf-722c-43a2-8a7a-b6b7fe744a2a",
   "metadata": {},
   "outputs": [],
   "source": [
    "# np.abs is a shorthand for this function"
   ]
  },
  {
   "cell_type": "code",
   "execution_count": 3,
   "id": "72787678-4f53-4a2d-8106-a61c7f7f4d95",
   "metadata": {},
   "outputs": [
    {
     "data": {
      "text/plain": [
       "array([1.2, 1.2])"
      ]
     },
     "execution_count": 3,
     "metadata": {},
     "output_type": "execute_result"
    }
   ],
   "source": [
    "x = np.array([-1.2, 1.2])\n",
    "np.absolute(x)\n",
    "#shorthand: abs(x)"
   ]
  },
  {
   "cell_type": "code",
   "execution_count": 4,
   "id": "ee4b82d3-5083-4e7b-bfd0-c8c8bf69cc24",
   "metadata": {},
   "outputs": [
    {
     "data": {
      "text/plain": [
       "array([-15., -14., -13., -12., -11., -10.,  -9.,  -8.,  -7.,  -6.,  -5.,\n",
       "        -4.,  -3.,  -2.,  -1.,   0.,   1.,   2.,   3.,   4.,   5.])"
      ]
     },
     "execution_count": 4,
     "metadata": {},
     "output_type": "execute_result"
    }
   ],
   "source": [
    "# A range of x values.\n",
    "x = np.linspace(-15.0, +5.0, 21)\n",
    "x"
   ]
  },
  {
   "cell_type": "markdown",
   "id": "2021752f-0896-49eb-a3dc-301bf7627c22",
   "metadata": {},
   "source": [
    "#### Create a range of x & y values and fit line (using polyfit)  \n",
    "x arr has both negative and positive values"
   ]
  },
  {
   "cell_type": "code",
   "execution_count": 5,
   "id": "4493152f-8484-4e1f-a979-b0bcea4572a6",
   "metadata": {},
   "outputs": [
    {
     "data": {
      "text/plain": [
       "array([-46.73682446, -45.69538307, -40.86329673, -35.82620747,\n",
       "       -32.80727596, -31.55842185, -28.49515107, -26.10044392,\n",
       "       -23.48187212, -20.33976038, -18.59300411, -11.22331377,\n",
       "       -11.64677095,  -7.48212074,  -4.38968543,  -1.30720121,\n",
       "         0.68747624,   5.2894815 ,   7.02699359,  10.1528017 ,\n",
       "        13.17519445])"
      ]
     },
     "execution_count": 5,
     "metadata": {},
     "output_type": "execute_result"
    }
   ],
   "source": [
    "# A range of y values based on x.\n",
    "y = 3.0 * x - 2.0 + np.random.normal(0.0, 1.0, len(x))\n",
    "y"
   ]
  },
  {
   "cell_type": "code",
   "execution_count": 6,
   "id": "98022934-d97f-4d9a-9af5-71cf8318df1b",
   "metadata": {},
   "outputs": [
    {
     "data": {
      "image/png": "[encoded data removed]",
      "text/plain": [
       "<Figure size 864x432 with 1 Axes>"
      ]
     },
     "metadata": {
      "needs_background": "light"
     },
     "output_type": "display_data"
    }
   ],
   "source": [
    "# Create a plot.\n",
    "fig, ax = plt.subplots(figsize=(12,6))\n",
    "\n",
    "# Plot x vs y.\n",
    "ax.plot(x, y, 'k.');"
   ]
  },
  {
   "cell_type": "code",
   "execution_count": 7,
   "id": "ae02ed5b-af41-4747-9478-10ff7d0daecb",
   "metadata": {},
   "outputs": [
    {
     "data": {
      "text/plain": [
       "array([ 2.99996636, -1.67706277])"
      ]
     },
     "execution_count": 7,
     "metadata": {},
     "output_type": "execute_result"
    }
   ],
   "source": [
    "# Use x and y to try to find the original parameters.\n",
    "params = np.polyfit(x, y, 1)\n",
    "params"
   ]
  },
  {
   "cell_type": "markdown",
   "id": "d9c858bc-c938-4aa5-bc7d-d70df3c6f851",
   "metadata": {},
   "source": [
    "##### numpy polyfit function returns the coefficients of slope of line = 3.07 and a NEGATIVE intercept of -1.6"
   ]
  },
  {
   "cell_type": "code",
   "execution_count": 8,
   "id": "5fcbebd1-5069-439e-816e-956dcdb6996c",
   "metadata": {},
   "outputs": [
    {
     "data": {
      "image/png": "[encoded data removed]",
      "text/plain": [
       "<Figure size 864x432 with 1 Axes>"
      ]
     },
     "metadata": {
      "needs_background": "light"
     },
     "output_type": "display_data"
    }
   ],
   "source": [
    "# Create a plot.\n",
    "fig, ax = plt.subplots(figsize=(12,6))\n",
    "\n",
    "# Plot x vs y.\n",
    "ax.plot(x, y, 'k.')\n",
    "\n",
    "# Plot x vs parameters on x.\n",
    "ax.plot(x, params[0] * x + params[1], 'b-');"
   ]
  },
  {
   "cell_type": "markdown",
   "id": "3617a1f1-edc9-4439-bf95-d54e6dc37d11",
   "metadata": {},
   "source": [
    "#### Create a range of x & y values and fit line (using polyfit)  \n",
    "x arr has both negative and positive values\n",
    "\n",
    "#####  This time transpose the x values to absolute values before plotting- fitting"
   ]
  },
  {
   "cell_type": "code",
   "execution_count": 9,
   "id": "64a1b457-238f-46dc-8793-bfe78b0e03cb",
   "metadata": {},
   "outputs": [
    {
     "data": {
      "text/plain": [
       "array([-15., -14., -13., -12., -11., -10.,  -9.,  -8.,  -7.,  -6.,  -5.,\n",
       "        -4.,  -3.,  -2.,  -1.,   0.,   1.,   2.,   3.,   4.,   5.])"
      ]
     },
     "execution_count": 9,
     "metadata": {},
     "output_type": "execute_result"
    }
   ],
   "source": [
    "# A range of x values.\n",
    "x = np.linspace(-15.0, +5.0, 21)\n",
    "x"
   ]
  },
  {
   "cell_type": "code",
   "execution_count": 10,
   "id": "673df1fc-12a4-40e4-bef6-a7d32da9ed4e",
   "metadata": {},
   "outputs": [],
   "source": [
    "x_abs = np.absolute(x)"
   ]
  },
  {
   "cell_type": "code",
   "execution_count": 11,
   "id": "afb6b1c9-d93c-46f6-9060-a3bb1698f5ee",
   "metadata": {},
   "outputs": [
    {
     "data": {
      "text/plain": [
       "array([15., 14., 13., 12., 11., 10.,  9.,  8.,  7.,  6.,  5.,  4.,  3.,\n",
       "        2.,  1.,  0.,  1.,  2.,  3.,  4.,  5.])"
      ]
     },
     "execution_count": 11,
     "metadata": {},
     "output_type": "execute_result"
    }
   ],
   "source": [
    "x_abs"
   ]
  },
  {
   "cell_type": "code",
   "execution_count": 12,
   "id": "87a5c0d0-75f9-451c-ab19-26c5f68edf2b",
   "metadata": {},
   "outputs": [
    {
     "data": {
      "text/plain": [
       "array([42.79168133, 39.69365762, 35.03875919, 35.3837017 , 31.92985075,\n",
       "       27.60152486, 24.81018884, 21.59129448, 19.61317163, 15.33950514,\n",
       "       14.00278799, 10.27339249,  5.70363471,  5.19976872, -0.05847064,\n",
       "       -2.41293211,  1.16915589,  4.94657392,  4.88470314,  9.79930485,\n",
       "       13.82768535])"
      ]
     },
     "execution_count": 12,
     "metadata": {},
     "output_type": "execute_result"
    }
   ],
   "source": [
    "# A range of y values based on x_abs.\n",
    "y = 3.0 * x_abs - 2.0 + np.random.normal(0.0, 1.0, len(x))\n",
    "y"
   ]
  },
  {
   "cell_type": "code",
   "execution_count": 13,
   "id": "00524d52-f59e-4f17-bbfb-d5ff3e8a3486",
   "metadata": {},
   "outputs": [
    {
     "data": {
      "image/png": "[encoded data removed]",
      "text/plain": [
       "<Figure size 864x432 with 1 Axes>"
      ]
     },
     "metadata": {
      "needs_background": "light"
     },
     "output_type": "display_data"
    }
   ],
   "source": [
    "# Create a plot.\n",
    "fig, ax = plt.subplots(figsize=(12,6))\n",
    "\n",
    "# Plot x_abs vs y.\n",
    "ax.plot(x_abs, y, 'k.');"
   ]
  },
  {
   "cell_type": "code",
   "execution_count": 14,
   "id": "de2d2e01-d993-463d-ab01-65bcc5b2ae27",
   "metadata": {},
   "outputs": [
    {
     "data": {
      "text/plain": [
       "array([ 2.9998347 , -2.08803549])"
      ]
     },
     "execution_count": 14,
     "metadata": {},
     "output_type": "execute_result"
    }
   ],
   "source": [
    "# Use x and y to try to find the original parameters.\n",
    "paramsA = np.polyfit(x_abs, y, 1)\n",
    "paramsA"
   ]
  },
  {
   "cell_type": "code",
   "execution_count": 15,
   "id": "3da89721-c458-4d2f-9bb4-f9ec9bcac76b",
   "metadata": {},
   "outputs": [
    {
     "data": {
      "image/png": "[encoded data removed]",
      "text/plain": [
       "<Figure size 864x432 with 1 Axes>"
      ]
     },
     "metadata": {
      "needs_background": "light"
     },
     "output_type": "display_data"
    }
   ],
   "source": [
    "# Create a plot.\n",
    "fig, ax = plt.subplots(figsize=(12,6))\n",
    "\n",
    "# Plot x vs y.\n",
    "ax.plot(x_abs, y, 'k.')\n",
    "\n",
    "# Plot x vs parameters on x.\n",
    "ax.plot(x_abs, paramsA[0] * x_abs + paramsA[1], 'b-');"
   ]
  },
  {
   "cell_type": "markdown",
   "id": "ed86519c-23ed-4e04-8eab-6425e5b7b7af",
   "metadata": {},
   "source": [
    "##### numpy polyfit function returns the coefficients of slope of line = 2.9 and a NEGATIVE intercept of -1.4"
   ]
  },
  {
   "cell_type": "markdown",
   "id": "2720c3e2-8ce8-41e3-aa4f-e0338b800699",
   "metadata": {},
   "source": [
    "In standard linear regression, the average residual is always zero. The constant term is set to make that true.\n",
    "Creating absolute values before fitting the data means the data are not a true representation of the original dataset.     \n"
   ]
  },
  {
   "cell_type": "code",
   "execution_count": null,
   "id": "93b76b34-0ecb-4897-b546-53018c78ba42",
   "metadata": {},
   "outputs": [],
   "source": []
  },
  {
   "cell_type": "code",
   "execution_count": null,
   "id": "d02f1525-c1a4-40fa-a126-638745c25e64",
   "metadata": {},
   "outputs": [],
   "source": []
  },
  {
   "cell_type": "code",
   "execution_count": null,
   "id": "bca5e810-3e2f-4916-b601-f405a02a7461",
   "metadata": {},
   "outputs": [],
   "source": []
  },
  {
   "cell_type": "markdown",
   "id": "5d564c7f-80ee-482a-8470-2952f53184cb",
   "metadata": {},
   "source": [
    "Python NumPy absolute() function is used to return the element-wise absolute values of the input array.  \n",
    "In other words, this mathematical function helps the user to calculate the absolute value element in the given array.  \n",
    "An absolute value is a positive value of a given negative value, so it just removes the negative sign from the input value."
   ]
  },
  {
   "cell_type": "markdown",
   "id": "67ae4858-22b0-4098-9f53-434788df560c",
   "metadata": {},
   "source": [
    "The NumPy absolute() function takes four parameters arr, out, where, and dtype, <br> and returns a new array with an argument value as the absolute of the source array elements.  \n"
   ]
  },
  {
   "cell_type": "markdown",
   "id": "90f7c932-8677-4980-97dd-d5ac5f5ba9df",
   "metadata": {},
   "source": [
    "##### Parameters of absolute()\n",
    "The absolute() function allows the following parameters.\n",
    "\n",
    "arr - Input array.  \n",
    "out – It is ndarray, None, or tuple of ndarray and None, optional.Out will be the location where the result is to be stored.  \n",
    "\n",
    "If provided, it must have a shape that the inputs broadcast to. If not provided or None, a freshly-allocated array is returned.  \n",
    "\n",
    "where – This condition is broadcast over the input.\n",
    "dtype – It is an optional parameter that specifies the type of the returned array.  \n",
    "\n",
    "##### Return Value of absolute() returns an array with the absolute value for each element of an array."
   ]
  },
  {
   "cell_type": "code",
   "execution_count": 16,
   "id": "1411462e-a512-4490-b001-a0370bce06d7",
   "metadata": {},
   "outputs": [
    {
     "name": "stdout",
     "output_type": "stream",
     "text": [
      "[18.         15.18181818 12.36363636  9.54545455  6.72727273  3.90909091\n",
      "  1.09090909  1.72727273  4.54545455  7.36363636 10.18181818 13.        ]\n"
     ]
    },
    {
     "data": {
      "image/png": "[encoded data removed]",
      "text/plain": [
       "<Figure size 432x288 with 1 Axes>"
      ]
     },
     "metadata": {
      "needs_background": "light"
     },
     "output_type": "display_data"
    }
   ],
   "source": [
    "# Below are some code examples\n",
    "\n",
    "# Example 1: Use numpy.absolute() to get the absolute value\n",
    "arr = np.array([-46])\n",
    "arr2 = np.absolute(arr)\n",
    "\n",
    "# Example 2: get the absolute values of multiple elements of 1-d array\n",
    "arr = [4, -9, 14, -23, 32, -56]\n",
    "arr2 = np.absolute(arr)\n",
    "\n",
    "# Example 3: Use numpy.absolute() function to get \n",
    "# the absolute values of floating point\n",
    "arr = [-15.7, 8.6, -7.1, 8.7, -19.2, 43.8]\n",
    "arr2 = np.absolute(arr)\n",
    "\n",
    "# Example 4: Use numpy.absolute() get the absolute values \n",
    "# of 2-D array elements\n",
    "arr = np.array([[-12, 8, -23, 32], [49, -74, -92, 106]])\n",
    "arr2 = np.absolute(arr)\n",
    "\n",
    "# Example 5: Use numpy.absolute() function with complex numbers\n",
    "arr = [4+7j, -5-9j, 16+13j, -8+17j]\n",
    "arr2 = np.absolute(arr)\n",
    "\n",
    "# Example 6: Use np.absolute function to graphical representation  \n",
    "arr = np.linspace(start = -18, stop = 13, num = 12, endpoint = True)\n",
    "arr2 = np.absolute(arr)                 \n",
    "print(arr2)\n",
    "plt.plot(arr, np.absolute(arr)) \n",
    "plt.plot(arr, arr, color = 'orange')\n",
    "plt.show()\n"
   ]
  },
  {
   "cell_type": "markdown",
   "id": "5e76197f-e5eb-46d8-b885-c7c8dbbe9719",
   "metadata": {},
   "source": [
    "The graph of an absolute value function will have a vertical intercept when the input is zero  \n",
    "The graph may or may not have horizontal intercepts, depending on how the graph has been shifted and reflected.  \n",
    "It is possible for the absolute value function to have zero, one, or two horizontal intercepts."
   ]
  },
  {
   "cell_type": "markdown",
   "id": "93b462d9-cef4-42be-9476-34ebd9db29a2",
   "metadata": {},
   "source": [
    "the use of absolute values results in discontinuous derivatives that cannot be treated analytically"
   ]
  },
  {
   "cell_type": "markdown",
   "id": "2089e886-054b-4755-bc20-ef8a954b04c8",
   "metadata": {},
   "source": [
    "Residuals are what are left over after you fit your model and compare it to what you started with.  \n",
    "If the residuals are not randomly distributed, that means they contain additional structure which was missed by the model.  \n",
    "A good model matches the underlying process it is attempting to capture.  \n",
    "A bad model captures only a fraction of the underlying process, or worse, it suggests patterns that the original data do not actually contain.  \n",
    "Most linear models fitted to real data, can be expected to have some linear bias, unless you have strong reason to believe that the underlying process is truly linear.  \n",
    "\n",
    "Squaring is more favoured than absolute value.   \n",
    "Squaring always gives a positive value,so the sum will not be zero.  \n",
    "In addition, squaring emphasises large differences which makes and algebra much easier to work with and offers properties that the absolute method does not"
   ]
  },
  {
   "cell_type": "markdown",
   "id": "1f135c9a-98b6-4d27-9ab2-05797d7693f8",
   "metadata": {},
   "source": [
    "You are right that squares have some nice mathematical advantages, especially simple analytic formulas for derivatives. This is very handy when you work out formulas for regression coefficients. E.g., you want to fit a set of data with a function and you have to determine the coefficients in the function that give the best fit. Minimizing the root mean square error is simple. I've never seen anyone work out formulas for coefficients that would minimize the average absolute error. (Might be a fun problem for a first year calculus class.)\n",
    "\n",
    "The average of the absolute values of the differences from an average is generally different from the root mean square difference from the average .\n",
    "\n",
    "Abs[x] = Sqrt[x*x]. But Sum[Abs[xi]] is not equal to Sqrt[Sum[xi*xi]]\n",
    "\n",
    "E.g., take the set <br>\n",
    "{-2, 2, -1, 1, 0}<br>\n",
    "The average value is zero. The squared differences are<br>\n",
    "{4,4,1,1,0}<br>\n",
    "The absolute values of the differences are<br>\n",
    "{2, 2, 1, 1, 0}<br>\n",
    "The RMS difference is Sqrt[2] = 1.414...<br>\n",
    "The average absolute value difference = 6/5 = 1.2<br>\n",
    "<br>\n",
    "\n",
    "This example hints at an important difference between minimizing absolute values of differences and minimizing squared differences. The usual RMS fit is especially sensitive to large errors - they get squared in the process. If the large errors are actually bad data, you have to remove them from the set before doing the fit. Minimizing the sum of absolute values of differences would give a fit that was less sensitive to outliers. Which is 'better' depends on what you know about your data."
   ]
  },
  {
   "cell_type": "markdown",
   "id": "6f0dff1f-6e07-473c-9247-6bd4d41deb83",
   "metadata": {},
   "source": [
    "A huge part of statistics relies on squaring those differences because the distribution of many functions of the sum of those squared differences can be obtained mathematically so that inferences can be made. Much of this mathematical work was based on classical results. None of this is possible in the same way for the absolute differences.\n",
    "\n",
    "In a sense one could say that we use the squared differences to take advantage of some fairly deep quirks of the calculus. We do this in spite of the fact that using squared differences exaggerates the influence of bad data that we call outliers.\n",
    "\n",
    "In general what we try to do is to identify and remove the outliers, so that they do not contaminate the remaining data, and then apply the theory that is based on the squared differences. However, where the emphasis is on estimating just a location (something like an 'average') or a regression line in the face of quite a few outliers one might resort to using absolute difference estimation, perhaps as long as no further inferences are required."
   ]
  },
  {
   "cell_type": "code",
   "execution_count": null,
   "id": "403bd0dc-99ea-4791-a00a-f50c2a5386bc",
   "metadata": {},
   "outputs": [],
   "source": []
  },
  {
   "cell_type": "code",
   "execution_count": null,
   "id": "ea61a122-a6a0-4207-ad06-46c03e531eed",
   "metadata": {},
   "outputs": [],
   "source": []
  },
  {
   "cell_type": "markdown",
   "id": "e719cd95-fcbe-46c3-8f05-24c63ab7b6cd",
   "metadata": {},
   "source": [
    "# references:\n",
    "https://www.bragitoff.com/2015/09/why-cant-we-use-absolute-values-of-errors-least-squares-method-curve-fitting/#:~:text=In%20mathematical%20terms%2C%20we%20would,in%20working%20with%20them%20mathematically.\n",
    "https://www.quora.com/The-method-of-least-squares-of-residuals-is-commonly-used-to-get-the-best-fit-with-linear-regression-The-reason-why-the-absolute-value-of-residuals-y-ypred-is-not-used-is-that\n",
    "\n",
    "https://www.quora.com/Why-do-we-square-instead-of-using-the-absolute-value-when-calculating-variance-and-standard-deviation"
   ]
  },
  {
   "cell_type": "markdown",
   "id": "35a9a9b4-cb1a-489c-8960-b7525af70400",
   "metadata": {},
   "source": [
    "### Exercise 2"
   ]
  },
  {
   "cell_type": "markdown",
   "id": "7c891193-03d3-4fc5-be79-7dd296afd9b9",
   "metadata": {},
   "source": [
    "<span style='color:blue'>Remember to do these exercises in your own notebook in your assessment repository.</span>\n",
    "\n",
    "Fit a straight line to the following data points, using all three methods used above.\n",
    "\n",
    "Do you think a straight line is a good model for these points?"
   ]
  },
  {
   "cell_type": "code",
   "execution_count": 17,
   "id": "09f1737f-b576-4082-a2f6-f95ab4f42754",
   "metadata": {},
   "outputs": [],
   "source": [
    "x = [2.0, 3.0, 4.0, 5.0, 6.0, 7.0, 8.0, 9.0, 10.0, 11.0, 12.0, 13.0, 14.0, 15.0, 16.0, 17.0, 18.0, 19.0, 20.0]\n",
    "y = [0.7, 1.1, 1.5, 1.6, 1.7, 2.0, 2.3, 2.4, 2.2, 2.1, 2.4, 2.6, 2.2, 2.7, 2.5, 2.7, 2.8, 2.9, 3.1]\n"
   ]
  },
  {
   "cell_type": "code",
   "execution_count": null,
   "id": "5abd4c5f-3111-4080-beb5-6f9ca3612691",
   "metadata": {},
   "outputs": [],
   "source": []
  },
  {
   "cell_type": "markdown",
   "id": "47feda5c-e894-4a93-ac0f-7667b75b79c1",
   "metadata": {},
   "source": [
    "<br> <br>\n"
   ]
  },
  {
   "cell_type": "markdown",
   "id": "5c681a92-1027-4a55-9c44-283c836d06b3",
   "metadata": {},
   "source": [
    "In this notebook, we will learn about mathematical models."
   ]
  },
  {
   "cell_type": "markdown",
   "id": "fab165a5-9752-4e49-89fd-0db6a7b611b8",
   "metadata": {},
   "source": [
    "# The Problem \n",
    "-------"
   ]
  },
  {
   "cell_type": "markdown",
   "id": "bd9bd7d0-885b-47ae-b0f2-076f8606df9d",
   "metadata": {},
   "source": [
    "In school, students are taught to draw lines like the following"
   ]
  },
  {
   "cell_type": "markdown",
   "id": "dc1342e1-f9a1-42e2-8099-13e94c1093a5",
   "metadata": {},
   "source": [
    "*y=2x+1*"
   ]
  },
  {
   "cell_type": "markdown",
   "id": "e4edcb73-e49b-413a-95df-ee89ddf95aec",
   "metadata": {},
   "source": [
    "They're taught to pick two values for  and calculate the corresponding values for  using the equation. Then they draw a set of axes, plot the points, and then draw a line extending through the two dots on their axes."
   ]
  },
  {
   "cell_type": "code",
   "execution_count": 18,
   "id": "0afa2b82-70fd-4690-b4f6-a290e3200951",
   "metadata": {},
   "outputs": [],
   "source": [
    "# Import matplotlib.\n",
    "import matplotlib.pyplot as plt"
   ]
  },
  {
   "cell_type": "code",
   "execution_count": 19,
   "id": "4950f548-5ff4-4712-9d8e-abb233781398",
   "metadata": {},
   "outputs": [
    {
     "data": {
      "image/png": "[encoded data removed]",
      "text/plain": [
       "<Figure size 432x288 with 1 Axes>"
      ]
     },
     "metadata": {
      "needs_background": "light"
     },
     "output_type": "display_data"
    }
   ],
   "source": [
    "# Draw some axes.\n",
    "plt.plot([-1, 10], [0, 0], 'k-')\n",
    "plt.plot([0, 0], [-1, 10], 'k-')\n",
    "\n",
    "# Plot the red, blue and green lines.\n",
    "plt.plot([1, 1], [-1, 3], 'b:')\n",
    "plt.plot([-1, 1], [3, 3], 'r:')\n",
    "\n",
    "# Plot the two points (1,3) and (2,5).\n",
    "plt.plot([1, 2], [3, 5], 'ko')\n",
    "# Join them with an (extending) green lines.\n",
    "plt.plot([-1, 10], [-1, 21], 'g-')\n",
    "\n",
    "# Set some reasonable plot limits.\n",
    "plt.xlim([-1, 10])\n",
    "plt.ylim([-1, 10])\n",
    "\n",
    "# Show the plot.\n",
    "plt.show()"
   ]
  },
  {
   "cell_type": "markdown",
   "id": "88b8f143-80d8-4aed-8599-0e637306acc1",
   "metadata": {},
   "source": [
    "Simple linear regression is about the opposite problem - what if you have some points and are looking for the equation?"
   ]
  },
  {
   "cell_type": "markdown",
   "id": "55217749-8296-4ed2-98f1-f6453bb20462",
   "metadata": {},
   "source": [
    "It's easy when the points are perfectly on a line already, but usually real-world data has some noise."
   ]
  },
  {
   "cell_type": "markdown",
   "id": "5a4db1e8-5fb6-416e-b330-88e81abe4a08",
   "metadata": {},
   "source": [
    "The data might still look roughly linear, but aren't exactly so."
   ]
  },
  {
   "cell_type": "markdown",
   "id": "38c3bfff-2fad-4020-b864-48642ed9398a",
   "metadata": {},
   "source": [
    "# A Contrived Example\n",
    "---"
   ]
  },
  {
   "attachments": {
    "ccbc90da-4b6b-4fb2-98d7-361f28ea6e29.png": {
     "image/png": "[encoded data removed]"
    }
   },
   "cell_type": "markdown",
   "id": "236c281e-5be7-4109-b6a1-c9066413bc90",
   "metadata": {},
   "source": [
    "![image.png](attachment:ccbc90da-4b6b-4fb2-98d7-361f28ea6e29.png)"
   ]
  },
  {
   "cell_type": "markdown",
   "id": "eed841d3-1213-486e-a66b-8b6217c90fc0",
   "metadata": {},
   "source": [
    "### Scenario"
   ]
  },
  {
   "cell_type": "markdown",
   "id": "760cab8e-b79a-4949-9402-60dce9178c0f",
   "metadata": {},
   "source": [
    "Suppose you are trying to weigh your suitcase to avoid an airline's extra charges. \n",
    "\n",
    "You don't have a weighing scales, but you do have a spring and some gym-style weights of masses 7KG, 14KG and 21KG.\n",
    "\n",
    "You attach the spring to the wall hook, and mark where the bottom of it hangs.\n",
    "\n",
    "You then hang the 7KG weight on the end and mark where the bottom of the spring is.\n",
    "\n",
    "You repeat this with the 14KG weight and the 21KG weight.\n",
    "\n",
    "Finally, you place your case hanging on the spring, and the spring hangs down halfway between the 7KG mark and the 14KG mark.\n",
    "\n",
    "Is your case over the 10KG limit set by the airline?"
   ]
  },
  {
   "cell_type": "markdown",
   "id": "4108bf8c-695c-4969-b657-eb6d9461e821",
   "metadata": {},
   "source": [
    "### Hypothesis"
   ]
  },
  {
   "cell_type": "markdown",
   "id": "c2fa2f43-2222-407a-b407-3987a68bd310",
   "metadata": {},
   "source": [
    "When you look at the marks on the wall, it seems that the 0KG, 7KG, 14KG and 21KG marks are evenly spaced.\n",
    "\n",
    "You wonder if that means your case weighs 10.5KG.\n",
    "\n",
    "That is, you wonder if there is a linear relationship between the distance the spring's hook is from its resting position, and the mass on the end of it."
   ]
  },
  {
   "cell_type": "markdown",
   "id": "fd54d452-b6bc-433a-af77-5a50b9499996",
   "metadata": {},
   "source": [
    "### Experiment"
   ]
  },
  {
   "cell_type": "markdown",
   "id": "ff92929f-9af0-4976-870e-a42e023c8f5f",
   "metadata": {},
   "source": [
    "You decide to experiment.\n",
    "\n",
    "You buy some new weights - a 1KG, a 2KG, a 3Kg, all the way up to 20KG.\n",
    "\n",
    "You place them each in turn on the spring and measure the distance the spring moves from the resting position.\n",
    "\n",
    "You tabulate the data and plot them."
   ]
  },
  {
   "cell_type": "markdown",
   "id": "6fed6773-d6bb-4ed7-bc7b-07f23c819b75",
   "metadata": {},
   "source": [
    "### Analysis"
   ]
  },
  {
   "cell_type": "markdown",
   "id": "8b897103-7612-46d9-ba7f-251887483724",
   "metadata": {},
   "source": [
    "Here we'll import the Python libraries we need for or investigations below."
   ]
  },
  {
   "cell_type": "code",
   "execution_count": 20,
   "id": "da0d5412-1022-4f55-a135-cfeba69608fd",
   "metadata": {},
   "outputs": [],
   "source": [
    "# numpy efficiently deals with numerical multi-dimensional arrays.\n",
    "import numpy as np\n",
    "\n",
    "# matplotlib is a plotting library, and pyplot is its easy-to-use module.\n",
    "import matplotlib.pyplot as plt\n",
    "\n",
    "# This just sets the default plot size to be bigger.\n",
    "plt.rcParams['figure.figsize'] = (8, 6)"
   ]
  },
  {
   "cell_type": "markdown",
   "id": "889b5755-d2c6-47d2-9ee3-78e71ce61e86",
   "metadata": {},
   "source": [
    "Ignore the next couple of lines where I fake up some data. I'll use the fact that I faked the data to explain some results later. Just pretend that w is an array containing the weight values and d are the corresponding distance measurements."
   ]
  },
  {
   "cell_type": "code",
   "execution_count": 21,
   "id": "d9d140c9-73f8-4633-baa2-3c2d1e5ea9d1",
   "metadata": {},
   "outputs": [],
   "source": [
    "# x= w\n",
    "# y= d\n",
    "w = np.arange(0.0, 21.0, 1.0)\n",
    "d = 5.0 * w + 10.0 + np.random.normal(0.0, 5.0, w.size)"
   ]
  },
  {
   "cell_type": "code",
   "execution_count": 22,
   "id": "e2ea990c-11f3-4500-9756-10d8f067864b",
   "metadata": {},
   "outputs": [
    {
     "data": {
      "text/plain": [
       "array([ 0.,  1.,  2.,  3.,  4.,  5.,  6.,  7.,  8.,  9., 10., 11., 12.,\n",
       "       13., 14., 15., 16., 17., 18., 19., 20.])"
      ]
     },
     "execution_count": 22,
     "metadata": {},
     "output_type": "execute_result"
    }
   ],
   "source": [
    "# Let's have a look at w.\n",
    "w"
   ]
  },
  {
   "cell_type": "code",
   "execution_count": 23,
   "id": "3cbdf205-844a-47ed-ab08-cad76d02554a",
   "metadata": {},
   "outputs": [
    {
     "data": {
      "text/plain": [
       "array([ 11.42116975,  18.88216426,  17.45057026,  29.94332042,\n",
       "        27.20605474,  41.01944913,  40.15676206,  39.44711956,\n",
       "        49.51712379,  47.29033954,  62.0024195 ,  72.98944452,\n",
       "        62.74650945,  82.14889208,  90.32889707,  90.24147118,\n",
       "        94.75232005,  97.84144455,  97.92916205, 110.53158788,\n",
       "       111.59858832])"
      ]
     },
     "execution_count": 23,
     "metadata": {},
     "output_type": "execute_result"
    }
   ],
   "source": [
    "# Let's have a look at d.\n",
    "d"
   ]
  },
  {
   "cell_type": "code",
   "execution_count": 24,
   "id": "45a6c191-2bf6-4084-900c-d21e8e85ec1b",
   "metadata": {},
   "outputs": [
    {
     "data": {
      "image/png": "[encoded data removed]",
      "text/plain": [
       "<Figure size 576x432 with 1 Axes>"
      ]
     },
     "metadata": {
      "needs_background": "light"
     },
     "output_type": "display_data"
    }
   ],
   "source": [
    "# Create the plot.\n",
    "\n",
    "plt.plot(w, d, 'k.')\n",
    "\n",
    "# Set some properties for the plot.\n",
    "plt.xlabel('Weight (KG)')\n",
    "plt.ylabel('Distance (CM)')\n",
    "\n",
    "# Show the plot.\n",
    "plt.show()"
   ]
  },
  {
   "cell_type": "markdown",
   "id": "31086eb9-81d8-46e9-bdb7-61bce04b3cf3",
   "metadata": {},
   "source": [
    "### Model"
   ]
  },
  {
   "cell_type": "markdown",
   "id": "5ee512ef-240a-4be3-ae7d-285d4749a214",
   "metadata": {},
   "source": [
    "It looks like the data might indeed be linear.\n",
    "\n",
    "The points don't exactly fit on a straight line, but they are not far off it.\n",
    "\n",
    "We might put that down to some other factors, such as the air density, or errors, such as in our tape measure.\n",
    "\n",
    "Then we can go ahead and see what would be the best line to fit the data."
   ]
  },
  {
   "cell_type": "markdown",
   "id": "7c00d09e-aa20-44e7-851d-5ca6b3fea69e",
   "metadata": {},
   "source": [
    "### Straight Lines"
   ]
  },
  {
   "cell_type": "markdown",
   "id": "525f9109-3e11-4f1d-b7bf-acf361a9b632",
   "metadata": {},
   "source": [
    "All straight lines can be expressed in the form ***y=mx+C***.\n",
    "\n",
    "The number **m** is the slope of the line.\n",
    "\n",
    "The slope is how much  increases by when  is increased by 1.0.\n",
    "\n",
    "The number **c**  is the y-intercept of the line.\n",
    "\n",
    "It's the value of **y** when **x** is 0."
   ]
  },
  {
   "cell_type": "markdown",
   "id": "b3aa03e4-cfc1-438d-85f6-22b407b8417c",
   "metadata": {},
   "source": [
    "### Fitting the Model"
   ]
  },
  {
   "cell_type": "markdown",
   "id": "3ffaaa8e-8948-40f3-a098-3e98bb971362",
   "metadata": {},
   "source": [
    "To fit a straight line to the data, we just must pick values for **m** and **c** .\n",
    "\n",
    "These are called the parameters of the model, and we want to pick the best values possible for the parameters.\n",
    "\n",
    "That is, the best parameter values *given* the data observed.\n",
    "\n",
    "Below we show various lines plotted over the data, with different values for **m** and **c**."
   ]
  },
  {
   "cell_type": "code",
   "execution_count": 25,
   "id": "8d5fdd05-b721-489c-9433-ff9b8f0b0a9f",
   "metadata": {},
   "outputs": [
    {
     "data": {
      "image/png": "[encoded data removed]",
      "text/plain": [
       "<Figure size 576x432 with 1 Axes>"
      ]
     },
     "metadata": {
      "needs_background": "light"
     },
     "output_type": "display_data"
    }
   ],
   "source": [
    "# Plot w versus d with black dots.\n",
    "plt.plot(w, d, 'k.', label=\"Data\")\n",
    "\n",
    "# Overlay some lines on the plot.\n",
    "x = np.arange(0.0, 21.0, 1.0)\n",
    "plt.plot(x, 5.0 * x + 10.0, 'r-', label=r\"$5x + 10$\")\n",
    "plt.plot(x, 6.0 * x +  5.0, 'g-', label=r\"$6x +  5$\")\n",
    "plt.plot(x, 5.0 * x + 15.0, 'b-', label=r\"$5x + 15$\")\n",
    "\n",
    "# Add a legend.\n",
    "plt.legend()\n",
    "\n",
    "# Add axis labels.\n",
    "plt.xlabel('Weight (KG)')\n",
    "plt.ylabel('Distance (CM)')\n",
    "\n",
    "# Show the plot.\n",
    "plt.show()"
   ]
  },
  {
   "cell_type": "markdown",
   "id": "f682b796-eb9c-468f-96c6-f3a51ffb64d9",
   "metadata": {},
   "source": [
    "### Calculating the Cost"
   ]
  },
  {
   "cell_type": "markdown",
   "id": "72c93816-3c5a-4312-988b-e456bb1a2356",
   "metadata": {},
   "source": [
    "Here *(Xi,Yi)* is the *ith* point in the data set and *sigma i* means to sum over all points.\n",
    "\n",
    "The values of *m* and *c* are to be determined.\n",
    "\n",
    "We usually denote the above as **Cost(m,c)**.\n",
    "\n",
    "Where does the above calculation come from?\n",
    "\n",
    "It's easy to explain the part in the brackets .\n",
    "\n",
    "The corresponding value to  in the dataset is *Yi* .\n",
    "\n",
    "These are the measured values.\n",
    "\n",
    "The value *MXi +C* is what the model says *Yi* should have been.\n",
    "\n",
    "The difference between the value that was observed *(Yi)* and the value that the model gives *(mx+C)*, is *Yi-mXi-C* ."
   ]
  },
  {
   "cell_type": "markdown",
   "id": "1bd6b65d-17ef-4fe3-8fc6-d81dca0b42fa",
   "metadata": {},
   "source": [
    "### Why square the value?"
   ]
  },
  {
   "cell_type": "markdown",
   "id": "f4d8205e-b601-4dba-8a1f-dc260db874d3",
   "metadata": {},
   "source": [
    "Well note that the value could be positive or negative, and you sum over all of these values.\n",
    "\n",
    "If we allow the values to be positive or negative, then the positive could cancel the negatives.\n",
    "\n",
    "So, the natural thing to do is to take the absolute value **y = mx +C**.\n",
    "\n",
    "Well it turns out that absolute values are a pain to deal with, and instead it was decided to just square the quantity instead, as the square of a number is always positive.\n",
    "\n",
    "There are pros and cons to using the square instead of the absolute value, but the square is used.\n",
    "\n",
    "This is usually called least squares fitting."
   ]
  },
  {
   "cell_type": "code",
   "execution_count": 26,
   "id": "b44833e1-535b-40a4-a123-3a06cc47b5b8",
   "metadata": {},
   "outputs": [
    {
     "name": "stdout",
     "output_type": "stream",
     "text": [
      "Cost with m =  5.00 and c = 10.00:   556.42\n",
      "Cost with m =  6.00 and c =  5.00:  1240.82\n",
      "Cost with m =  5.00 and c = 15.00:   726.97\n"
     ]
    }
   ],
   "source": [
    "# Calculate the cost of the lines above for the data above.\n",
    "cost = lambda m,c: np.sum([(d[i] - m * w[i] - c)**2 for i in range(w.size)])\n",
    "\n",
    "print(\"Cost with m = %5.2f and c = %5.2f: %8.2f\" % (5.0, 10.0, cost(5.0, 10.0)))\n",
    "print(\"Cost with m = %5.2f and c = %5.2f: %8.2f\" % (6.0,  5.0, cost(6.0,  5.0)))\n",
    "print(\"Cost with m = %5.2f and c = %5.2f: %8.2f\" % (5.0, 15.0, cost(5.0, 15.0)))"
   ]
  },
  {
   "cell_type": "markdown",
   "id": "14c82d35-fd35-4909-aad7-e105d689a5e0",
   "metadata": {},
   "source": [
    "### Minimising the cost"
   ]
  },
  {
   "cell_type": "markdown",
   "id": "53e5b8bf-2086-4473-8935-c333af485ef7",
   "metadata": {},
   "source": [
    "We want to calculate values of  and  that give the lowest value for the cost value above.\n",
    "\n",
    "For our given data set we can plot the cost value/function.\n",
    "\n",
    "Recall that the cost is:"
   ]
  },
  {
   "cell_type": "markdown",
   "id": "b2801bc8-de5f-4ecb-ab71-96de6cff6863",
   "metadata": {},
   "source": [
    "This is a function of two variables, **m**  and **c**, so a plot of it is three dimensional.\n",
    "\n",
    "See the Advanced section below for the plot."
   ]
  },
  {
   "cell_type": "markdown",
   "id": "79b06b67-18f9-48c0-acf4-418f2b7a161a",
   "metadata": {},
   "source": [
    "In the case of fitting a two-dimensional line to a few data points, we can easily calculate exactly the best values of **m** and **c**.\n",
    "\n",
    "Some of the details are discussed in the *Advanced* section, as they involve calculus, but the resulting code is straight-forward.\n",
    "\n",
    "We first calculate the mean (average) values of our **x** values and that of our **y** values.\n",
    "\n",
    "Then we subtract the mean of **x**  from each of the **x**  values, and the mean of **y** from each of the **y** values. *(normalise)*\n",
    "\n",
    "Then we take the dot product of the new **x** values and the new **y** values and divide it by the dot product of the new **x** values with themselves.\n",
    "\n",
    "That gives us **m**, and we use **m** to calculate **c** .\n",
    "\n",
    "Remember that in our dataset **x**  is called **w** (for weight) and **y** is called **d** (for distance).\n",
    "\n",
    "We calculate **m** and **c** below."
   ]
  },
  {
   "cell_type": "code",
   "execution_count": 27,
   "id": "42a9afd5-f591-49d1-a5c5-c78d487f6f69",
   "metadata": {},
   "outputs": [
    {
     "name": "stdout",
     "output_type": "stream",
     "text": [
      "m is 5.166330 and c is 10.024549.\n"
     ]
    }
   ],
   "source": [
    "# Calculate the best values for m and c.\n",
    "\n",
    "# First calculate the means (a.k.a. averages) of w and d.\n",
    "w_avg = np.mean(w)\n",
    "d_avg = np.mean(d)\n",
    "\n",
    "# Subtract means from w and d.\n",
    "w_zero = w - w_avg\n",
    "d_zero = d - d_avg\n",
    "\n",
    "# The best m is found by the following calculation.\n",
    "m = np.sum(w_zero * d_zero) / np.sum(w_zero * w_zero)\n",
    "# Use m from above to calculate the best c.\n",
    "c = d_avg - m * w_avg\n",
    "\n",
    "print(\"m is %8.6f and c is %6.6f.\" % (m, c))"
   ]
  },
  {
   "cell_type": "markdown",
   "id": "51adee1f-756e-4793-861f-9b863e59445c",
   "metadata": {},
   "source": [
    "Note that numpy has a function that will perform this calculation for us, called polyfit. It can be used to fit lines in many dimensions."
   ]
  },
  {
   "cell_type": "code",
   "execution_count": 28,
   "id": "c7f79183-c994-4385-b088-c814253c804e",
   "metadata": {},
   "outputs": [
    {
     "data": {
      "text/plain": [
       "array([ 5.16632992, 10.02454891])"
      ]
     },
     "execution_count": 28,
     "metadata": {},
     "output_type": "execute_result"
    }
   ],
   "source": [
    "np.polyfit(w, d, 1)"
   ]
  },
  {
   "cell_type": "markdown",
   "id": "e6160926-2be7-4b8d-b11c-97b12e62f8a3",
   "metadata": {},
   "source": [
    "## Best fit Line"
   ]
  },
  {
   "cell_type": "markdown",
   "id": "36218b2e-78aa-4fee-8918-b026e3c4afca",
   "metadata": {},
   "source": [
    "So, the best values for **m**  and **c** given our data and using least squares fitting are about **4.95** for **m** and about **11.13** for **c**.\n",
    "\n",
    "We plot this line on top of the data below."
   ]
  },
  {
   "cell_type": "code",
   "execution_count": 29,
   "id": "f2c3bf14-ce60-4709-8564-d45aa9982cf4",
   "metadata": {},
   "outputs": [
    {
     "data": {
      "image/png": "[encoded data removed]",
      "text/plain": [
       "<Figure size 576x432 with 1 Axes>"
      ]
     },
     "metadata": {
      "needs_background": "light"
     },
     "output_type": "display_data"
    }
   ],
   "source": [
    "# Plot the best fit line.\n",
    "plt.plot(w, d, 'k.', label='Original data')\n",
    "plt.plot(w, m * w + c, 'b-', label='Best fit line')\n",
    "\n",
    "# Add axis labels and a legend.\n",
    "plt.xlabel('Weight (KG)')\n",
    "plt.ylabel('Distance (CM)')\n",
    "plt.legend()\n",
    "\n",
    "# Show the plot.\n",
    "plt.show()"
   ]
  },
  {
   "cell_type": "markdown",
   "id": "856ad7e9-00f8-4fe7-b532-c405addd1d35",
   "metadata": {},
   "source": [
    "Note that the  of the best  and best  is not zero in this case."
   ]
  },
  {
   "cell_type": "code",
   "execution_count": 30,
   "id": "10993e7e-f73c-4fae-9eaa-56c858706829",
   "metadata": {},
   "outputs": [
    {
     "name": "stdout",
     "output_type": "stream",
     "text": [
      "Cost with m =  5.17 and c = 10.02:   475.29\n"
     ]
    }
   ],
   "source": [
    "print(\"Cost with m = %5.2f and c = %5.2f: %8.2f\" % (m, c, cost(m, c)))"
   ]
  },
  {
   "cell_type": "markdown",
   "id": "87cfdab9-f180-4626-b27c-118dc1f052ec",
   "metadata": {},
   "source": [
    "### Exercise 1"
   ]
  },
  {
   "cell_type": "markdown",
   "id": "4d7a931c-1718-49ff-9875-87c91c72d946",
   "metadata": {},
   "source": [
    "<span style='color:blue'>Remember to do these exercises in your own notebook in your assessment repository.</span>\n",
    "\n",
    "Use numpy and matplotlib to plot the absolute value function.\n",
    "\n",
    "Research and explain why the absolute value function is not typically used in fitting straight lines to data.\n",
    "\n"
   ]
  },
  {
   "cell_type": "markdown",
   "id": "20b01291-8489-4a25-b9e6-263777bbfcb4",
   "metadata": {},
   "source": [
    "### Optimisation\n",
    "---"
   ]
  },
  {
   "cell_type": "markdown",
   "id": "68c0c9a4-b78b-4c79-884e-9b556b46c133",
   "metadata": {},
   "source": [
    "https://docs.scipy.org/doc/scipy/reference/generated/scipy.optimize.minimize.html"
   ]
  },
  {
   "cell_type": "code",
   "execution_count": 31,
   "id": "670e96f6-f2c6-444c-9023-b39d60b8c6c8",
   "metadata": {},
   "outputs": [],
   "source": [
    "# Optimization.\n",
    "import scipy.optimize as so\n",
    "\n",
    "# Numerical arrays.\n",
    "import numpy as np"
   ]
  },
  {
   "cell_type": "code",
   "execution_count": 32,
   "id": "a3814e78-aab9-405b-8006-0291c4acf0d0",
   "metadata": {},
   "outputs": [
    {
     "data": {
      "text/plain": [
       "(array([ 0.,  1.,  2.,  3.,  4.,  5.,  6.,  7.,  8.,  9., 10., 11., 12.,\n",
       "        13., 14., 15., 16., 17., 18., 19., 20.]),\n",
       " array([ 12.42123161,  11.71738615,  22.23427583,  30.02250927,\n",
       "         27.02807831,  38.78910752,  45.69672024,  39.97135512,\n",
       "         50.73293087,  54.38992411,  59.74845068,  55.87713563,\n",
       "         67.34044211,  76.48750059,  73.72498272,  81.02533093,\n",
       "         98.92794232,  93.24550377,  97.88707288, 105.13854102,\n",
       "        109.79933267]))"
      ]
     },
     "execution_count": 32,
     "metadata": {},
     "output_type": "execute_result"
    }
   ],
   "source": [
    "# Fix x values \n",
    "x = np.arange(0.0, 21.0, 1.0)\n",
    "\n",
    "# Fix x values \n",
    "y  = 5.0 * w + 10.0 + np.random.normal(0.0, 5.0, w.size)\n",
    "\n",
    "x,y\n"
   ]
  },
  {
   "cell_type": "code",
   "execution_count": 33,
   "id": "9de97c4d-cb3c-4f13-a614-d7efe138cd4b",
   "metadata": {},
   "outputs": [],
   "source": [
    "#we are going to use the minimize function in scipy.optimize\n",
    "\n",
    "# what we need:\n",
    "# 1. A function to minimize  \n",
    "# takes in x\n",
    "# x Intiial guess -array of real elements of size n  [array of n values]\n",
    "# fun = function = cost\n",
    "# def cost(m,c) - see here we have two inputs.  Need to have just one i.e. 'mc'\n",
    "\n",
    "# remember x and y have fixed values in this scenario\n",
    "\n",
    "# The function to be minimised is:\n",
    "def cost(MC):\n",
    "    m,c = MC\n",
    "    \n",
    "    # we will put the values in an array called MC. e.g. MC =(5,10)\n",
    "    # unpact the values m & c\n",
    "    # we need the data points in this function. Note numpy is celever enought to recognise X and Y as array and will multiply using x array values\n",
    "    cost = np.sum((y-m * x - c)**2)\n",
    "    #return that value\n",
    "    return cost\n",
    "    \n"
   ]
  },
  {
   "cell_type": "code",
   "execution_count": 34,
   "id": "d2db9bcd-94e5-4915-a78c-ce3c10523cb0",
   "metadata": {},
   "outputs": [
    {
     "data": {
      "text/plain": [
       "363.75443603258236"
      ]
     },
     "execution_count": 34,
     "metadata": {},
     "output_type": "execute_result"
    }
   ],
   "source": [
    "# run a quick test\n",
    "cost ((5.0,10.0))"
   ]
  },
  {
   "cell_type": "code",
   "execution_count": null,
   "id": "64d949dc-1c07-476b-b61d-e681bb063af1",
   "metadata": {},
   "outputs": [],
   "source": []
  },
  {
   "cell_type": "markdown",
   "id": "064c8a4a-3b95-46fc-b7f2-231767f21667",
   "metadata": {},
   "source": [
    "## My work"
   ]
  },
  {
   "cell_type": "code",
   "execution_count": 35,
   "id": "4e1289f3-d169-4e74-be69-9cd768f9f79a",
   "metadata": {},
   "outputs": [
    {
     "data": {
      "text/plain": [
       "      fun: 350.64350225148104\n",
       " hess_inv: array([[ 0.00064935, -0.00649351],\n",
       "       [-0.00649351,  0.08874459]])\n",
       "      jac: array([-3.81469727e-06, -3.81469727e-06])\n",
       "  message: 'Optimization terminated successfully.'\n",
       "     nfev: 21\n",
       "      nit: 5\n",
       "     njev: 7\n",
       "   status: 0\n",
       "  success: True\n",
       "        x: array([ 4.88480361, 10.7808092 ])"
      ]
     },
     "execution_count": 35,
     "metadata": {},
     "output_type": "execute_result"
    }
   ],
   "source": [
    "#https://docs.scipy.org/doc/scipy/reference/generated/scipy.optimize.minimize.html\n",
    "\n",
    "# import scipy.optimize as so\n",
    "result = so.minimize(cost, (2.0, 2.0))\n",
    "#Show the results\n",
    "result"
   ]
  },
  {
   "cell_type": "markdown",
   "id": "19a35f7c-ab3b-48c5-93ca-2417486d85de",
   "metadata": {},
   "source": [
    "The minimum value for the function scipy.optimize found was 281.63 (when run) <br>\n",
    "Optimiozation terminated successfully- 9 times of 10 it doesnt terminate successfully. <br>\n",
    "These are contrived input data"
   ]
  },
  {
   "cell_type": "markdown",
   "id": "b10cfaa2-8da3-4af0-b392-dcaa26dcaa08",
   "metadata": {},
   "source": [
    "## My work"
   ]
  },
  {
   "cell_type": "code",
   "execution_count": 36,
   "id": "40fd8261-573a-4ecc-b87f-00467be38953",
   "metadata": {},
   "outputs": [
    {
     "data": {
      "text/plain": [
       "(array([ 0.,  1.,  2.,  3.,  4.,  5.,  6.,  7.,  8.,  9., 10., 11., 12.,\n",
       "        13., 14., 15., 16., 17., 18., 19., 20.]),\n",
       " array([ 10.68973783,  23.28404804,  16.84190425,  20.93706066,\n",
       "         24.41682404,  34.56575598,  36.37638891,  46.52204066,\n",
       "         58.784783  ,  53.78958482,  58.23187595,  69.20656133,\n",
       "         67.97361343,  70.50721499,  78.65611067,  89.91647534,\n",
       "         87.1208901 ,  95.80664712, 103.16671224, 103.29176799,\n",
       "        113.25124003]))"
      ]
     },
     "execution_count": 36,
     "metadata": {},
     "output_type": "execute_result"
    }
   ],
   "source": [
    "# Fix x values.\n",
    "x = np.arange(0.0, 21.0, 1.0)\n",
    "\n",
    "# Fix y values.\n",
    "y = 5.0 * x + 10.0 + np.random.normal(0.0, 5.0, x.size)\n",
    "\n",
    "# Print them out.\n",
    "x, y"
   ]
  },
  {
   "cell_type": "code",
   "execution_count": 37,
   "id": "8b2c708c-0d9e-4a2a-9f06-0d16ddbd2a2a",
   "metadata": {},
   "outputs": [],
   "source": [
    "# We are going to use minimize function in scipy.optimize.\n",
    "# So - what do we need? First we need a function to minimze.\n",
    "\n",
    "# x and y are have fixed values in this scenario as above.\n",
    "\n",
    "# The function to be minimized - the cost function.\n",
    "# It must take a single argument! But our cost function takes 2: m and c.\n",
    "# So, we'll put them in a list called MC. e.g. MC = (5, 10)\n",
    "def cost(MC):\n",
    "    # Unpack the values m and c.\n",
    "    m, c = MC\n",
    "    # We need the data points in this function.\n",
    "    cost = np.sum((y - m * x - c)**2)\n",
    "    # Return that value.\n",
    "    return cost"
   ]
  },
  {
   "cell_type": "code",
   "execution_count": 38,
   "id": "96570e15-eb50-4596-a3b8-2b0dca95a795",
   "metadata": {},
   "outputs": [
    {
     "data": {
      "text/plain": [
       "324.57452619213245"
      ]
     },
     "execution_count": 38,
     "metadata": {},
     "output_type": "execute_result"
    }
   ],
   "source": [
    "# Run a quick test.\n",
    "cost((5.0, 10.0))"
   ]
  },
  {
   "cell_type": "markdown",
   "id": "63983376-b540-410d-917a-cbdf9fa9de27",
   "metadata": {},
   "source": [
    "## Course Notes"
   ]
  },
  {
   "cell_type": "code",
   "execution_count": 39,
   "id": "d9cade41-bf69-48bb-88fa-0160e4735228",
   "metadata": {},
   "outputs": [
    {
     "data": {
      "text/plain": [
       "      fun: 322.14737050902227\n",
       " hess_inv: array([[ 0.00064935, -0.00649351],\n",
       "       [-0.00649351,  0.08874461]])\n",
       "      jac: array([-3.81469727e-06,  3.81469727e-06])\n",
       "  message: 'Optimization terminated successfully.'\n",
       "     nfev: 21\n",
       "      nit: 5\n",
       "     njev: 7\n",
       "   status: 0\n",
       "  success: True\n",
       "        x: array([5.04963257, 9.66259041])"
      ]
     },
     "execution_count": 39,
     "metadata": {},
     "output_type": "execute_result"
    }
   ],
   "source": [
    "# neural networks used 'gradient descent' \n",
    "# https://docs.scipy.org/doc/scipy/reference/generated/scipy.optimize.minimize.html#scipy.optimize.minimize\n",
    "result = so.minimize(cost, (2.0, 2.0))\n",
    "# Show the results.\n",
    "result"
   ]
  },
  {
   "cell_type": "code",
   "execution_count": 40,
   "id": "37a2e7ff-4f3d-4392-b885-0ed094ab9330",
   "metadata": {},
   "outputs": [],
   "source": [
    "# from scipy X: array ([]) are the two values of x that would minimize the cost"
   ]
  },
  {
   "cell_type": "code",
   "execution_count": 41,
   "id": "622e6030-9c9a-4af2-a533-390b405cdf23",
   "metadata": {},
   "outputs": [
    {
     "data": {
      "text/plain": [
       "(5.049632569709454, 9.6625904135085)"
      ]
     },
     "execution_count": 41,
     "metadata": {},
     "output_type": "execute_result"
    }
   ],
   "source": [
    "# Extract the optimized m and c.\n",
    "m_o, c_o = result.x\n",
    "# Print them.\n",
    "m_o, c_o"
   ]
  },
  {
   "cell_type": "code",
   "execution_count": 42,
   "id": "aca995e0-0ee1-48fd-9e2f-f716a64e79f1",
   "metadata": {},
   "outputs": [
    {
     "data": {
      "text/plain": [
       "(5.049632611907024, 9.662589946868499)"
      ]
     },
     "execution_count": 42,
     "metadata": {},
     "output_type": "execute_result"
    }
   ],
   "source": [
    "# Previous, analytical result.\n",
    "m_a, c_a = np.polyfit(x, y, 1)\n",
    "# Print analytical results.\n",
    "m_a, c_a"
   ]
  },
  {
   "cell_type": "code",
   "execution_count": 43,
   "id": "77c3cba5-1193-4699-85bc-81591ede658c",
   "metadata": {},
   "outputs": [
    {
     "data": {
      "image/png": "[encoded data removed]",
      "text/plain": [
       "<Figure size 576x432 with 1 Axes>"
      ]
     },
     "metadata": {
      "needs_background": "light"
     },
     "output_type": "display_data"
    }
   ],
   "source": [
    "# Plot the best fit line from the optimization.\n",
    "fig, ax = plt.subplots(figsize=(8, 6))\n",
    "ax.plot(x, y, 'k.', label='Original data')\n",
    "# call the point m underscore o for optimised value\n",
    "# call the point c underscore o for optimised value\n",
    "ax.plot(x, m_o * x + c_o, 'b-', label='Optimized line') #calculated using the scipy.stats optimized,minimize function\n",
    "ax.plot(x, m_a * x + c_a, 'g-', label='Analytical line') #calculated using the basic np.polyfit function above\n",
    "ax.legend()\n",
    "\n",
    "# Show the plot.\n",
    "plt.show()"
   ]
  },
  {
   "cell_type": "code",
   "execution_count": 44,
   "id": "0c75b941-4b12-4f52-a7e4-a1ac52590697",
   "metadata": {},
   "outputs": [],
   "source": [
    "# when compare the analytical result to the optimised result - two lines are so closely aligned\n",
    "# optimised and analytical line pretty much giving the same result\n",
    "# minimised function doesnt rely on diffrentiating the cost funvtions m  & c -diffrentiation\n",
    "# instead it starts with best estimate of m & c  (or does it need these to be accurate?)\n",
    "# basically works on the curve in iterative way\n",
    "# is there a way to change M & C a little bit so that it moevs down the slope of the cost function\n",
    "# uses an iterative function\n",
    "# so long as smaller value- it keeps going (recursive?)\n",
    "# then it returns the result\n",
    "\n",
    "# neural networks used 'gradient descent' \n",
    "\n",
    "# whereas analytical function look at whole cost function- partial derivatives-solve simultaneous equation.\n",
    "# Involved- Tiresome.  Not always possible beyond a simple cost function"
   ]
  },
  {
   "cell_type": "markdown",
   "id": "497253ef-28ff-4452-9021-90148727340d",
   "metadata": {},
   "source": [
    "get hands dirty using scipy <br>\n",
    "create some random data <br>\n",
    "use numpy polyfit to get values of x <br>\n",
    "use scipy.optimize.minimize to calculate x <br>\n",
    "compare the values <br>\n",
    "plot some data <br>\n",
    "discuss"
   ]
  },
  {
   "cell_type": "markdown",
   "id": "86d6d0f6-d5bf-4895-aaa5-53bddcb4cbb1",
   "metadata": {},
   "source": [
    "### Curve Fitting\n",
    "---"
   ]
  },
  {
   "cell_type": "code",
   "execution_count": 45,
   "id": "3b0fc1d1-d7e1-4752-aac5-a6f37b0e8fc8",
   "metadata": {},
   "outputs": [],
   "source": [
    "# https://docs.scipy.org/doc/scipy/reference/generated/scipy.optimize.curve_fit.html\n",
    "# Create the model function.\n",
    "#curve fitting takes  in a function\n",
    "# curve_fitting tries to minimize the sum of the squared residuals (i.e. predicted -actual) squared and summed\n",
    "# call the function 'f'\n",
    "# tell the curve.fitting funvtion that our model function is f\n",
    "def f(x, m, c):\n",
    "    return m * x + c\n",
    "# e.g. y = mx +C"
   ]
  },
  {
   "cell_type": "code",
   "execution_count": 46,
   "id": "ddbee0b5-6d5f-4efa-b0d4-6d3304381cd7",
   "metadata": {},
   "outputs": [],
   "source": [
    "# Run curve_fit.\n",
    "# input the values of x & y created randomly above\n",
    "result = so.curve_fit(f, x, y)"
   ]
  },
  {
   "cell_type": "code",
   "execution_count": 47,
   "id": "cea4d33b-7116-4fe7-9348-cfcf01ab3609",
   "metadata": {},
   "outputs": [],
   "source": [
    "# Run curve_fit.\n",
    "result = so.curve_fit(f, x, y)"
   ]
  },
  {
   "cell_type": "code",
   "execution_count": 48,
   "id": "7240abaa-a5da-48e2-a3c1-072b1dd20dc6",
   "metadata": {},
   "outputs": [
    {
     "data": {
      "text/plain": [
       "(5.049632611915857, 9.662589946887406)"
      ]
     },
     "execution_count": 48,
     "metadata": {},
     "output_type": "execute_result"
    }
   ],
   "source": [
    "# Pull out the parameters.\n",
    "# call them m_f and c_f\n",
    "# curve_fit line\n",
    "m_f, c_f = result[0]\n",
    "# Print values.\n",
    "m_f, c_f"
   ]
  },
  {
   "cell_type": "code",
   "execution_count": 49,
   "id": "56cc1e9a-9b68-449a-9f13-d19bf85bc11b",
   "metadata": {},
   "outputs": [
    {
     "data": {
      "image/png": "[encoded data removed]",
      "text/plain": [
       "<Figure size 576x432 with 1 Axes>"
      ]
     },
     "metadata": {
      "needs_background": "light"
     },
     "output_type": "display_data"
    }
   ],
   "source": [
    "# Plot the best fit line from the optimization.\n",
    "fig, ax = plt.subplots(figsize=(8, 6))\n",
    "ax.plot(x, y, 'k.', label='Original data')\n",
    "ax.plot(x, m_f * x + c_f, 'r-', label='Curve Fit line')\n",
    "ax.plot(x, m_a * x + c_a, 'g-', label='Analytical line')\n",
    "ax.legend()\n",
    "\n",
    "# Show the plot.\n",
    "plt.show()"
   ]
  },
  {
   "cell_type": "markdown",
   "id": "2e3bafbf-450a-4e8c-b172-3f29b8e70f99",
   "metadata": {},
   "source": [
    "### Exercise 2\n",
    "---"
   ]
  },
  {
   "cell_type": "markdown",
   "id": "51d3917e-4312-4746-82af-d33797b0f696",
   "metadata": {},
   "source": [
    "<span style='color:green'>**Remember to do these exercises in your own notebook in your assessment repository.**</span>\n",
    "\n",
    "Fit a straight line to the following data points, using all three methods used above.\n",
    "\n",
    "Do you think a straight line is a good model for these points?"
   ]
  },
  {
   "cell_type": "code",
   "execution_count": 50,
   "id": "9c1456e4-814a-4575-86ea-61d7b53688ff",
   "metadata": {},
   "outputs": [],
   "source": [
    "x = [2.0, 3.0, 4.0, 5.0, 6.0, 7.0, 8.0, 9.0, 10.0, 11.0, 12.0, 13.0, 14.0, 15.0, 16.0, 17.0, 18.0, 19.0, 20.0]\n",
    "y = [0.7, 1.1, 1.5, 1.6, 1.7, 2.0, 2.3, 2.4, 2.2, 2.1, 2.4, 2.6, 2.2, 2.7, 2.5, 2.7, 2.8, 2.9, 3.1]\n"
   ]
  },
  {
   "cell_type": "code",
   "execution_count": null,
   "id": "bb12521b-feff-46f0-930b-969470340e0f",
   "metadata": {},
   "outputs": [],
   "source": []
  }
 ],
 "metadata": {
  "kernelspec": {
   "display_name": "Python 3",
   "language": "python",
   "name": "python3"
  },
  "language_info": {
   "codemirror_mode": {
    "name": "ipython",
    "version": 3
   },
   "file_extension": ".py",
   "mimetype": "text/x-python",
   "name": "python",
   "nbconvert_exporter": "python",
   "pygments_lexer": "ipython3",
   "version": "3.8.8"
  }
 },
 "nbformat": 4,
 "nbformat_minor": 5
}
