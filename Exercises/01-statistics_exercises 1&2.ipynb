{
 "cells": [
  {
   "cell_type": "markdown",
   "metadata": {},
   "source": [
    "##### Paul Mc Grath - Machine Learning & Stats- Winter 2022 Module- Assessment  \n",
    "---"
   ]
  },
  {
   "cell_type": "markdown",
   "metadata": {},
   "source": [
    "# Statistics- Introduction"
   ]
  },
  {
   "cell_type": "markdown",
   "metadata": {},
   "source": [
    "### Null Hypothesis"
   ]
  },
  {
   "cell_type": "markdown",
   "metadata": {},
   "source": [
    "In scientific research, the null hypothesis (often denoted H0) is the claim that no difference or relationship exists between two sets of data or variables being analyzed. The null hypothesis is that any experimentally observed difference is due to *chance alone*, and an underlying causative relationship does not exist, hence the term \"null\". In addition to the null hypothesis, an alternative hypothesis (often denoted HA or H1) is also developed, which claims that *a relationship does exist between two variables*."
   ]
  },
  {
   "cell_type": "markdown",
   "metadata": {},
   "source": [
    "The statement being tested in a test of statistical significance is called the null hypothesis. The test of significance is designed to assess the strength of the evidence against the null hypothesis. Usually, the null hypothesis is a statement of *'no effect' or 'no difference 'H0'*."
   ]
  },
  {
   "cell_type": "markdown",
   "metadata": {},
   "source": [
    "##### Statistical significance test:\n",
    "\n",
    "Take a random sample from the population.\n",
    "\n",
    "-  If the sample data are consistent with the null hypothesis, then: do not reject the null hypothesis.\n",
    "-  If the sample data are inconsistent with the null hypothesis, then reject the null hypothesis and conclude that the alternative hypothesis is true."
   ]
  },
  {
   "cell_type": "markdown",
   "metadata": {},
   "source": [
    "##### Contingency Table"
   ]
  },
  {
   "cell_type": "markdown",
   "metadata": {},
   "source": [
    "In statistics, a contingency table is a type of table in a matrix format that displays the (multivariate) frequency distribution of the variables.\n",
    "Contingency tables classify outcomes for one variable in rows and the other in columns.\n",
    "The values at the row and column intersections are frequencies for each unique combination of the two variables."
   ]
  },
  {
   "attachments": {
    "image.png": {
     "image/png": "[encoded data removed]"
    }
   },
   "cell_type": "markdown",
   "metadata": {},
   "source": [
    "![image.png](attachment:image.png)"
   ]
  },
  {
   "cell_type": "markdown",
   "metadata": {},
   "source": [
    "An odds ratio (OR) is a statistic that quantifies the strength of the association between two events, A and B. The odds ratio is defined as the ratio of the odds of A in the presence of B and the odds of A in the absence of B, or equivalently (due to symmetry), the ratio of the odds of B in the presence of A and the odds of B in the absence of A. Two events are independent if and only if the OR equals 1, i.e., the odds of one event are the same in either the presence or absence of the other event. If the OR is greater than 1, then A and B are associated (correlated) in the sense that, compared to the absence of B, the presence of B raises the odds of A, and symmetrically the presence of A raises the odds of B. Conversely, if the OR is less than 1, then A and B are negatively correlated, and the presence of one event reduces the odds of the other event."
   ]
  },
  {
   "cell_type": "markdown",
   "metadata": {},
   "source": [
    "The null hypothesis is that the true odds ratio of the populations underlying the observations is one, and the observations were sampled from these populations under a condition: the marginals of the resulting table must equal those of the observed table. The statistic returned is the unconditional maximum likelihood estimate of the odds ratio, and the p-value is the probability under the null hypothesis of obtaining a table at least as extreme as the one that was actually observed. "
   ]
  },
  {
   "cell_type": "markdown",
   "metadata": {},
   "source": [
    "#### Setup the necessary prerequisites for the notebook"
   ]
  },
  {
   "cell_type": "code",
   "execution_count": 1,
   "metadata": {},
   "outputs": [
    {
     "data": {
      "text/plain": [
       "'%.3f'"
      ]
     },
     "execution_count": 1,
     "metadata": {},
     "output_type": "execute_result"
    }
   ],
   "source": [
    "# set outputs to 3 decimal places\n",
    "%precision %.3f"
   ]
  },
  {
   "cell_type": "code",
   "execution_count": 2,
   "metadata": {},
   "outputs": [],
   "source": [
    "# Download required libraries\n",
    "\n",
    "# Efficient numerical arrays.\n",
    "import numpy as np\n",
    "import itertools\n",
    "import math\n",
    "import random\n",
    "\n",
    "# Data frames.\n",
    "import pandas as pd\n",
    "\n",
    "# Alternative statistics package.\n",
    "import statsmodels.stats.weightstats as stat\n",
    "\n",
    "# Mains statistics package.\n",
    "import scipy.stats as ss\n",
    "\n",
    "# Plotting.\n",
    "import matplotlib.pyplot as plt\n",
    "\n",
    "# Fancier plotting.\n",
    "import seaborn as sns\n",
    "\n",
    "# Better sized plots.\n",
    "plt.rcParams['figure.figsize'] = (12, 8)\n",
    "\n",
    "# Nicer colours and styles for plots.\n",
    "plt.style.use(\"ggplot\")"
   ]
  },
  {
   "cell_type": "markdown",
   "metadata": {},
   "source": [
    "#### Fisher Tea Test Background\n",
    "\n",
    "The Lady Tasting Tea problem was first described by <a href=\"http://www-history.mcs.st-andrews.ac.uk/Biographies/Fisher.html\" style=\"color: #ff791e\">Ronald A. Fisher</a> in his book The Design of Experiments.\n",
    "\n",
    "<img src=\"https://www.sciencehistory.org/sites/default/files/styles/rte_full_width/public/rte/fisher_as_young_man.jpg\" style=\"border: 1px solid #ff791e\" width=\"200px\">\n",
    "\n",
    "[Fisher Tea Test Background](https://www.sciencehistory.org/distillations/ronald-fisher-a-bad-cup-of-tea-and-the-birth-of-modern-statistics \"Ronald Fisher, a Bad Cup of Tea, and the Birth of Modern Statistics\") <br>\n"
   ]
  },
  {
   "cell_type": "markdown",
   "metadata": {},
   "source": [
    "Fisher described the tea tasting problem as follows.\n",
    "\n",
    "> A lady declares that by tasting a cup of tea made with milk she can discriminate whether the milk or the tea infusion was first added to the cup: We will consider the problem of designing an experiment by means of which this assertion can be tested. For this purpose let us first lay down a simple form of experiment with a view to studying its limitations and its characteristics, both those which appear to be essential to the experimental method, when well developed, and those which are not essential but auxiliary.\n",
    "\n",
    "> Our experiment consists in mixing eight cups of tea, four in one way and four in the other, and presenting them to the subject for judgment in a random order. The subject has been told in advance of what the test will consist, namely that she will be asked to taste eight cups, that these shall be four of each kind, and that they shall be presented to her in a random order, that is in an order not determined arbitrarily by human choice, but by the actual manipulation of the physical apparatus used in games of chance, cards, dice, roulettes, etc., or, more expeditiously, from a published collection of random sampling numbers purporting to give the actual results of such manipulation. Her task is to divide the 8 cups into two sets of 4, agreeing, if possible, with the treatments received.\n",
    "\n",
    "> In the book, Fisher describes the *null hypothesis*. <u>It is the statement to be countered by the experiment.</u>  \n",
    "In this case it is the hypothesis that the subject cannot tell the difference between a cup of tea that had milk in it first and one that had the tea in it first.  \n",
    "<br>\n",
    "**Null Hypothesis:** <u>the subject can not tell if the cup had milk in it first or last.</u>  \n",
    "Once we collect the experimental data we evaluate how likely we were to see such data if the null hypothesis is true. If it is very unlikely, then we may reject the null hypothesis. Typically we have an alternative hypothesis that we suggest rejecting the null hypothesis is evidence for.  \n",
    "<br>\n",
    "**Alternative Hypothesis:** <u>the subject can tell.</u>\n",
    "<br>Should the subject pick the correct four cups with milk in them first, there is only a 1 in 70 (~1.4%) chance of them having done that if they were simply guessing. Fisher considered that unlikely enough to reject the null hypothesis if they manage it."
   ]
  },
  {
   "cell_type": "markdown",
   "metadata": {},
   "source": [
    "The concept of a null hypothesis is used differently in two approaches to statistical inference. In the significance testing approach of Ronald Fisher, a null hypothesis is rejected if the observed data are significantly unlikely to have occurred if the null hypothesis were true: *the number of cups that were correctly chosen is by chance alone*.  \n",
    "In this case, the null hypothesis is rejected and an alternative hypothesis is accepted in its place: *the number of cups that were correctly chosen is more than predicted by chance alone*.  <br> <br>In summary: The hypothesis that chance alone is responsible for the results of the experiment is called the null hypothesis. "
   ]
  },
  {
   "cell_type": "markdown",
   "metadata": {},
   "source": [
    "Let us investigate the number of ways in which the lady can arrange the eight cups into two groups of four.\n",
    "- The first group is the cups with milk first.\n",
    "- The second group is the cups with tea first.\n",
    "- Once we select four cups for the first group, the second group is made up of the remaining cups.\n",
    "- So, we only really need to count how many different ways there are to select four cups from eight.\n",
    "- To begin we give each of the eight cups a label from 0 to 7.\n",
    "- Note that the cups have no order in the experiment, we are labelling them with integers simply for convenience."
   ]
  },
  {
   "cell_type": "code",
   "execution_count": 3,
   "metadata": {},
   "outputs": [
    {
     "data": {
      "text/plain": [
       "[0, 1, 2, 3, 4, 5, 6, 7]"
      ]
     },
     "execution_count": 3,
     "metadata": {},
     "output_type": "execute_result"
    }
   ],
   "source": [
    "# Python code for the eight cups.\n",
    "cups = list(range(8))\n",
    "cups"
   ]
  },
  {
   "cell_type": "markdown",
   "metadata": {},
   "source": [
    "- We can assume the subject is trying to pick the four cups with milk in first.<br>\n",
    "- If the subject is picking the cups randomly then they are randomly picking one of seventy different options.<br>\n",
    "- By randomly, we mean that they can not really tell which cups have the milk in first.<br>\n",
    "- Therefore they have only a probability of 1/70 of getting the right answer."
   ]
  },
  {
   "cell_type": "markdown",
   "metadata": {},
   "source": [
    "The number of ways of selecting four things from eight where the order doesnt matter  \n",
    "**(8*7*6*5)/(4*3*2*1)**\n",
    "\n",
    "8 cups randomly labelled: 0 1 2 3 4 5 6 7.  \n",
    "4 spots:  _ _ _ _.  Select the 1st cup with tea in them.  \n",
    "For example say 1st cup chosen is 2, then 0, then 7 then 5. \n",
    "1st 4 spots: 2 0 7 5.  \n",
    "1st spot have 8 selection possibilities.  \n",
    "Thereafter 2nd spot have 7 selection possibilities.  \n",
    "3rd spot: have 6 selection possibilities.  \n",
    "4th spot: have 5 selection possibilities and so on.\n",
    "Therefore there are (8x7x6x5) ways to choose/possibilities.  \n",
    "The order within group is not important.  Just that the cup is in the right group.  \n",
    "i.e.  i.e. 2-0-7-5 same as 0-2-7-5 (these are in the 4 cups of Group 1 (tea first)).  \n",
    "Therefore we have to take in to account how many times have we double counted the same combination.      \n",
    "We now need to remove the potential duplicates. Dividing (8x7x6x5) by(4x3x2x1) does this.  \n",
    "This results in 70 possibilities to select the cups at random.\n",
    "Just one of these will get the 4 right cups in Group 1.  \n",
    "It works out that there is a 1/70 chance or 1.4% the taster will get the 4 'correct' cups right by chance.  "
   ]
  },
  {
   "cell_type": "markdown",
   "metadata": {},
   "source": [
    "#### Itertools\n",
    "Itertools is a package in python that returns the *distict number* of ways of selecting *n* unordered items from a list of elements/numbers *n*.  \n"
   ]
  },
  {
   "cell_type": "code",
   "execution_count": 4,
   "metadata": {},
   "outputs": [
    {
     "data": {
      "text/plain": [
       "[(0, 1, 2, 3),\n",
       " (0, 1, 2, 4),\n",
       " (0, 1, 2, 5),\n",
       " (0, 1, 2, 6),\n",
       " (0, 1, 2, 7),\n",
       " (0, 1, 3, 4),\n",
       " (0, 1, 3, 5),\n",
       " (0, 1, 3, 6),\n",
       " (0, 1, 3, 7),\n",
       " (0, 1, 4, 5)]"
      ]
     },
     "execution_count": 4,
     "metadata": {},
     "output_type": "execute_result"
    }
   ],
   "source": [
    "# use of itertools function from python. \n",
    "# Itertools returns the number of distinct Returns 70 rows (70 combinations) for 8 cups declared above\n",
    "# Note 1:  index goes from 0-7\n",
    "# Note 2: Itertools starts below with 0,1,2,3 but this is simply the computer way of displaying a list of integers.  \n",
    "# If this is removed there is no reason to start with 0,1,2,3.etc\n",
    "poss = list(itertools.combinations(cups, 4))\n",
    "poss[0:10]\n",
    "# poss[0:70] returns all combinations"
   ]
  },
  {
   "cell_type": "code",
   "execution_count": 5,
   "metadata": {},
   "outputs": [
    {
     "data": {
      "text/plain": [
       "0.014"
      ]
     },
     "execution_count": 5,
     "metadata": {},
     "output_type": "execute_result"
    }
   ],
   "source": [
    "# Only one of the 70 randomly selected possibilities is the desired result.\n",
    "# i.e. the cups chosen are the correct 4 cups (milk first or tea first)\n",
    "# Thus 1 in 70 chance or:\n",
    "1/70"
   ]
  },
  {
   "cell_type": "markdown",
   "metadata": {},
   "source": [
    "We have seen above that with 8 cups of tea the probability of randomly selecting the correct cups is equal to 0.014 or **1.4%**.  \n",
    "We can use the maths library from python to try to find the minimum number of cups of tea required to ensure the probability of randomly selecting the correct cups is less than or equal to **1%**."
   ]
  },
  {
   "cell_type": "markdown",
   "metadata": {},
   "source": [
    "Similar to itertools we can do this with the help of Python Maths libraries"
   ]
  },
  {
   "cell_type": "code",
   "execution_count": 6,
   "metadata": {},
   "outputs": [
    {
     "data": {
      "text/plain": [
       "70"
      ]
     },
     "execution_count": 6,
     "metadata": {},
     "output_type": "execute_result"
    }
   ],
   "source": [
    "# number of ways of selecting 4 cups from 8 (number of choices)\n",
    "math.comb(8,4)"
   ]
  },
  {
   "cell_type": "code",
   "execution_count": 7,
   "metadata": {},
   "outputs": [
    {
     "data": {
      "text/plain": [
       "0.014"
      ]
     },
     "execution_count": 7,
     "metadata": {},
     "output_type": "execute_result"
    }
   ],
   "source": [
    "# probability of selecting 4 cups from 8 is 1/(number of choices)\n",
    "1.0/math.comb(8,4)"
   ]
  },
  {
   "cell_type": "code",
   "execution_count": 8,
   "metadata": {},
   "outputs": [
    {
     "data": {
      "text/plain": [
       "1.429"
      ]
     },
     "execution_count": 8,
     "metadata": {},
     "output_type": "execute_result"
    }
   ],
   "source": [
    "# probability of selecting 4 cups from 8 - as a percentage\n",
    "1.0/math.comb(8,4)*100"
   ]
  },
  {
   "cell_type": "markdown",
   "metadata": {},
   "source": [
    "i.e. for the tea experiment with 8 cups - 4 tea first, 4 milk first the probability of selecting a given combination is approx 1.5%  as was quoted above"
   ]
  },
  {
   "cell_type": "markdown",
   "metadata": {},
   "source": [
    "# Statisitics Exercises"
   ]
  },
  {
   "cell_type": "markdown",
   "metadata": {},
   "source": [
    "<h3 style=\"color: #001a79;\">Exercise 1</h3>\n",
    "\n",
    "<hr style=\"border-top: 1px solid #001a79;\" />\n",
    "\n",
    "#### Calculate the minimum number of cups of tea required to ensure the probability of randomly selecting the correct cups is less than or equal to 1%.\n"
   ]
  },
  {
   "cell_type": "code",
   "execution_count": 9,
   "metadata": {},
   "outputs": [
    {
     "data": {
      "text/plain": [
       "252"
      ]
     },
     "execution_count": 9,
     "metadata": {},
     "output_type": "execute_result"
    }
   ],
   "source": [
    "# Number of combinations from selecting correct 5 cups from 10 is:\n",
    "math.comb(10,5)"
   ]
  },
  {
   "cell_type": "code",
   "execution_count": 10,
   "metadata": {},
   "outputs": [
    {
     "data": {
      "text/plain": [
       "0.004"
      ]
     },
     "execution_count": 10,
     "metadata": {},
     "output_type": "execute_result"
    }
   ],
   "source": [
    "# Probability of randonly selecting correct 5 cups from 10 is:\n",
    "1.0/math.comb(10,5)"
   ]
  },
  {
   "cell_type": "code",
   "execution_count": 11,
   "metadata": {},
   "outputs": [
    {
     "data": {
      "text/plain": [
       "0.397"
      ]
     },
     "execution_count": 11,
     "metadata": {},
     "output_type": "execute_result"
    }
   ],
   "source": [
    "# Probability as a percentage:\n",
    "1.0/math.comb(10,5)*100"
   ]
  },
  {
   "cell_type": "markdown",
   "metadata": {},
   "source": [
    "So if the experiment was done with 10 cups total, five with milk in first and five with tea in first, <br> then the chance of selecting correctly randomly is **much** less than 1%.<br>\n",
    "Lets try 9 cups."
   ]
  },
  {
   "cell_type": "code",
   "execution_count": 12,
   "metadata": {},
   "outputs": [
    {
     "data": {
      "text/plain": [
       "126"
      ]
     },
     "execution_count": 12,
     "metadata": {},
     "output_type": "execute_result"
    }
   ],
   "source": [
    "# number of ways of selecting 4 cups from 9\n",
    "math.comb (9,5)"
   ]
  },
  {
   "cell_type": "code",
   "execution_count": 13,
   "metadata": {},
   "outputs": [
    {
     "data": {
      "text/plain": [
       "0.794"
      ]
     },
     "execution_count": 13,
     "metadata": {},
     "output_type": "execute_result"
    }
   ],
   "source": [
    "# Probability of randonly selecting correct 4 (or 5) cups from 9 -as a percentage is:\n",
    "1.0/math.comb(9,4)*100"
   ]
  },
  {
   "cell_type": "markdown",
   "metadata": {},
   "source": [
    "##### Thus choosing 4 cups with milk first from 10 cups the chances of correct selections based on random selection is 0.004 or circa **0.4%**\n",
    "\n",
    "##### Choosing 4 cups with milk first from 9 cups the chances of correct selections based on random selection is 0.00794 or circa **0.8%**.\n",
    "\n",
    "#### Answer is 9 cups."
   ]
  },
  {
   "cell_type": "markdown",
   "metadata": {},
   "source": [
    "<br>\n",
    "\n",
    "#### *Bonus:* How many would be required if you were to let the taster get one cup wrong while maintaining the 1% threshold?"
   ]
  },
  {
   "cell_type": "markdown",
   "metadata": {},
   "source": [
    "First lets re-look at the original experiment from above:"
   ]
  },
  {
   "cell_type": "code",
   "execution_count": 14,
   "metadata": {},
   "outputs": [
    {
     "data": {
      "text/plain": [
       "56"
      ]
     },
     "execution_count": 14,
     "metadata": {},
     "output_type": "execute_result"
    }
   ],
   "source": [
    "# number of ways of selecting 3 cups from 8 (number of choices)\n",
    "math.comb(8,3)"
   ]
  },
  {
   "cell_type": "code",
   "execution_count": 15,
   "metadata": {},
   "outputs": [
    {
     "data": {
      "text/plain": [
       "0.018"
      ]
     },
     "execution_count": 15,
     "metadata": {},
     "output_type": "execute_result"
    }
   ],
   "source": [
    "# probability of selecting 3 cups from 8 is 1/(number of choices)\n",
    "1.0/math.comb(8,3)"
   ]
  },
  {
   "cell_type": "code",
   "execution_count": 16,
   "metadata": {},
   "outputs": [
    {
     "data": {
      "text/plain": [
       "1.786"
      ]
     },
     "execution_count": 16,
     "metadata": {},
     "output_type": "execute_result"
    }
   ],
   "source": [
    "# probability of selecting 3 cups from 8 - as a percentage\n",
    "1.0/math.comb(8,3)*100"
   ]
  },
  {
   "cell_type": "markdown",
   "metadata": {},
   "source": [
    "##### Thus the probability of selecting 3 correct from the 8 cups is >1%.  We need to add more 'random' cups.  Lets look at using a set of 9 cups."
   ]
  },
  {
   "cell_type": "code",
   "execution_count": 17,
   "metadata": {},
   "outputs": [
    {
     "data": {
      "text/plain": [
       "84"
      ]
     },
     "execution_count": 17,
     "metadata": {},
     "output_type": "execute_result"
    }
   ],
   "source": [
    "# number of ways of selecting 3 cups from 9 (number of choices)\n",
    "math.comb(9,3)"
   ]
  },
  {
   "cell_type": "code",
   "execution_count": 18,
   "metadata": {},
   "outputs": [
    {
     "data": {
      "text/plain": [
       "0.012"
      ]
     },
     "execution_count": 18,
     "metadata": {},
     "output_type": "execute_result"
    }
   ],
   "source": [
    "# probability of selecting 3 cups from 9 is 1/(number of choices)\n",
    "1.0/math.comb(9,3)"
   ]
  },
  {
   "cell_type": "code",
   "execution_count": 19,
   "metadata": {},
   "outputs": [
    {
     "data": {
      "text/plain": [
       "1.190"
      ]
     },
     "execution_count": 19,
     "metadata": {},
     "output_type": "execute_result"
    }
   ],
   "source": [
    "# probability of selecting 3 cups from 9 - as a percentage\n",
    "1.0/math.comb(9,3)*100"
   ]
  },
  {
   "cell_type": "markdown",
   "metadata": {},
   "source": [
    "##### Thus the probability of selecting 3 correct from the 9 cups is still >1%.  We need to add more 'random' cups.  Lets look at using a set of 10 cups."
   ]
  },
  {
   "cell_type": "code",
   "execution_count": 20,
   "metadata": {},
   "outputs": [
    {
     "data": {
      "text/plain": [
       "120"
      ]
     },
     "execution_count": 20,
     "metadata": {},
     "output_type": "execute_result"
    }
   ],
   "source": [
    "# number of ways of selecting 3 cups from 10 (number of choices)\n",
    "math.comb(10,3)"
   ]
  },
  {
   "cell_type": "code",
   "execution_count": 21,
   "metadata": {},
   "outputs": [
    {
     "data": {
      "text/plain": [
       "0.008"
      ]
     },
     "execution_count": 21,
     "metadata": {},
     "output_type": "execute_result"
    }
   ],
   "source": [
    "# probability of selecting 3 cups from 9 is 1/(number of choices)\n",
    "1.0/math.comb(10,3)"
   ]
  },
  {
   "cell_type": "code",
   "execution_count": 22,
   "metadata": {},
   "outputs": [
    {
     "data": {
      "text/plain": [
       "0.833"
      ]
     },
     "execution_count": 22,
     "metadata": {},
     "output_type": "execute_result"
    }
   ],
   "source": [
    "# probability of selecting 3 cups from 9 - as a percentage\n",
    "1.0/math.comb(10,3)*100"
   ]
  },
  {
   "cell_type": "markdown",
   "metadata": {},
   "source": [
    "### Thus 10 cups would be required if we were to let the taster get one cup wrong while maintaining the 1% threshold? \n",
    "<br>\n"
   ]
  },
  {
   "cell_type": "markdown",
   "metadata": {},
   "source": [
    "### Exercise 2\n",
    "\n",
    "Use <a href=\"https://docs.scipy.org/doc/scipy/reference/generated/scipy.stats.fisher_exact.html\" style=\"color: #ff791e\">scipy's version of Fisher's exact test</a> to simulate the Lady Tasting Tea problem."
   ]
  },
  {
   "cell_type": "markdown",
   "metadata": {},
   "source": [
    "Perform a Fisher exact test on a 2x2 contingency table."
   ]
  },
  {
   "cell_type": "code",
   "execution_count": 23,
   "metadata": {},
   "outputs": [],
   "source": [
    "# statistical using fisher exact get to similar output as itertools methods\n",
    "import scipy.stats as ss"
   ]
  },
  {
   "cell_type": "markdown",
   "metadata": {},
   "source": [
    "##### First look at the source code.  \n",
    "\n",
    "1. click on the scipy stats link\n",
    "2. Click on the source code button\n",
    "3. This took us direct to the github source page\n",
    "4. The scipy.stats/fisher_exact code was highlighted along with the wording used in scipy.stats webpage\n",
    "5. The code is python and can be seen from rows 4492 onwards\n",
    "6. The function is \"def fisher_exact(table, alternative='two-sided')\" runs from 4669 to 4731\n",
    "7. The def fisher_exact(table, alternative='two-sided') returns \"\"return SignificanceResult(oddsratio, pvalue)\"\"\n",
    "8. Thus it returns the odd ratio and p value\n"
   ]
  },
  {
   "cell_type": "markdown",
   "metadata": {},
   "source": [
    "##### Using Math/itertools"
   ]
  },
  {
   "cell_type": "code",
   "execution_count": 24,
   "metadata": {},
   "outputs": [
    {
     "data": {
      "text/plain": [
       "[0, 1, 2, 3, 4, 5, 6, 7]"
      ]
     },
     "execution_count": 24,
     "metadata": {},
     "output_type": "execute_result"
    }
   ],
   "source": [
    "# Python code for the eight cups.\n",
    "cups = list(range(8))\n",
    "cups"
   ]
  },
  {
   "cell_type": "code",
   "execution_count": 25,
   "metadata": {},
   "outputs": [
    {
     "data": {
      "text/plain": [
       "70"
      ]
     },
     "execution_count": 25,
     "metadata": {},
     "output_type": "execute_result"
    }
   ],
   "source": [
    "# number of ways of selecting 4 cups from 8 (number of choices)\n",
    "math.comb(8,4)"
   ]
  },
  {
   "cell_type": "code",
   "execution_count": 26,
   "metadata": {},
   "outputs": [
    {
     "data": {
      "text/plain": [
       "[(0, 1, 2, 3),\n",
       " (0, 1, 2, 4),\n",
       " (0, 1, 2, 5),\n",
       " (0, 1, 2, 6),\n",
       " (0, 1, 2, 7),\n",
       " (0, 1, 3, 4),\n",
       " (0, 1, 3, 5),\n",
       " (0, 1, 3, 6),\n",
       " (0, 1, 3, 7),\n",
       " (0, 1, 4, 5),\n",
       " (0, 1, 4, 6),\n",
       " (0, 1, 4, 7),\n",
       " (0, 1, 5, 6),\n",
       " (0, 1, 5, 7),\n",
       " (0, 1, 6, 7),\n",
       " (0, 2, 3, 4),\n",
       " (0, 2, 3, 5),\n",
       " (0, 2, 3, 6),\n",
       " (0, 2, 3, 7),\n",
       " (0, 2, 4, 5),\n",
       " (0, 2, 4, 6),\n",
       " (0, 2, 4, 7),\n",
       " (0, 2, 5, 6),\n",
       " (0, 2, 5, 7),\n",
       " (0, 2, 6, 7),\n",
       " (0, 3, 4, 5),\n",
       " (0, 3, 4, 6),\n",
       " (0, 3, 4, 7),\n",
       " (0, 3, 5, 6),\n",
       " (0, 3, 5, 7),\n",
       " (0, 3, 6, 7),\n",
       " (0, 4, 5, 6),\n",
       " (0, 4, 5, 7),\n",
       " (0, 4, 6, 7),\n",
       " (0, 5, 6, 7),\n",
       " (1, 2, 3, 4),\n",
       " (1, 2, 3, 5),\n",
       " (1, 2, 3, 6),\n",
       " (1, 2, 3, 7),\n",
       " (1, 2, 4, 5),\n",
       " (1, 2, 4, 6),\n",
       " (1, 2, 4, 7),\n",
       " (1, 2, 5, 6),\n",
       " (1, 2, 5, 7),\n",
       " (1, 2, 6, 7),\n",
       " (1, 3, 4, 5),\n",
       " (1, 3, 4, 6),\n",
       " (1, 3, 4, 7),\n",
       " (1, 3, 5, 6),\n",
       " (1, 3, 5, 7),\n",
       " (1, 3, 6, 7),\n",
       " (1, 4, 5, 6),\n",
       " (1, 4, 5, 7),\n",
       " (1, 4, 6, 7),\n",
       " (1, 5, 6, 7),\n",
       " (2, 3, 4, 5),\n",
       " (2, 3, 4, 6),\n",
       " (2, 3, 4, 7),\n",
       " (2, 3, 5, 6),\n",
       " (2, 3, 5, 7),\n",
       " (2, 3, 6, 7),\n",
       " (2, 4, 5, 6),\n",
       " (2, 4, 5, 7),\n",
       " (2, 4, 6, 7),\n",
       " (2, 5, 6, 7),\n",
       " (3, 4, 5, 6),\n",
       " (3, 4, 5, 7),\n",
       " (3, 4, 6, 7),\n",
       " (3, 5, 6, 7),\n",
       " (4, 5, 6, 7)]"
      ]
     },
     "execution_count": 26,
     "metadata": {},
     "output_type": "execute_result"
    }
   ],
   "source": [
    "import itertools\n",
    "# package in python that returns/generates each way of selecting n unordered items from a list of elements/numbers n\n",
    "poss = list(itertools.combinations(cups, 4))\n",
    "poss"
   ]
  },
  {
   "cell_type": "code",
   "execution_count": 33,
   "metadata": {},
   "outputs": [
    {
     "data": {
      "text/plain": [
       "0.014"
      ]
     },
     "execution_count": 33,
     "metadata": {},
     "output_type": "execute_result"
    }
   ],
   "source": [
    "# Only one of the 70 randomly selected possibilities is the desired result.\n",
    "# i.e. the cups chosen are the correct 4 cups (milk first or tea first)\n",
    "# Thus 1 in 70 chance or:\n",
    "1/70"
   ]
  },
  {
   "cell_type": "code",
   "execution_count": 34,
   "metadata": {},
   "outputs": [
    {
     "data": {
      "text/plain": [
       "0.014"
      ]
     },
     "execution_count": 34,
     "metadata": {},
     "output_type": "execute_result"
    }
   ],
   "source": [
    "# probability of selecting 4 cups from 8 is 1/(number of choices)\n",
    "1.0/math.comb(8,4)"
   ]
  },
  {
   "cell_type": "markdown",
   "metadata": {},
   "source": [
    "##### Using scipy.fisher_exact"
   ]
  },
  {
   "cell_type": "code",
   "execution_count": 27,
   "metadata": {},
   "outputs": [
    {
     "data": {
      "text/plain": [
       "SignificanceResult(statistic=inf, pvalue=0.028571428571428567)"
      ]
     },
     "execution_count": 27,
     "metadata": {},
     "output_type": "execute_result"
    }
   ],
   "source": [
    "# execute the fisher_exact on a 4X4 contingency table\n",
    "# as we have 4 cups x 4 cups in our tea test\n",
    "ss.fisher_exact([[4,0], [0,4]])"
   ]
  },
  {
   "cell_type": "code",
   "execution_count": 35,
   "metadata": {},
   "outputs": [
    {
     "data": {
      "text/plain": [
       "SignificanceResult(statistic=inf, pvalue=0.028571428571428567)"
      ]
     },
     "execution_count": 35,
     "metadata": {},
     "output_type": "execute_result"
    }
   ],
   "source": [
    "# using fisher_exact\n",
    "ss.fisher_exact([[4,0], [0,4]])"
   ]
  },
  {
   "cell_type": "markdown",
   "metadata": {},
   "source": [
    "Itertools for 4 x 4 returns a p value of 0.014285.  \n",
    "Whereas scipy.disher_exact returns a pvalue=0.028571428571428567."
   ]
  },
  {
   "cell_type": "code",
   "execution_count": 30,
   "metadata": {},
   "outputs": [
    {
     "data": {
      "text/plain": [
       "2.000"
      ]
     },
     "execution_count": 30,
     "metadata": {},
     "output_type": "execute_result"
    }
   ],
   "source": [
    "ratio = (0.028571428571428567/0.014285)\n",
    "ratio"
   ]
  },
  {
   "cell_type": "markdown",
   "metadata": {},
   "source": [
    "Thus the p value returned by math is twice that than returned by fisher_exact.  \n",
    "Thus the fisher exact returns a p value of double the chance of overturning the null hypothesis"
   ]
  },
  {
   "cell_type": "markdown",
   "metadata": {},
   "source": [
    "When the code was extracted from scipy to the below jupyter field it returns an error.  \n",
    "'distributions' is not defined.  \n",
    "I tried to update scipy_stats version using pip install but it returned that my code was up to date.  \n",
    "Thus the code will not run independently.  \n",
    "Thus I was unable to modify the code and see what functioanlity would give the same result as itertools/math.  "
   ]
  },
  {
   "cell_type": "code",
   "execution_count": 31,
   "metadata": {},
   "outputs": [],
   "source": [
    "def fisher_exact(table, alternative='two-sided'):\n",
    "    \"\"\"Perform a Fisher exact test on a 2x2 contingency table.\n",
    "    The null hypothesis is that the true odds ratio of the populations\n",
    "    underlying the observations is one, and the observations were sampled\n",
    "    from these populations under a condition: the marginals of the\n",
    "    resulting table must equal those of the observed table. The statistic\n",
    "    returned is the unconditional maximum likelihood estimate of the odds\n",
    "    ratio, and the p-value is the probability under the null hypothesis of\n",
    "    obtaining a table at least as extreme as the one that was actually\n",
    "    observed. There are other possible choices of statistic and two-sided\n",
    "    p-value definition associated with Fisher's exact test; please see the\n",
    "    Notes for more information.\n",
    "    Parameters\n",
    "    ----------\n",
    "    table : array_like of ints\n",
    "        A 2x2 contingency table.  Elements must be non-negative integers.\n",
    "    alternative : {'two-sided', 'less', 'greater'}, optional\n",
    "        Defines the alternative hypothesis.\n",
    "        The following options are available (default is 'two-sided'):\n",
    "        * 'two-sided': the odds ratio of the underlying population is not one\n",
    "        * 'less': the odds ratio of the underlying population is less than one\n",
    "        * 'greater': the odds ratio of the underlying population is greater\n",
    "          than one\n",
    "        See the Notes for more details.\n",
    "    Returns\n",
    "    -------\n",
    "    oddsratio : float\n",
    "        This is prior odds ratio and not a posterior estimate.\n",
    "    p_value : float\n",
    "        P-value, the probability under the null hypothesis of obtaining a\n",
    "        table at least as extreme as the one that was actually observed.\n",
    "    See Also\n",
    "    --------\n",
    "    chi2_contingency : Chi-square test of independence of variables in a\n",
    "        contingency table.  This can be used as an alternative to\n",
    "        `fisher_exact` when the numbers in the table are large.\n",
    "    barnard_exact : Barnard's exact test, which is a more powerful alternative\n",
    "        than Fisher's exact test for 2x2 contingency tables.\n",
    "    boschloo_exact : Boschloo's exact test, which is a more powerful alternative\n",
    "        than Fisher's exact test for 2x2 contingency tables.\n",
    "    Notes\n",
    "    -----\n",
    "    *Null hypothesis and p-values*\n",
    "    The null hypothesis is that the true odds ratio of the populations\n",
    "    underlying the observations is one, and the observations were sampled at\n",
    "    random from these populations under a condition: the marginals of the\n",
    "    resulting table must equal those of the observed table. Equivalently,\n",
    "    the null hypothesis is that the input table is from the hypergeometric\n",
    "    distribution with parameters (as used in `hypergeom`)\n",
    "    ``M = a + b + c + d``, ``n = a + b`` and ``N = a + c``, where the\n",
    "    input table is ``[[a, b], [c, d]]``.  This distribution has support\n",
    "    ``max(0, N + n - M) <= x <= min(N, n)``, or, in terms of the values\n",
    "    in the input table, ``min(0, a - d) <= x <= a + min(b, c)``.  ``x``\n",
    "    can be interpreted as the upper-left element of a 2x2 table, so the\n",
    "    tables in the distribution have form::\n",
    "        [  x           n - x     ]\n",
    "        [N - x    M - (n + N) + x]\n",
    "    For example, if::\n",
    "        table = [6  2]\n",
    "                [1  4]\n",
    "    then the support is ``2 <= x <= 7``, and the tables in the distribution\n",
    "    are::\n",
    "        [2 6]   [3 5]   [4 4]   [5 3]   [6 2]  [7 1]\n",
    "        [5 0]   [4 1]   [3 2]   [2 3]   [1 4]  [0 5]\n",
    "    The probability of each table is given by the hypergeometric distribution\n",
    "    ``hypergeom.pmf(x, M, n, N)``.  For this example, these are (rounded to\n",
    "    three significant digits)::\n",
    "        x       2      3      4      5       6        7\n",
    "        p  0.0163  0.163  0.408  0.326  0.0816  0.00466\n",
    "    These can be computed with::\n",
    "        >>> from scipy.stats import hypergeom\n",
    "        >>> table = np.array([[6, 2], [1, 4]])\n",
    "        >>> M = table.sum()\n",
    "        >>> n = table[0].sum()\n",
    "        >>> N = table[:, 0].sum()\n",
    "        >>> start, end = hypergeom.support(M, n, N)\n",
    "        >>> hypergeom.pmf(np.arange(start, end+1), M, n, N)\n",
    "        array([0.01631702, 0.16317016, 0.40792541, 0.32634033, 0.08158508,\n",
    "               0.004662  ])\n",
    "    The two-sided p-value is the probability that, under the null hypothesis,\n",
    "    a random table would have a probability equal to or less than the\n",
    "    probability of the input table.  For our example, the probability of\n",
    "    the input table (where ``x = 6``) is 0.0816.  The x values where the\n",
    "    probability does not exceed this are 2, 6 and 7, so the two-sided p-value\n",
    "    is ``0.0163 + 0.0816 + 0.00466 ~= 0.10256``::\n",
    "        >>> from scipy.stats import fisher_exact\n",
    "        >>> oddsr, p = fisher_exact(table, alternative='two-sided')\n",
    "        >>> p\n",
    "        0.10256410256410257\n",
    "    The one-sided p-value for ``alternative='greater'`` is the probability\n",
    "    that a random table has ``x >= a``, which in our example is ``x >= 6``,\n",
    "    or ``0.0816 + 0.00466 ~= 0.08626``::\n",
    "        >>> oddsr, p = fisher_exact(table, alternative='greater')\n",
    "        >>> p\n",
    "        0.08624708624708627\n",
    "    This is equivalent to computing the survival function of the\n",
    "    distribution at ``x = 5`` (one less than ``x`` from the input table,\n",
    "    because we want to include the probability of ``x = 6`` in the sum)::\n",
    "        >>> hypergeom.sf(5, M, n, N)\n",
    "        0.08624708624708627\n",
    "    For ``alternative='less'``, the one-sided p-value is the probability\n",
    "    that a random table has ``x <= a``, (i.e. ``x <= 6`` in our example),\n",
    "    or ``0.0163 + 0.163 + 0.408 + 0.326 + 0.0816 ~= 0.9949``::\n",
    "        >>> oddsr, p = fisher_exact(table, alternative='less')\n",
    "        >>> p\n",
    "        0.9953379953379957\n",
    "    This is equivalent to computing the cumulative distribution function\n",
    "    of the distribution at ``x = 6``:\n",
    "        >>> hypergeom.cdf(6, M, n, N)\n",
    "        0.9953379953379957\n",
    "    *Odds ratio*\n",
    "    The calculated odds ratio is different from the one R uses. This SciPy\n",
    "    implementation returns the (more common) \"unconditional Maximum\n",
    "    Likelihood Estimate\", while R uses the \"conditional Maximum Likelihood\n",
    "    Estimate\".\n",
    "    Examples\n",
    "    --------\n",
    "    Say we spend a few days counting whales and sharks in the Atlantic and\n",
    "    Indian oceans. In the Atlantic ocean we find 8 whales and 1 shark, in the\n",
    "    Indian ocean 2 whales and 5 sharks. Then our contingency table is::\n",
    "                Atlantic  Indian\n",
    "        whales     8        2\n",
    "        sharks     1        5\n",
    "    We use this table to find the p-value:\n",
    "    >>> from scipy.stats import fisher_exact\n",
    "    >>> oddsratio, pvalue = fisher_exact([[8, 2], [1, 5]])\n",
    "    >>> pvalue\n",
    "    0.0349...\n",
    "    The probability that we would observe this or an even more imbalanced ratio\n",
    "    by chance is about 3.5%.  A commonly used significance level is 5%--if we\n",
    "    adopt that, we can therefore conclude that our observed imbalance is\n",
    "    statistically significant; whales prefer the Atlantic while sharks prefer\n",
    "    the Indian ocean.\n",
    "    \"\"\"\n",
    "    hypergeom = distributions.hypergeom\n",
    "    # int32 is not enough for the algorithm\n",
    "    c = np.asarray(table, dtype=np.int64)\n",
    "    if not c.shape == (2, 2):\n",
    "        raise ValueError(\"The input `table` must be of shape (2, 2).\")\n",
    "\n",
    "    if np.any(c < 0):\n",
    "        raise ValueError(\"All values in `table` must be nonnegative.\")\n",
    "\n",
    "    if 0 in c.sum(axis=0) or 0 in c.sum(axis=1):\n",
    "        # If both values in a row or column are zero, the p-value is 1 and\n",
    "        # the odds ratio is NaN.\n",
    "        return np.nan, 1.0\n",
    "\n",
    "    if c[1, 0] > 0 and c[0, 1] > 0:\n",
    "        oddsratio = c[0, 0] * c[1, 1] / (c[1, 0] * c[0, 1])\n",
    "    else:\n",
    "        oddsratio = np.inf\n",
    "\n",
    "    n1 = c[0, 0] + c[0, 1]\n",
    "    n2 = c[1, 0] + c[1, 1]\n",
    "    n = c[0, 0] + c[1, 0]\n",
    "\n",
    "    def pmf(x):\n",
    "        return hypergeom.pmf(x, n1 + n2, n1, n)\n",
    "\n",
    "    if alternative == 'less':\n",
    "        pvalue = hypergeom.cdf(c[0, 0], n1 + n2, n1, n)\n",
    "    elif alternative == 'greater':\n",
    "        # Same formula as the 'less' case, but with the second column.\n",
    "        pvalue = hypergeom.cdf(c[0, 1], n1 + n2, n1, c[0, 1] + c[1, 1])\n",
    "    elif alternative == 'two-sided':\n",
    "        mode = int((n + 1) * (n1 + 1) / (n1 + n2 + 2))\n",
    "        pexact = hypergeom.pmf(c[0, 0], n1 + n2, n1, n)\n",
    "        pmode = hypergeom.pmf(mode, n1 + n2, n1, n)\n",
    "\n",
    "        epsilon = 1e-14\n",
    "        gamma = 1 + epsilon\n",
    "\n",
    "        if np.abs(pexact - pmode) / np.maximum(pexact, pmode) <= epsilon:\n",
    "            return oddsratio, 1.\n",
    "\n",
    "        elif c[0, 0] < mode:\n",
    "            plower = hypergeom.cdf(c[0, 0], n1 + n2, n1, n)\n",
    "            if hypergeom.pmf(n, n1 + n2, n1, n) > pexact * gamma:\n",
    "                return oddsratio, plower\n",
    "\n",
    "            guess = _binary_search(lambda x: -pmf(x), -pexact * gamma, mode, n)\n",
    "            pvalue = plower + hypergeom.sf(guess, n1 + n2, n1, n)\n",
    "        else:\n",
    "            pupper = hypergeom.sf(c[0, 0] - 1, n1 + n2, n1, n)\n",
    "            if hypergeom.pmf(0, n1 + n2, n1, n) > pexact * gamma:\n",
    "                return oddsratio, pupper\n",
    "\n",
    "            guess = _binary_search(pmf, pexact * gamma, 0, mode)\n",
    "            pvalue = pupper + hypergeom.cdf(guess, n1 + n2, n1, n)\n",
    "    else:\n",
    "        msg = \"`alternative` should be one of {'two-sided', 'less', 'greater'}\"\n",
    "        raise ValueError(msg)\n",
    "\n",
    "    pvalue = min(pvalue, 1.0)\n",
    "\n",
    "    return oddsratio, pvalue"
   ]
  },
  {
   "cell_type": "code",
   "execution_count": 32,
   "metadata": {},
   "outputs": [
    {
     "ename": "NameError",
     "evalue": "name 'distributions' is not defined",
     "output_type": "error",
     "traceback": [
      "\u001b[1;31m---------------------------------------------------------------------------\u001b[0m",
      "\u001b[1;31mNameError\u001b[0m                                 Traceback (most recent call last)",
      "\u001b[1;32m<ipython-input-32-1eeda4039a0b>\u001b[0m in \u001b[0;36m<module>\u001b[1;34m\u001b[0m\n\u001b[1;32m----> 1\u001b[1;33m \u001b[0mfisher_exact\u001b[0m\u001b[1;33m(\u001b[0m\u001b[1;33m[\u001b[0m\u001b[1;33m[\u001b[0m\u001b[1;36m4\u001b[0m\u001b[1;33m,\u001b[0m\u001b[1;36m0\u001b[0m\u001b[1;33m]\u001b[0m\u001b[1;33m,\u001b[0m \u001b[1;33m[\u001b[0m\u001b[1;36m0\u001b[0m\u001b[1;33m,\u001b[0m\u001b[1;36m4\u001b[0m\u001b[1;33m]\u001b[0m\u001b[1;33m]\u001b[0m\u001b[1;33m)\u001b[0m\u001b[1;33m\u001b[0m\u001b[1;33m\u001b[0m\u001b[0m\n\u001b[0m",
      "\u001b[1;32m<ipython-input-31-2039a9766393>\u001b[0m in \u001b[0;36mfisher_exact\u001b[1;34m(table, alternative)\u001b[0m\n\u001b[0;32m    133\u001b[0m     \u001b[0mthe\u001b[0m \u001b[0mIndian\u001b[0m \u001b[0mocean\u001b[0m\u001b[1;33m.\u001b[0m\u001b[1;33m\u001b[0m\u001b[1;33m\u001b[0m\u001b[0m\n\u001b[0;32m    134\u001b[0m     \"\"\"\n\u001b[1;32m--> 135\u001b[1;33m     \u001b[0mhypergeom\u001b[0m \u001b[1;33m=\u001b[0m \u001b[0mdistributions\u001b[0m\u001b[1;33m.\u001b[0m\u001b[0mhypergeom\u001b[0m\u001b[1;33m\u001b[0m\u001b[1;33m\u001b[0m\u001b[0m\n\u001b[0m\u001b[0;32m    136\u001b[0m     \u001b[1;31m# int32 is not enough for the algorithm\u001b[0m\u001b[1;33m\u001b[0m\u001b[1;33m\u001b[0m\u001b[1;33m\u001b[0m\u001b[0m\n\u001b[0;32m    137\u001b[0m     \u001b[0mc\u001b[0m \u001b[1;33m=\u001b[0m \u001b[0mnp\u001b[0m\u001b[1;33m.\u001b[0m\u001b[0masarray\u001b[0m\u001b[1;33m(\u001b[0m\u001b[0mtable\u001b[0m\u001b[1;33m,\u001b[0m \u001b[0mdtype\u001b[0m\u001b[1;33m=\u001b[0m\u001b[0mnp\u001b[0m\u001b[1;33m.\u001b[0m\u001b[0mint64\u001b[0m\u001b[1;33m)\u001b[0m\u001b[1;33m\u001b[0m\u001b[1;33m\u001b[0m\u001b[0m\n",
      "\u001b[1;31mNameError\u001b[0m: name 'distributions' is not defined"
     ]
    }
   ],
   "source": [
    "fisher_exact([[4,0], [0,4]])"
   ]
  },
  {
   "cell_type": "markdown",
   "metadata": {},
   "source": [
    "<br>\n",
    " \n",
    "The answer is likely based on the constraints on table shape as fisher test typically assumes 2 x 2 table.  "
   ]
  },
  {
   "cell_type": "markdown",
   "metadata": {},
   "source": [
    "### End\n",
    "\n",
    "---"
   ]
  }
 ],
 "metadata": {
  "kernelspec": {
   "display_name": "Python 3",
   "language": "python",
   "name": "python3"
  },
  "language_info": {
   "codemirror_mode": {
    "name": "ipython",
    "version": 3
   },
   "file_extension": ".py",
   "mimetype": "text/x-python",
   "name": "python",
   "nbconvert_exporter": "python",
   "pygments_lexer": "ipython3",
   "version": "3.8.8"
  }
 },
 "nbformat": 4,
 "nbformat_minor": 4
}
