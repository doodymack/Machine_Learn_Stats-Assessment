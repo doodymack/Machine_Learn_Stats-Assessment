{
 "cells": [
  {
   "cell_type": "markdown",
   "id": "15e70976-7347-48b6-9a83-b2f3af25a579",
   "metadata": {},
   "source": [
    "#### Fisher Tea test -Exercise 1<br>\n",
    "The Fisher Tea Test gives about a 1.5% chance of randomly selecting the correct cups. <br> Calculate the minimum number of cups of tea required to ensure the probability of randomly selecting the correct cups is less than or equal to 1%.\n"
   ]
  },
  {
   "cell_type": "raw",
   "id": "ec4d7431-87e1-4d3a-9c06-bd432fe4c336",
   "metadata": {},
   "source": [
    "# the following is adapted from https://stackoverflow.com/a/4941932\n",
    "\n",
    "# scipy.stats explanation of function:  https://docs.scipy.org/doc/scipy/reference/generated/scipy.special.comb.html#scipy.special.comb\n",
    "# As of Python 3.8, binomial coefficients are available in the standard library as math.comb:\n",
    "# import and test the function.  output should be 10\n",
    "from math import comb\n",
    "comb(5,2)"
   ]
  },
  {
   "cell_type": "raw",
   "id": "525266bf-9b7d-4270-b46e-485642be10ad",
   "metadata": {},
   "source": [
    "The first group is the cups with milk first <br>\n",
    "The second group is the cups with tea first <br>\n",
    "Once we select four cups for the first group, the second group is made up of the remaining cups <br>\n",
    "So, we only really need to count how many different ways there are to select 4 cups from 8 <br>\n",
    "To begin we give each of the eight cups a lable from 0 to 7 <br>\n",
    "Note thast the cups have no order in the experiemnt, we are labelling them with integers simply for convenience\n"
   ]
  },
  {
   "cell_type": "code",
   "execution_count": null,
   "id": "25840427-4275-4774-bf12-eb5112ccf386",
   "metadata": {},
   "outputs": [],
   "source": [
    "# The eight cups\n",
    "cups =list(range(8))\n",
    "cups"
   ]
  },
  {
   "cell_type": "code",
   "execution_count": null,
   "id": "3637dfad-16ea-4025-823a-be57a2727940",
   "metadata": {},
   "outputs": [],
   "source": [
    "# The eight cups\n",
    "cups =list(range(8))\n",
    "cups"
   ]
  },
  {
   "cell_type": "markdown",
   "id": "21e9b176-4db2-4a40-aeb3-9cbb59777b83",
   "metadata": {},
   "source": [
    "Suppose the subject is trying to pick the four cups with milk in first <br>\n",
    "If the subject is picking the cups randonly then they are randomly picking one of 70 different options <br>\n",
    "By randomly we mean that they cannot tell which cups have milk in first (other than taste) <br>\n",
    "Therefore if taste is not a factor- they only have a probability of 1/70 (0.014) of randomly getting the right answer <br>\n",
    "The number of ways of selecting 4 unordered items from 8 can be worked out by using the 'choose' function in Mathemathics"
   ]
  },
  {
   "cell_type": "code",
   "execution_count": null,
   "id": "7b71fd99-fddc-40b3-b4e7-ec46ffa1b097",
   "metadata": {},
   "outputs": [],
   "source": [
    "# choose function \n",
    "(8*7*6*5/(4*3*2*1))"
   ]
  },
  {
   "cell_type": "markdown",
   "id": "6bf6d097-4ee2-4851-bee2-22261c9d0dcb",
   "metadata": {},
   "source": [
    "These possibilities can be enumerated using the combination fucnction 'comb' from itertools package in Python <br>\n",
    "Thus first have to import itertools from library <br>\n",
    "This function takes a list *l* of items and a number *n*. It returnsor generates each way of selecting *n* unordered items from *l*"
   ]
  },
  {
   "cell_type": "markdown",
   "id": "5ac55351-e22e-4285-9904-2264fa0eb8a0",
   "metadata": {},
   "source": [
    "## The Null Hypothesis"
   ]
  },
  {
   "cell_type": "markdown",
   "id": "00347f6e-b9f8-4a72-b9f4-8b8795bfd983",
   "metadata": {},
   "source": [
    "****"
   ]
  },
  {
   "cell_type": "markdown",
   "id": "883722fb-d28b-4171-aeae-19fa27910cf9",
   "metadata": {},
   "source": [
    "In the book, Fisher describes  the null hypothesis <br>\n",
    "It is the statement to be countered by the experiment <br>\n",
    "In this case it is the hypothesis that the subject **cannot** tell the difference between a cup of tea that had milk in it first and one that had the tea in it first<br> <br>\n",
    "**Null Hypothesis**<br>\n",
    "<br>\n",
    "Once we collect the experimental data we evaluate how likely we were to see such data if the null hypothesis is true <br>\n",
    "If it is very unlikely, then we may **reject** the null hypothesis<br>\n",
    "Typically we have an alternative hypothesis that we sugegst rejecting the null hypothesis is evidence for <br><br>\n",
    "**Alternative Hypothesis**<br>\n",
    "<br>\n",
    "Should the subject pick the correct four cups with milk in them first, there is only a 1 in 70 (1.4%) chance of them having chosen those simply by chance. <br>\n",
    "<br>\n",
    "Fisher considered that unlikely enough to reject the null hypothesis i.e. if they choose right its not random chance and the taster CAN taste the difference<br>"
   ]
  },
  {
   "cell_type": "code",
   "execution_count": null,
   "id": "79039592-1abb-497e-b0c0-58ab73430404",
   "metadata": {},
   "outputs": [],
   "source": [
    "# show the different combinations as an output\n",
    "\n",
    "import itertools\n",
    "poss = list(itertools.combinations (cups,4))\n",
    "poss"
   ]
  },
  {
   "cell_type": "code",
   "execution_count": null,
   "id": "664b00ac",
   "metadata": {},
   "outputs": [],
   "source": [
    "# choose math funtion in python\n",
    "import math"
   ]
  },
  {
   "cell_type": "code",
   "execution_count": null,
   "id": "8b190655",
   "metadata": {},
   "outputs": [],
   "source": [
    "# number of ways of selecting 4 cups from 8\n",
    "math.comb(8,4)"
   ]
  },
  {
   "cell_type": "code",
   "execution_count": null,
   "id": "25538e14-9ba3-4751-916e-524f0c6a9de6",
   "metadata": {},
   "outputs": [],
   "source": [
    "# probability of selecting 4 cups from 8 is 1/(number of choices)\n",
    "1.0/math.comb(8,4)"
   ]
  },
  {
   "cell_type": "code",
   "execution_count": null,
   "id": "d55d02c8-eb3d-4b80-9e8a-3071395c775b",
   "metadata": {},
   "outputs": [],
   "source": [
    "# probability of selecting 4 cups from 8 - as a percentage\n",
    "1.0/math.comb(8,4)*100"
   ]
  },
  {
   "cell_type": "markdown",
   "id": "d501771a-35df-460a-87aa-f2d36f688ae7",
   "metadata": {},
   "source": [
    "i.e. for the tea experiment with 8 cups - 4 tea first, 4 milk first the probability of selecting a given combination is approx 1.5%  as was quoted above"
   ]
  },
  {
   "cell_type": "code",
   "execution_count": null,
   "id": "8cd6d2ad",
   "metadata": {},
   "outputs": [],
   "source": [
    "# number of ways of selecting 5 cups from 10\n",
    "math.comb(10,5)"
   ]
  },
  {
   "cell_type": "markdown",
   "id": "449f412f-2a87-4070-8539-399ff0ee0675",
   "metadata": {},
   "source": [
    "#### Hence the probability of one specific combination is 1/(# of possible combinations)"
   ]
  },
  {
   "cell_type": "code",
   "execution_count": null,
   "id": "bb6d301f",
   "metadata": {},
   "outputs": [],
   "source": [
    "# Probability of randonly selecting correct 5 cups is:\n",
    "1.0/math.comb(10,5)"
   ]
  },
  {
   "cell_type": "code",
   "execution_count": null,
   "id": "c474abfc-86b8-47d5-aaa7-5981c746f71d",
   "metadata": {},
   "outputs": [],
   "source": [
    "# Probability of randonly selecting correct 5 cups from 10 is:\n",
    "1.0/math.comb(10,5)"
   ]
  },
  {
   "cell_type": "code",
   "execution_count": null,
   "id": "e7db7606-002c-4dfd-b9d7-c0b937e26edc",
   "metadata": {},
   "outputs": [],
   "source": [
    "# Probability of randonly selecting correct 5 cups - as a percentage is:\n",
    "1.0/math.comb(10,5)*100"
   ]
  },
  {
   "cell_type": "markdown",
   "id": "b2b6ed56",
   "metadata": {},
   "source": [
    "So if the experiment was done with 10 cups total, five with milk in first and five with tea in first, <br> then the chance of selecting correctly randomly is **much** less than 1%"
   ]
  },
  {
   "cell_type": "markdown",
   "id": "836c83cd",
   "metadata": {},
   "source": [
    "Of course we could design the experiment to have 9 cups in total, with 4 with milk in first and 5 with tea in first- or vice versa"
   ]
  },
  {
   "cell_type": "code",
   "execution_count": null,
   "id": "6e78f2cf",
   "metadata": {},
   "outputs": [],
   "source": [
    "# number of ways of selecting 4 cups from 9\n",
    "math.comb (9,4)"
   ]
  },
  {
   "cell_type": "code",
   "execution_count": null,
   "id": "ef9d150f-6d13-4187-ba84-ba6963f2a7c5",
   "metadata": {},
   "outputs": [],
   "source": [
    "# number of ways of selecting 4 cups from 9\n",
    "math.comb (9,5)"
   ]
  },
  {
   "cell_type": "code",
   "execution_count": null,
   "id": "936a5d5d-5eea-4a49-b9db-4cddb406e66f",
   "metadata": {},
   "outputs": [],
   "source": [
    "# Probability of randonly selecting correct 4 (or 5) cups from 9 -as a percentage is:\n",
    "1.0/math.comb(9,4)*100"
   ]
  },
  {
   "cell_type": "markdown",
   "id": "638040ac",
   "metadata": {},
   "source": [
    "__this is <1% too !!__"
   ]
  },
  {
   "cell_type": "markdown",
   "id": "6ea63428-fd3c-4954-bd23-bb2dae61bed1",
   "metadata": {},
   "source": [
    "Note the number of combinations is the same if select 4 or 5 'cups' in the tea test as it gives the same remaining i.e. 4 or 5.<br>\n"
   ]
  },
  {
   "cell_type": "markdown",
   "id": "f8b62687-ad31-4e4a-9189-6e176363a022",
   "metadata": {},
   "source": [
    "## So the answer is 9 cups!"
   ]
  },
  {
   "cell_type": "markdown",
   "id": "4570b374-2783-4b44-a4fa-c4f382a5f31b",
   "metadata": {},
   "source": [
    "*Bonus:* How many would be required if you were to let the taster get one cup wrong while maintaining the 1% threshold?"
   ]
  },
  {
   "cell_type": "code",
   "execution_count": null,
   "id": "3f012302",
   "metadata": {},
   "outputs": [],
   "source": []
  },
  {
   "cell_type": "code",
   "execution_count": null,
   "id": "fc65683a",
   "metadata": {},
   "outputs": [],
   "source": []
  },
  {
   "cell_type": "code",
   "execution_count": null,
   "id": "b8b2b952",
   "metadata": {},
   "outputs": [],
   "source": []
  },
  {
   "cell_type": "markdown",
   "id": "a863caf0",
   "metadata": {},
   "source": [
    "<h3 style=\"color: #001a79;\">Exercise</h3>\n",
    "\n",
    "<hr style=\"border-top: 1px solid #001a79;\" />\n",
    "\n",
    "<i style=\"color: #001a79;\">Remember to do these exercises in your own notebook in your assessment repository.</i>\n",
    "\n",
    "Use <a href=\"https://docs.scipy.org/doc/scipy/reference/generated/scipy.stats.fisher_exact.html\" style=\"color: #ff791e\">scipy's version of Fisher's exact test</a> to simulate the Lady Tasting Tea problem."
   ]
  },
  {
   "cell_type": "markdown",
   "id": "6a82fa14-1f2d-4fce-b3dd-939991e8fc64",
   "metadata": {},
   "source": [
    "fisher_exact is a function <br> two parameters <br> 1. table (2 x 2 cells i.e 4 numbers in 2d array) <br> default is 2-sided <br>"
   ]
  },
  {
   "cell_type": "markdown",
   "id": "e4becadd-6a6f-4376-8d2a-c913d0008493",
   "metadata": {},
   "source": [
    "can click on the [source] button and remove some of mystique <br>\n",
    "it hyperlinks to github <br>\n",
    "scipy is the name of the repository <br>\n",
    "asks to go to line 4492.  The scipystats_fisher function (code) is here <br>\n",
    "This is what is used i.e. code pulled out of comments from a repository in github <br> scipy_stats text is pulled from here <br>from line 4661 actually have the python code that executes the function <br>  e.g. 'return oddsratio, pvalue' line 4723 is the output of the python code <br>\n",
    "ultimately its just open source python code <br>"
   ]
  },
  {
   "cell_type": "code",
   "execution_count": null,
   "id": "8ac34a8f-0b83-4b3f-8188-eaef0acc9f88",
   "metadata": {},
   "outputs": [],
   "source": []
  },
  {
   "cell_type": "markdown",
   "id": "c2ec38f1-502f-4a64-a4d4-aca177961b1d",
   "metadata": {},
   "source": [
    "## Statistical Methods"
   ]
  },
  {
   "cell_type": "code",
   "execution_count": null,
   "id": "f5a72050",
   "metadata": {},
   "outputs": [],
   "source": [
    "# statistica# using fisher exact get to similar output as itertoolsl methods\n",
    "import scipy.stats as ss"
   ]
  },
  {
   "cell_type": "code",
   "execution_count": null,
   "id": "2a2c6495",
   "metadata": {},
   "outputs": [],
   "source": [
    "# use this figure it out\n",
    "# in scipy stats if scroll down you will get loads of examples of how to do things\n",
    "\n",
    "ss.fisher_exact"
   ]
  },
  {
   "cell_type": "code",
   "execution_count": null,
   "id": "88b3ef6b",
   "metadata": {},
   "outputs": [],
   "source": [
    "# using fisher exact get to similar output as itertools"
   ]
  },
  {
   "cell_type": "code",
   "execution_count": null,
   "id": "782500a9",
   "metadata": {},
   "outputs": [],
   "source": [
    "# example\n",
    "ss.fisher_exact([[4,0], [0,4]])\n",
    "# should have been 0.014285"
   ]
  },
  {
   "cell_type": "code",
   "execution_count": null,
   "id": "78868042",
   "metadata": {},
   "outputs": [],
   "source": [
    "# turns out its double the chance\n",
    "# use scipy stats.fisher_exact to get the right result\n",
    "# but its giving the probability * 2\n",
    "# whats going on\n",
    "# go down to the code\n",
    "# use it to get the exepcted value\n",
    "# go back and understand why the statisitical code is giving the correct value- make sense of it \n",
    "# see if anything you can change in use of function without understanding the fisher-exact test\n",
    "# get comfortable with scipy.stats\n",
    "# reverse engineer scipy.stats to get the value you want\n",
    "# treat like learning how to drive the car\n",
    "# google lady tasting tea -scipy stats\n",
    "\n",
    "0.014285*2"
   ]
  },
  {
   "cell_type": "code",
   "execution_count": null,
   "id": "b4b0911f",
   "metadata": {},
   "outputs": [],
   "source": []
  }
 ],
 "metadata": {
  "kernelspec": {
   "display_name": "Python 3",
   "language": "python",
   "name": "python3"
  },
  "language_info": {
   "codemirror_mode": {
    "name": "ipython",
    "version": 3
   },
   "file_extension": ".py",
   "mimetype": "text/x-python",
   "name": "python",
   "nbconvert_exporter": "python",
   "pygments_lexer": "ipython3",
   "version": "3.8.8"
  }
 },
 "nbformat": 4,
 "nbformat_minor": 5
}
