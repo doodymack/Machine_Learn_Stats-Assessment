{
 "cells": [
  {
   "cell_type": "markdown",
   "id": "7dfc6e65",
   "metadata": {},
   "source": [
    "#### Fisher Tea test -Exercise 1<br>\n",
    "The Fisher Tea Test gives about a 1.5% chance of randomly selecting the correct cups. <br> Calculate the minimum number of cups of tea required to ensure the probability of randomly selecting the correct cups is less than or equal to 1%.\n"
   ]
  },
  {
   "cell_type": "code",
   "execution_count": 1,
   "id": "0c459c97",
   "metadata": {},
   "outputs": [
    {
     "data": {
      "text/plain": [
       "10"
      ]
     },
     "execution_count": 1,
     "metadata": {},
     "output_type": "execute_result"
    }
   ],
   "source": [
    "# the following is adapted from https://stackoverflow.com/a/4941932\n",
    "\n",
    "# scipy.stats explanation of function:  https://docs.scipy.org/doc/scipy/reference/generated/scipy.special.comb.html#scipy.special.comb\n",
    "# As of Python 3.8, binomial coefficients are available in the standard library as math.comb:\n",
    "# import and test the function.  output should be 10\n",
    "from math import comb\n",
    "comb(5,2)"
   ]
  },
  {
   "cell_type": "code",
   "execution_count": 2,
   "id": "664b00ac",
   "metadata": {},
   "outputs": [],
   "source": [
    "# choose math funtion in python\n",
    "import math"
   ]
  },
  {
   "cell_type": "code",
   "execution_count": 3,
   "id": "8b190655",
   "metadata": {},
   "outputs": [
    {
     "data": {
      "text/plain": [
       "70"
      ]
     },
     "execution_count": 3,
     "metadata": {},
     "output_type": "execute_result"
    }
   ],
   "source": [
    "# number of ways of selecting 4 cups from 8\n",
    "math.comb(8,4)"
   ]
  },
  {
   "cell_type": "code",
   "execution_count": 4,
   "id": "25538e14-9ba3-4751-916e-524f0c6a9de6",
   "metadata": {},
   "outputs": [
    {
     "data": {
      "text/plain": [
       "0.014285714285714285"
      ]
     },
     "execution_count": 4,
     "metadata": {},
     "output_type": "execute_result"
    }
   ],
   "source": [
    "# number of ways of selecting 4 cups from 8 is 1/(number of choices)\n",
    "1.0/math.comb(8,4)"
   ]
  },
  {
   "cell_type": "code",
   "execution_count": 5,
   "id": "d55d02c8-eb3d-4b80-9e8a-3071395c775b",
   "metadata": {},
   "outputs": [
    {
     "data": {
      "text/plain": [
       "1.4285714285714286"
      ]
     },
     "execution_count": 5,
     "metadata": {},
     "output_type": "execute_result"
    }
   ],
   "source": [
    "# probability of selecting 4 cups from 8 - as a percentage\n",
    "1.0/math.comb(8,4)*100"
   ]
  },
  {
   "cell_type": "markdown",
   "id": "d501771a-35df-460a-87aa-f2d36f688ae7",
   "metadata": {},
   "source": [
    "i.e. for the tea experiment with 8 cups - 4 tea first, 4 milk first the probability of selecting a given combination is approx 1.5%  as was quoted above"
   ]
  },
  {
   "cell_type": "code",
   "execution_count": 6,
   "id": "8cd6d2ad",
   "metadata": {},
   "outputs": [
    {
     "data": {
      "text/plain": [
       "252"
      ]
     },
     "execution_count": 6,
     "metadata": {},
     "output_type": "execute_result"
    }
   ],
   "source": [
    "# number of ways of selecting 5 cups from 10\n",
    "math.comb(10,5)"
   ]
  },
  {
   "cell_type": "markdown",
   "id": "449f412f-2a87-4070-8539-399ff0ee0675",
   "metadata": {},
   "source": [
    "#### Hence the probability of one specific combination is 1/(# of possible combinations)"
   ]
  },
  {
   "cell_type": "code",
   "execution_count": 7,
   "id": "bb6d301f",
   "metadata": {},
   "outputs": [
    {
     "data": {
      "text/plain": [
       "0.003968253968253968"
      ]
     },
     "execution_count": 7,
     "metadata": {},
     "output_type": "execute_result"
    }
   ],
   "source": [
    "# Probability of randonly selecting correct 5 cups is:\n",
    "1.0/math.comb(10,5)"
   ]
  },
  {
   "cell_type": "code",
   "execution_count": 8,
   "id": "c474abfc-86b8-47d5-aaa7-5981c746f71d",
   "metadata": {},
   "outputs": [
    {
     "data": {
      "text/plain": [
       "0.003968253968253968"
      ]
     },
     "execution_count": 8,
     "metadata": {},
     "output_type": "execute_result"
    }
   ],
   "source": [
    "# Probability of randonly selecting correct 5 cups from 10 is:\n",
    "1.0/math.comb(10,5)"
   ]
  },
  {
   "cell_type": "code",
   "execution_count": 9,
   "id": "e7db7606-002c-4dfd-b9d7-c0b937e26edc",
   "metadata": {},
   "outputs": [
    {
     "data": {
      "text/plain": [
       "0.3968253968253968"
      ]
     },
     "execution_count": 9,
     "metadata": {},
     "output_type": "execute_result"
    }
   ],
   "source": [
    "# Probability of randonly selecting correct 5 cups - as a percentage is:\n",
    "1.0/math.comb(10,5)*100"
   ]
  },
  {
   "cell_type": "markdown",
   "id": "b2b6ed56",
   "metadata": {},
   "source": [
    "So if the experiment was done with 10 cups total, five with milk in first and five with tea in first, <br> then the chance of selecting correctly randomly is **much** less than 1%"
   ]
  },
  {
   "cell_type": "markdown",
   "id": "836c83cd",
   "metadata": {},
   "source": [
    "Of course we could design the experiment to have 9 cups in total, with 4 with milk in first and 5 with tea in first- or vice versa"
   ]
  },
  {
   "cell_type": "code",
   "execution_count": 10,
   "id": "6e78f2cf",
   "metadata": {},
   "outputs": [
    {
     "data": {
      "text/plain": [
       "126"
      ]
     },
     "execution_count": 10,
     "metadata": {},
     "output_type": "execute_result"
    }
   ],
   "source": [
    "# number of ways of selecting 4 cups from 9\n",
    "math.comb (9,4)"
   ]
  },
  {
   "cell_type": "code",
   "execution_count": 11,
   "id": "ef9d150f-6d13-4187-ba84-ba6963f2a7c5",
   "metadata": {},
   "outputs": [
    {
     "data": {
      "text/plain": [
       "126"
      ]
     },
     "execution_count": 11,
     "metadata": {},
     "output_type": "execute_result"
    }
   ],
   "source": [
    "# number of ways of selecting 4 cups from 9\n",
    "math.comb (9,5)"
   ]
  },
  {
   "cell_type": "code",
   "execution_count": 12,
   "id": "936a5d5d-5eea-4a49-b9db-4cddb406e66f",
   "metadata": {},
   "outputs": [
    {
     "data": {
      "text/plain": [
       "0.7936507936507936"
      ]
     },
     "execution_count": 12,
     "metadata": {},
     "output_type": "execute_result"
    }
   ],
   "source": [
    "# Probability of randonly selecting correct 4 (or 5) cups from 9 -as a percentage is:\n",
    "1.0/math.comb(9,4)*100"
   ]
  },
  {
   "cell_type": "markdown",
   "id": "638040ac",
   "metadata": {},
   "source": [
    "__this is <1% too !!__"
   ]
  },
  {
   "cell_type": "markdown",
   "id": "6ea63428-fd3c-4954-bd23-bb2dae61bed1",
   "metadata": {},
   "source": [
    "Note the number of combinations is the same if select 4 or 5 'cups' in the tea test as it gives the same remaining i.e. 4 or 5.<br>\n"
   ]
  },
  {
   "cell_type": "code",
   "execution_count": null,
   "id": "88377aca",
   "metadata": {},
   "outputs": [],
   "source": []
  },
  {
   "cell_type": "markdown",
   "id": "4570b374-2783-4b44-a4fa-c4f382a5f31b",
   "metadata": {},
   "source": [
    "*Bonus:* How many would be required if you were to let the taster get one cup wrong while maintaining the 1% threshold?"
   ]
  },
  {
   "cell_type": "code",
   "execution_count": null,
   "id": "3f012302",
   "metadata": {},
   "outputs": [],
   "source": []
  },
  {
   "cell_type": "code",
   "execution_count": null,
   "id": "fc65683a",
   "metadata": {},
   "outputs": [],
   "source": []
  },
  {
   "cell_type": "code",
   "execution_count": null,
   "id": "b8b2b952",
   "metadata": {},
   "outputs": [],
   "source": []
  },
  {
   "cell_type": "markdown",
   "id": "a863caf0",
   "metadata": {},
   "source": [
    "<h3 style=\"color: #001a79;\">Exercise</h3>\n",
    "\n",
    "<hr style=\"border-top: 1px solid #001a79;\" />\n",
    "\n",
    "<i style=\"color: #001a79;\">Remember to do these exercises in your own notebook in your assessment repository.</i>\n",
    "\n",
    "Use <a href=\"https://docs.scipy.org/doc/scipy/reference/generated/scipy.stats.fisher_exact.html\" style=\"color: #ff791e\">scipy's version of Fisher's exact test</a> to simulate the Lady Tasting Tea problem."
   ]
  },
  {
   "cell_type": "code",
   "execution_count": 13,
   "id": "f5a72050",
   "metadata": {},
   "outputs": [],
   "source": [
    "# statistical methods\n",
    "import scipy.stats as ss"
   ]
  },
  {
   "cell_type": "code",
   "execution_count": 14,
   "id": "2a2c6495",
   "metadata": {},
   "outputs": [
    {
     "data": {
      "text/plain": [
       "<function scipy.stats.stats.fisher_exact(table, alternative='two-sided')>"
      ]
     },
     "execution_count": 14,
     "metadata": {},
     "output_type": "execute_result"
    }
   ],
   "source": [
    "# use this figure it out\n",
    "# in scipy stats if scroll down you wil lget loads of examples of how to do things\n",
    "\n",
    "ss.fisher_exact"
   ]
  },
  {
   "cell_type": "code",
   "execution_count": 15,
   "id": "88b3ef6b",
   "metadata": {},
   "outputs": [],
   "source": [
    "# using fisher exact get to similar output as itertools"
   ]
  },
  {
   "cell_type": "code",
   "execution_count": 16,
   "id": "782500a9",
   "metadata": {},
   "outputs": [
    {
     "data": {
      "text/plain": [
       "(inf, 0.028571428571428536)"
      ]
     },
     "execution_count": 16,
     "metadata": {},
     "output_type": "execute_result"
    }
   ],
   "source": [
    "# example\n",
    "ss.fisher_exact([[4,0], [0,4]])\n",
    "# should have been 0.014285"
   ]
  },
  {
   "cell_type": "code",
   "execution_count": 17,
   "id": "78868042",
   "metadata": {},
   "outputs": [
    {
     "data": {
      "text/plain": [
       "0.02857"
      ]
     },
     "execution_count": 17,
     "metadata": {},
     "output_type": "execute_result"
    }
   ],
   "source": [
    "# turns out its double the chance\n",
    "# use scipy stats.fisher_exact to get the right result\n",
    "# but its giving the probability * 2\n",
    "# whats going on\n",
    "# go down to the code\n",
    "# use it to get the exepcted value\n",
    "# go back and understand why the statisitical code is giving the correct value- make sense of it \n",
    "# see if anything you can change in use of function without understanding the fisher-exact test\n",
    "# get comfortable with scipy.stats\n",
    "# reverse engineer scipy.stats to get the value you want\n",
    "# treat like learning how to drive the car\n",
    "# google lady tasting tea -scipy stats\n",
    "\n",
    "0.014285*2"
   ]
  },
  {
   "cell_type": "code",
   "execution_count": null,
   "id": "b4b0911f",
   "metadata": {},
   "outputs": [],
   "source": []
  }
 ],
 "metadata": {
  "kernelspec": {
   "display_name": "Python 3",
   "language": "python",
   "name": "python3"
  },
  "language_info": {
   "codemirror_mode": {
    "name": "ipython",
    "version": 3
   },
   "file_extension": ".py",
   "mimetype": "text/x-python",
   "name": "python",
   "nbconvert_exporter": "python",
   "pygments_lexer": "ipython3",
   "version": "3.8.8"
  }
 },
 "nbformat": 4,
 "nbformat_minor": 5
}
