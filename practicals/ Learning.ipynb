{
 "cells": [
  {
   "cell_type": "markdown",
   "id": "f24f5f0d",
   "metadata": {},
   "source": [
    "# Machine Learning\n",
    "\n",
    "_____"
   ]
  },
  {
   "cell_type": "markdown",
   "id": "1d583d18",
   "metadata": {},
   "source": [
    "crucial part of Machine Learning <br>\n",
    "Install tensorflow as below <br>- keras is part of tensorflow since a while "
   ]
  },
  {
   "cell_type": "markdown",
   "id": "7358ac5f",
   "metadata": {},
   "source": [
    "$ conda install tensorflow <br>\n",
    "https://keras.io/"
   ]
  },
  {
   "cell_type": "markdown",
   "id": "5f72b07e",
   "metadata": {},
   "source": [
    "## Packages\n",
    "\n",
    "_____"
   ]
  },
  {
   "cell_type": "code",
   "execution_count": null,
   "id": "75bb3f2e",
   "metadata": {},
   "outputs": [],
   "source": [
    "# Numerical arrays.\n",
    "import numpy as np\n",
    "\n",
    "# Plotting.\n",
    "import matplotlib.pyplot as plt\n",
    "\n"
   ]
  },
  {
   "cell_type": "code",
   "execution_count": null,
   "id": "8543e734",
   "metadata": {},
   "outputs": [],
   "source": [
    "# Neural networks.\n",
    "import tensorflow.keras as keras"
   ]
  },
  {
   "cell_type": "code",
   "execution_count": null,
   "id": "0e05c6b6",
   "metadata": {},
   "outputs": [],
   "source": [
    "# Horrible hack from: https://stackoverflow.com/a/53014308\n",
    "import os\n",
    "os.environ[\"KMP_DUPLICATE_LIB_OK\"]=\"TRUE\""
   ]
  },
  {
   "cell_type": "markdown",
   "id": "34723cf3",
   "metadata": {},
   "source": [
    "## Single Neuron\n",
    "\n",
    "_____"
   ]
  },
  {
   "cell_type": "markdown",
   "id": "919ec4ef",
   "metadata": {},
   "source": [
    "## Single Input\n",
    "\n",
    "_____"
   ]
  },
  {
   "attachments": {
    "image.png": {
     "image/png": "[encoded data removed]"
    }
   },
   "cell_type": "markdown",
   "id": "23d173f8",
   "metadata": {},
   "source": [
    "![image.png](attachment:image.png)"
   ]
  },
  {
   "cell_type": "markdown",
   "id": "b4e95810",
   "metadata": {},
   "source": [
    " $$y = mx + c$$\n",
    " $$ \\\\phi (x) = x $$\n",
    " $$ \\\\phi (w_1 x_1 + w_0 (1)) = w_1  x_1 + w_0 $$\n"
   ]
  },
  {
   "cell_type": "code",
   "execution_count": 9,
   "id": "a8a5207d",
   "metadata": {},
   "outputs": [],
   "source": [
    "# Identity activation function.\n",
    "def identity(x):\n",
    "    return x"
   ]
  },
  {
   "cell_type": "code",
   "execution_count": 10,
   "id": "5a9050ef",
   "metadata": {},
   "outputs": [],
   "source": [
    "# Firing a neuron.\n",
    "def fire_neuron(x, w):\n",
    "       return w[1] * x +w[0]"
   ]
  },
  {
   "cell_type": "code",
   "execution_count": 14,
   "id": "f00dad1a",
   "metadata": {},
   "outputs": [
    {
     "data": {
      "text/plain": [
       "2"
      ]
     },
     "execution_count": 14,
     "metadata": {},
     "output_type": "execute_result"
    }
   ],
   "source": [
    "fire_neuron(1, [2, 0])"
   ]
  },
  {
   "cell_type": "markdown",
   "id": "5fb5a6d8",
   "metadata": {},
   "source": [
    "    takes value x as input\n",
    "    above x =1\n",
    "    pass in w as a list [w0,w1]\n",
    "    [0] = 1st element in list. [1] next element etc\n",
    "    i.e[2,0]; w[0]=2, w[1]=0\n",
    "    hence (0*1)+2= 2"
   ]
  },
  {
   "cell_type": "code",
   "execution_count": 15,
   "id": "fd255fff",
   "metadata": {},
   "outputs": [
    {
     "data": {
      "text/plain": [
       "5"
      ]
     },
     "execution_count": 15,
     "metadata": {},
     "output_type": "execute_result"
    }
   ],
   "source": [
    "#this is all neurons do\n",
    "fire_neuron(1, [2, 3])"
   ]
  },
  {
   "cell_type": "code",
   "execution_count": 16,
   "id": "6b1af440",
   "metadata": {},
   "outputs": [
    {
     "data": {
      "text/plain": [
       "14"
      ]
     },
     "execution_count": 16,
     "metadata": {},
     "output_type": "execute_result"
    }
   ],
   "source": [
    "fire_neuron(4, [2, 3])"
   ]
  },
  {
   "cell_type": "code",
   "execution_count": null,
   "id": "3b74d558",
   "metadata": {},
   "outputs": [],
   "source": [
    "# starting listing x as a series of values\n",
    "# treat x as a list"
   ]
  },
  {
   "cell_type": "code",
   "execution_count": null,
   "id": "eada80b8",
   "metadata": {},
   "outputs": [],
   "source": [
    "# if x and w are numpy arrays\n",
    "# np.sum(x *w ) will work i.e. it will iterate through the list of x and w\n",
    "# 1st value of  x has to be 1.0 at index 0\n",
    "# x= np.array(1.0,4.0])\n",
    "# w= np.array(2.0,3.0])\n",
    "\n",
    "# x,w\n",
    "\n"
   ]
  },
  {
   "cell_type": "code",
   "execution_count": 19,
   "id": "a491e7a3",
   "metadata": {},
   "outputs": [
    {
     "data": {
      "text/plain": [
       "(array([1., 4.]), array([2., 3.]))"
      ]
     },
     "execution_count": 19,
     "metadata": {},
     "output_type": "execute_result"
    }
   ],
   "source": [
    "x= np.array([1.0,4.0])\n",
    "w= np.array([2.0,3.0])\n",
    "\n",
    "x,w"
   ]
  },
  {
   "cell_type": "code",
   "execution_count": 21,
   "id": "19b8b780",
   "metadata": {},
   "outputs": [],
   "source": [
    "# Firing a neuron.\n",
    "# will multiply 1st value of x with first value of w etc\n",
    "# 1st value of x has to always be 1 (xo) as depiced in the diagram\n",
    "def fire_neuron(x, w):\n",
    "    return(np.sum(x * w))"
   ]
  },
  {
   "cell_type": "code",
   "execution_count": null,
   "id": "f2c415dc",
   "metadata": {},
   "outputs": [],
   "source": [
    "# to get phi wrap it into the function\n",
    "# wrap output in phi\n",
    "# can pass as function in as an argument to another funvtion"
   ]
  },
  {
   "cell_type": "code",
   "execution_count": null,
   "id": "e4e5981a",
   "metadata": {},
   "outputs": [],
   "source": [
    "# Identity activation function.\n",
    "def identity(x):\n",
    "    return x"
   ]
  },
  {
   "cell_type": "code",
   "execution_count": null,
   "id": "88ecae60",
   "metadata": {},
   "outputs": [],
   "source": [
    "# Identity activation function.  Could be e.g. square the value\n",
    "#def identity(x):\n",
    "    #return x**2"
   ]
  },
  {
   "cell_type": "code",
   "execution_count": null,
   "id": "d046fba5",
   "metadata": {},
   "outputs": [],
   "source": [
    "# hence can pass 'phi' as function in as an argument to another function"
   ]
  },
  {
   "cell_type": "code",
   "execution_count": null,
   "id": "00ab10cb",
   "metadata": {},
   "outputs": [],
   "source": [
    "# Firing a neuron. with inputs passed in as x, w  and phi(identity function)\n",
    "# inputs x, with weights of values w, and activation function\n",
    "# need to supply a list of x values, weights and activation function\n",
    "# our x values will be supplied as a dataset\n",
    "# we want to be able to change the w's in some sort of systematic way\n",
    "# so that eventually its trained to give us the representation of x and w values\n",
    "# weights start mimicking the underlying relationship\n",
    "# training of the function\n",
    "def fire_neuron(x, w, phi):\n",
    "    return phi(np.sum(x * w))"
   ]
  },
  {
   "cell_type": "code",
   "execution_count": null,
   "id": "0488964a",
   "metadata": {},
   "outputs": [],
   "source": []
  },
  {
   "cell_type": "code",
   "execution_count": null,
   "id": "3e4fffdf",
   "metadata": {},
   "outputs": [],
   "source": [
    "# Our x values - always has to have 1.0 at index 0.\n",
    "x = np.array([1.0, 4.0])\n",
    "\n",
    "# Our weights.\n",
    "w = np.array([2.0, 3.0])\n",
    "\n",
    "x, w"
   ]
  },
  {
   "cell_type": "code",
   "execution_count": null,
   "id": "c896fdf8",
   "metadata": {},
   "outputs": [],
   "source": []
  },
  {
   "cell_type": "code",
   "execution_count": null,
   "id": "15bbd11b",
   "metadata": {},
   "outputs": [],
   "source": [
    "fire_neuron(x, w, identity)"
   ]
  },
  {
   "cell_type": "markdown",
   "id": "daa43f9f",
   "metadata": {},
   "source": [
    "## Data\n",
    "\n",
    "_____"
   ]
  },
  {
   "cell_type": "code",
   "execution_count": null,
   "id": "2c4be8c9",
   "metadata": {},
   "outputs": [],
   "source": [
    "# Real-world input values.\n",
    "data_in = np.arange(1.0, 13.0, 1.0)\n",
    "\n",
    "data_in"
   ]
  },
  {
   "cell_type": "code",
   "execution_count": null,
   "id": "ac3e668b",
   "metadata": {},
   "outputs": [],
   "source": [
    "# Real-world output values.\n",
    "data_out = 4.0 * data_in + np.random.normal(0.0, 1.0, len(data_in))\n",
    "\n",
    "data_out"
   ]
  },
  {
   "cell_type": "code",
   "execution_count": null,
   "id": "025c0a87",
   "metadata": {},
   "outputs": [],
   "source": [
    "plt.plot(data_in, data_out, 'k.');"
   ]
  },
  {
   "cell_type": "code",
   "execution_count": null,
   "id": "2063e6b6",
   "metadata": {},
   "outputs": [],
   "source": []
  },
  {
   "cell_type": "markdown",
   "id": "36e80592",
   "metadata": {},
   "source": [
    "## Training\n",
    "\n",
    "_____"
   ]
  },
  {
   "cell_type": "code",
   "execution_count": null,
   "id": "7d6a9f50",
   "metadata": {},
   "outputs": [],
   "source": [
    "# An index in the data set.\n",
    "i = 5"
   ]
  },
  {
   "cell_type": "code",
   "execution_count": null,
   "id": "012bbace",
   "metadata": {},
   "outputs": [],
   "source": [
    "# Actual input/output pair from the real world.\n",
    "data_in[i], data_out[i]"
   ]
  },
  {
   "cell_type": "code",
   "execution_count": null,
   "id": "24b86b99",
   "metadata": {},
   "outputs": [],
   "source": [
    "# Initial weights.\n",
    "w =  np.array([0.0, 1.0])\n",
    "\n",
    "# What the neuron currently outputs for the real-world input, based on current weights.\n",
    "fire_neuron(np.array([1.0, data_in[i]]), w, identity)"
   ]
  },
  {
   "cell_type": "code",
   "execution_count": null,
   "id": "41daafb4",
   "metadata": {},
   "outputs": [],
   "source": [
    "# The goal is to create an algorithm that updates w to move the output towards the real output.\n",
    "# Initial weights.\n",
    "w =  np.array([0.0, 4.0])\n",
    "\n",
    "# What the neuron could output for the real-world input, based on better weights.\n",
    "fire_neuron(np.array([1.0, data_in[i]]), w, identity)"
   ]
  },
  {
   "cell_type": "code",
   "execution_count": null,
   "id": "05c6c912",
   "metadata": {},
   "outputs": [],
   "source": []
  },
  {
   "cell_type": "markdown",
   "id": "a605a8aa",
   "metadata": {},
   "source": [
    "## Cost\n",
    "\n",
    "_____"
   ]
  },
  {
   "cell_type": "code",
   "execution_count": null,
   "id": "cbb82583",
   "metadata": {},
   "outputs": [],
   "source": [
    "# Usually use sum of squares.\n",
    "def cost(w, x, phi, y):\n",
    "    pred = fire_neuron(x, w, phi)\n",
    "    return (y - pred)**2"
   ]
  },
  {
   "cell_type": "code",
   "execution_count": null,
   "id": "5f4b77ec",
   "metadata": {},
   "outputs": [],
   "source": [
    "# An index in the data set.\n",
    "i = 5"
   ]
  },
  {
   "cell_type": "code",
   "execution_count": null,
   "id": "25f86a47",
   "metadata": {},
   "outputs": [],
   "source": [
    "# Cost of initial w.\n",
    "w = np.array([0.0, 1.0])\n",
    "\n",
    "cost(w, data_in[i], identity, data_out[i])"
   ]
  },
  {
   "cell_type": "code",
   "execution_count": null,
   "id": "0c6afc67",
   "metadata": {},
   "outputs": [],
   "source": [
    "# Cost of a \"better\" w.\n",
    "w = np.array([0.0, 4.0])\n",
    "\n",
    "cost(w, data_in[i], identity, data_out[i])"
   ]
  },
  {
   "cell_type": "code",
   "execution_count": null,
   "id": "6045fd44",
   "metadata": {},
   "outputs": [],
   "source": []
  },
  {
   "cell_type": "markdown",
   "id": "3e7f5cfc",
   "metadata": {},
   "source": [
    "## Training\n",
    "\n",
    "_____"
   ]
  },
  {
   "cell_type": "code",
   "execution_count": null,
   "id": "b61696a8",
   "metadata": {},
   "outputs": [],
   "source": [
    "# Hyperparameter.\n",
    "learning_rate = 0.001"
   ]
  },
  {
   "cell_type": "code",
   "execution_count": null,
   "id": "d2ccaf86",
   "metadata": {},
   "outputs": [],
   "source": []
  },
  {
   "cell_type": "code",
   "execution_count": null,
   "id": "131e43a1",
   "metadata": {},
   "outputs": [],
   "source": [
    "def train_neuron(x, y, w, phi):\n",
    "    # The possible adjustment to the weights.\n",
    "    adjust = np.array([0.0, learning_rate])\n",
    "    # Calculate the current cost.\n",
    "    current = cost(w, x, phi, y)\n",
    "    # Calculate the cost with slight adjustment to the weights.\n",
    "    adding = cost(w + adjust, x, phi, y)\n",
    "    # If the adjusted weights lower the cost, update the weights.\n",
    "    if adding < current:\n",
    "        w = w + adjust\n",
    "    # Otherwise move in the other direction.\n",
    "    else:\n",
    "        w = w - adjust\n",
    "    return w"
   ]
  },
  {
   "cell_type": "code",
   "execution_count": null,
   "id": "a868962a",
   "metadata": {},
   "outputs": [],
   "source": []
  },
  {
   "cell_type": "code",
   "execution_count": null,
   "id": "c09cf762",
   "metadata": {},
   "outputs": [],
   "source": [
    "# Set some initial weights.\n",
    "w = np.array([0.0, 1.0])"
   ]
  },
  {
   "cell_type": "code",
   "execution_count": null,
   "id": "3344c80c",
   "metadata": {},
   "outputs": [],
   "source": []
  },
  {
   "cell_type": "code",
   "execution_count": null,
   "id": "7a17145d",
   "metadata": {},
   "outputs": [],
   "source": [
    "# The training values.\n",
    "data_in[i], data_out[i]"
   ]
  },
  {
   "cell_type": "code",
   "execution_count": null,
   "id": "52aea4e8",
   "metadata": {},
   "outputs": [],
   "source": []
  },
  {
   "cell_type": "code",
   "execution_count": null,
   "id": "e6d30967",
   "metadata": {},
   "outputs": [],
   "source": [
    "# Current neuron output for data_in[i].\n",
    "fire_neuron(np.array([1.0, data_in[i]]), w, identity)"
   ]
  },
  {
   "cell_type": "code",
   "execution_count": null,
   "id": "9958a4d2",
   "metadata": {},
   "outputs": [],
   "source": []
  },
  {
   "cell_type": "code",
   "execution_count": null,
   "id": "510f29eb",
   "metadata": {},
   "outputs": [],
   "source": [
    "# Nudge the weights towards better values.\n",
    "w_improved = train_neuron(data_in[i], data_out[i], w, identity)\n",
    "w_improved"
   ]
  },
  {
   "cell_type": "code",
   "execution_count": null,
   "id": "645da186",
   "metadata": {},
   "outputs": [],
   "source": []
  },
  {
   "cell_type": "code",
   "execution_count": null,
   "id": "d3b0c716",
   "metadata": {},
   "outputs": [],
   "source": [
    "# Current neuron output for data_in[i].\n",
    "fire_neuron(np.array([1.0, data_in[i]]), w_improved, identity)"
   ]
  },
  {
   "cell_type": "code",
   "execution_count": null,
   "id": "b0953342",
   "metadata": {},
   "outputs": [],
   "source": []
  },
  {
   "cell_type": "code",
   "execution_count": null,
   "id": "2a3337da",
   "metadata": {},
   "outputs": [],
   "source": [
    "# Set some initial weights.\n",
    "w = np.array([0.0, 1.0])\n",
    "\n",
    "# Loop several times.\n",
    "for epoch in range(10000):\n",
    "    for i in range(len(data_in)):\n",
    "        w = train_neuron(data_in[i], data_out[i], w, identity)\n",
    "\n",
    "# Show w.\n",
    "w"
   ]
  },
  {
   "cell_type": "markdown",
   "id": "e84b4b37",
   "metadata": {},
   "source": [
    "## Using keras\n",
    "\n",
    "_____"
   ]
  },
  {
   "cell_type": "markdown",
   "id": "214815aa",
   "metadata": {},
   "source": [
    "Using keras\n",
    "https://github.com/keras-team/keras"
   ]
  },
  {
   "cell_type": "code",
   "execution_count": null,
   "id": "3b2dd6fe",
   "metadata": {},
   "outputs": [],
   "source": [
    "# Create a new sequential neural network.\n",
    "model = keras.Sequential()"
   ]
  },
  {
   "cell_type": "code",
   "execution_count": null,
   "id": "0cf6eb60",
   "metadata": {},
   "outputs": [],
   "source": []
  },
  {
   "cell_type": "code",
   "execution_count": null,
   "id": "d41c22c5",
   "metadata": {},
   "outputs": [],
   "source": [
    "# Add a dense layer with 64 neurons and use the relu activation function.\n",
    "model.add(keras.layers.Dense(units=64, activation='relu'))"
   ]
  },
  {
   "cell_type": "code",
   "execution_count": null,
   "id": "2a49ba87",
   "metadata": {},
   "outputs": [],
   "source": []
  },
  {
   "cell_type": "code",
   "execution_count": null,
   "id": "b8656fec",
   "metadata": {},
   "outputs": [],
   "source": [
    "\n",
    "# Add a dense layer with 10 neurons and the softmax activation function.\n",
    "model.add(keras.layers.Dense(units=10, activation='softmax'))"
   ]
  },
  {
   "cell_type": "code",
   "execution_count": null,
   "id": "cfd30243",
   "metadata": {},
   "outputs": [],
   "source": []
  },
  {
   "cell_type": "code",
   "execution_count": null,
   "id": "f4741010",
   "metadata": {},
   "outputs": [],
   "source": [
    "# Compile the neural network.\n",
    "model.compile(loss='categorical_crossentropy', optimizer='sgd', metrics=['accuracy'])"
   ]
  },
  {
   "cell_type": "code",
   "execution_count": null,
   "id": "a5ab5d7d",
   "metadata": {},
   "outputs": [],
   "source": []
  },
  {
   "cell_type": "code",
   "execution_count": null,
   "id": "bdd2e3cc",
   "metadata": {},
   "outputs": [],
   "source": [
    "# Create a fake training data set.\n",
    "x_train = np.random.normal(0.0, 1.0, (100, 64))\n",
    "y_train = np.random.normal(0.5, 0.1, (100, 10))"
   ]
  },
  {
   "cell_type": "code",
   "execution_count": null,
   "id": "b274a717",
   "metadata": {},
   "outputs": [],
   "source": []
  },
  {
   "cell_type": "code",
   "execution_count": null,
   "id": "046e3469",
   "metadata": {},
   "outputs": [],
   "source": [
    "# Train the neural network.\n",
    "model.fit(x_train, y_train, epochs=5, batch_size=32)"
   ]
  },
  {
   "cell_type": "code",
   "execution_count": null,
   "id": "8afeecfe",
   "metadata": {},
   "outputs": [],
   "source": []
  },
  {
   "cell_type": "code",
   "execution_count": null,
   "id": "b18e16b9",
   "metadata": {},
   "outputs": [],
   "source": [
    "# Create a fake training data set.\n",
    "x_test = np.random.normal(0.0, 1.0, (10, 64))\n",
    "y_test = np.random.normal(0.5, 0.1, (10, 10))"
   ]
  },
  {
   "cell_type": "code",
   "execution_count": null,
   "id": "60515e29",
   "metadata": {},
   "outputs": [],
   "source": []
  },
  {
   "cell_type": "code",
   "execution_count": null,
   "id": "70435d9c",
   "metadata": {},
   "outputs": [],
   "source": [
    "# Evaluate the network.\n",
    "loss_and_metrics = model.evaluate(x_test, y_test, batch_size=128)"
   ]
  },
  {
   "cell_type": "code",
   "execution_count": null,
   "id": "40f2c8da",
   "metadata": {},
   "outputs": [],
   "source": []
  },
  {
   "cell_type": "code",
   "execution_count": null,
   "id": "be998285",
   "metadata": {},
   "outputs": [],
   "source": [
    "# Make predictions for the test set.\n",
    "classes = model.predict(x_test, batch_size=128)"
   ]
  },
  {
   "cell_type": "code",
   "execution_count": null,
   "id": "5659fddc",
   "metadata": {},
   "outputs": [],
   "source": [
    "classes"
   ]
  },
  {
   "cell_type": "markdown",
   "id": "4e35a6f8",
   "metadata": {},
   "source": [
    "## Single Neuron in keras\n",
    "\n",
    "_____"
   ]
  },
  {
   "cell_type": "code",
   "execution_count": null,
   "id": "538dc4ba",
   "metadata": {},
   "outputs": [],
   "source": [
    "# Create a new sequential neural network.\n",
    "model = keras.Sequential()"
   ]
  },
  {
   "cell_type": "code",
   "execution_count": null,
   "id": "7b7aec2b",
   "metadata": {},
   "outputs": [],
   "source": []
  },
  {
   "cell_type": "code",
   "execution_count": null,
   "id": "10fae9b2",
   "metadata": {},
   "outputs": [],
   "source": [
    "# Add a dense layer with 1 neuron and the identity activation function.\n",
    "model.add(keras.layers.Dense(units=1))"
   ]
  },
  {
   "cell_type": "code",
   "execution_count": null,
   "id": "ef0fdabb",
   "metadata": {},
   "outputs": [],
   "source": []
  },
  {
   "cell_type": "code",
   "execution_count": null,
   "id": "5a0aa98a",
   "metadata": {},
   "outputs": [],
   "source": [
    "# Compile the neural network.\n",
    "model.compile(loss='mean_squared_error', optimizer='sgd', metrics=['accuracy'])"
   ]
  },
  {
   "cell_type": "code",
   "execution_count": null,
   "id": "9f551a5b",
   "metadata": {},
   "outputs": [],
   "source": []
  },
  {
   "cell_type": "code",
   "execution_count": null,
   "id": "b1578549",
   "metadata": {},
   "outputs": [],
   "source": [
    "# Real-world input values.\n",
    "data_in = np.arange(1.0, 13.0, 0.01)\n",
    "\n",
    "# https://stackoverflow.com/a/47468541\n",
    "data_in = data_in.reshape(-1, 1)\n",
    "\n",
    "data_in"
   ]
  },
  {
   "cell_type": "code",
   "execution_count": null,
   "id": "b5e8de9c",
   "metadata": {},
   "outputs": [],
   "source": []
  },
  {
   "cell_type": "code",
   "execution_count": null,
   "id": "c915731d",
   "metadata": {},
   "outputs": [],
   "source": [
    "# Real-world output values.\n",
    "data_out = 4.0 * data_in + np.random.normal(0.0, 1.0, data_in.shape)\n",
    "\n",
    "data_out"
   ]
  },
  {
   "cell_type": "code",
   "execution_count": null,
   "id": "c0257467",
   "metadata": {},
   "outputs": [],
   "source": []
  },
  {
   "cell_type": "code",
   "execution_count": null,
   "id": "393bb636",
   "metadata": {},
   "outputs": [],
   "source": [
    "# Train the neural network.\n",
    "model.fit(data_in, data_out, epochs=5, batch_size=32)"
   ]
  },
  {
   "cell_type": "code",
   "execution_count": null,
   "id": "c89ea2ad",
   "metadata": {},
   "outputs": [],
   "source": []
  },
  {
   "cell_type": "code",
   "execution_count": null,
   "id": "b44bb59f",
   "metadata": {},
   "outputs": [],
   "source": [
    "# Test input values.\n",
    "data_test = np.linspace(-10.0, 20.0, 1001).reshape(-1, 1)\n",
    "\n",
    "# Feed test values into neural network.\n",
    "preds = model.predict(data_test)"
   ]
  },
  {
   "cell_type": "code",
   "execution_count": null,
   "id": "7f45a15c",
   "metadata": {},
   "outputs": [],
   "source": []
  },
  {
   "cell_type": "code",
   "execution_count": null,
   "id": "c13597f0",
   "metadata": {},
   "outputs": [],
   "source": [
    "data_test.flatten()[0]"
   ]
  },
  {
   "cell_type": "code",
   "execution_count": null,
   "id": "91680913",
   "metadata": {},
   "outputs": [],
   "source": []
  },
  {
   "cell_type": "code",
   "execution_count": null,
   "id": "6f78eee1",
   "metadata": {},
   "outputs": [],
   "source": [
    "# Plot the values.\n",
    "fig, ax = plt.subplots(figsize=(12, 6))\n",
    "\n",
    "# Plot the original data set.\n",
    "ax.plot(data_in.flatten(), data_out.flatten(), 'rx', label='Training')\n",
    "\n",
    "# Plot the predicted data set.\n",
    "ax.plot(data_test.flatten(), preds.flatten(), 'b.', label='Predictions');"
   ]
  },
  {
   "cell_type": "code",
   "execution_count": null,
   "id": "9621bcf6",
   "metadata": {},
   "outputs": [],
   "source": []
  },
  {
   "cell_type": "markdown",
   "id": "f96c6c92",
   "metadata": {},
   "source": [
    "_____\n",
    "\n",
    "## End\n",
    "\n"
   ]
  },
  {
   "cell_type": "code",
   "execution_count": null,
   "id": "acb1259e",
   "metadata": {},
   "outputs": [],
   "source": []
  }
 ],
 "metadata": {
  "kernelspec": {
   "display_name": "Python 3",
   "language": "python",
   "name": "python3"
  },
  "language_info": {
   "codemirror_mode": {
    "name": "ipython",
    "version": 3
   },
   "file_extension": ".py",
   "mimetype": "text/x-python",
   "name": "python",
   "nbconvert_exporter": "python",
   "pygments_lexer": "ipython3",
   "version": "3.8.8"
  }
 },
 "nbformat": 4,
 "nbformat_minor": 5
}
