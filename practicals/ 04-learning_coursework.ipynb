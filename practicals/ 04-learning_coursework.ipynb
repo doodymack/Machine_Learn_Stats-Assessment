{
 "cells": [
  {
   "cell_type": "markdown",
   "id": "f24f5f0d",
   "metadata": {},
   "source": [
    "# Machine Learning\n",
    "\n",
    "_____"
   ]
  },
  {
   "cell_type": "markdown",
   "id": "1d583d18",
   "metadata": {},
   "source": [
    "crucial part of Machine Learning <br>\n",
    "Install tensorflow as below <br>- keras is part of tensorflow since a while "
   ]
  },
  {
   "cell_type": "markdown",
   "id": "7358ac5f",
   "metadata": {},
   "source": [
    "$ conda install tensorflow <br>\n",
    "https://keras.io/"
   ]
  },
  {
   "cell_type": "markdown",
   "id": "5f72b07e",
   "metadata": {},
   "source": [
    "## Packages\n",
    "\n",
    "_____"
   ]
  },
  {
   "cell_type": "code",
   "execution_count": 1,
   "id": "75bb3f2e",
   "metadata": {},
   "outputs": [],
   "source": [
    "# Numerical arrays.\n",
    "import numpy as np\n",
    "\n",
    "# Plotting.\n",
    "import matplotlib.pyplot as plt\n",
    "\n"
   ]
  },
  {
   "cell_type": "code",
   "execution_count": 2,
   "id": "8543e734",
   "metadata": {},
   "outputs": [],
   "source": [
    "# Neural networks.\n",
    "import tensorflow.keras as keras"
   ]
  },
  {
   "cell_type": "code",
   "execution_count": 3,
   "id": "0e05c6b6",
   "metadata": {},
   "outputs": [],
   "source": [
    "# Horrible hack from: https://stackoverflow.com/a/53014308\n",
    "import os\n",
    "os.environ[\"KMP_DUPLICATE_LIB_OK\"]=\"TRUE\""
   ]
  },
  {
   "cell_type": "markdown",
   "id": "34723cf3",
   "metadata": {},
   "source": [
    "## Single Neuron\n",
    "\n",
    "_____"
   ]
  },
  {
   "cell_type": "markdown",
   "id": "919ec4ef",
   "metadata": {},
   "source": [
    "## Single Input\n",
    "\n",
    "_____"
   ]
  },
  {
   "attachments": {
    "image.png": {
     "image/png": "[encoded data removed]"
    }
   },
   "cell_type": "markdown",
   "id": "23d173f8",
   "metadata": {},
   "source": [
    "![image.png](attachment:image.png)"
   ]
  },
  {
   "cell_type": "markdown",
   "id": "b4e95810",
   "metadata": {},
   "source": [
    " $$y = mx + c$$\n",
    " $$ \\\\phi (x) = x $$\n",
    " $$ \\\\phi (w_1 x_1 + w_0 (1)) = w_1  x_1 + w_0 $$\n"
   ]
  },
  {
   "cell_type": "code",
   "execution_count": 4,
   "id": "a8a5207d",
   "metadata": {},
   "outputs": [],
   "source": [
    "# Identity activation function.\n",
    "def identity(x):\n",
    "    return x"
   ]
  },
  {
   "cell_type": "code",
   "execution_count": 5,
   "id": "5a9050ef",
   "metadata": {},
   "outputs": [],
   "source": [
    "# Firing a neuron.\n",
    "def fire_neuron(x, w):\n",
    "       return w[1] * x +w[0]"
   ]
  },
  {
   "cell_type": "code",
   "execution_count": 6,
   "id": "f00dad1a",
   "metadata": {},
   "outputs": [
    {
     "data": {
      "text/plain": [
       "2"
      ]
     },
     "execution_count": 6,
     "metadata": {},
     "output_type": "execute_result"
    }
   ],
   "source": [
    "fire_neuron(1, [2, 0])"
   ]
  },
  {
   "cell_type": "markdown",
   "id": "5fb5a6d8",
   "metadata": {},
   "source": [
    "    takes value x as input\n",
    "    above x =1\n",
    "    pass in w as a list [w0,w1]\n",
    "    [0] = 1st element in list. [1] next element etc\n",
    "    i.e[2,0]; w[0]=2, w[1]=0\n",
    "    hence (0*1)+2= 2"
   ]
  },
  {
   "cell_type": "code",
   "execution_count": 7,
   "id": "fd255fff",
   "metadata": {},
   "outputs": [
    {
     "data": {
      "text/plain": [
       "5"
      ]
     },
     "execution_count": 7,
     "metadata": {},
     "output_type": "execute_result"
    }
   ],
   "source": [
    "#this is all neurons do\n",
    "# i.e. w0 is index 0= 2 therefore whatever factor wx is we will  add 2\n",
    "# w1 is index 1.  In the array below thats 3.\n",
    "# x is defined as 1 below.\n",
    "# Thus from def fire neuron above:\n",
    "#  = 1*3[W1] +2[W0]= 5\n",
    "fire_neuron(1, [2, 3])"
   ]
  },
  {
   "cell_type": "code",
   "execution_count": 8,
   "id": "6b1af440",
   "metadata": {},
   "outputs": [
    {
     "data": {
      "text/plain": [
       "14"
      ]
     },
     "execution_count": 8,
     "metadata": {},
     "output_type": "execute_result"
    }
   ],
   "source": [
    "fire_neuron(4, [2, 3])"
   ]
  },
  {
   "cell_type": "code",
   "execution_count": 9,
   "id": "35a511b3-6312-4110-8e4f-b6617484e6ef",
   "metadata": {},
   "outputs": [
    {
     "data": {
      "text/plain": [
       "30"
      ]
     },
     "execution_count": 9,
     "metadata": {},
     "output_type": "execute_result"
    }
   ],
   "source": [
    "fire_neuron(5, [5, 5])"
   ]
  },
  {
   "cell_type": "code",
   "execution_count": 10,
   "id": "3b74d558",
   "metadata": {},
   "outputs": [],
   "source": [
    "# starting listing x as a series of values\n",
    "# treat x as a list"
   ]
  },
  {
   "cell_type": "code",
   "execution_count": 11,
   "id": "eada80b8",
   "metadata": {},
   "outputs": [],
   "source": [
    "# if x and w are numpy arrays\n",
    "# np.sum(x *w ) will work i.e. it will iterate through the list of x and w\n",
    "# 1st value of  x has to be 1.0 at index 0\n",
    "# x= np.array(1.0,4.0])\n",
    "# w= np.array(2.0,3.0])\n",
    "\n",
    "# x,w\n",
    "\n"
   ]
  },
  {
   "cell_type": "code",
   "execution_count": 12,
   "id": "a491e7a3",
   "metadata": {},
   "outputs": [
    {
     "data": {
      "text/plain": [
       "(array([1., 4.]), array([2., 3.]))"
      ]
     },
     "execution_count": 12,
     "metadata": {},
     "output_type": "execute_result"
    }
   ],
   "source": [
    "x= np.array([1.0,4.0])\n",
    "w= np.array([2.0,3.0])\n",
    "\n",
    "x,w"
   ]
  },
  {
   "cell_type": "code",
   "execution_count": 13,
   "id": "19b8b780",
   "metadata": {},
   "outputs": [],
   "source": [
    "# Firing a neuron.\n",
    "# will multiply 1st value of x with first value of w etc\n",
    "# 1st value of x has to always be 1 (xo) as depiced in the diagram\n",
    "def fire_neuron(x, w):\n",
    "    return(np.sum(x * w))"
   ]
  },
  {
   "cell_type": "code",
   "execution_count": 14,
   "id": "f2c415dc",
   "metadata": {},
   "outputs": [],
   "source": [
    "# to get phi wrap it into the function\n",
    "# wrap output in phi\n",
    "# can pass as function in as an argument to another function"
   ]
  },
  {
   "cell_type": "code",
   "execution_count": 15,
   "id": "e4e5981a",
   "metadata": {},
   "outputs": [],
   "source": [
    "# Identity activation function.\n",
    "def identity(x):\n",
    "    return x"
   ]
  },
  {
   "cell_type": "code",
   "execution_count": 16,
   "id": "88ecae60",
   "metadata": {},
   "outputs": [],
   "source": [
    "# Identity activation function.  Could be e.g. square the value\n",
    "#def identity(x):\n",
    "    #return x**2"
   ]
  },
  {
   "cell_type": "code",
   "execution_count": 17,
   "id": "d046fba5",
   "metadata": {},
   "outputs": [],
   "source": [
    "# hence can pass 'phi' as function in as an argument to another function"
   ]
  },
  {
   "cell_type": "code",
   "execution_count": 18,
   "id": "00ab10cb",
   "metadata": {},
   "outputs": [],
   "source": [
    "# Firing a neuron. with inputs passed in as x, w  and phi(identity function)\n",
    "# inputs x, with weights of values w, and activation function\n",
    "# need to supply a list of x values, weights and activation function\n",
    "# our x values will be supplied as a dataset\n",
    "# we want to be able to change the w's in some sort of systematic way\n",
    "# so that eventually its trained to give us the representation of x and w values\n",
    "# weights start mimicking the underlying relationship\n",
    "# training of the function\n",
    "def fire_neuron(x, w, phi):\n",
    "    return phi(np.sum(x * w))"
   ]
  },
  {
   "cell_type": "code",
   "execution_count": null,
   "id": "0488964a",
   "metadata": {},
   "outputs": [],
   "source": []
  },
  {
   "cell_type": "code",
   "execution_count": 19,
   "id": "3e4fffdf",
   "metadata": {},
   "outputs": [
    {
     "data": {
      "text/plain": [
       "(array([1., 4.]), array([2., 3.]))"
      ]
     },
     "execution_count": 19,
     "metadata": {},
     "output_type": "execute_result"
    }
   ],
   "source": [
    "# Our x values - always has to have 1.0 at index 0.\n",
    "x = np.array([1.0, 4.0])\n",
    "\n",
    "# Our weights.\n",
    "w = np.array([2.0, 3.0])\n",
    "\n",
    "x, w"
   ]
  },
  {
   "cell_type": "code",
   "execution_count": null,
   "id": "c896fdf8",
   "metadata": {},
   "outputs": [],
   "source": []
  },
  {
   "cell_type": "code",
   "execution_count": 20,
   "id": "15bbd11b",
   "metadata": {},
   "outputs": [
    {
     "data": {
      "text/plain": [
       "14.0"
      ]
     },
     "execution_count": 20,
     "metadata": {},
     "output_type": "execute_result"
    }
   ],
   "source": [
    "fire_neuron(x, w, identity)"
   ]
  },
  {
   "cell_type": "markdown",
   "id": "daa43f9f",
   "metadata": {},
   "source": [
    "## Data\n",
    "\n",
    "_____"
   ]
  },
  {
   "cell_type": "code",
   "execution_count": 21,
   "id": "2c4be8c9",
   "metadata": {},
   "outputs": [
    {
     "data": {
      "text/plain": [
       "array([ 1.,  2.,  3.,  4.,  5.,  6.,  7.,  8.,  9., 10., 11., 12.])"
      ]
     },
     "execution_count": 21,
     "metadata": {},
     "output_type": "execute_result"
    }
   ],
   "source": [
    "# Real-world input values.\n",
    "data_in = np.arange(1.0, 13.0, 1.0)\n",
    "\n",
    "data_in"
   ]
  },
  {
   "cell_type": "code",
   "execution_count": 22,
   "id": "ac3e668b",
   "metadata": {},
   "outputs": [
    {
     "data": {
      "text/plain": [
       "array([ 3.56409537,  8.38884893,  8.7411225 , 18.476107  , 20.8021232 ,\n",
       "       25.76498014, 28.55693947, 31.53461384, 35.46511785, 39.34024808,\n",
       "       44.29114998, 47.36531822])"
      ]
     },
     "execution_count": 22,
     "metadata": {},
     "output_type": "execute_result"
    }
   ],
   "source": [
    "# Real-world output values.\n",
    "data_out = 4.0 * data_in + np.random.normal(0.0, 1.0, len(data_in))\n",
    "\n",
    "data_out"
   ]
  },
  {
   "cell_type": "code",
   "execution_count": 23,
   "id": "025c0a87",
   "metadata": {},
   "outputs": [
    {
     "data": {
      "image/png": "[encoded data removed]",
      "text/plain": [
       "<Figure size 432x288 with 1 Axes>"
      ]
     },
     "metadata": {
      "needs_background": "light"
     },
     "output_type": "display_data"
    }
   ],
   "source": [
    "plt.plot(data_in, data_out, 'k.');"
   ]
  },
  {
   "cell_type": "code",
   "execution_count": null,
   "id": "2063e6b6",
   "metadata": {},
   "outputs": [],
   "source": []
  },
  {
   "cell_type": "markdown",
   "id": "36e80592",
   "metadata": {},
   "source": [
    "## Training\n",
    "\n",
    "_____"
   ]
  },
  {
   "cell_type": "code",
   "execution_count": 24,
   "id": "7d6a9f50",
   "metadata": {},
   "outputs": [],
   "source": [
    "# An index in the data set.\n",
    "i = 5"
   ]
  },
  {
   "cell_type": "code",
   "execution_count": 25,
   "id": "012bbace",
   "metadata": {},
   "outputs": [
    {
     "data": {
      "text/plain": [
       "(6.0, 25.764980140341486)"
      ]
     },
     "execution_count": 25,
     "metadata": {},
     "output_type": "execute_result"
    }
   ],
   "source": [
    "# Actual input/output pair from the real world.\n",
    "data_in[i], data_out[i]"
   ]
  },
  {
   "cell_type": "code",
   "execution_count": 26,
   "id": "24b86b99",
   "metadata": {},
   "outputs": [
    {
     "data": {
      "text/plain": [
       "6.0"
      ]
     },
     "execution_count": 26,
     "metadata": {},
     "output_type": "execute_result"
    }
   ],
   "source": [
    "# Initial weights.\n",
    "w =  np.array([0.0, 1.0])\n",
    "\n",
    "# What the neuron currently outputs for the real-world input, based on current weights.\n",
    "fire_neuron(np.array([1.0, data_in[i]]), w, identity)"
   ]
  },
  {
   "cell_type": "code",
   "execution_count": 27,
   "id": "41daafb4",
   "metadata": {},
   "outputs": [
    {
     "data": {
      "text/plain": [
       "24.0"
      ]
     },
     "execution_count": 27,
     "metadata": {},
     "output_type": "execute_result"
    }
   ],
   "source": [
    "# The goal is to create an algorithm that updates w to move the output towards the real output.\n",
    "# Initial weights.\n",
    "w =  np.array([0.0, 4.0])\n",
    "\n",
    "# What the neuron could output for the real-world input, based on better weights.\n",
    "fire_neuron(np.array([1.0, data_in[i]]), w, identity)"
   ]
  },
  {
   "cell_type": "code",
   "execution_count": null,
   "id": "05c6c912",
   "metadata": {},
   "outputs": [],
   "source": []
  },
  {
   "cell_type": "markdown",
   "id": "a605a8aa",
   "metadata": {},
   "source": [
    "## Cost\n",
    "\n",
    "_____"
   ]
  },
  {
   "cell_type": "code",
   "execution_count": 28,
   "id": "cbb82583",
   "metadata": {},
   "outputs": [],
   "source": [
    "# Usually use sum of squares.\n",
    "def cost(w, x, phi, y):\n",
    "    pred = fire_neuron(x, w, phi)\n",
    "    return (y - pred)**2"
   ]
  },
  {
   "cell_type": "code",
   "execution_count": 29,
   "id": "5f4b77ec",
   "metadata": {},
   "outputs": [],
   "source": [
    "# An index in the data set.\n",
    "i = 5"
   ]
  },
  {
   "cell_type": "code",
   "execution_count": 30,
   "id": "25f86a47",
   "metadata": {},
   "outputs": [
    {
     "data": {
      "text/plain": [
       "390.65443994809334"
      ]
     },
     "execution_count": 30,
     "metadata": {},
     "output_type": "execute_result"
    }
   ],
   "source": [
    "# Cost of initial w.\n",
    "w = np.array([0.0, 1.0])\n",
    "\n",
    "cost(w, data_in[i], identity, data_out[i])"
   ]
  },
  {
   "cell_type": "code",
   "execution_count": 31,
   "id": "0c6afc67",
   "metadata": {},
   "outputs": [
    {
     "data": {
      "text/plain": [
       "3.11515489579985"
      ]
     },
     "execution_count": 31,
     "metadata": {},
     "output_type": "execute_result"
    }
   ],
   "source": [
    "# Cost of a \"better\" w.\n",
    "w = np.array([0.0, 4.0])\n",
    "\n",
    "cost(w, data_in[i], identity, data_out[i])"
   ]
  },
  {
   "cell_type": "code",
   "execution_count": null,
   "id": "6045fd44",
   "metadata": {},
   "outputs": [],
   "source": []
  },
  {
   "cell_type": "markdown",
   "id": "3e7f5cfc",
   "metadata": {},
   "source": [
    "## Training\n",
    "\n",
    "_____"
   ]
  },
  {
   "cell_type": "code",
   "execution_count": 32,
   "id": "b61696a8",
   "metadata": {},
   "outputs": [],
   "source": [
    "# Hyperparameter.\n",
    "learning_rate = 0.001"
   ]
  },
  {
   "cell_type": "code",
   "execution_count": null,
   "id": "d2ccaf86",
   "metadata": {},
   "outputs": [],
   "source": []
  },
  {
   "cell_type": "code",
   "execution_count": 33,
   "id": "131e43a1",
   "metadata": {},
   "outputs": [],
   "source": [
    "def train_neuron(x, y, w, phi):\n",
    "    # The possible adjustment to the weights.\n",
    "    adjust = np.array([0.0, learning_rate])\n",
    "    # Calculate the current cost.\n",
    "    current = cost(w, x, phi, y)\n",
    "    # Calculate the cost with slight adjustment to the weights.\n",
    "    adding = cost(w + adjust, x, phi, y)\n",
    "    # If the adjusted weights lower the cost, update the weights.\n",
    "    if adding < current:\n",
    "        w = w + adjust\n",
    "    # Otherwise move in the other direction.\n",
    "    else:\n",
    "        w = w - adjust\n",
    "    return w"
   ]
  },
  {
   "cell_type": "code",
   "execution_count": null,
   "id": "a868962a",
   "metadata": {},
   "outputs": [],
   "source": []
  },
  {
   "cell_type": "code",
   "execution_count": 34,
   "id": "c09cf762",
   "metadata": {},
   "outputs": [],
   "source": [
    "# Set some initial weights.\n",
    "w = np.array([0.0, 1.0])"
   ]
  },
  {
   "cell_type": "code",
   "execution_count": null,
   "id": "3344c80c",
   "metadata": {},
   "outputs": [],
   "source": []
  },
  {
   "cell_type": "code",
   "execution_count": 35,
   "id": "7a17145d",
   "metadata": {},
   "outputs": [
    {
     "data": {
      "text/plain": [
       "(6.0, 25.764980140341486)"
      ]
     },
     "execution_count": 35,
     "metadata": {},
     "output_type": "execute_result"
    }
   ],
   "source": [
    "# The training values.\n",
    "data_in[i], data_out[i]"
   ]
  },
  {
   "cell_type": "code",
   "execution_count": null,
   "id": "52aea4e8",
   "metadata": {},
   "outputs": [],
   "source": []
  },
  {
   "cell_type": "code",
   "execution_count": 36,
   "id": "e6d30967",
   "metadata": {},
   "outputs": [
    {
     "data": {
      "text/plain": [
       "6.0"
      ]
     },
     "execution_count": 36,
     "metadata": {},
     "output_type": "execute_result"
    }
   ],
   "source": [
    "# Current neuron output for data_in[i].\n",
    "fire_neuron(np.array([1.0, data_in[i]]), w, identity)"
   ]
  },
  {
   "cell_type": "code",
   "execution_count": null,
   "id": "9958a4d2",
   "metadata": {},
   "outputs": [],
   "source": []
  },
  {
   "cell_type": "code",
   "execution_count": 37,
   "id": "510f29eb",
   "metadata": {},
   "outputs": [
    {
     "data": {
      "text/plain": [
       "array([0.   , 1.001])"
      ]
     },
     "execution_count": 37,
     "metadata": {},
     "output_type": "execute_result"
    }
   ],
   "source": [
    "# Nudge the weights towards better values.\n",
    "w_improved = train_neuron(data_in[i], data_out[i], w, identity)\n",
    "w_improved"
   ]
  },
  {
   "cell_type": "code",
   "execution_count": null,
   "id": "645da186",
   "metadata": {},
   "outputs": [],
   "source": []
  },
  {
   "cell_type": "code",
   "execution_count": 38,
   "id": "d3b0c716",
   "metadata": {},
   "outputs": [
    {
     "data": {
      "text/plain": [
       "6.005999999999999"
      ]
     },
     "execution_count": 38,
     "metadata": {},
     "output_type": "execute_result"
    }
   ],
   "source": [
    "# Current neuron output for data_in[i].\n",
    "fire_neuron(np.array([1.0, data_in[i]]), w_improved, identity)"
   ]
  },
  {
   "cell_type": "code",
   "execution_count": null,
   "id": "b0953342",
   "metadata": {},
   "outputs": [],
   "source": []
  },
  {
   "cell_type": "code",
   "execution_count": 39,
   "id": "2a3337da",
   "metadata": {},
   "outputs": [
    {
     "data": {
      "text/plain": [
       "array([0.   , 3.946])"
      ]
     },
     "execution_count": 39,
     "metadata": {},
     "output_type": "execute_result"
    }
   ],
   "source": [
    "# Set some initial weights.\n",
    "w = np.array([0.0, 1.0])\n",
    "\n",
    "# Loop several times.\n",
    "for epoch in range(10000):\n",
    "    for i in range(len(data_in)):\n",
    "        w = train_neuron(data_in[i], data_out[i], w, identity)\n",
    "\n",
    "# Show w.\n",
    "w"
   ]
  },
  {
   "cell_type": "markdown",
   "id": "e84b4b37",
   "metadata": {},
   "source": [
    "## Using keras\n",
    "\n",
    "_____"
   ]
  },
  {
   "cell_type": "markdown",
   "id": "214815aa",
   "metadata": {},
   "source": [
    "Using keras\n",
    "https://github.com/keras-team/keras"
   ]
  },
  {
   "cell_type": "code",
   "execution_count": 40,
   "id": "a14fdc1f-e857-4a51-8cb3-775336e4b40b",
   "metadata": {},
   "outputs": [],
   "source": [
    "# run through the steps with a nonesense dataset"
   ]
  },
  {
   "cell_type": "code",
   "execution_count": 41,
   "id": "74bd74b6-f22c-411c-96a2-e063c1f872c0",
   "metadata": {},
   "outputs": [],
   "source": [
    "# Importing keras (already installed above) - ERROR IF INSTALLED MORE THAN ONCE IN THE KERNEL\n",
    "# import tensorflow.keras as keras"
   ]
  },
  {
   "cell_type": "code",
   "execution_count": 42,
   "id": "3b2dd6fe",
   "metadata": {},
   "outputs": [],
   "source": [
    "# Create a new sequential neural network.\n",
    "# sequentilal means designing by sequentially add neurons in layers\n",
    "model = keras.Sequential()"
   ]
  },
  {
   "cell_type": "code",
   "execution_count": 43,
   "id": "d41c22c5",
   "metadata": {},
   "outputs": [],
   "source": [
    "# Add a dense layer with 64 neurons and use the relu activation function.\n",
    "# copied from github.com/keras-team/keras\n",
    "# add to model above\n",
    "# use dense.layer \n",
    "# 64 neurons will be calculated before the 10 neurons in the 2nd layer below\n",
    "model.add(keras.layers.Dense(units=64, activation='relu'))"
   ]
  },
  {
   "cell_type": "code",
   "execution_count": 44,
   "id": "2a49ba87",
   "metadata": {},
   "outputs": [],
   "source": [
    "# Add a dense layer with 10 neurons and the softmax activation function.\n",
    "# dense: every single of 10 neurons in 2nd layer will get an input from each of the 64 neurons in layer before it\n",
    "# 640 conenctions each with their own weight \n",
    "model.add(keras.layers.Dense(units=10, activation='softmax'))"
   ]
  },
  {
   "cell_type": "code",
   "execution_count": 45,
   "id": "cfd30243",
   "metadata": {},
   "outputs": [],
   "source": [
    "# Compile the neural network.\n",
    "# loss = 'categorical crossentropy'\n",
    "# stacastic gradient descent - looks for local minimum\n",
    "# loss is synonym for cost (cost function)\n",
    "# keep an eye on metrics\n",
    "# compile - make that into a nice package- i.e. build the graph in tensorflow\n",
    "model.compile(loss='categorical_crossentropy', optimizer='sgd', metrics=['accuracy'])"
   ]
  },
  {
   "cell_type": "code",
   "execution_count": 62,
   "id": "a5ab5d7d",
   "metadata": {},
   "outputs": [
    {
     "data": {
      "text/plain": [
       "array([[0.40299073, 0.49106387, 0.51872249, 0.58900504, 0.49954213,\n",
       "        0.57098032, 0.66619873, 0.48866093, 0.42226427, 0.64119596]])"
      ]
     },
     "execution_count": 62,
     "metadata": {},
     "output_type": "execute_result"
    }
   ],
   "source": [
    "# Create a fake training data set.\n",
    "# x and y are not related here\n",
    "# needs 54 input data points\n",
    "# output should be 10 data points\n",
    "x_train = np.random.normal(0.0, 1.0, (100, 64))# 64 values coming in 100 times for the (input) X values\n",
    "y_train = np.random.normal(0.5, 0.1, (100, 10))# 10 values coming out 100 times for the (output) Y values\n",
    "y_train [9:10]"
   ]
  },
  {
   "cell_type": "code",
   "execution_count": 47,
   "id": "b274a717",
   "metadata": {},
   "outputs": [
    {
     "name": "stdout",
     "output_type": "stream",
     "text": [
      "Epoch 1/5\n",
      "4/4 [==============================] - 1s 9ms/step - loss: 13.3617 - accuracy: 0.1200\n",
      "Epoch 2/5\n",
      "4/4 [==============================] - 0s 1ms/step - loss: 13.3014 - accuracy: 0.1200\n",
      "Epoch 3/5\n",
      "4/4 [==============================] - 0s 4ms/step - loss: 13.2503 - accuracy: 0.1000\n",
      "Epoch 4/5\n",
      "4/4 [==============================] - 0s 5ms/step - loss: 13.1945 - accuracy: 0.1000\n",
      "Epoch 5/5\n",
      "4/4 [==============================] - 0s 3ms/step - loss: 13.1483 - accuracy: 0.1100\n"
     ]
    },
    {
     "data": {
      "text/plain": [
       "<keras.callbacks.History at 0x2404838f5b0>"
      ]
     },
     "execution_count": 47,
     "metadata": {},
     "output_type": "execute_result"
    }
   ],
   "source": [
    "# Train the neural network.\n",
    "# we dont have x-train and y_train yet\n",
    "# epoch = number of times the data passes through the graph\n",
    "# batch size = take the data in batches of 32 and process them\n",
    "# last batch might be  <32\n",
    "model.fit(x_train, y_train, epochs=5, batch_size=32)"
   ]
  },
  {
   "cell_type": "code",
   "execution_count": 48,
   "id": "8afeecfe",
   "metadata": {},
   "outputs": [],
   "source": [
    "# Create a fake training data set.\n",
    "# needs 64 input data points\n",
    "# output should be 10 data points\n",
    "# run just 10 this time\n",
    "x_test = np.random.normal(0.0, 1.0, (10, 64))\n",
    "y_test = np.random.normal(0.5, 0.1, (10, 10))"
   ]
  },
  {
   "cell_type": "code",
   "execution_count": 49,
   "id": "70435d9c",
   "metadata": {},
   "outputs": [
    {
     "name": "stdout",
     "output_type": "stream",
     "text": [
      "1/1 [==============================] - 0s 206ms/step - loss: 12.5779 - accuracy: 0.1000\n"
     ]
    }
   ],
   "source": [
    "# Evaluate the network.\n",
    "loss_and_metrics = model.evaluate(x_test, y_test, batch_size=128)"
   ]
  },
  {
   "cell_type": "code",
   "execution_count": 50,
   "id": "be998285",
   "metadata": {},
   "outputs": [
    {
     "name": "stdout",
     "output_type": "stream",
     "text": [
      "1/1 [==============================] - 0s 204ms/step\n"
     ]
    }
   ],
   "source": [
    "# Make predictions for the test set.\n",
    "classes = model.predict(x_test, batch_size=128)"
   ]
  },
  {
   "cell_type": "code",
   "execution_count": 51,
   "id": "5659fddc",
   "metadata": {},
   "outputs": [
    {
     "data": {
      "text/plain": [
       "array([[0.12503451, 0.05798953, 0.14940919, 0.12070576, 0.03676819,\n",
       "        0.10065651, 0.10376538, 0.20220333, 0.00795559, 0.09551205],\n",
       "       [0.322917  , 0.03649949, 0.11823548, 0.03142679, 0.2736303 ,\n",
       "        0.02227592, 0.0153126 , 0.09069201, 0.04325319, 0.0457572 ],\n",
       "       [0.10638081, 0.06633671, 0.06760433, 0.19421662, 0.03852744,\n",
       "        0.02568877, 0.01976704, 0.21178257, 0.07150237, 0.19819324],\n",
       "       [0.13725051, 0.04150407, 0.1557899 , 0.14122583, 0.02197195,\n",
       "        0.05512402, 0.02474058, 0.33381757, 0.04181137, 0.04676413],\n",
       "       [0.21206552, 0.13249502, 0.07139026, 0.05544019, 0.12925418,\n",
       "        0.13039912, 0.05329498, 0.13083631, 0.04586457, 0.03895989],\n",
       "       [0.07857171, 0.17420253, 0.11166756, 0.06214906, 0.07142546,\n",
       "        0.08865613, 0.06706198, 0.19756275, 0.06257002, 0.08613277],\n",
       "       [0.18519358, 0.17925113, 0.03655316, 0.04711781, 0.12614715,\n",
       "        0.04165002, 0.02787527, 0.22494933, 0.05117403, 0.08008853],\n",
       "       [0.07614303, 0.33760184, 0.10532385, 0.1200921 , 0.05220954,\n",
       "        0.01912885, 0.0807151 , 0.11216653, 0.07184504, 0.0247741 ],\n",
       "       [0.18882099, 0.26414093, 0.12091535, 0.02885737, 0.06448358,\n",
       "        0.05993813, 0.0324728 , 0.07415935, 0.05017924, 0.11603227],\n",
       "       [0.0763561 , 0.21480618, 0.03647449, 0.03389713, 0.17263545,\n",
       "        0.10111759, 0.0344672 , 0.24572703, 0.0257052 , 0.05881357]],\n",
       "      dtype=float32)"
      ]
     },
     "execution_count": 51,
     "metadata": {},
     "output_type": "execute_result"
    }
   ],
   "source": [
    "classes"
   ]
  },
  {
   "cell_type": "markdown",
   "id": "4e35a6f8",
   "metadata": {},
   "source": [
    "## Single Neuron in keras\n",
    "\n",
    "_____"
   ]
  },
  {
   "cell_type": "code",
   "execution_count": 52,
   "id": "45dfee3a-ffa3-4eb2-bb35-4fa91817e0bd",
   "metadata": {},
   "outputs": [],
   "source": [
    "#CREATE A NEW MODEL AGAIN- SINGLE LAYER- ONE NEURON- NO ACTIVATION FUNCTION\n",
    "# Create a new sequential neural network.\n",
    "model = keras.Sequential()"
   ]
  },
  {
   "cell_type": "code",
   "execution_count": 53,
   "id": "10fae9b2",
   "metadata": {},
   "outputs": [],
   "source": [
    "# Add a dense layer with 1 neuron and the identity activation function.\n",
    "model.add(keras.layers.Dense(units=1))"
   ]
  },
  {
   "cell_type": "code",
   "execution_count": 54,
   "id": "ef0fdabb",
   "metadata": {},
   "outputs": [],
   "source": [
    "# Compile the neural network.\n",
    "# loss function: keras loss functions - keras activation functions- google these\n",
    "# provides loads of types of loss functions\n",
    "# e.g. mean squared error function- computes the mean squared errors between labels and predictions\n",
    "# loss takes diff of true and predicted y values squared\n",
    "# could square root but not needed\n",
    "# other: categorical CrossEntropy\n",
    "# jiggle the network to get closer to weight values that minimise the cost/loss\n",
    "#single layer-single neuron- has a bias\n",
    "\n",
    "model.compile(loss='mean_squared_error', optimizer='sgd', metrics=['accuracy'])"
   ]
  },
  {
   "cell_type": "code",
   "execution_count": 55,
   "id": "9f551a5b",
   "metadata": {},
   "outputs": [
    {
     "data": {
      "text/plain": [
       "array([[ 1.  ],\n",
       "       [ 1.01],\n",
       "       [ 1.02],\n",
       "       ...,\n",
       "       [12.97],\n",
       "       [12.98],\n",
       "       [12.99]])"
      ]
     },
     "execution_count": 55,
     "metadata": {},
     "output_type": "execute_result"
    }
   ],
   "source": [
    "# Real-world input values.\n",
    "# copy and paste data in and data out from above\n",
    "# change the parameter to get hundreds of values\n",
    "# range 1-13 in iterations of 0.01\n",
    "\n",
    "data_in = np.arange(1.0, 13.0, 0.01)\n",
    "\n",
    "# change shape\n",
    "# different between 1d array in numpy and keras\n",
    "# keras wants to supply it each value as a 2d array- one element in each row\n",
    "# errors like this happen all the time in Keras\n",
    "# difficulty is hard to get NN to work at all\n",
    "# 1/2 battle is to get it working at all\n",
    "# don't give up\n",
    "# even if fixed might get garbage out\n",
    "\n",
    "# https://stackoverflow.com/a/47468541\n",
    "data_in = data_in.reshape(-1, 1)\n",
    "\n",
    "data_in"
   ]
  },
  {
   "cell_type": "code",
   "execution_count": 56,
   "id": "b5e8de9c",
   "metadata": {},
   "outputs": [
    {
     "data": {
      "text/plain": [
       "array([[ 4.47977491],\n",
       "       [ 3.67004502],\n",
       "       [ 3.52419951],\n",
       "       ...,\n",
       "       [52.38306133],\n",
       "       [51.47667635],\n",
       "       [50.47724375]])"
      ]
     },
     "execution_count": 56,
     "metadata": {},
     "output_type": "execute_result"
    }
   ],
   "source": [
    "# Real-world output values.\n",
    "# generate the y = mx +C\n",
    "# hope the keras model has learned the relationship between x * y (multiply the input x 4)\n",
    "# in NN will never be able to pull out all the weights from the model\n",
    "# i.e. 640 different weights 64 individual bias\n",
    "# in real will have so many weights that have tiny nudges to the answer\n",
    "# not possible to unwind and understand relevance of each one\n",
    "\n",
    "data_out = 4.0 * data_in + np.random.normal(0.0, 1.0, data_in.shape)\n",
    "\n",
    "data_out"
   ]
  },
  {
   "cell_type": "code",
   "execution_count": 57,
   "id": "393bb636",
   "metadata": {},
   "outputs": [
    {
     "name": "stdout",
     "output_type": "stream",
     "text": [
      "Epoch 1/5\n",
      "38/38 [==============================] - 0s 2ms/step - loss: 16.2030 - accuracy: 0.0000e+00\n",
      "Epoch 2/5\n",
      "38/38 [==============================] - 0s 2ms/step - loss: 1.0595 - accuracy: 0.0000e+00\n",
      "Epoch 3/5\n",
      "38/38 [==============================] - 0s 2ms/step - loss: 1.0347 - accuracy: 0.0000e+00\n",
      "Epoch 4/5\n",
      "38/38 [==============================] - 0s 1ms/step - loss: 1.0100 - accuracy: 0.0000e+00\n",
      "Epoch 5/5\n",
      "38/38 [==============================] - 0s 2ms/step - loss: 0.9888 - accuracy: 0.0000e+00\n"
     ]
    },
    {
     "data": {
      "text/plain": [
       "<keras.callbacks.History at 0x24046ae8880>"
      ]
     },
     "execution_count": 57,
     "metadata": {},
     "output_type": "execute_result"
    }
   ],
   "source": [
    "# Train the neural network.\n",
    "model.fit(data_in, data_out, epochs=5, batch_size=32)"
   ]
  },
  {
   "cell_type": "code",
   "execution_count": 58,
   "id": "c89ea2ad",
   "metadata": {},
   "outputs": [
    {
     "name": "stdout",
     "output_type": "stream",
     "text": [
      "32/32 [==============================] - 0s 2ms/step\n"
     ]
    }
   ],
   "source": [
    "# Test input values.\n",
    "\n",
    "# 1001 values\n",
    "# reshape array\n",
    "# run throigh the network\n",
    "# values between -10 and + 20 (blue line in plot below)\n",
    "\n",
    "data_test = np.linspace(-10.0, 20.0, 1001).reshape(-1, 1)\n",
    "\n",
    "# Feed test values into neural network.\n",
    "# preds = predicted values\n",
    "# model is the keras model\n",
    "\n",
    "preds = model.predict(data_test)"
   ]
  },
  {
   "cell_type": "code",
   "execution_count": 64,
   "id": "c13597f0",
   "metadata": {},
   "outputs": [
    {
     "data": {
      "text/plain": [
       "-10.0"
      ]
     },
     "execution_count": 64,
     "metadata": {},
     "output_type": "execute_result"
    }
   ],
   "source": [
    "data_test.flatten()[0]"
   ]
  },
  {
   "cell_type": "code",
   "execution_count": 60,
   "id": "91680913",
   "metadata": {},
   "outputs": [
    {
     "data": {
      "image/png": "[encoded data removed]",
      "text/plain": [
       "<Figure size 864x432 with 1 Axes>"
      ]
     },
     "metadata": {
      "needs_background": "light"
     },
     "output_type": "display_data"
    }
   ],
   "source": [
    "# Plot the values. (12*6 plot)\n",
    "fig, ax = plt.subplots(figsize=(12, 6))\n",
    "\n",
    "# Plot the original data set. (red x )\n",
    "ax.plot(data_in.flatten(), data_out.flatten(), 'rx', label='Training')\n",
    " \n",
    "# Plot the predicted data set. (blue dots)\n",
    "ax.plot(data_test.flatten(), preds.flatten(), 'b.', label='Predictions');\n",
    "\n",
    "# single neuron NN has learned the relationship betwwen x and Y\n",
    "# can now do predictions on that\n",
    "# keras can do this easy -declare sequential NN\n",
    "# use loss function using  mean-squared error\n",
    "# dont tell the neuron how we get from X to Y"
   ]
  },
  {
   "cell_type": "code",
   "execution_count": null,
   "id": "9621bcf6",
   "metadata": {},
   "outputs": [],
   "source": []
  },
  {
   "cell_type": "markdown",
   "id": "f96c6c92",
   "metadata": {},
   "source": [
    "_____\n",
    "\n",
    "## End\n",
    "\n"
   ]
  },
  {
   "cell_type": "code",
   "execution_count": null,
   "id": "acb1259e",
   "metadata": {},
   "outputs": [],
   "source": []
  }
 ],
 "metadata": {
  "kernelspec": {
   "display_name": "Python 3",
   "language": "python",
   "name": "python3"
  },
  "language_info": {
   "codemirror_mode": {
    "name": "ipython",
    "version": 3
   },
   "file_extension": ".py",
   "mimetype": "text/x-python",
   "name": "python",
   "nbconvert_exporter": "python",
   "pygments_lexer": "ipython3",
   "version": "3.8.8"
  }
 },
 "nbformat": 4,
 "nbformat_minor": 5
}
