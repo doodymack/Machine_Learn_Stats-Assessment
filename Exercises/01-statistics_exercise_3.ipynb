{
 "cells": [
  {
   "cell_type": "markdown",
   "id": "38b7443c-9006-4d79-93e0-4cd2d19331b1",
   "metadata": {},
   "source": [
    "##### Paul Mc Grath - Machine Learning & Stats- Winter 2022 Module- Assessment  \n",
    "---"
   ]
  },
  {
   "cell_type": "markdown",
   "id": "81900eed-db6c-4b59-91e5-7c23abe1e452",
   "metadata": {},
   "source": [
    "# Statisitics Exercises"
   ]
  },
  {
   "cell_type": "markdown",
   "id": "8d12d6fc-fa32-49f5-8e0a-b8d4b35d159b",
   "metadata": {},
   "source": [
    "### Exercise 3\n",
    "\n",
    "Take the code from the Examples section of the scipy stats documentation for independent samples t-tests.  \n",
    "Add it to your own notebook and add explain how it works using MarkDown cells and code comments  \n",
    "Improve it in any way you think it could be improved."
   ]
  },
  {
   "cell_type": "markdown",
   "id": "6f3dc382-6eb1-45a7-bf32-9bbf67ccea63",
   "metadata": {},
   "source": [
    "##### Requirements:\n",
    "\n",
    "scipy==1.10  \n",
    "conda==22.9.0  \n",
    "Note: 'trim' function below did not work initially.  Fixed with pip update for scipy.  \n",
    "Make sure to check for scipy updates.  \n",
    "Scipy version 1.10 or higher required."
   ]
  },
  {
   "cell_type": "code",
   "execution_count": 1,
   "id": "4c0fb399-17c7-458a-9ef1-e4bbf1c8b7ca",
   "metadata": {},
   "outputs": [],
   "source": [
    "# download required libraries\n",
    "import numpy as np\n",
    "import matplotlib.pyplot as plt"
   ]
  },
  {
   "cell_type": "markdown",
   "id": "8f47a27f-22c5-4952-a4b3-b69cd0823b7b",
   "metadata": {},
   "source": [
    "<br>\n",
    "\n",
    "#### Scipy.stats.ttest_ind summary:  \n",
    "The function can be used within python code once the required packages- libraries are installed.  \n",
    "For more information refer to: https://docs.scipy.org/doc/scipy/reference/generated/scipy.stats.ttest_ind.html  \n",
    "This test assumes that the populations have identical variances by default i.e. 'equal_var=True'.  \n",
    "If True (default), perform a standard independent 2 sample test that assumes equal population variances.  \n",
    "If False, perform Welch’s t-test, which does not assume equal population variance"
   ]
  },
  {
   "cell_type": "code",
   "execution_count": 2,
   "id": "5a5b126e-1519-4ce3-826c-c45f684d9e42",
   "metadata": {},
   "outputs": [],
   "source": [
    "# import stats module from scipy\n",
    "from scipy import stats\n",
    "# rng = random number generator\n",
    "rng = np.random.default_rng()"
   ]
  },
  {
   "cell_type": "code",
   "execution_count": 3,
   "id": "7e29ee99-5d0e-4cb9-98fd-6591839cd830",
   "metadata": {},
   "outputs": [
    {
     "data": {
      "text/plain": [
       "array([[2.27664714, 2.87179562, 5.65745644, 0.73893539],\n",
       "       [1.25857885, 5.3840175 , 4.58105606, 3.94078243]])"
      ]
     },
     "execution_count": 3,
     "metadata": {},
     "output_type": "execute_result"
    }
   ],
   "source": [
    "np.random.normal(3, 2.5, size=(2, 4))"
   ]
  },
  {
   "cell_type": "code",
   "execution_count": 4,
   "id": "de4d885f-2a54-4f03-82e7-986b77f539d9",
   "metadata": {},
   "outputs": [],
   "source": [
    "# Generate two datasets using scipy norm random function\n",
    "# Both datasets created with a mean of 5 and same n population of 500\n",
    "# Thus by definition they are from the same population and the t-test \n",
    "# should return a high p value i.e. null hypothes (that both pops have same mean)\n",
    "# is not overturned\n",
    "rvs1 = stats.norm.rvs(loc=5, scale=10, size=500, random_state=rng)\n",
    "rvs2 = stats.norm.rvs(loc=5, scale=10, size=500, random_state=rng)"
   ]
  },
  {
   "cell_type": "markdown",
   "id": "1f0f0850-0a49-4b86-b73f-4aa4ddfd9211",
   "metadata": {},
   "source": [
    "<br>\n",
    "\n",
    "#### scipy.stats.ttest_ind  \n",
    "This is a test for the null hypothesis that 2 independent samples have identical average (expected) values.  \n",
    "This test assumes that the populations have identical variances by default."
   ]
  },
  {
   "cell_type": "code",
   "execution_count": 5,
   "id": "491e01c4-e5b0-4cfe-9190-3e82525b589f",
   "metadata": {},
   "outputs": [
    {
     "data": {
      "text/plain": [
       "Ttest_indResult(statistic=0.964869172283574, pvalue=0.33484408216393535)"
      ]
     },
     "execution_count": 5,
     "metadata": {},
     "output_type": "execute_result"
    }
   ],
   "source": [
    "# run the scipy.stats.t-test_ind on the datasets\n",
    "# ttest_ind = independent\n",
    "stats.ttest_ind(rvs1, rvs2)"
   ]
  },
  {
   "cell_type": "code",
   "execution_count": 6,
   "id": "265b5197-a83a-4d37-b1f9-a00388db42f5",
   "metadata": {},
   "outputs": [
    {
     "data": {
      "text/plain": [
       "Ttest_indResult(statistic=0.964869172283574, pvalue=0.33484408216393535)"
      ]
     },
     "execution_count": 6,
     "metadata": {},
     "output_type": "execute_result"
    }
   ],
   "source": [
    "#repeat\n",
    "stats.ttest_ind(rvs1, rvs2)"
   ]
  },
  {
   "cell_type": "markdown",
   "id": "cffe9e28-81ca-4d23-a734-6f6ff5cce0c8",
   "metadata": {},
   "source": [
    "##### As expected stats.ttest_ind returns a high p value.  \n",
    "##### Samples means do not differ sufficiently to overturn the Null hypothesis."
   ]
  },
  {
   "cell_type": "markdown",
   "id": "e7dd7074-3689-402f-9f46-c1611e67d3c3",
   "metadata": {},
   "source": [
    "##### Added parameter (equal_var=False) to function\n",
    "\n",
    "If True (which is scipy.stats default), scipy.stats.ttest performs a standard independent 2 sample test that assumes equal population variances.  \n",
    "If False, perform Welch’s t-test, which does not assume equal population variance.\n",
    "\n",
    "Welshs t=test is an adaptation of Student's t-test,and is more reliable when the two samples have unequal variances and possibly unequal sample sizes.  \n",
    "These tests are often referred to as \"unpaired\" or \"independent samples\" t-tests.  \n",
    "The test assumes that both groups of data are sampled from populations that follow a normal distribution, but it does not assume that those two populations have the same variance.  \n",
    "The formula to calculate the degrees of freedom for Welch’s t-test takes into account the difference between the two standard deviations.  \n",
    "If the two samples have the same standard deviations, though, then the degrees of freedom for the Welch’s t-test will be the exact same as the degrees of freedom for the Student’s t-test.  \n",
    "Thus as the two sample populations should have the same distribution the Welsh test is not expected to change the output."
   ]
  },
  {
   "cell_type": "code",
   "execution_count": 7,
   "id": "1d3c66e1-819a-4a05-b4f9-c7e1c9a13a15",
   "metadata": {},
   "outputs": [
    {
     "data": {
      "text/plain": [
       "Ttest_indResult(statistic=0.964869172283574, pvalue=0.3348442533559467)"
      ]
     },
     "execution_count": 7,
     "metadata": {},
     "output_type": "execute_result"
    }
   ],
   "source": [
    "stats.ttest_ind(rvs1, rvs2, equal_var=False)"
   ]
  },
  {
   "cell_type": "markdown",
   "id": "93efd1bc-41b3-4e35-b643-2717b63f34c9",
   "metadata": {},
   "source": [
    "##### Result: no impact from assigning equal_var =False <br> <br>"
   ]
  },
  {
   "cell_type": "markdown",
   "id": "f5c7b923-aa50-40db-bd93-512c7b51f648",
   "metadata": {},
   "source": [
    "#### t-test for populations with unequal variances\n",
    "\n",
    "This test assumes that the populations have identical variances by default."
   ]
  },
  {
   "cell_type": "code",
   "execution_count": 8,
   "id": "30c9d1ed-b557-4c05-b8eb-790e2b106f70",
   "metadata": {},
   "outputs": [],
   "source": [
    "# create a new set of values with same mean to original datasets\n",
    "# rvs1 = stats.norm.rvs(loc=5, scale=10, size=500, random_state=rng)\n",
    "# rvs2 = stats.norm.rvs(loc=5, scale=10, size=500, random_state=rng)\n",
    "rvs3 = stats.norm.rvs(loc=5, scale=20, size=500, random_state=rng)"
   ]
  },
  {
   "cell_type": "code",
   "execution_count": 9,
   "id": "ed86eeb1-1921-4f99-9178-7bee15c750fc",
   "metadata": {},
   "outputs": [
    {
     "data": {
      "text/plain": [
       "Ttest_indResult(statistic=-0.1007517204960184, pvalue=0.9197677894107497)"
      ]
     },
     "execution_count": 9,
     "metadata": {},
     "output_type": "execute_result"
    }
   ],
   "source": [
    "#run the independent t-test on the previous and new datasets with differing means\n",
    "stats.ttest_ind(rvs1, rvs3)"
   ]
  },
  {
   "cell_type": "markdown",
   "id": "2bc6b720-af40-4392-bedd-885c7e5c950c",
   "metadata": {},
   "source": [
    "Stats.ttest_ind returns a  p value >0.05.  \n",
    "Samples means do not differ sufficiently to overturn the Null hypothesis.\n",
    "\n",
    "##### Conclusion: ttest_ind underestimates p for unequal variances: <br><br>"
   ]
  },
  {
   "cell_type": "markdown",
   "id": "3730abe2-fb63-4a9f-bab7-f4e10b6dff86",
   "metadata": {},
   "source": [
    "\n",
    "#### Equal Var= False"
   ]
  },
  {
   "cell_type": "code",
   "execution_count": 10,
   "id": "f68787a8-6ccd-450b-94a7-6a286db7e07c",
   "metadata": {},
   "outputs": [
    {
     "data": {
      "text/plain": [
       "Ttest_indResult(statistic=-0.1007517204960184, pvalue=0.9197755160600811)"
      ]
     },
     "execution_count": 10,
     "metadata": {},
     "output_type": "execute_result"
    }
   ],
   "source": [
    "# Added parameter (equal_var=False) to function\n",
    "stats.ttest_ind(rvs1, rvs3, equal_var=False)"
   ]
  },
  {
   "cell_type": "markdown",
   "id": "b2027d17-b020-4962-a58c-9b59a1dab8a1",
   "metadata": {},
   "source": [
    "Stats.ttest_ind returns a lower p value.  \n",
    "\n",
    "##### Conclusion: ttest_ind underestimates p for unequal variances:<br><br>"
   ]
  },
  {
   "cell_type": "markdown",
   "id": "f5c87b6f-a085-4b1c-bc93-d0603122d9c2",
   "metadata": {},
   "source": [
    "#### Different population sizes"
   ]
  },
  {
   "cell_type": "code",
   "execution_count": 11,
   "id": "1bcadc94-0dd2-4bc4-a6c7-190b16c0aad4",
   "metadata": {},
   "outputs": [],
   "source": [
    "# create a new random generated dataset with a smaller population\n",
    "# rvs1 = stats.norm.rvs(loc=5, scale=10, size=500, random_state=rng)\n",
    "rvs4 = stats.norm.rvs(loc=5, scale=20, size=100, random_state=rng)"
   ]
  },
  {
   "cell_type": "code",
   "execution_count": 12,
   "id": "403dda45-0b3d-4f8a-86b8-9f53be34f19b",
   "metadata": {},
   "outputs": [
    {
     "data": {
      "text/plain": [
       "Ttest_indResult(statistic=-0.8301693401092002, pvalue=0.40677433898069393)"
      ]
     },
     "execution_count": 12,
     "metadata": {},
     "output_type": "execute_result"
    }
   ],
   "source": [
    "#execute the t-test on two populations of different n , equal_var as True (default)\n",
    "stats.ttest_ind(rvs1, rvs4)"
   ]
  },
  {
   "cell_type": "code",
   "execution_count": 13,
   "id": "9f4b2474-6fe7-49ec-810f-d069ac0df03e",
   "metadata": {},
   "outputs": [
    {
     "data": {
      "text/plain": [
       "Ttest_indResult(statistic=-0.5162484028739178, pvalue=0.6067443079700066)"
      ]
     },
     "execution_count": 13,
     "metadata": {},
     "output_type": "execute_result"
    }
   ],
   "source": [
    "#execute the t-test  on two populations of different n but with changing the equal_var parameter to = False\n",
    "stats.ttest_ind(rvs1, rvs4, equal_var= False)"
   ]
  },
  {
   "cell_type": "markdown",
   "id": "ebafe160-0d77-476a-98a7-6a0fa7b0cd4e",
   "metadata": {},
   "source": [
    "##### Conclusion: When n1 != n2, the equal variance t-statistic is no longer equal to the unequal variance t-statistic: <br> <br>\n"
   ]
  },
  {
   "cell_type": "markdown",
   "id": "9049f621-6443-4b1d-ba73-e956a7d516e5",
   "metadata": {},
   "source": [
    "#### Different population sizes, variance and mean"
   ]
  },
  {
   "cell_type": "code",
   "execution_count": 14,
   "id": "9895fef4-dc05-4aba-80d5-ca5f03eb4401",
   "metadata": {},
   "outputs": [],
   "source": [
    "# create a new random generated dataset -different mean, n and variance (based on sample size n)\n",
    "#rvs1 = stats.norm.rvs(loc=5, scale=10, size=500, random_state=rng)\n",
    "rvs5 = stats.norm.rvs(loc=8, scale=20, size=100, random_state=rng)"
   ]
  },
  {
   "cell_type": "code",
   "execution_count": 15,
   "id": "fbe921e0-b967-4486-8e2a-0b74fbedb8e2",
   "metadata": {},
   "outputs": [
    {
     "data": {
      "text/plain": [
       "Ttest_indResult(statistic=-2.2302152252698484, pvalue=0.026103469749390016)"
      ]
     },
     "execution_count": 15,
     "metadata": {},
     "output_type": "execute_result"
    }
   ],
   "source": [
    "stats.ttest_ind(rvs1, rvs5)"
   ]
  },
  {
   "cell_type": "code",
   "execution_count": 16,
   "id": "6bd6c6f1-1e88-493a-8f2a-c14b014c9bde",
   "metadata": {},
   "outputs": [
    {
     "data": {
      "text/plain": [
       "Ttest_indResult(statistic=-1.3981705254651016, pvalue=0.16494044645676803)"
      ]
     },
     "execution_count": 16,
     "metadata": {},
     "output_type": "execute_result"
    }
   ],
   "source": [
    "stats.ttest_ind(rvs1, rvs5, equal_var=False)"
   ]
  },
  {
   "cell_type": "markdown",
   "id": "14ba3d63-3e06-4c64-a24b-84b9fac914d4",
   "metadata": {},
   "source": [
    "##### Conclusion: The same effect When n1 != n2, and unequal variance, the equal variance t-statistic is no longer equal to the unequal variance t-statistic:\n"
   ]
  },
  {
   "cell_type": "markdown",
   "id": "d8165d64-12d9-4415-a6c5-bdc4c6052efb",
   "metadata": {},
   "source": [
    "<br>\n",
    "\n",
    "#### Permutations  \n",
    "#####  __re-run the below cells to check for differenc in output__"
   ]
  },
  {
   "cell_type": "code",
   "execution_count": 17,
   "id": "b887f779-6b15-470a-bc75-a74b62fd483a",
   "metadata": {},
   "outputs": [
    {
     "data": {
      "text/plain": [
       "Ttest_indResult(statistic=-2.2302152252698484, pvalue=0.18181818181818182)"
      ]
     },
     "execution_count": 17,
     "metadata": {},
     "output_type": "execute_result"
    }
   ],
   "source": [
    "# original\n",
    "stats.ttest_ind(rvs1, rvs5, permutations=10,random_state=rng)"
   ]
  },
  {
   "cell_type": "code",
   "execution_count": 18,
   "id": "60a2b9b7-6c1a-43d7-8f5e-e1037b407f7f",
   "metadata": {},
   "outputs": [
    {
     "data": {
      "text/plain": [
       "Ttest_indResult(statistic=-2.2302152252698484, pvalue=0.09090909090909091)"
      ]
     },
     "execution_count": 18,
     "metadata": {},
     "output_type": "execute_result"
    }
   ],
   "source": [
    "# repeat\n",
    "stats.ttest_ind(rvs1, rvs5, permutations=10,random_state=rng)"
   ]
  },
  {
   "cell_type": "code",
   "execution_count": 19,
   "id": "66cd819b-7e56-49c5-b05d-b9dbf22d503e",
   "metadata": {},
   "outputs": [
    {
     "data": {
      "text/plain": [
       "Ttest_indResult(statistic=-2.2302152252698484, pvalue=0.027197280271972803)"
      ]
     },
     "execution_count": 19,
     "metadata": {},
     "output_type": "execute_result"
    }
   ],
   "source": [
    "#original\n",
    "stats.ttest_ind(rvs1, rvs5, permutations=10000,random_state=rng)"
   ]
  },
  {
   "cell_type": "code",
   "execution_count": 20,
   "id": "69a38321-6da4-4829-a8d7-9d0b37062bad",
   "metadata": {},
   "outputs": [
    {
     "data": {
      "text/plain": [
       "Ttest_indResult(statistic=-2.2302152252698484, pvalue=0.025197480251974803)"
      ]
     },
     "execution_count": 20,
     "metadata": {},
     "output_type": "execute_result"
    }
   ],
   "source": [
    "# repeat\n",
    "stats.ttest_ind(rvs1, rvs5, permutations=10000,random_state=rng)"
   ]
  },
  {
   "cell_type": "markdown",
   "id": "bd451313-5fe4-4845-8f6b-d5accb22a71d",
   "metadata": {},
   "source": [
    "##### Conclusion: When performing a permutation test, more permutations typically yields more accurate results."
   ]
  },
  {
   "cell_type": "markdown",
   "id": "9a3234d6-b052-4ac5-80ea-95b01ab26593",
   "metadata": {},
   "source": [
    "<br>\n",
    "\n",
    "#### Trim of data where likely outliers"
   ]
  },
  {
   "cell_type": "markdown",
   "id": "a8c5e274-0233-4b3f-a617-e2df268dd791",
   "metadata": {},
   "source": [
    "Take these two samples, one of which has an extreme tail (potential outlier at 763.3?)."
   ]
  },
  {
   "cell_type": "code",
   "execution_count": 21,
   "id": "75ae4d56-7a57-474b-bd72-f3058b649e4a",
   "metadata": {},
   "outputs": [],
   "source": [
    "a = (56, 128.6, 12, 123.8, 64.34, 78, 763.3)\n",
    "b = (1.1, 2.9, 4.2)"
   ]
  },
  {
   "cell_type": "markdown",
   "id": "4241e70d-30e1-4638-b5f0-45b1f4a9ae1f",
   "metadata": {},
   "source": [
    "Use the trim keyword to perform a trimmed (Yuen) t-test. For example, using 20% trimming, trim=.2, the test will reduce the impact of one (np.floor(trim*len(a))) element from each tail of sample a. It will have no effect on sample b because np.floor(trim*len(b)) is 0."
   ]
  },
  {
   "cell_type": "code",
   "execution_count": 22,
   "id": "3253bfdb-2068-4753-a4f9-ff89261a7e43",
   "metadata": {},
   "outputs": [
    {
     "data": {
      "text/plain": [
       "Ttest_indResult(statistic=1.099305186099593, pvalue=0.30361296704535845)"
      ]
     },
     "execution_count": 22,
     "metadata": {},
     "output_type": "execute_result"
    }
   ],
   "source": [
    "# run the t_test without trim (as default)\n",
    "stats.ttest_ind(a, b)"
   ]
  },
  {
   "cell_type": "code",
   "execution_count": 23,
   "id": "89311530-1241-451e-93d9-a9aca7b59b31",
   "metadata": {},
   "outputs": [
    {
     "data": {
      "text/plain": [
       "Ttest_indResult(statistic=3.4463884028073513, pvalue=0.01369338726499547)"
      ]
     },
     "execution_count": 23,
     "metadata": {},
     "output_type": "execute_result"
    }
   ],
   "source": [
    "# run the t_test with trim (20%)\n",
    "stats.ttest_ind(a, b, trim=.2)"
   ]
  },
  {
   "cell_type": "code",
   "execution_count": 24,
   "id": "046eb76b-508d-4817-b57d-57da0cac3bee",
   "metadata": {},
   "outputs": [
    {
     "data": {
      "text/plain": [
       "Ttest_indResult(statistic=2.832256715395378, pvalue=0.04723681941400341)"
      ]
     },
     "execution_count": 24,
     "metadata": {},
     "output_type": "execute_result"
    }
   ],
   "source": [
    "# run the t_test with trim (30%)\n",
    "stats.ttest_ind(a, b, trim=.3)"
   ]
  },
  {
   "cell_type": "code",
   "execution_count": 25,
   "id": "56234afa-2bee-4d19-9d53-ad8dd0bfa741",
   "metadata": {},
   "outputs": [
    {
     "data": {
      "text/plain": [
       "Ttest_indResult(statistic=1.099305186099593, pvalue=0.30361296704535845)"
      ]
     },
     "execution_count": 25,
     "metadata": {},
     "output_type": "execute_result"
    }
   ],
   "source": [
    "# run the t_test with trim (10%)\n",
    "stats.ttest_ind(a, b, trim=.1)"
   ]
  },
  {
   "cell_type": "markdown",
   "id": "2abeaeb1-efdf-4d31-861e-16d606638fbc",
   "metadata": {},
   "source": [
    "As can be seen the trim function is to we used wisely as can lead to false positives if significant data is removed, potential for false negatives if outliers are not omitted.  \n",
    "Trimming is recommended if the underlying distribution is long-tailed or contaminated with outliers.  \n",
    "This requires judgement by the data scientist.  \n",
    "Where there are potential outliers other statisitical tools such as simple sorting and visual check i.e. boxplots, histograms.Converting the normal distribution to a standard normal distribution."
   ]
  },
  {
   "cell_type": "markdown",
   "id": "5a3fb741-8784-4cec-bf3a-76b82b05eb94",
   "metadata": {},
   "source": [
    "\n",
    "To trim a datset it is first sorted and then a predetermined percentage at either end of the dataset are removed.  <br>\n",
    "\n",
    "Why trim?: Trimmed means are robust estimators of central tendency.  \n",
    "To compute a trimmed mean, we remove a predetermined amount of observations on each side of a distribution, and average the remaining observations  \n",
    "If you think you’re not familiar with trimmed means, you already know one famous member of this family: the median  \n",
    "Indeed, the median is an extreme trimmed mean, in which all observations are removed except one or two.\n",
    "\n",
    "Using trimmed means confers two advantages:\n",
    "\n",
    "- Trimmed means provide a better estimation of the location of the bulk of the observations than the mean when sampling from asymmetric distributions; \n",
    "- The standard error of the trimmed mean is less affected by outliers and asymmetry than the mean, so that tests using trimmed means can have more power than tests using the mean.  \n",
    "\n",
    "Note: if we use a trimmed mean in an inferential test, we make inferences about the population trimmed mean, not the population mean  \n",
    "The same is true for the median or any other measure of central tendency.\n"
   ]
  },
  {
   "cell_type": "markdown",
   "id": "4d83d555-1f79-41f1-b783-4918e0cca749",
   "metadata": {},
   "source": [
    "## How could it be improved\n",
    "\n",
    "As can be seen above more permutations typically yields more accurate results. Use of a random number generator to ensure reproducibility.  \n",
    "Refer to: Numpy documentation as below"
   ]
  },
  {
   "cell_type": "markdown",
   "id": "47cf5611-bd09-4044-b33a-7613cd765544",
   "metadata": {},
   "source": [
    "##### References\n",
    "\n",
    "##### Ronald Fisher, a Bad Cup of Tea, and the Birth of Modern Statistics:\n",
    "https://www.sciencehistory.org/distillations/ronald-fisher-a-bad-cup-of-tea-and-the-birth-of-modern-statistics \n",
    "##### Basic Statistics- Trimmed Means  \n",
    "https://garstats.wordpress.com/2017/11/28/trimmed-means/ \n",
    "https://www.scribbr.com/statistics/outliers/  \n",
    "##### Random Number Generator \n",
    "https://numpy.org/doc/stable/reference/random/generator.html"
   ]
  },
  {
   "cell_type": "markdown",
   "id": "750df4ab-7f80-4157-b2bb-c229c0a433b1",
   "metadata": {},
   "source": [
    "##### End  \n",
    "---"
   ]
  }
 ],
 "metadata": {
  "kernelspec": {
   "display_name": "Python 3",
   "language": "python",
   "name": "python3"
  },
  "language_info": {
   "codemirror_mode": {
    "name": "ipython",
    "version": 3
   },
   "file_extension": ".py",
   "mimetype": "text/x-python",
   "name": "python",
   "nbconvert_exporter": "python",
   "pygments_lexer": "ipython3",
   "version": "3.8.8"
  }
 },
 "nbformat": 4,
 "nbformat_minor": 5
}
