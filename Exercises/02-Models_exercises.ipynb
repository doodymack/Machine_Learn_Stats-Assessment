{
 "cells": [
  {
   "cell_type": "markdown",
   "id": "7753bf49-aef8-42c9-b89f-b9aa5574826b",
   "metadata": {},
   "source": [
    "##### Paul Mc Grath - Machine Learning & Stats- Winter 2022 Module- Assessment  \n",
    "---"
   ]
  },
  {
   "cell_type": "markdown",
   "id": "8b7c41ec-1d06-4a69-a08e-4d689782fb1e",
   "metadata": {},
   "source": [
    "##  Models Exercises \n",
    "---"
   ]
  },
  {
   "cell_type": "markdown",
   "id": "298b98fb-b1a0-4a9f-bd0a-b1d9b1c1f2a6",
   "metadata": {},
   "source": [
    "### Exercise 1\n",
    "\n",
    "##### Use numpy and matplotlib to plot the absolute value function.\n",
    "##### Research and explain why the absolute value function is not typically used in fitting straight lines to data."
   ]
  },
  {
   "cell_type": "code",
   "execution_count": 1,
   "id": "7986f488-b66c-4e0b-8ec0-51f3f5aba71c",
   "metadata": {},
   "outputs": [],
   "source": [
    "import numpy as np\n",
    "import matplotlib.pyplot as plt"
   ]
  },
  {
   "cell_type": "markdown",
   "id": "09e3a94f-7040-4f0f-b146-47fe68fd7652",
   "metadata": {},
   "source": [
    "##### Usage of NumPy absolute() Function\n",
    "This mathematical Python NumPy in-built function absolute() takes the input array as param and returns the absolute value of each element in the input array. An absolute value is a positive value of a given negative value, so it just removes the negative sign from the input value. For positive value, it just returns the same value."
   ]
  },
  {
   "cell_type": "markdown",
   "id": "8d4736a6-0159-4c4d-91dd-b19ca5a4b39d",
   "metadata": {},
   "source": [
    "##### Polyfit and Polyval  \n",
    "Polyfit is a Matlab function that computes a least squares polynomial for a given set of data.  \n",
    "Polyfit generates the coefficients of the polynomial, which can be used to model a curve to fit the data.  \n",
    "Polyval evaluates a polynomial for a given set of x values.  \n",
    "Polyval generates a curve to fit the data based on the coefficients found using polyfit."
   ]
  },
  {
   "cell_type": "markdown",
   "id": "1db50eb7-44df-45a5-a070-7fe72e04584d",
   "metadata": {},
   "source": [
    "-  Numpy.Polyfit returns the coefficients of your polynomial\n",
    "-  Polyfit will only return an equation that goes through all the points (say you have N) if the degree of the polynomial is at least N-1.\n",
    "-  Otherwise, it will return a best fit that minimises the squared errorb"
   ]
  },
  {
   "cell_type": "markdown",
   "id": "bbbc9740-bee4-4110-95fb-50820c141ffb",
   "metadata": {},
   "source": [
    "<br>\n",
    "\n",
    "*Residuals are what* are left over after you fit your model and compare it to what you started with.  \n",
    "If the residuals are not randomly distributed, that means they contain additional structure which was missed by the model.  \n",
    "A good model matches the underlying process it is attempting to capture.  \n",
    "A bad model captures only a fraction of the underlying process, or worse, it suggests patterns that the original data do not actually contain.  \n",
    "Most linear models fitted to *real data*, can be expected to have some linear bias, unless you have strong reason to believe that the underlying process is truly linear.  \n",
    "\n",
    "*Squaring is more favoured than absolute value.*   \n",
    "Squaring always gives a positive value,so the sum will not be zero.  \n",
    "In addition, *squaring emphasises large differences* which makes and algebra much easier to work with and offers properties that the absolute method does not.  \n",
    "The usual RMS fit is especially sensitive to large errors - *they get squared in the process.* "
   ]
  },
  {
   "cell_type": "markdown",
   "id": "955c12cd-ae66-4059-a12a-1a285a7bc72b",
   "metadata": {},
   "source": [
    "<br>\n",
    "\n",
    "\n",
    "The average of the absolute values of the differences from an average is generally different from the root mean square difference from the average.\n",
    "\n",
    "Squares have some nice mathematical advantages, especially simple analytic formulas for derivatives.  \n",
    "This is very handy when you work out formulas for regression coefficients.  \n",
    "e.g., you want to fit a set of data with a function and you have to determine the coefficients in the function that give the best fit.  \n",
    "Minimizing the root mean square error is simple. \n",
    "\n",
    "\n",
    "**Worked example:**\n",
    "\n",
    "Abs[x] = Sqrt[x*x]  <br>\n",
    "However Sum[Abs[xi]] is not equal to Sqrt[Sum[xi*xi]]\n",
    "\n",
    "E.g., take the set <br>\n",
    "{-2, 2, -1, 1, 0}<br>\n",
    "The average value is: *zero*  \n",
    "The squared differences are *{4,4,1,1,0}*<br>\n",
    "The absolute values of the differences are *{2, 2, 1, 1, 0}*<br>\n",
    "The RMS difference is Sqrt[2] = **1.414**...<br>\n",
    "The average absolute value difference = 6/5 = **1.2**<br>\n",
    "<br>\n",
    "\n",
    "This example hints at an important difference between minimizing absolute values of differences and minimizing squared differences.  \n",
    "The usual RMS fit is especially sensitive to large errors - **they get squared in the process.**  \n",
    "If the large errors are actually bad data, you have to remove them from the set before doing the fit.  \n",
    "Minimizing the sum of absolute values of differences would give a fit that was less sensitive to outliers.  \n",
    "Which is 'better' depends on a knowlwdge of the dataset.  Is it prone to outliers?  What is the tolerance to error in the statistical model?"
   ]
  },
  {
   "cell_type": "markdown",
   "id": "e4085335-876a-4df4-a3a4-7f2f80b02fbf",
   "metadata": {},
   "source": [
    "<br>\n",
    "\n",
    "**In standard linear regression,** the average residual is always zero  \n",
    "The constant term is set to make that true.  \n",
    "Creating absolute values before fitting the data means the data are not a true representation of the original dataset.  \n",
    "<br>Although polynomial function gives a resaonably accurate estimate of the coefficients of the plot, pyplot no longer is true to the actual dataset values.  \n",
    "The graphical representation created by pyplot no longer represents the real dataset (negative values).  \n",
    "<br>Python NumPy absolute() function is used to return the element-wise absolute values of the input array.  \n",
    "In other words, this mathematical function helps the user to calculate the absolute value element in the given array.  \n",
    "An absolute value is a positive value of a given negative value, so it just removes the negative sign from the input value.  \n",
    "<br>The NumPy absolute() function takes four parameters arr, out, where, and dtype, <br> and returns a new array with an argument value as the absolute of the source array elements.  \n",
    "\n",
    "##### Parameters of absolute()\n",
    "The absolute() function allows the following parameters.\n",
    "\n",
    "arr - Input array.  \n",
    "out – It is ndarray, None, or tuple of ndarray and None, optional.  \n",
    "Out will be the location where the result is to be stored.  \n",
    "If provided, it must have a shape that the inputs broadcast to. If not provided or None, a freshly-allocated array is returned.  \n",
    "where – This condition is broadcast over the input.\n",
    "dtype – It is an optional parameter that specifies the type of the returned array.  \n",
    "\n",
    "##### Return Value of absolute() returns an array with the absolute value for each element of an array."
   ]
  },
  {
   "cell_type": "markdown",
   "id": "3a99d2d1-3ce3-40bc-a472-f1bc56d3aa04",
   "metadata": {},
   "source": [
    "#### In Summary:  \n",
    "A huge part of statistics relies on squaring those differences because the distribution of many functions of the sum of those squared differences can be obtained mathematically so that inferences can be made. Much of this mathematical work is based on classical results.  This is not possible in the same way when we use absolute differences.\n",
    "\n",
    "We use the squared differences to take advantage of some fairly deep quirks of the calculus.  \n",
    "We do this in spite of the fact that using **squared differences exaggerates the influence of bad data or 'outliers'**.\n",
    "\n",
    "In general executing data analytics it is desirable to identify and remove the outliers, so that they do not 'contaminate' the remaining data.  \n",
    "We then can apply the theory that is based on the squared differences.  \n",
    "However, where the emphasis is on estimating just a location (something like an 'average') or a regression line in the face of quite a few outliers,  \n",
    "we might resort to using absolute difference estimation, perhaps as long as no further inferences are required."
   ]
  },
  {
   "cell_type": "markdown",
   "id": "04cfda96-d359-4b7c-a73e-a02da70697c3",
   "metadata": {},
   "source": [
    "https://numpy.org/doc/stable/reference/generated/numpy.absolute.html"
   ]
  },
  {
   "cell_type": "markdown",
   "id": "86d3b89d-4003-47a4-9f4d-09ae80b2241e",
   "metadata": {},
   "source": [
    "https://sparkbyexamples.com/numpy/numpy-absolute-value/"
   ]
  },
  {
   "cell_type": "markdown",
   "id": "28fcf712-f076-4926-b1c8-4e82935fca6d",
   "metadata": {},
   "source": [
    "#### Lets look at some graphical use of absolute function"
   ]
  },
  {
   "cell_type": "code",
   "execution_count": 2,
   "id": "49c2a7cf-722c-43a2-8a7a-b6b7fe744a2a",
   "metadata": {},
   "outputs": [],
   "source": [
    "# np.abs is a shorthand for this function"
   ]
  },
  {
   "cell_type": "code",
   "execution_count": 3,
   "id": "72787678-4f53-4a2d-8106-a61c7f7f4d95",
   "metadata": {},
   "outputs": [
    {
     "data": {
      "text/plain": [
       "array([1.2, 1.2])"
      ]
     },
     "execution_count": 3,
     "metadata": {},
     "output_type": "execute_result"
    }
   ],
   "source": [
    "x = np.array([-1.2, 1.2])\n",
    "np.absolute(x)\n",
    "#shorthand: abs(x)"
   ]
  },
  {
   "cell_type": "code",
   "execution_count": 4,
   "id": "ee4b82d3-5083-4e7b-bfd0-c8c8bf69cc24",
   "metadata": {},
   "outputs": [
    {
     "data": {
      "text/plain": [
       "array([-15., -14., -13., -12., -11., -10.,  -9.,  -8.,  -7.,  -6.,  -5.,\n",
       "        -4.,  -3.,  -2.,  -1.,   0.,   1.,   2.,   3.,   4.,   5.])"
      ]
     },
     "execution_count": 4,
     "metadata": {},
     "output_type": "execute_result"
    }
   ],
   "source": [
    "# A range of x values.\n",
    "x = np.linspace(-15.0, +5.0, 21)\n",
    "x"
   ]
  },
  {
   "cell_type": "markdown",
   "id": "2021752f-0896-49eb-a3dc-301bf7627c22",
   "metadata": {},
   "source": [
    "#### Create a range of x & y values and fit line (using polyfit)  \n",
    "x arr has both negative and positive values"
   ]
  },
  {
   "cell_type": "code",
   "execution_count": 5,
   "id": "4493152f-8484-4e1f-a979-b0bcea4572a6",
   "metadata": {},
   "outputs": [
    {
     "data": {
      "text/plain": [
       "array([-46.9931402 , -43.81203335, -42.94899773, -37.71276683,\n",
       "       -33.72272527, -30.96166349, -28.58467611, -24.74595186,\n",
       "       -22.33751497, -20.74611089, -17.5487814 , -14.51076793,\n",
       "       -10.34898807,  -6.39261291,  -4.30651184,  -3.57889584,\n",
       "        -2.08811581,   3.86498749,   7.92956091,   9.70250218,\n",
       "        12.14727522])"
      ]
     },
     "execution_count": 5,
     "metadata": {},
     "output_type": "execute_result"
    }
   ],
   "source": [
    "# A range of y values based on x.\n",
    "y = 3.0 * x - 2.0 + np.random.normal(0.0, 1.0, len(x))\n",
    "y"
   ]
  },
  {
   "cell_type": "code",
   "execution_count": 6,
   "id": "98022934-d97f-4d9a-9af5-71cf8318df1b",
   "metadata": {},
   "outputs": [
    {
     "data": {
      "image/png": "[encoded data removed]",
      "text/plain": [
       "<Figure size 864x432 with 1 Axes>"
      ]
     },
     "metadata": {
      "needs_background": "light"
     },
     "output_type": "display_data"
    }
   ],
   "source": [
    "# Create a plot.\n",
    "fig, ax = plt.subplots(figsize=(12,6))\n",
    "\n",
    "# Plot x vs y.\n",
    "ax.plot(x, y, 'k.');"
   ]
  },
  {
   "cell_type": "code",
   "execution_count": 7,
   "id": "ae02ed5b-af41-4747-9478-10ff7d0daecb",
   "metadata": {},
   "outputs": [
    {
     "data": {
      "text/plain": [
       "array([ 2.96131726, -2.22655317])"
      ]
     },
     "execution_count": 7,
     "metadata": {},
     "output_type": "execute_result"
    }
   ],
   "source": [
    "# Use x and y to try to find the original parameters.\n",
    "params = np.polyfit(x, y, 1)\n",
    "params"
   ]
  },
  {
   "cell_type": "markdown",
   "id": "d9c858bc-c938-4aa5-bc7d-d70df3c6f851",
   "metadata": {},
   "source": [
    "##### numpy polyfit function returns the coefficients of slope of line = 3 "
   ]
  },
  {
   "cell_type": "code",
   "execution_count": 8,
   "id": "5fcbebd1-5069-439e-816e-956dcdb6996c",
   "metadata": {},
   "outputs": [
    {
     "data": {
      "image/png": "[encoded data removed]",
      "text/plain": [
       "<Figure size 864x432 with 1 Axes>"
      ]
     },
     "metadata": {
      "needs_background": "light"
     },
     "output_type": "display_data"
    }
   ],
   "source": [
    "# Create a plot.\n",
    "fig, ax = plt.subplots(figsize=(12,6));\n",
    "\n",
    "# Plot x vs y.\n",
    "ax.plot(x, y, 'k.');\n",
    "\n",
    "# Plot a vs parameters on a.\n",
    "ax.plot(x, params[0] * x + params[1], 'b-');"
   ]
  },
  {
   "cell_type": "markdown",
   "id": "3617a1f1-edc9-4439-bf95-d54e6dc37d11",
   "metadata": {},
   "source": [
    "#### Create a range of x & y values and fit line (using polyfit)  \n",
    "x arr has both negative and positive values\n",
    "\n",
    "#####  This time transpose the x values to absolute values before plotting- fitting"
   ]
  },
  {
   "cell_type": "code",
   "execution_count": 9,
   "id": "64a1b457-238f-46dc-8793-bfe78b0e03cb",
   "metadata": {},
   "outputs": [
    {
     "data": {
      "text/plain": [
       "array([-15., -14., -13., -12., -11., -10.,  -9.,  -8.,  -7.,  -6.,  -5.,\n",
       "        -4.,  -3.,  -2.,  -1.,   0.,   1.,   2.,   3.,   4.,   5.])"
      ]
     },
     "execution_count": 9,
     "metadata": {},
     "output_type": "execute_result"
    }
   ],
   "source": [
    "# A range of x values.\n",
    "x = np.linspace(-15.0, +5.0, 21)\n",
    "x"
   ]
  },
  {
   "cell_type": "code",
   "execution_count": 10,
   "id": "673df1fc-12a4-40e4-bef6-a7d32da9ed4e",
   "metadata": {},
   "outputs": [],
   "source": [
    "x_abs = np.absolute(x)"
   ]
  },
  {
   "cell_type": "code",
   "execution_count": 11,
   "id": "afb6b1c9-d93c-46f6-9060-a3bb1698f5ee",
   "metadata": {},
   "outputs": [
    {
     "data": {
      "text/plain": [
       "array([15., 14., 13., 12., 11., 10.,  9.,  8.,  7.,  6.,  5.,  4.,  3.,\n",
       "        2.,  1.,  0.,  1.,  2.,  3.,  4.,  5.])"
      ]
     },
     "execution_count": 11,
     "metadata": {},
     "output_type": "execute_result"
    }
   ],
   "source": [
    "x_abs"
   ]
  },
  {
   "cell_type": "code",
   "execution_count": 12,
   "id": "87a5c0d0-75f9-451c-ab19-26c5f68edf2b",
   "metadata": {},
   "outputs": [
    {
     "data": {
      "text/plain": [
       "array([43.48060112, 40.65160782, 37.47573505, 33.18217706, 31.01307786,\n",
       "       28.44748977, 24.48191008, 22.23052458, 18.30100908, 17.26866787,\n",
       "       12.91982617, 11.80220688,  7.20810603,  4.58987615,  0.90680794,\n",
       "       -2.91995609, -0.50989117,  4.41658325,  7.39063636, 10.83830249,\n",
       "       13.25088418])"
      ]
     },
     "execution_count": 12,
     "metadata": {},
     "output_type": "execute_result"
    }
   ],
   "source": [
    "# A range of y values based on x_abs.\n",
    "y = 3.0 * x_abs - 2.0 + np.random.normal(0.0, 1.0, len(x))\n",
    "y"
   ]
  },
  {
   "cell_type": "code",
   "execution_count": 13,
   "id": "00524d52-f59e-4f17-bbfb-d5ff3e8a3486",
   "metadata": {},
   "outputs": [
    {
     "data": {
      "image/png": "[encoded data removed]",
      "text/plain": [
       "<Figure size 864x432 with 1 Axes>"
      ]
     },
     "metadata": {
      "needs_background": "light"
     },
     "output_type": "display_data"
    }
   ],
   "source": [
    "# Create a plot.\n",
    "fig, ax = plt.subplots(figsize=(12,6))\n",
    "\n",
    "# Plot x_abs vs y.\n",
    "ax.plot(x_abs, y, 'k.');"
   ]
  },
  {
   "cell_type": "code",
   "execution_count": 14,
   "id": "de2d2e01-d993-463d-ab01-65bcc5b2ae27",
   "metadata": {},
   "outputs": [
    {
     "data": {
      "text/plain": [
       "array([ 3.02064324, -1.96955499])"
      ]
     },
     "execution_count": 14,
     "metadata": {},
     "output_type": "execute_result"
    }
   ],
   "source": [
    "# Use x and y to try to find the original parameters.\n",
    "paramsA = np.polyfit(x_abs, y, 1)\n",
    "paramsA"
   ]
  },
  {
   "cell_type": "code",
   "execution_count": 15,
   "id": "3da89721-c458-4d2f-9bb4-f9ec9bcac76b",
   "metadata": {},
   "outputs": [
    {
     "data": {
      "image/png": "[encoded data removed]",
      "text/plain": [
       "<Figure size 864x432 with 1 Axes>"
      ]
     },
     "metadata": {
      "needs_background": "light"
     },
     "output_type": "display_data"
    }
   ],
   "source": [
    "# Create a plot.\n",
    "fig, ax = plt.subplots(figsize=(12,6))\n",
    "\n",
    "# Plot x vs y.\n",
    "ax.plot(x_abs, y, 'k.')\n",
    "\n",
    "# Plot x vs parameters on x.\n",
    "ax.plot(x_abs, paramsA[0] * x_abs + paramsA[1], 'b-');"
   ]
  },
  {
   "cell_type": "markdown",
   "id": "ed86519c-23ed-4e04-8eab-6425e5b7b7af",
   "metadata": {},
   "source": [
    "##### numpy polyfit function returns the coefficients of slope of line = 3"
   ]
  },
  {
   "cell_type": "code",
   "execution_count": 56,
   "id": "32801f4a-cb0f-4d9a-b903-260668c09767",
   "metadata": {},
   "outputs": [
    {
     "name": "stdout",
     "output_type": "stream",
     "text": [
      "[-18.         -15.18181818 -12.36363636  -9.54545455  -6.72727273\n",
      "  -3.90909091  -1.09090909   1.72727273   4.54545455   7.36363636\n",
      "  10.18181818  13.        ]\n",
      "[18.         15.18181818 12.36363636  9.54545455  6.72727273  3.90909091\n",
      "  1.09090909  1.72727273  4.54545455  7.36363636 10.18181818 13.        ]\n"
     ]
    }
   ],
   "source": [
    "# create array 1\n",
    "arr = np.linspace(start = -18, stop = 13, num = 12, endpoint = True)\n",
    "print(arr)\n",
    "\n",
    "# create abs array-array 2\n",
    "arr2 = np.absolute(arr)\n",
    "print(arr2)"
   ]
  },
  {
   "cell_type": "code",
   "execution_count": 57,
   "id": "7b9c14aa-430c-4b7b-ac0f-00d44385519f",
   "metadata": {},
   "outputs": [
    {
     "data": {
      "image/png": "[encoded data removed]",
      "text/plain": [
       "<Figure size 432x288 with 1 Axes>"
      ]
     },
     "metadata": {
      "needs_background": "light"
     },
     "output_type": "display_data"
    }
   ],
   "source": [
    "# Use np.absolute function to graphical representation \n",
    "\n",
    "plt.plot(arr,arr, color = 'orange')\n",
    "plt.show();"
   ]
  },
  {
   "cell_type": "code",
   "execution_count": null,
   "id": "196851df-ba7d-4791-a7a2-9acde8353393",
   "metadata": {},
   "outputs": [],
   "source": [
    "# Use np.absolute function to graphical representation \n",
    "\n",
    "plt.plot(arr2,arr2, color = 'red')\n",
    "plt.show();"
   ]
  },
  {
   "cell_type": "code",
   "execution_count": 58,
   "id": "45caad6b-5487-46a2-b05e-cc9b257c0e7a",
   "metadata": {},
   "outputs": [
    {
     "data": {
      "image/png": "[encoded data removed]",
      "text/plain": [
       "<Figure size 432x288 with 1 Axes>"
      ]
     },
     "metadata": {
      "needs_background": "light"
     },
     "output_type": "display_data"
    }
   ],
   "source": [
    "# Use np.absolute function to graphical representation \n",
    "\n",
    "plt.plot(arr, np.absolute(arr), color ='green') \n",
    "plt.show();"
   ]
  },
  {
   "cell_type": "markdown",
   "id": "5e76197f-e5eb-46d8-b885-c7c8dbbe9719",
   "metadata": {},
   "source": [
    "#### In summary:  \n",
    "\n",
    "the graph of an absolute value function will have a vertical intercept when the input is zero  \n",
    "The graph may or may not have horizontal intercepts, depending on how the graph has been shifted and reflected.  \n",
    "It is possible for the absolute value function to have zero, one, or two horizontal intercepts. \n",
    "\n",
    "Residuals are what are left over after you fit your model and compare it to what you started with.\n",
    "If the residuals are not randomly distributed, that means they contain additional structure which was missed by the model.\n",
    "A good model matches the underlying process it is attempting to capture.\n",
    "A bad model captures only a fraction of the underlying process, or worse, it suggests patterns that the original data do not actually contain.\n",
    "Most linear models fitted to real data, can be expected to have some linear bias, unless you have strong reason to believe that the underlying process is truly linear.\n",
    "\n",
    "The usual RMS fit is especially sensitive to large errors - they get squared in the process.  \n",
    "For this reason a#squaring is more favoured than absolute value.\n",
    "Squaring always gives a positive value,so the sum will not be zero.\n",
    "In addition, squaring emphasises large differences which makes and algebra much easier to work with and offers properties that the absolute method does not.\n"
   ]
  },
  {
   "cell_type": "markdown",
   "id": "e719cd95-fcbe-46c3-8f05-24c63ab7b6cd",
   "metadata": {},
   "source": [
    "# references:\n",
    "https://www.bragitoff.com/2015/09/why-cant-we-use-absolute-values-of-errors-least-squares-method-curve-fitting/#:~:text=In%20mathematical%20terms%2C%20we%20would,in%20working%20with%20them%20mathematically.\n",
    "https://www.quora.com/The-method-of-least-squares-of-residuals-is-commonly-used-to-get-the-best-fit-with-linear-regression-The-reason-why-the-absolute-value-of-residuals-y-ypred-is-not-used-is-that\n",
    "https://www.quora.com/Why-do-we-square-instead-of-using-the-absolute-value-when-calculating-variance-and-standard-deviation"
   ]
  },
  {
   "cell_type": "markdown",
   "id": "35a9a9b4-cb1a-489c-8960-b7525af70400",
   "metadata": {},
   "source": [
    "<br>  \n",
    "\n",
    "---\n",
    "\n",
    "### Exercise 2"
   ]
  },
  {
   "cell_type": "markdown",
   "id": "7c891193-03d3-4fc5-be79-7dd296afd9b9",
   "metadata": {},
   "source": [
    "Fit a straight line to the following data points, using all three methods used above [Polynomial function, Scpy Optimise, Scipy Curve Fitting].\n",
    "\n",
    "Do you think a straight line is a good model for these points?"
   ]
  },
  {
   "cell_type": "code",
   "execution_count": 17,
   "id": "09f1737f-b576-4082-a2f6-f95ab4f42754",
   "metadata": {},
   "outputs": [],
   "source": [
    "a = [2.0, 3.0, 4.0, 5.0, 6.0, 7.0, 8.0, 9.0, 10.0, 11.0, 12.0, 13.0, 14.0, 15.0, 16.0, 17.0, 18.0, 19.0, 20.0]\n",
    "b = [0.7, 1.1, 1.5, 1.6, 1.7, 2.0, 2.3, 2.4, 2.2, 2.1, 2.4, 2.6, 2.2, 2.7, 2.5, 2.7, 2.8, 2.9, 3.1]"
   ]
  },
  {
   "cell_type": "markdown",
   "id": "28aca707-2756-4310-b80b-f5e8028869d4",
   "metadata": {},
   "source": [
    "<br>\n",
    "\n",
    "First convert the lists to separate arrays so can be processed using Numpy"
   ]
  },
  {
   "cell_type": "code",
   "execution_count": 18,
   "id": "a0538dd6-ec1a-4276-80ed-b801271dffb1",
   "metadata": {},
   "outputs": [
    {
     "data": {
      "text/plain": [
       "array([ 2.,  3.,  4.,  5.,  6.,  7.,  8.,  9., 10., 11., 12., 13., 14.,\n",
       "       15., 16., 17., 18., 19., 20.])"
      ]
     },
     "execution_count": 18,
     "metadata": {},
     "output_type": "execute_result"
    }
   ],
   "source": [
    "x= np.array(a)\n",
    "x"
   ]
  },
  {
   "cell_type": "code",
   "execution_count": 19,
   "id": "227e8236-b4ef-4ec1-ae72-06b9db85c053",
   "metadata": {},
   "outputs": [
    {
     "data": {
      "text/plain": [
       "array([0.7, 1.1, 1.5, 1.6, 1.7, 2. , 2.3, 2.4, 2.2, 2.1, 2.4, 2.6, 2.2,\n",
       "       2.7, 2.5, 2.7, 2.8, 2.9, 3.1])"
      ]
     },
     "execution_count": 19,
     "metadata": {},
     "output_type": "execute_result"
    }
   ],
   "source": [
    "y= np.array(b)\n",
    "y"
   ]
  },
  {
   "cell_type": "code",
   "execution_count": 20,
   "id": "cc281663-dede-41dd-9ef5-3c1c26751ec9",
   "metadata": {},
   "outputs": [
    {
     "data": {
      "image/png": "[encoded data removed]",
      "text/plain": [
       "<Figure size 864x432 with 1 Axes>"
      ]
     },
     "metadata": {
      "needs_background": "light"
     },
     "output_type": "display_data"
    }
   ],
   "source": [
    "# Plot the raw data\n",
    "fig, ax = plt.subplots(figsize=(12,6))\n",
    "\n",
    "# Plot x vs y.\n",
    "ax.plot(x, y, 'k.');"
   ]
  },
  {
   "cell_type": "markdown",
   "id": "943c05bb-223c-46a1-a189-4fcf7548ffe4",
   "metadata": {},
   "source": [
    "<br>\n",
    "\n",
    "#### Numpy Polyfit"
   ]
  },
  {
   "cell_type": "code",
   "execution_count": 21,
   "id": "5abd4c5f-3111-4080-beb5-6f9ca3612691",
   "metadata": {},
   "outputs": [
    {
     "data": {
      "text/plain": [
       "array([0.10315789, 1.04947368])"
      ]
     },
     "execution_count": 21,
     "metadata": {},
     "output_type": "execute_result"
    }
   ],
   "source": [
    "# Use x and y to try to find the original parameters using numpy polyfit.\n",
    "# params = np.polyfit(x, y, 1)\n",
    "# params\n",
    "params= np.polyfit(x, y, 1)\n",
    "params"
   ]
  },
  {
   "cell_type": "code",
   "execution_count": 22,
   "id": "8e191f2b-98f4-481a-b9dc-39ce0511a85c",
   "metadata": {},
   "outputs": [
    {
     "data": {
      "image/png": "[encoded data removed]",
      "text/plain": [
       "<Figure size 864x432 with 1 Axes>"
      ]
     },
     "metadata": {
      "needs_background": "light"
     },
     "output_type": "display_data"
    }
   ],
   "source": [
    "# Create a plot.\n",
    "fig, ax = plt.subplots(figsize=(12,6));\n",
    "\n",
    "# Plot x vs y.\n",
    "ax.plot(x, y, 'k.');\n",
    "\n",
    "# Plot a vs parameters on a.\n",
    "ax.plot(x, params[0] * x + params[1], 'r-');"
   ]
  },
  {
   "cell_type": "markdown",
   "id": "43e42b28-c246-4e45-9a95-3b1dc4f61677",
   "metadata": {},
   "source": [
    "<br>\n",
    "\n",
    "#### SciPy Optimisation"
   ]
  },
  {
   "cell_type": "code",
   "execution_count": 23,
   "id": "1c0b5902-679c-4c8c-9bd1-b1db651efb8d",
   "metadata": {},
   "outputs": [],
   "source": [
    "# Optimization.\n",
    "import scipy.optimize as so\n",
    "\n",
    "# Numerical arrays.\n",
    "import numpy as np"
   ]
  },
  {
   "cell_type": "code",
   "execution_count": 24,
   "id": "a567c530-a67b-4d05-9384-e09967b79c1a",
   "metadata": {},
   "outputs": [],
   "source": [
    "# Using the minimize function in scipy.optimize\n",
    "# A function to minimize that takes in x\n",
    "\n",
    "# The function to be minimised is:\n",
    "def cost(MC):\n",
    "    m,c = MC\n",
    "    # we will put the values in an array called MC. e.g. MC =(5,10)\n",
    "    # unpack the values m & c\n",
    "    # we need the data points in this function.\n",
    "    # Note numpy will pull in 'x' and 'y' values as array and will multiply using x array values\n",
    "    cost = np.sum((y-m * x - c)**2)\n",
    "    #return cost\n",
    "    return cost   \n"
   ]
  },
  {
   "cell_type": "code",
   "execution_count": 25,
   "id": "e0f9b10c-ca7a-4760-97fb-8abd2cde4261",
   "metadata": {},
   "outputs": [
    {
     "data": {
      "text/plain": [
       "  message: Optimization terminated successfully.\n",
       "  success: True\n",
       "   status: 0\n",
       "      fun: 1.039578947369245\n",
       "        x: [ 1.032e-01  1.049e+00]\n",
       "      nit: 5\n",
       "      jac: [ 4.172e-07  3.874e-07]\n",
       " hess_inv: [[ 8.772e-04 -9.649e-03]\n",
       "            [-9.649e-03  1.325e-01]]\n",
       "     nfev: 24\n",
       "     njev: 8"
      ]
     },
     "execution_count": 25,
     "metadata": {},
     "output_type": "execute_result"
    }
   ],
   "source": [
    "# neural networks used 'gradient descent' \n",
    "# cost value from def cost above is passed into scipy.minimise\n",
    "# pass inital values of m & c (any values- scipy.optimize will handle)\n",
    "result = so.minimize(cost, (10.0, 10.0))\n",
    "result"
   ]
  },
  {
   "cell_type": "code",
   "execution_count": 26,
   "id": "83801de5-b650-47ee-ba52-3a9a247cd0a5",
   "metadata": {},
   "outputs": [
    {
     "data": {
      "text/plain": [
       "(0.10315785670858434, 1.0494741049413692)"
      ]
     },
     "execution_count": 26,
     "metadata": {},
     "output_type": "execute_result"
    }
   ],
   "source": [
    "# Extract optimized m and c (m_o & c_o).\n",
    "m_o, c_o = result.x\n",
    "m_o, c_o"
   ]
  },
  {
   "cell_type": "code",
   "execution_count": 27,
   "id": "f6a2ed80-4749-4a50-9b43-96139355bf41",
   "metadata": {},
   "outputs": [
    {
     "data": {
      "text/plain": [
       "(0.10315789473684209, 1.0494736842105254)"
      ]
     },
     "execution_count": 27,
     "metadata": {},
     "output_type": "execute_result"
    }
   ],
   "source": [
    "# Recalculate np.polyfit m and c for dataset (m_p & c_p)\n",
    "m_p, c_p = np.polyfit(x, y, 1)\n",
    "m_p, c_p"
   ]
  },
  {
   "cell_type": "code",
   "execution_count": 28,
   "id": "d58e9eae-5eb3-4ee7-85c9-a3addd112ae9",
   "metadata": {},
   "outputs": [
    {
     "data": {
      "image/png": "[encoded data removed]",
      "text/plain": [
       "<Figure size 576x432 with 1 Axes>"
      ]
     },
     "metadata": {
      "needs_background": "light"
     },
     "output_type": "display_data"
    }
   ],
   "source": [
    "# Plot the best fit line from the optimization.\n",
    "fig, ax = plt.subplots(figsize=(8, 6))\n",
    "ax.plot(x, y, 'k.', label='Original data')\n",
    "# call the point m underscore o for optimised value\n",
    "# call the point c underscore o for optimised value\n",
    "ax.plot(x, m_p * x + c_p, 'g-.', label='NP.Polyfit line') #calculated using the basic np.polyfit function above\n",
    "ax.plot(x, m_o * x + c_o, 'r-.', label='Scipy Optimized line') #calculated using the scipy.stats optimized,minimize function\n",
    "ax.legend()\n",
    "\n",
    "# Show the plot.\n",
    "plt.show()"
   ]
  },
  {
   "cell_type": "markdown",
   "id": "2d73ec26-a1c9-458e-8695-221a51eb910d",
   "metadata": {},
   "source": [
    "### Curve Fitting\n",
    "---"
   ]
  },
  {
   "cell_type": "code",
   "execution_count": 29,
   "id": "9820a0c4-d989-410d-90ed-429ba0fb775d",
   "metadata": {},
   "outputs": [],
   "source": [
    "# https://docs.scipy.org/doc/scipy/reference/generated/scipy.optimize.curve_fit.html\n",
    "\n",
    "# Create the model function.\n",
    "#curve fitting takes  in a function\n",
    "# curve_fitting tries to minimize the sum of the squared residuals (i.e. predicted -actual) squared and summed\n",
    "# call the function 'f'\n",
    "# tell the curve.fitting funvtion that our model function is f\n",
    "def f(x, m, c):\n",
    "    return m * x + c\n",
    "# e.g. y = mx +C"
   ]
  },
  {
   "cell_type": "code",
   "execution_count": 30,
   "id": "274b4479-7f5e-40b2-ab7d-9259747120d4",
   "metadata": {},
   "outputs": [],
   "source": [
    "# Run curve_fit.\n",
    "# input the values of x & y created randomly above\n",
    "result = so.curve_fit(f, x, y)"
   ]
  },
  {
   "cell_type": "code",
   "execution_count": 31,
   "id": "c752f9df-0427-44cf-a412-d2c6447e2f22",
   "metadata": {},
   "outputs": [
    {
     "data": {
      "text/plain": [
       "(0.10315789458399933, 1.0494736859688867)"
      ]
     },
     "execution_count": 31,
     "metadata": {},
     "output_type": "execute_result"
    }
   ],
   "source": [
    "# Pull out the parameters.\n",
    "# call them m_f and c_f\n",
    "# curve_fit line\n",
    "m_f, c_f = result[0]\n",
    "# Print values.\n",
    "m_f, c_f"
   ]
  },
  {
   "cell_type": "code",
   "execution_count": 32,
   "id": "adab3c1f-ea8c-46c0-bc28-4483b0fb4195",
   "metadata": {},
   "outputs": [
    {
     "data": {
      "image/png": "[encoded data removed]",
      "text/plain": [
       "<Figure size 576x432 with 1 Axes>"
      ]
     },
     "metadata": {
      "needs_background": "light"
     },
     "output_type": "display_data"
    }
   ],
   "source": [
    "# Plot the best fit line from the optimization.\n",
    "fig, ax = plt.subplots(figsize=(8, 6))\n",
    "ax.plot(x, y, 'k.', label='Original data')\n",
    "ax.plot(x, m_f * x + c_f, 'r-', label='Curve Fit line')\n",
    "#ax.plot(x, m_a * x + c_a, 'g-', label='Analytical line')\n",
    "ax.legend()\n",
    "\n",
    "# Show the plot.\n",
    "plt.show()"
   ]
  },
  {
   "cell_type": "markdown",
   "id": "4a27a124-0f21-4d3a-82bd-7898e481928d",
   "metadata": {},
   "source": [
    "#### Outputs\n",
    "Numpy.polyfit: **m:** 0.10315789 **c:** 1.04947368<br>\n",
    "Scipy.optimize.minimize(cost):  **m:** 0.10315785 **c:** 1.04947406<br> \n",
    "Scipy.optimize.curve_fit:  **m:** 0.10315789 **c:** 1.04947368<br>"
   ]
  },
  {
   "cell_type": "markdown",
   "id": "aa1bc8ac-fa0f-4b1b-8ec0-9032665466ed",
   "metadata": {},
   "source": [
    "#### Do you think a straight line is a good model for these points?"
   ]
  },
  {
   "cell_type": "code",
   "execution_count": 33,
   "id": "65b1f4d4-fba3-462d-b8cb-690671e25140",
   "metadata": {},
   "outputs": [
    {
     "name": "stdout",
     "output_type": "stream",
     "text": [
      "R-squared: 0.853689\n"
     ]
    }
   ],
   "source": [
    "from scipy import stats\n",
    "res = stats.linregress(x, y)\n",
    "print(f\"R-squared: {res.rvalue**2:.6f}\")"
   ]
  },
  {
   "cell_type": "code",
   "execution_count": 34,
   "id": "0825431a-3bc6-4136-9f17-30d72b6ae579",
   "metadata": {},
   "outputs": [
    {
     "data": {
      "image/png": "[encoded data removed]",
      "text/plain": [
       "<Figure size 432x288 with 1 Axes>"
      ]
     },
     "metadata": {
      "needs_background": "light"
     },
     "output_type": "display_data"
    }
   ],
   "source": [
    "plt.plot(x, y, 'o', label='original data')\n",
    "plt.plot(x, res.intercept + res.slope*x, 'r', label='fitted line')\n",
    "plt.legend()\n",
    "plt.show()"
   ]
  },
  {
   "cell_type": "markdown",
   "id": "7f810852-752e-4aa6-b61f-f3d3f24387b7",
   "metadata": {},
   "source": [
    "#### The three methods to fit a line (linear) to the data give similar results for the line coefficients.  \n",
    "#### The value of Coefficient of determination (R-squared) of 0.85 from stats.lingress would be considered significant to determine a correlation.  \n",
    "#### However the data may not be linear."
   ]
  },
  {
   "cell_type": "markdown",
   "id": "47feda5c-e894-4a93-ac0f-7667b75b79c1",
   "metadata": {},
   "source": [
    "<br> <br>\n"
   ]
  }
 ],
 "metadata": {
  "kernelspec": {
   "display_name": "Python 3",
   "language": "python",
   "name": "python3"
  },
  "language_info": {
   "codemirror_mode": {
    "name": "ipython",
    "version": 3
   },
   "file_extension": ".py",
   "mimetype": "text/x-python",
   "name": "python",
   "nbconvert_exporter": "python",
   "pygments_lexer": "ipython3",
   "version": "3.8.8"
  }
 },
 "nbformat": 4,
 "nbformat_minor": 5
}
