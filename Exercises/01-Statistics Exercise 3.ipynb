{
 "cells": [
  {
   "cell_type": "markdown",
   "id": "81900eed-db6c-4b59-91e5-7c23abe1e452",
   "metadata": {},
   "source": [
    "# Statisitics Exercises"
   ]
  },
  {
   "cell_type": "markdown",
   "id": "8d12d6fc-fa32-49f5-8e0a-b8d4b35d159b",
   "metadata": {},
   "source": [
    "### Exercise 3\n",
    "\n",
    "Take the code from the Examples section of the scipy stats documentation for independent samples t-tests, add it to your own notebook and add explain how it works using MarkDown cells and code comments. Improve it in any way you think it could be improved."
   ]
  },
  {
   "cell_type": "markdown",
   "id": "6f3dc382-6eb1-45a7-bf32-9bbf67ccea63",
   "metadata": {},
   "source": [
    "##### Requireements:\n",
    "\n",
    "scipy==1.10Python==3.17Numpy==matplotlib== \n",
    "Note: 'trim' function below did not work initially.  \n",
    "Make sure to check for scipy updates.  \n",
    "Scipy version 1.10 or higher required."
   ]
  },
  {
   "cell_type": "code",
   "execution_count": 1,
   "id": "4c0fb399-17c7-458a-9ef1-e4bbf1c8b7ca",
   "metadata": {},
   "outputs": [],
   "source": [
    "# download required libraries\n",
    "\n",
    "import numpy as np\n",
    "import matplotlib.pyplot as plt"
   ]
  },
  {
   "cell_type": "markdown",
   "id": "8f47a27f-22c5-4952-a4b3-b69cd0823b7b",
   "metadata": {},
   "source": [
    "##### Summary:  \n",
    "This test assumes that the populations have identical variances by default i.e. 'equal_var=True'.  \n",
    "If True (default), perform a standard independent 2 sample test that assumes equal population variances.  \n",
    "If False, perform Welch’s t-test, which does not assume equal population variance"
   ]
  },
  {
   "cell_type": "code",
   "execution_count": 2,
   "id": "5a5b126e-1519-4ce3-826c-c45f684d9e42",
   "metadata": {},
   "outputs": [],
   "source": [
    "# import stats module from scipy\n",
    "# Note: 'trim' function below did not work initially\n",
    "# make sure to check for scipy updates\n",
    "# scipy- version 1.10 or higher required\n",
    "\n",
    "from scipy import stats\n",
    "# rng = random number generator\n",
    "rng = np.random.default_rng()"
   ]
  },
  {
   "cell_type": "markdown",
   "id": "1f0f0850-0a49-4b86-b73f-4aa4ddfd9211",
   "metadata": {},
   "source": [
    "Test with sample with identical means:"
   ]
  },
  {
   "cell_type": "code",
   "execution_count": 3,
   "id": "491e01c4-e5b0-4cfe-9190-3e82525b589f",
   "metadata": {},
   "outputs": [
    {
     "data": {
      "text/plain": [
       "Ttest_indResult(statistic=-1.4281763141801487, pvalue=0.1535539742001945)"
      ]
     },
     "execution_count": 3,
     "metadata": {},
     "output_type": "execute_result"
    }
   ],
   "source": [
    "rvs1 = stats.norm.rvs(loc=5, scale=10, size=500, random_state=rng)\n",
    "rvs2 = stats.norm.rvs(loc=5, scale=10, size=500, random_state=rng)\n",
    "stats.ttest_ind(rvs1, rvs2)\n",
    "# Output varies when re-run- rng?\n",
    "# which above parameters will reduce the output variability when run and why?"
   ]
  },
  {
   "cell_type": "markdown",
   "id": "3bb04ad3-67bf-4973-9bfd-42ed8bdea855",
   "metadata": {},
   "source": [
    "#### Comments:  \n",
    "Output varies when re-run- rng?  \n",
    "\n",
    "Which above parameters will reduce the output variability when run and why?"
   ]
  },
  {
   "cell_type": "markdown",
   "id": "e7dd7074-3689-402f-9f46-c1611e67d3c3",
   "metadata": {},
   "source": [
    "##### Added parameter (equal_var=False) to function"
   ]
  },
  {
   "cell_type": "code",
   "execution_count": null,
   "id": "9d324ab0-ad2e-4e69-8c4f-824038315e97",
   "metadata": {},
   "outputs": [],
   "source": []
  },
  {
   "cell_type": "code",
   "execution_count": 4,
   "id": "1d3c66e1-819a-4a05-b4f9-c7e1c9a13a15",
   "metadata": {},
   "outputs": [
    {
     "data": {
      "text/plain": [
       "Ttest_indResult(statistic=-1.428176314180149, pvalue=0.1535561315214235)"
      ]
     },
     "execution_count": 4,
     "metadata": {},
     "output_type": "execute_result"
    }
   ],
   "source": [
    "# Added parameter (equal_var=False) to function\n",
    "# Only slight difference in output from above??\n",
    "stats.ttest_ind(rvs1, rvs2, equal_var=False)\n",
    "# Output linked to cell output above- 'rng' above generates the n random numbers"
   ]
  },
  {
   "cell_type": "markdown",
   "id": "ef09250f-7d2c-45a8-84e0-693ca080c4cf",
   "metadata": {},
   "source": [
    "ttest_ind underestimates p for unequal variances:"
   ]
  },
  {
   "cell_type": "code",
   "execution_count": 5,
   "id": "30c9d1ed-b557-4c05-b8eb-790e2b106f70",
   "metadata": {},
   "outputs": [
    {
     "data": {
      "text/plain": [
       "Ttest_indResult(statistic=-0.586307140237495, pvalue=0.5578017130663026)"
      ]
     },
     "execution_count": 5,
     "metadata": {},
     "output_type": "execute_result"
    }
   ],
   "source": [
    "# create a new set of values\n",
    "rvs3 = stats.norm.rvs(loc=5, scale=20, size=500, random_state=rng)\n",
    "stats.ttest_ind(rvs1, rvs3)"
   ]
  },
  {
   "cell_type": "code",
   "execution_count": null,
   "id": "ed86eeb1-1921-4f99-9178-7bee15c750fc",
   "metadata": {},
   "outputs": [],
   "source": []
  },
  {
   "cell_type": "code",
   "execution_count": 6,
   "id": "f68787a8-6ccd-450b-94a7-6a286db7e07c",
   "metadata": {},
   "outputs": [
    {
     "data": {
      "text/plain": [
       "Ttest_indResult(statistic=-0.586307140237495, pvalue=0.5578516896723974)"
      ]
     },
     "execution_count": 6,
     "metadata": {},
     "output_type": "execute_result"
    }
   ],
   "source": [
    "# Added parameter (equal_var=False) to function\n",
    "# Only slight difference in output from above??\n",
    "stats.ttest_ind(rvs1, rvs3, equal_var=False)"
   ]
  },
  {
   "cell_type": "markdown",
   "id": "7a388366-ba2a-4ec5-b05e-8931cc7e9d16",
   "metadata": {},
   "source": [
    "When n1 != n2, the equal variance t-statistic is no longer equal to the unequal variance t-statistic:"
   ]
  },
  {
   "cell_type": "code",
   "execution_count": 7,
   "id": "fbe921e0-b967-4486-8e2a-0b74fbedb8e2",
   "metadata": {},
   "outputs": [
    {
     "data": {
      "text/plain": [
       "Ttest_indResult(statistic=0.42722856797285547, pvalue=0.6700609949260787)"
      ]
     },
     "execution_count": 7,
     "metadata": {},
     "output_type": "execute_result"
    }
   ],
   "source": [
    "rvs5 = stats.norm.rvs(loc=8, scale=20, size=100, random_state=rng)\n",
    "stats.ttest_ind(rvs1, rvs5)\n",
    "# Ttest_indResult(statistic=-2.8415950600298774, pvalue=0.0046418707568707885)\n",
    "stats.ttest_ind(rvs1, rvs5, equal_var=False)\n",
    "# Ttest_indResult(statistic=-1.8686598649188084, pvalue=0.06434714193919686)"
   ]
  },
  {
   "cell_type": "markdown",
   "id": "d8165d64-12d9-4415-a6c5-bdc4c6052efb",
   "metadata": {},
   "source": [
    "When performing a permutation test, more permutations typically yields more accurate results. Use a np.random.Generator to ensure reproducibility:"
   ]
  },
  {
   "cell_type": "code",
   "execution_count": 8,
   "id": "c8745210-2fd1-4602-84b7-acb89ff969c0",
   "metadata": {},
   "outputs": [],
   "source": [
    "# stats.ttest_ind(rvs1, rvs5, permutations=10000,random_state=rng)\n",
    "# Ttest_indResult(statistic=-2.8415950600298774, pvalue=0.0052994700529947)"
   ]
  },
  {
   "cell_type": "markdown",
   "id": "a8c5e274-0233-4b3f-a617-e2df268dd791",
   "metadata": {},
   "source": [
    "Take these two samples, one of which has an extreme tail."
   ]
  },
  {
   "cell_type": "code",
   "execution_count": 9,
   "id": "75ae4d56-7a57-474b-bd72-f3058b649e4a",
   "metadata": {},
   "outputs": [],
   "source": [
    "a = (56, 128.6, 12, 123.8, 64.34, 78, 763.3)\n",
    "b = (1.1, 2.9, 4.2)"
   ]
  },
  {
   "cell_type": "markdown",
   "id": "4241e70d-30e1-4638-b5f0-45b1f4a9ae1f",
   "metadata": {},
   "source": [
    "Use the trim keyword to perform a trimmed (Yuen) t-test. For example, using 20% trimming, trim=.2, the test will reduce the impact of one (np.floor(trim*len(a))) element from each tail of sample a. It will have no effect on sample b because np.floor(trim*len(b)) is 0."
   ]
  },
  {
   "cell_type": "code",
   "execution_count": 10,
   "id": "3253bfdb-2068-4753-a4f9-ff89261a7e43",
   "metadata": {},
   "outputs": [
    {
     "data": {
      "text/plain": [
       "Ttest_indResult(statistic=1.099305186099593, pvalue=0.30361296704535845)"
      ]
     },
     "execution_count": 10,
     "metadata": {},
     "output_type": "execute_result"
    }
   ],
   "source": [
    "stats.ttest_ind(a, b)\n",
    "# Ttest_indResult(statistic=3.4463884028073513,pvalue=0.01369338726499547)"
   ]
  },
  {
   "cell_type": "code",
   "execution_count": 11,
   "id": "89311530-1241-451e-93d9-a9aca7b59b31",
   "metadata": {},
   "outputs": [
    {
     "data": {
      "text/plain": [
       "Ttest_indResult(statistic=3.4463884028073513, pvalue=0.01369338726499547)"
      ]
     },
     "execution_count": 11,
     "metadata": {},
     "output_type": "execute_result"
    }
   ],
   "source": [
    "stats.ttest_ind(a, b, trim=.2)\n",
    "# Ttest_indResult(statistic=3.4463884028073513,pvalue=0.01369338726499547)"
   ]
  },
  {
   "cell_type": "code",
   "execution_count": null,
   "id": "4a798d5a-5ce6-4ba7-874e-bd02f73c2590",
   "metadata": {},
   "outputs": [],
   "source": []
  },
  {
   "cell_type": "markdown",
   "id": "5a3fb741-8784-4cec-bf3a-76b82b05eb94",
   "metadata": {},
   "source": [
    "Why trim?: Trimmed means are robust estimators of central tendency. To compute a trimmed mean, we remove a predetermined amount of observations on each side of a distribution, and average the remaining observations. If you think you’re not familiar with trimmed means, you already know one famous member of this family: the median. Indeed, the median is an extreme trimmed mean, in which all observations are removed except one or two.\n",
    "\n",
    "Using trimmed means confers two advantages:\n",
    "\n",
    "Trimmed means provide a better estimation of the location of the bulk of the observations than the mean when sampling from asymmetric distributions;\n",
    "the standard error of the trimmed mean is less affected by outliers and asymmetry than the mean, so that tests using trimmed means can have more power than tests using the mean.\n",
    "Important point: if we use a trimmed mean in an inferential test (see below), we make inferences about the population trimmed mean, not the population mean. The same is true for the median or any other measure of central tendency. So each robust estimator is a tool to answer a specific question, and this is why different estimators can return different answers.\n",
    "\n",
    "To trim a datset it is first sorted and then a predetermined percentage at either end of the dataset are removed."
   ]
  },
  {
   "cell_type": "markdown",
   "id": "47cf5611-bd09-4044-b33a-7613cd765544",
   "metadata": {},
   "source": [
    "##### References\n",
    "<br>\n",
    "Ronald Fisher, a Bad Cup of Tea, and the Birth of Modern Statistics:  <br>\n",
    "https://www.sciencehistory.org/distillations/ronald-fisher-a-bad-cup-of-tea-and-the-birth-of-modern-statistics <br><br>\n",
    "Basic Statistics- Trimmed Means <br>https://garstats.wordpress.com/2017/11/28/trimmed-means/"
   ]
  },
  {
   "cell_type": "code",
   "execution_count": null,
   "id": "b443452a-e004-4463-ada7-3326caf9bbbb",
   "metadata": {},
   "outputs": [],
   "source": []
  },
  {
   "cell_type": "markdown",
   "id": "f67fc35a-c447-4f7c-b873-826df516c6f4",
   "metadata": {},
   "source": [
    "pip install --upgrade scipy\n",
    "Requirement already satisfied: scipy in c:\\users\\polma\\anaconda3\\lib\\site-packages (1.6.2)\n",
    "Collecting scipy\n",
    "  Downloading scipy-1.10.0-cp38-cp38-win_amd64.whl (42.2 MB)\n",
    "     ---------------------------------------- 42.2/42.2 MB 4.3 MB/s eta 0:00:00\n",
    "Requirement already satisfied: numpy<1.27.0,>=1.19.5 in c:\\users\\polma\\anaconda3\\lib\\site-packages (from scipy) (1.20.1)\n",
    "Installing collected packages: scipy\n",
    "  Attempting uninstall: scipy\n",
    "    Found existing installation: scipy 1.6.2\n",
    "    Uninstalling scipy-1.6.2:\n",
    "      Successfully uninstalled scipy-1.6.2\n",
    "Successfully installed scipy-1.10.0"
   ]
  },
  {
   "cell_type": "code",
   "execution_count": null,
   "id": "2f5501ee-49b5-4365-85c1-aa8df9f2bf06",
   "metadata": {},
   "outputs": [],
   "source": []
  }
 ],
 "metadata": {
  "kernelspec": {
   "display_name": "Python 3",
   "language": "python",
   "name": "python3"
  },
  "language_info": {
   "codemirror_mode": {
    "name": "ipython",
    "version": 3
   },
   "file_extension": ".py",
   "mimetype": "text/x-python",
   "name": "python",
   "nbconvert_exporter": "python",
   "pygments_lexer": "ipython3",
   "version": "3.8.8"
  }
 },
 "nbformat": 4,
 "nbformat_minor": 5
}
