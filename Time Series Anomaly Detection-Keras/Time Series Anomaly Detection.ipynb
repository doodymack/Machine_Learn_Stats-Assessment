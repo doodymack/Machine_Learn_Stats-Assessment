{
 "cells": [
  {
   "cell_type": "markdown",
   "metadata": {},
   "source": [
    "##### Paul Mc Grath - Machine Learning & Stats- Winter 2022 Module- Assessment  \n",
    "---"
   ]
  },
  {
   "cell_type": "markdown",
   "metadata": {},
   "source": [
    "[link to my public repository on Github](https://github.com/doodymack/Machine_Learn_Stats-Assessment/tree/main/Time%20Series%20Anomaly%20Detection-Keras) email: polmaccraith@outlook.com"
   ]
  },
  {
   "cell_type": "markdown",
   "metadata": {},
   "source": [
    "# Time Series Anomaly Detection\n",
    "\n",
    "***\n",
    "\n",
    "https://keras.io/examples/timeseries/timeseries_anomaly_detection/  \n",
    "\n",
    "Link to Source Material [Time_Series_Anomaly_Detection](https://keras.io/examples/timeseries/timeseries_anomaly_detection/ \"Time Series Anomaly Detection\").  \n",
    "\n"
   ]
  },
  {
   "cell_type": "markdown",
   "metadata": {},
   "source": [
    "<br>\n",
    "\n",
    "### Introduction:\n",
    "---\n",
    "\n",
    "#### Aim \n",
    "\n",
    "This Notebook will demonstrate the use of Keras (Tensorflow) Machine Learning in demonstration of its use for analysis ot time-series data and detection of real-time anomalies.\n",
    "\n",
    "\n",
    "#### Machine Learning\n",
    "\n",
    "Machine learning (ML) is the practice of helping software perform a task without explicit programming or rules.  \n",
    "With traditional computer programming, a programmer specifies rules that the computer should use.  \n",
    "ML requires a different mindset, though. real-world ML focuses far more on data analysis than coding  \n",
    "Programmers/Data analysts provide a set of examples and the computer learns patterns from the data.\n",
    "\n",
    "#### Tensorflow  \n",
    "\n",
    "[TensorFlow][3] is an end-to-end platform for machine learning. It supports the following:\n",
    "\n",
    "- Multidimensional-array based numeric computation  \n",
    "- GPU and distributed processing  \n",
    "- Automatic differentiation  \n",
    "- Model construction, training, and export\n",
    "\n",
    "[3]: <https://www.tensorflow.org/about>\n",
    "\n",
    "#### Keras  \n",
    "\n",
    "[Keras][4] is a deep learning API written in Python, running on top of the machine learning platform TensorFlow. It was developed with a focus on enabling fast experimentation.  \n",
    "Being able to go from idea to result as fast as possible is key to doing good research.\n",
    "\n",
    "[4]: <https://keras.io/>\n",
    "\n",
    "#### Detecting anomalies  \n",
    "\n",
    "Much of the world's data is streaming, time-series data, where anomalies give significant information in critical situations.  \n",
    "These exist in diverse areas such as IT, Medical, Onling Gambling, Energy and Security.  \n",
    "Detecting anomalies in streaming data is a difficult task, requiring detectors to process data in real-time and learn while simultaneously making predictions.  \n",
    "There are limited benchmarks to adequately test and score the efficacy of real-time anomaly detectors.  \n",
    "[Anomaly detection][2] is a step in data mining that identifies data points, events, and/or observations that deviate from a dataset’s normal behaviour.  \n",
    "Anomalous data can indicate critical incidents, such as a technical glitch, or potential opportunities, for instance a change in consumer behaviour.  \n",
    "Machine learning is progressively being used to automate anomaly detection.  \n",
    "\n",
    "### Understanding ID and 3D Convolution  \n",
    "When we say Convolution Neural Network (CNN), generally we refer to a 2 dimensional CNN 'Conv2D' which is used for image classification.  \n",
    "But there are two other types of Convolution Neural Networks used in the real world, which are 1 dimensional and 3-dimensional CNNs.  \n",
    "Conv2D is generally used on image data. It is called 2 dimensional CNN because the kernel slides along 2 dimensions on the data.  \n",
    "The whole advantage of using CNN is that it can extract the spatial features from the data using its kernel, which other networks are unable to do.  \n",
    "For example, CNN can detect edges, distribution of colours etc in the image.  \n",
    "This makes these networks very robust in image classification and other similar data which contain spatial properties.  \n",
    "\n",
    "On the other hand In Conv1D, kernel slides along one dimension.  \n",
    "Time-Series data has spatial properties thus is perfectly suited to use kernel sliding in only one dimension.  \n",
    "The kernel can only move in one dimension along the x axis. In 1D CNN, kernel moves in 1 direction.  \n",
    "Input and output data of 1D CNN is 2 dimensional.  Conv1D is mostly used on Time-Series data.\n",
    "\n",
    "#### Time-series data\n",
    "Successful anomaly detection hinges on an ability to accurately analyze time-series data in real-time.  \n",
    "Time series data is composed of a sequence of values over time.  \n",
    "That means each point is typically a pair of two items — a timestamp for when the metric was measured, and the value associated with that metric at that time.  \n",
    "Time series anomaly detection must first create a baseline for normal behavior in primary KPIs.  \n",
    "With that baseline understood, time series data anomaly detection systems can track seasonality — the cyclical patterns of behavior within key datasets.\n",
    "\n",
    "[2]: <https://www.anodot.com/blog/what-is-anomaly-detection>"
   ]
  },
  {
   "cell_type": "markdown",
   "metadata": {},
   "source": [
    "Link to Source Material [Time_Series_Anomaly_Detection](https://keras.io/examples/timeseries/timeseries_anomaly_detection/)."
   ]
  },
  {
   "cell_type": "markdown",
   "metadata": {},
   "source": [
    "#### Numenta Anomaly Benchmark  \n",
    "\n",
    "Numenta Anomaly Benchmark [NAB][1] provides a public repository of open-source tools that can be used to test and measure anomaly detection algorithms on time-series streaming data.  \n",
    "NAB supplies benchmark datasets with labelled, real-world time-series data.  \n",
    "NAB provides artifical timeseries data containing labelled anomalous periods of behavior. Data are ordered, timestamped, single-valued metrics.  \n",
    "In this notebook I will present the use of Keras to attempt to detect a time-series anomaly from one NAB dataset, *art_daily_small_noise.csv* file  and the *art_daily_jumpsup.csv* file from the NAB repository.  \n",
    "In doing so the notebook will demonstrate how Keras can be put to use to detect real-time anomalies in time-series data.\n",
    "\n",
    "\n",
    "[1]: <https://github.com/numenta/NAB>"
   ]
  },
  {
   "cell_type": "markdown",
   "metadata": {},
   "source": [
    "#### Loss Function in TensorFlow  \n",
    "\n",
    "In machine learning you develop a model, which is a hypothesis, to predict a value given a set of input values.  \n",
    "The model has a set of weights which you tune based on a set of training data.  \n",
    "The training data has several pairs of input values as well as predicted values.  \n",
    "We use a loss function to determine how far the predicted values deviate from the actual values in the training data.  \n",
    "We change the model weights to make the loss minimum.  \n",
    "This is the essence of training the model.  \n",
    "Once Neural Network training is complete and satisfactory we can use the model to predict future events."
   ]
  },
  {
   "cell_type": "markdown",
   "metadata": {},
   "source": [
    "#### Libraries  \n",
    "First make sure we have downloaded the libraries/packages  that this notebook will require.  \n",
    "Other requirements are listed in the requirements.txt file in the repository."
   ]
  },
  {
   "cell_type": "code",
   "execution_count": 1,
   "metadata": {},
   "outputs": [],
   "source": [
    "# import required libraries\n",
    "\n",
    "# Numerical arrays.\n",
    "import numpy as np\n",
    "\n",
    "# Spreadsheet-like Data Frames.\n",
    "import pandas as pd\n",
    "\n",
    "# Layers of Neural networks.\n",
    "import tensorflow.keras as keras \n",
    "\n",
    "# Plotting\n",
    "import matplotlib.pyplot as plt"
   ]
  },
  {
   "cell_type": "markdown",
   "metadata": {},
   "source": [
    "<br>\n",
    "\n",
    "## Data\n",
    "---\n",
    "\n",
    "#### Numenta Anomaly Benchmark (NAB)  \n",
    "\n",
    "\n",
    "The [Numenta Anomaly Benchmark][7] (NAB) is a novel benchmark for evaluating algorithms for anomaly detection in streaming, online applications.  \n",
    "It is comprised of over 50 labeled real-world and artificial timeseries data files plus a novel scoring mechanism designed for real-time applications.  \n",
    "All of the data and code is fully open-source, with extensive documentation, and a scoreboard of anomaly detection algorithms.  \n",
    "The 58 timeseries data files in NAB database is designed to provide data for research in streaming anomaly detection.  \n",
    "\n",
    "All the data is open source and available to download from the [github repository][8].\n",
    "\n",
    "In this exercise we will use artificial timeseries data that has two corresponding time series plots 'measured' over a 2 week period that has companion datasets,  \n",
    "one without anomalies, one with an anomaly:  \n",
    "\n",
    "1. artificialNoAnomaly/Artifically-generated data without any anomalies.  \n",
    "\n",
    "2. artificialWithAnomaly/Artifically-generated data with varying types of anomalies.  \n",
    "\n",
    "two different csv files are embedded in the code:\n",
    " \n",
    " - artificial no anomaly/art_daily_small_noise.csv\n",
    " - artificial with anomaly/art_daily_jumpsup.csv \n",
    "\n",
    "[7]:[https://www.kaggle.com/datasets/boltzmannbrain/nab]\n",
    "[8]:[https://github.com/numenta/NAB]\n",
    "\n"
   ]
  },
  {
   "cell_type": "markdown",
   "metadata": {},
   "source": [
    "#### How to download the datasets  \n",
    "\n",
    "The datasets are csv files (comma separated) that should be easily handled by PANDAS library functionality.   \n",
    "\n",
    "If we try to go to master_url_root below it returns a 404 in browser. Why is this?  \n",
    "\n",
    "The url is only meant to link to raw github content.  Github is a web application.  Hence a lot of the files are coded in .html or .ipynb if Notebook.  \n",
    "PANDAS will not be able to handle html e.g. if pd.read_csv(url) it will error i.e. \"can't parse\".   \n",
    "\n",
    "##### Solution:  \n",
    "To access and download the raw data:  \n",
    "\n",
    "- go directly to github repository itself\n",
    "- navigate to the numenta-nab- master data subfolder\n",
    "- the required csv files can be located here  \n",
    "- for ease of use a master URL is created to parse to the locations of the datasets\n",
    "- no_anomaly_url = with_anomaly_url = make urls direct links to csv  \n",
    "- see below root url + link to csv  \n",
    "\n",
    "This ensures the URL points to the raw csv files which can then be processed by the downloaded libraries.  \n",
    "\n",
    "###### See below root url + link to csv.\n",
    "<br>"
   ]
  },
  {
   "cell_type": "code",
   "execution_count": 2,
   "metadata": {},
   "outputs": [],
   "source": [
    "# Root of URLs.\n",
    "root_url = 'https://raw.githubusercontent.com/numenta/NAB/master/data/'\n",
    "\n",
    "# Data file without anomaly.\n",
    "no_anomaly_url = root_url + 'artificialNoAnomaly/art_daily_small_noise.csv'\n",
    "\n",
    "# Data file with anomaly.\n",
    "with_anomaly_url = root_url + 'artificialWithAnomaly/art_daily_jumpsup.csv'"
   ]
  },
  {
   "cell_type": "code",
   "execution_count": 3,
   "metadata": {},
   "outputs": [
    {
     "data": {
      "text/plain": [
       "'https://raw.githubusercontent.com/numenta/NAB/master/data/artificialNoAnomaly/art_daily_small_noise.csv'"
      ]
     },
     "execution_count": 3,
     "metadata": {},
     "output_type": "execute_result"
    }
   ],
   "source": [
    "# return the no_anomaly_url\n",
    "no_anomaly_url"
   ]
  },
  {
   "cell_type": "markdown",
   "metadata": {},
   "source": [
    "<br>\n",
    "\n",
    "### Lets have a look at the two raw datasets\n",
    "\n",
    "<br>\n",
    "\n",
    "##### The *artificialNoAnomaly-art_daily_small_noise.csv dataset*  \n",
    "\n",
    "The dataset comprises of real-time data comprising of 'time-stamp',  \n",
    "and a corresponsing 'value' or float beginning 01 Apr 2014 and encompassing 14 days of trends.  \n",
    "For example: Initial and Final values from *artificialNoAnomaly-art_daily_small_noise* 01 Apr 2014: \n",
    "<br>\n",
    "\n",
    "*timestamp,value*  \n",
    "INITIAL:<br>2014-04-01 00:00:00,18.324918539200002<br>\n",
    "2014-04-01 00:05:00,21.970327182<br>\n",
    "2014-04-01 00:10:00,18.6248060317<br>\n",
    "2014-04-01 00:15:00,21.953683975900002<br>\n",
    "2014-04-01 00:20:00,21.909119730300002<br>\n",
    "2014-04-01 00:25:00,21.1752724156<br>\n",
    "\n",
    "<br>\n",
    "*timestamp,value* <br>\n",
    "FINAL: <br>2014-04-14 23:35:00,20.2111947366<br>\n",
    "2014-04-14 23:40:00,20.5310405757<br>\n",
    "2014-04-14 23:45:00,19.032127481099998<br>\n",
    "2014-04-14 23:50:00,21.798800887800002<br>\n",
    "2014-04-14 23:55:00,18.6826203655<br>\n",
    "<br>\n",
    "\n",
    "As can be seen above some entries have 9-10 significant figures right of the decimal point.  Others have 15.  \n",
    "Thus it appears some of the timepoints appear to be rounded.  \n",
    "The raw csv file has 4033 rows, two columns including header.  \n",
    "The file represents the data that has **no anomaly** and will be identified as **small_noise** file below."
   ]
  },
  {
   "cell_type": "code",
   "execution_count": 4,
   "metadata": {},
   "outputs": [
    {
     "data": {
      "text/plain": [
       "'https://raw.githubusercontent.com/numenta/NAB/master/data/artificialWithAnomaly/art_daily_jumpsup.csv'"
      ]
     },
     "execution_count": 4,
     "metadata": {},
     "output_type": "execute_result"
    }
   ],
   "source": [
    "# return the with_anomaly_url\n",
    "with_anomaly_url"
   ]
  },
  {
   "cell_type": "markdown",
   "metadata": {},
   "source": [
    "<br>\n",
    "\n",
    "##### The *artificialWithAnomaly-art_daily_jumpsup.csv*  \n",
    "\n",
    "The dataset comprises of real-time data comprising of 'time-stamp'  \n",
    "and a corresponsing 'value' or float beginning 01 Apr 2014 and encompassing 14 days of trends.  \n",
    "For example: Initial and Final values from *artificialWithAnomaly-art_daily_jumpsup* 01 Apr 2014: \n",
    "<br>\n",
    "\n",
    "*timestamp,value*\n",
    "INITIAL:<br>2014-04-01 00:00:00,19.761251902999998<br>\n",
    "2014-04-01 00:05:00,20.500833287<br>\n",
    "2014-04-01 00:10:00,19.9616414445<br>\n",
    "2014-04-01 00:15:00,21.4902660734<br>\n",
    "2014-04-01 00:20:00,20.1877394098<br>\n",
    "*timestamp,value*  \n",
    "<br>\n",
    "*timestamp,value* <br>\n",
    "FINAL: <br>\n",
    "2014-04-14 23:35:00,18.0746492248<br>\n",
    "2014-04-14 23:40:00,21.0020136323<br>\n",
    "2014-04-14 23:45:00,20.5667131193<br>\n",
    "2014-04-14 23:50:00,18.254192669200002<br>\n",
    "2014-04-14 23:55:00,21.8631471547<br>\n",
    "\n",
    "<br>\n",
    "\n",
    "As can be seen above some entries have 9-10 significant figures right of the decimal point. Others have 15.  \n",
    "Thus it appears some of the timepoints appear to be rounded.  \n",
    "The raw csv file has 4033 rows, two columns including header.  \n",
    "The file represents the data that **contains an anomaly** and will be identified as **daily_jumpsup** file below."
   ]
  },
  {
   "cell_type": "markdown",
   "metadata": {},
   "source": [
    "<br>\n",
    "\n",
    "### Lets create and inspect the dataframes\n",
    "---"
   ]
  },
  {
   "cell_type": "code",
   "execution_count": 5,
   "metadata": {},
   "outputs": [],
   "source": [
    "# define df_small_noise as read in csv\n",
    "# transpose it to a pandas dataframe with column header 'timestamp'\n",
    "df_small_noise = pd.read_csv(no_anomaly_url, parse_dates=True, index_col=\"timestamp\")"
   ]
  },
  {
   "cell_type": "code",
   "execution_count": 6,
   "metadata": {},
   "outputs": [
    {
     "data": {
      "text/html": [
       "<div>\n",
       "<style scoped>\n",
       "    .dataframe tbody tr th:only-of-type {\n",
       "        vertical-align: middle;\n",
       "    }\n",
       "\n",
       "    .dataframe tbody tr th {\n",
       "        vertical-align: top;\n",
       "    }\n",
       "\n",
       "    .dataframe thead th {\n",
       "        text-align: right;\n",
       "    }\n",
       "</style>\n",
       "<table border=\"1\" class=\"dataframe\">\n",
       "  <thead>\n",
       "    <tr style=\"text-align: right;\">\n",
       "      <th></th>\n",
       "      <th>value</th>\n",
       "    </tr>\n",
       "    <tr>\n",
       "      <th>timestamp</th>\n",
       "      <th></th>\n",
       "    </tr>\n",
       "  </thead>\n",
       "  <tbody>\n",
       "    <tr>\n",
       "      <th>2014-04-01 00:00:00</th>\n",
       "      <td>18.324919</td>\n",
       "    </tr>\n",
       "    <tr>\n",
       "      <th>2014-04-01 00:05:00</th>\n",
       "      <td>21.970327</td>\n",
       "    </tr>\n",
       "    <tr>\n",
       "      <th>2014-04-01 00:10:00</th>\n",
       "      <td>18.624806</td>\n",
       "    </tr>\n",
       "    <tr>\n",
       "      <th>2014-04-01 00:15:00</th>\n",
       "      <td>21.953684</td>\n",
       "    </tr>\n",
       "    <tr>\n",
       "      <th>2014-04-01 00:20:00</th>\n",
       "      <td>21.909120</td>\n",
       "    </tr>\n",
       "  </tbody>\n",
       "</table>\n",
       "</div>"
      ],
      "text/plain": [
       "                         value\n",
       "timestamp                     \n",
       "2014-04-01 00:00:00  18.324919\n",
       "2014-04-01 00:05:00  21.970327\n",
       "2014-04-01 00:10:00  18.624806\n",
       "2014-04-01 00:15:00  21.953684\n",
       "2014-04-01 00:20:00  21.909120"
      ]
     },
     "execution_count": 6,
     "metadata": {},
     "output_type": "execute_result"
    }
   ],
   "source": [
    "# lets have a look at dataset-as a dataframe\n",
    "df_small_noise.head()"
   ]
  },
  {
   "cell_type": "code",
   "execution_count": 7,
   "metadata": {},
   "outputs": [
    {
     "data": {
      "text/html": [
       "<div>\n",
       "<style scoped>\n",
       "    .dataframe tbody tr th:only-of-type {\n",
       "        vertical-align: middle;\n",
       "    }\n",
       "\n",
       "    .dataframe tbody tr th {\n",
       "        vertical-align: top;\n",
       "    }\n",
       "\n",
       "    .dataframe thead th {\n",
       "        text-align: right;\n",
       "    }\n",
       "</style>\n",
       "<table border=\"1\" class=\"dataframe\">\n",
       "  <thead>\n",
       "    <tr style=\"text-align: right;\">\n",
       "      <th></th>\n",
       "      <th>value</th>\n",
       "    </tr>\n",
       "    <tr>\n",
       "      <th>timestamp</th>\n",
       "      <th></th>\n",
       "    </tr>\n",
       "  </thead>\n",
       "  <tbody>\n",
       "    <tr>\n",
       "      <th>2014-04-14 23:35:00</th>\n",
       "      <td>20.211195</td>\n",
       "    </tr>\n",
       "    <tr>\n",
       "      <th>2014-04-14 23:40:00</th>\n",
       "      <td>20.531041</td>\n",
       "    </tr>\n",
       "    <tr>\n",
       "      <th>2014-04-14 23:45:00</th>\n",
       "      <td>19.032127</td>\n",
       "    </tr>\n",
       "    <tr>\n",
       "      <th>2014-04-14 23:50:00</th>\n",
       "      <td>21.798801</td>\n",
       "    </tr>\n",
       "    <tr>\n",
       "      <th>2014-04-14 23:55:00</th>\n",
       "      <td>18.682620</td>\n",
       "    </tr>\n",
       "  </tbody>\n",
       "</table>\n",
       "</div>"
      ],
      "text/plain": [
       "                         value\n",
       "timestamp                     \n",
       "2014-04-14 23:35:00  20.211195\n",
       "2014-04-14 23:40:00  20.531041\n",
       "2014-04-14 23:45:00  19.032127\n",
       "2014-04-14 23:50:00  21.798801\n",
       "2014-04-14 23:55:00  18.682620"
      ]
     },
     "execution_count": 7,
     "metadata": {},
     "output_type": "execute_result"
    }
   ],
   "source": [
    "# lets have a look at the last values\n",
    "df_small_noise.tail()"
   ]
  },
  {
   "cell_type": "markdown",
   "metadata": {},
   "source": [
    "This confirms the datset comprises of values recorded every 5 min from  \n",
    "00:00 01 Apr 2014 to 23:55 on 14 Apr 2014 (4032 in total)."
   ]
  },
  {
   "cell_type": "code",
   "execution_count": 8,
   "metadata": {},
   "outputs": [
    {
     "data": {
      "text/plain": [
       "(4032, 1)"
      ]
     },
     "execution_count": 8,
     "metadata": {},
     "output_type": "execute_result"
    }
   ],
   "source": [
    "# return the dataframe shape\n",
    "df_small_noise.shape"
   ]
  },
  {
   "cell_type": "markdown",
   "metadata": {},
   "source": [
    "Note: PANDAS considers the dataframe as 1 column i.e. (,1) as timestamp is declared the index within PANDAS."
   ]
  },
  {
   "cell_type": "code",
   "execution_count": 9,
   "metadata": {},
   "outputs": [
    {
     "data": {
      "text/html": [
       "<div>\n",
       "<style scoped>\n",
       "    .dataframe tbody tr th:only-of-type {\n",
       "        vertical-align: middle;\n",
       "    }\n",
       "\n",
       "    .dataframe tbody tr th {\n",
       "        vertical-align: top;\n",
       "    }\n",
       "\n",
       "    .dataframe thead th {\n",
       "        text-align: right;\n",
       "    }\n",
       "</style>\n",
       "<table border=\"1\" class=\"dataframe\">\n",
       "  <thead>\n",
       "    <tr style=\"text-align: right;\">\n",
       "      <th></th>\n",
       "      <th>value</th>\n",
       "    </tr>\n",
       "  </thead>\n",
       "  <tbody>\n",
       "    <tr>\n",
       "      <th>count</th>\n",
       "      <td>4032.000000</td>\n",
       "    </tr>\n",
       "    <tr>\n",
       "      <th>mean</th>\n",
       "      <td>42.438353</td>\n",
       "    </tr>\n",
       "    <tr>\n",
       "      <th>std</th>\n",
       "      <td>28.077122</td>\n",
       "    </tr>\n",
       "    <tr>\n",
       "      <th>min</th>\n",
       "      <td>18.000964</td>\n",
       "    </tr>\n",
       "    <tr>\n",
       "      <th>25%</th>\n",
       "      <td>19.841390</td>\n",
       "    </tr>\n",
       "    <tr>\n",
       "      <th>50%</th>\n",
       "      <td>21.608487</td>\n",
       "    </tr>\n",
       "    <tr>\n",
       "      <th>75%</th>\n",
       "      <td>75.450282</td>\n",
       "    </tr>\n",
       "    <tr>\n",
       "      <th>max</th>\n",
       "      <td>87.976128</td>\n",
       "    </tr>\n",
       "  </tbody>\n",
       "</table>\n",
       "</div>"
      ],
      "text/plain": [
       "             value\n",
       "count  4032.000000\n",
       "mean     42.438353\n",
       "std      28.077122\n",
       "min      18.000964\n",
       "25%      19.841390\n",
       "50%      21.608487\n",
       "75%      75.450282\n",
       "max      87.976128"
      ]
     },
     "execution_count": 9,
     "metadata": {},
     "output_type": "execute_result"
    }
   ],
   "source": [
    "# describe the dataframe (summary statistics)\n",
    "# This confirms the pd.dataframe has maintained the full dataset (4032 rows)\n",
    "df_small_noise.describe()"
   ]
  },
  {
   "cell_type": "markdown",
   "metadata": {},
   "source": [
    "###### Of note here but will be discussed later is the max value of ~88."
   ]
  },
  {
   "cell_type": "markdown",
   "metadata": {},
   "source": [
    "<br>\n",
    "\n",
    "####  A closer look at the datasets \n",
    "**No_anomaly-art_daily_small_noise:**<br>\n",
    "2014-04-01 08:55:00,20.226313714<br>\n",
    "2014-04-01 09:00:00,65.8611405858<br>\n",
    "2014-04-01 17:55:00,73.9271290519<br>\n",
    "2014-04-01 18:00:00,32.541069676999996<br><br>  \n",
    "2014-04-02 08:55:00,18.3878626839<br>\n",
    "2014-04-02 09:00:00,63.6348302692<br>\n",
    "2014-04-02 17:55:00,81.4078348108<br>\n",
    "2014-04-02 18:00:00,31.529592328699998<br>\n",
    "\n",
    "**With_anomaly-art_daily_jumpsup:**<br>\n",
    "2014-04-01 08:55:00,18.1971208058<br>\n",
    "2014-04-01 09:00:00,74.1260143836<br>\n",
    "2014-04-01 17:55:00,72.5149226057<br>\n",
    "2014-04-01 18:00:00,29.105490665700003<br><br>\n",
    "2014-04-02 08:55:00,19.4520057999<br>\n",
    "2014-04-02 09:00:00,62.046248748100005<br>\n",
    "2014-04-02 17:55:00,76.6636613224<br>\n",
    "2014-04-02 18:00:00,35.000584685300005<br>"
   ]
  },
  {
   "cell_type": "markdown",
   "metadata": {},
   "source": [
    "On inspection there appears to be a shift at 09:00 for both datasets and a corresponding drop at 18:00.  \n",
    "However the anomaly is later in the dataset.  \n",
    "Plotting the full set will demonstrate this."
   ]
  },
  {
   "cell_type": "markdown",
   "metadata": {},
   "source": [
    "<br>\n",
    "\n",
    "#### df_small_noise\n",
    "---"
   ]
  },
  {
   "cell_type": "code",
   "execution_count": 10,
   "metadata": {},
   "outputs": [
    {
     "data": {
      "text/plain": [
       "value    18.324919\n",
       "Name: 2014-04-01 00:00:00, dtype: float64"
      ]
     },
     "execution_count": 10,
     "metadata": {},
     "output_type": "execute_result"
    }
   ],
   "source": [
    "# pandas show the 1st value in df\n",
    "df_small_noise.iloc[0]"
   ]
  },
  {
   "cell_type": "markdown",
   "metadata": {},
   "source": [
    "<br>\n",
    "\n",
    "A simple due-diligence check to compare 1st row of the raw data shown above with that returmed from the dataframe.  \n",
    "On inspection the dataframe has rounded the data during the upload.  \n",
    "The values are truncated from 18.324918**539200002** to 18.324919  \n",
    "Conclusion: the values are rounded.  This should be noted.  We will take note and see if it impact the analysis. "
   ]
  },
  {
   "cell_type": "code",
   "execution_count": 11,
   "metadata": {},
   "outputs": [
    {
     "data": {
      "text/plain": [
       "18.3249185392"
      ]
     },
     "execution_count": 11,
     "metadata": {},
     "output_type": "execute_result"
    }
   ],
   "source": [
    "# pandas returns the numerical value in df  where'value'\n",
    "# there are more significant figures when 'values' is identified\n",
    "# in this case the dropped digits are '000002'\n",
    "# We will take note and see if it impact the analysis\n",
    "df_small_noise.iloc[0]['value']"
   ]
  },
  {
   "cell_type": "code",
   "execution_count": 12,
   "metadata": {},
   "outputs": [
    {
     "data": {
      "text/plain": [
       "18.3249185392"
      ]
     },
     "execution_count": 12,
     "metadata": {},
     "output_type": "execute_result"
    }
   ],
   "source": [
    "# another way to get the first numerical value in the df\n",
    "# its possible that jupyter-pandas might contrive the data\n",
    "# Conclusion: for the data scientist its always important to keep an eye on the provenance of data during processing\n",
    "df_small_noise.iloc[0].values[0]"
   ]
  },
  {
   "cell_type": "code",
   "execution_count": 13,
   "metadata": {},
   "outputs": [
    {
     "data": {
      "text/plain": [
       "183249185392000.0"
      ]
     },
     "execution_count": 13,
     "metadata": {},
     "output_type": "execute_result"
    }
   ],
   "source": [
    "# multiply the value x 10e12\n",
    "# This confirms the data provenance from csv is maintained\n",
    "# However this confirms PANDAS is rounding to keep within 'float 64' internal constraint \n",
    "df_small_noise.iloc[0].values[0] * 10e12"
   ]
  },
  {
   "cell_type": "code",
   "execution_count": 14,
   "metadata": {},
   "outputs": [
    {
     "data": {
      "text/plain": [
       "(4032, 1)"
      ]
     },
     "execution_count": 14,
     "metadata": {},
     "output_type": "execute_result"
    }
   ],
   "source": [
    "# confirm the shape of the df\n",
    "df_small_noise.shape"
   ]
  },
  {
   "cell_type": "code",
   "execution_count": 15,
   "metadata": {},
   "outputs": [
    {
     "data": {
      "image/png": "[encoded data removed]",
      "text/plain": [
       "<Figure size 720x288 with 1 Axes>"
      ]
     },
     "metadata": {
      "needs_background": "light"
     },
     "output_type": "display_data"
    }
   ],
   "source": [
    "# set the fig size\n",
    "# fig, ax = plt.subplots(figsize=(12,6))\n",
    "# used pandas (plt) to plot a pandas dataframe\n",
    "# plotting onto ax i.e. axes\n",
    "# can use pyplot figsize to increase fig size as desired\n",
    "fig, ax = plt.subplots(figsize=(10,4))\n",
    "\n",
    "# Use pandas to plot data frame. Axis legend autopopulated.\n",
    "df_small_noise.plot(legend=False, ax=ax);"
   ]
  },
  {
   "cell_type": "markdown",
   "metadata": {},
   "source": [
    "<br>\n",
    "\n",
    "#### df_ daily_jumpsup\n",
    "---"
   ]
  },
  {
   "cell_type": "code",
   "execution_count": 16,
   "metadata": {},
   "outputs": [],
   "source": [
    "# define df_daily_jumpsup as read in csv\n",
    "# transpose it to a pandas dataframe with column header 'timestamp'\n",
    "df_daily_jumpsup = pd.read_csv(with_anomaly_url, parse_dates=True, index_col=\"timestamp\")"
   ]
  },
  {
   "cell_type": "code",
   "execution_count": 17,
   "metadata": {},
   "outputs": [
    {
     "data": {
      "text/html": [
       "<div>\n",
       "<style scoped>\n",
       "    .dataframe tbody tr th:only-of-type {\n",
       "        vertical-align: middle;\n",
       "    }\n",
       "\n",
       "    .dataframe tbody tr th {\n",
       "        vertical-align: top;\n",
       "    }\n",
       "\n",
       "    .dataframe thead th {\n",
       "        text-align: right;\n",
       "    }\n",
       "</style>\n",
       "<table border=\"1\" class=\"dataframe\">\n",
       "  <thead>\n",
       "    <tr style=\"text-align: right;\">\n",
       "      <th></th>\n",
       "      <th>value</th>\n",
       "    </tr>\n",
       "    <tr>\n",
       "      <th>timestamp</th>\n",
       "      <th></th>\n",
       "    </tr>\n",
       "  </thead>\n",
       "  <tbody>\n",
       "    <tr>\n",
       "      <th>2014-04-01 00:00:00</th>\n",
       "      <td>19.761252</td>\n",
       "    </tr>\n",
       "    <tr>\n",
       "      <th>2014-04-01 00:05:00</th>\n",
       "      <td>20.500833</td>\n",
       "    </tr>\n",
       "    <tr>\n",
       "      <th>2014-04-01 00:10:00</th>\n",
       "      <td>19.961641</td>\n",
       "    </tr>\n",
       "    <tr>\n",
       "      <th>2014-04-01 00:15:00</th>\n",
       "      <td>21.490266</td>\n",
       "    </tr>\n",
       "    <tr>\n",
       "      <th>2014-04-01 00:20:00</th>\n",
       "      <td>20.187739</td>\n",
       "    </tr>\n",
       "  </tbody>\n",
       "</table>\n",
       "</div>"
      ],
      "text/plain": [
       "                         value\n",
       "timestamp                     \n",
       "2014-04-01 00:00:00  19.761252\n",
       "2014-04-01 00:05:00  20.500833\n",
       "2014-04-01 00:10:00  19.961641\n",
       "2014-04-01 00:15:00  21.490266\n",
       "2014-04-01 00:20:00  20.187739"
      ]
     },
     "execution_count": 17,
     "metadata": {},
     "output_type": "execute_result"
    }
   ],
   "source": [
    "# printout the first 5 values in df\n",
    "df_daily_jumpsup.head()"
   ]
  },
  {
   "cell_type": "code",
   "execution_count": 18,
   "metadata": {},
   "outputs": [
    {
     "data": {
      "text/html": [
       "<div>\n",
       "<style scoped>\n",
       "    .dataframe tbody tr th:only-of-type {\n",
       "        vertical-align: middle;\n",
       "    }\n",
       "\n",
       "    .dataframe tbody tr th {\n",
       "        vertical-align: top;\n",
       "    }\n",
       "\n",
       "    .dataframe thead th {\n",
       "        text-align: right;\n",
       "    }\n",
       "</style>\n",
       "<table border=\"1\" class=\"dataframe\">\n",
       "  <thead>\n",
       "    <tr style=\"text-align: right;\">\n",
       "      <th></th>\n",
       "      <th>value</th>\n",
       "    </tr>\n",
       "  </thead>\n",
       "  <tbody>\n",
       "    <tr>\n",
       "      <th>count</th>\n",
       "      <td>4032.000000</td>\n",
       "    </tr>\n",
       "    <tr>\n",
       "      <th>mean</th>\n",
       "      <td>44.494254</td>\n",
       "    </tr>\n",
       "    <tr>\n",
       "      <th>std</th>\n",
       "      <td>32.432473</td>\n",
       "    </tr>\n",
       "    <tr>\n",
       "      <th>min</th>\n",
       "      <td>18.001010</td>\n",
       "    </tr>\n",
       "    <tr>\n",
       "      <th>25%</th>\n",
       "      <td>19.991382</td>\n",
       "    </tr>\n",
       "    <tr>\n",
       "      <th>50%</th>\n",
       "      <td>21.648503</td>\n",
       "    </tr>\n",
       "    <tr>\n",
       "      <th>75%</th>\n",
       "      <td>76.435943</td>\n",
       "    </tr>\n",
       "    <tr>\n",
       "      <th>max</th>\n",
       "      <td>164.947481</td>\n",
       "    </tr>\n",
       "  </tbody>\n",
       "</table>\n",
       "</div>"
      ],
      "text/plain": [
       "             value\n",
       "count  4032.000000\n",
       "mean     44.494254\n",
       "std      32.432473\n",
       "min      18.001010\n",
       "25%      19.991382\n",
       "50%      21.648503\n",
       "75%      76.435943\n",
       "max     164.947481"
      ]
     },
     "execution_count": 18,
     "metadata": {},
     "output_type": "execute_result"
    }
   ],
   "source": [
    "# describe the dataframe\n",
    "df_daily_jumpsup.describe()\n",
    "# (can leave out print function for pd style as below as required)"
   ]
  },
  {
   "cell_type": "markdown",
   "metadata": {},
   "source": [
    "###### Of note here but will be discussed later is the max value of ~165."
   ]
  },
  {
   "cell_type": "code",
   "execution_count": 19,
   "metadata": {},
   "outputs": [
    {
     "name": "stdout",
     "output_type": "stream",
     "text": [
      "             value\n",
      "count  4032.000000\n",
      "mean     44.494254\n",
      "std      32.432473\n",
      "min      18.001010\n",
      "25%      19.991382\n",
      "50%      21.648503\n",
      "75%      76.435943\n",
      "max     164.947481\n"
     ]
    }
   ],
   "source": [
    "# describe the dataframe \n",
    "print(df_daily_jumpsup.describe())"
   ]
  },
  {
   "cell_type": "code",
   "execution_count": 20,
   "metadata": {},
   "outputs": [
    {
     "name": "stdout",
     "output_type": "stream",
     "text": [
      "             value\n",
      "count  4032.000000\n",
      "mean     42.438353\n",
      "std      28.077122\n",
      "min      18.000964\n",
      "25%      19.841390\n",
      "50%      21.608487\n",
      "75%      75.450282\n",
      "max      87.976128\n"
     ]
    }
   ],
   "source": [
    "print(df_small_noise.describe())"
   ]
  },
  {
   "cell_type": "markdown",
   "metadata": {},
   "source": [
    "<br>\n",
    "\n",
    "#### From a quick check of the summary data fo both datasets:"
   ]
  },
  {
   "cell_type": "code",
   "execution_count": 21,
   "metadata": {},
   "outputs": [
    {
     "data": {
      "text/plain": [
       "19.761251903"
      ]
     },
     "execution_count": 21,
     "metadata": {},
     "output_type": "execute_result"
    }
   ],
   "source": [
    "# pandas return the 1st value in df\n",
    "df_daily_jumpsup.iloc[0]['value']"
   ]
  },
  {
   "cell_type": "markdown",
   "metadata": {},
   "source": [
    "<br>\n",
    "\n",
    "A simple due-diligence check to compare 1st row of the raw data shown above with that returned from the dataframe.  \n",
    "On inspection the dataframe has rounded the data during the upload.  \n",
    "The values are truncated from 19.76125190**2999998** to 19.761251903.  \n",
    "Conclusion: the values are rounded. We will take note and see if it impact the analysis."
   ]
  },
  {
   "cell_type": "code",
   "execution_count": 22,
   "metadata": {},
   "outputs": [
    {
     "data": {
      "text/plain": [
       "(4032, 1)"
      ]
     },
     "execution_count": 22,
     "metadata": {},
     "output_type": "execute_result"
    }
   ],
   "source": [
    "# describe the shape of the df\n",
    "df_daily_jumpsup.shape"
   ]
  },
  {
   "cell_type": "code",
   "execution_count": 23,
   "metadata": {},
   "outputs": [
    {
     "data": {
      "image/png": "[encoded data removed]",
      "text/plain": [
       "<Figure size 720x288 with 1 Axes>"
      ]
     },
     "metadata": {
      "needs_background": "light"
     },
     "output_type": "display_data"
    }
   ],
   "source": [
    "# set the fig size\n",
    "fig, ax = plt.subplots(figsize=(10,4))\n",
    "\n",
    "# Use pandas to plot data frame.\n",
    "df_daily_jumpsup.plot(legend=False, ax=ax);"
   ]
  },
  {
   "cell_type": "markdown",
   "metadata": {},
   "source": [
    "<br>\n",
    "\n",
    "#### Preprocessing of the data\n",
    "\n",
    "To prepare the data for passing into keras the 'raw' data needs some preprocessing/\n",
    "\n",
    "###### First steps\n",
    "\n",
    "1. Subtract the mean of the dataset from individual values\n",
    "2. Divide by standard deviation.  \n",
    "This essentially gets all values normalized between x and y and centered on zero.  \n",
    "This a common transformation in neural networks.  \n",
    "\n",
    "***"
   ]
  },
  {
   "cell_type": "code",
   "execution_count": 24,
   "metadata": {},
   "outputs": [
    {
     "data": {
      "text/plain": [
       "value    42.438353\n",
       "dtype: float64"
      ]
     },
     "execution_count": 24,
     "metadata": {},
     "output_type": "execute_result"
    }
   ],
   "source": [
    "# get the mean of small noise \n",
    "# (one column- if more we would get mean of all columms)\n",
    "# dataset to be used in neural Network (NN) training \n",
    "# we will call it 'train_***'\n",
    "train_mean = df_small_noise.mean()\n",
    "train_mean"
   ]
  },
  {
   "cell_type": "code",
   "execution_count": 25,
   "metadata": {},
   "outputs": [
    {
     "data": {
      "text/plain": [
       "value    28.077122\n",
       "dtype: float64"
      ]
     },
     "execution_count": 25,
     "metadata": {},
     "output_type": "execute_result"
    }
   ],
   "source": [
    "# get the standard deviation of small noise\n",
    "train_std = df_small_noise.std()\n",
    "train_std"
   ]
  },
  {
   "cell_type": "code",
   "execution_count": 26,
   "metadata": {},
   "outputs": [],
   "source": [
    "# Subtract the mean from the value\n",
    "# Divide by standard deviation.\n",
    "# check to ensure PANDAS doesnt add it to another column\n",
    "df_train_vals = (df_small_noise - train_mean) / train_std"
   ]
  },
  {
   "cell_type": "code",
   "execution_count": 27,
   "metadata": {},
   "outputs": [
    {
     "data": {
      "text/html": [
       "<div>\n",
       "<style scoped>\n",
       "    .dataframe tbody tr th:only-of-type {\n",
       "        vertical-align: middle;\n",
       "    }\n",
       "\n",
       "    .dataframe tbody tr th {\n",
       "        vertical-align: top;\n",
       "    }\n",
       "\n",
       "    .dataframe thead th {\n",
       "        text-align: right;\n",
       "    }\n",
       "</style>\n",
       "<table border=\"1\" class=\"dataframe\">\n",
       "  <thead>\n",
       "    <tr style=\"text-align: right;\">\n",
       "      <th></th>\n",
       "      <th>value</th>\n",
       "    </tr>\n",
       "    <tr>\n",
       "      <th>timestamp</th>\n",
       "      <th></th>\n",
       "    </tr>\n",
       "  </thead>\n",
       "  <tbody>\n",
       "    <tr>\n",
       "      <th>2014-04-01 00:00:00</th>\n",
       "      <td>-0.858829</td>\n",
       "    </tr>\n",
       "    <tr>\n",
       "      <th>2014-04-01 00:05:00</th>\n",
       "      <td>-0.728993</td>\n",
       "    </tr>\n",
       "    <tr>\n",
       "      <th>2014-04-01 00:10:00</th>\n",
       "      <td>-0.848148</td>\n",
       "    </tr>\n",
       "    <tr>\n",
       "      <th>2014-04-01 00:15:00</th>\n",
       "      <td>-0.729586</td>\n",
       "    </tr>\n",
       "    <tr>\n",
       "      <th>2014-04-01 00:20:00</th>\n",
       "      <td>-0.731173</td>\n",
       "    </tr>\n",
       "  </tbody>\n",
       "</table>\n",
       "</div>"
      ],
      "text/plain": [
       "                        value\n",
       "timestamp                    \n",
       "2014-04-01 00:00:00 -0.858829\n",
       "2014-04-01 00:05:00 -0.728993\n",
       "2014-04-01 00:10:00 -0.848148\n",
       "2014-04-01 00:15:00 -0.729586\n",
       "2014-04-01 00:20:00 -0.731173"
      ]
     },
     "execution_count": 27,
     "metadata": {},
     "output_type": "execute_result"
    }
   ],
   "source": [
    "# to check: return the 1st 5 values in the dataframe\n",
    "df_train_vals.head()"
   ]
  },
  {
   "cell_type": "code",
   "execution_count": 28,
   "metadata": {},
   "outputs": [
    {
     "data": {
      "text/html": [
       "<div>\n",
       "<style scoped>\n",
       "    .dataframe tbody tr th:only-of-type {\n",
       "        vertical-align: middle;\n",
       "    }\n",
       "\n",
       "    .dataframe tbody tr th {\n",
       "        vertical-align: top;\n",
       "    }\n",
       "\n",
       "    .dataframe thead th {\n",
       "        text-align: right;\n",
       "    }\n",
       "</style>\n",
       "<table border=\"1\" class=\"dataframe\">\n",
       "  <thead>\n",
       "    <tr style=\"text-align: right;\">\n",
       "      <th></th>\n",
       "      <th>value</th>\n",
       "    </tr>\n",
       "    <tr>\n",
       "      <th>timestamp</th>\n",
       "      <th></th>\n",
       "    </tr>\n",
       "  </thead>\n",
       "  <tbody>\n",
       "    <tr>\n",
       "      <th>2014-04-14 23:35:00</th>\n",
       "      <td>-0.791647</td>\n",
       "    </tr>\n",
       "    <tr>\n",
       "      <th>2014-04-14 23:40:00</th>\n",
       "      <td>-0.780255</td>\n",
       "    </tr>\n",
       "    <tr>\n",
       "      <th>2014-04-14 23:45:00</th>\n",
       "      <td>-0.833640</td>\n",
       "    </tr>\n",
       "    <tr>\n",
       "      <th>2014-04-14 23:50:00</th>\n",
       "      <td>-0.735102</td>\n",
       "    </tr>\n",
       "    <tr>\n",
       "      <th>2014-04-14 23:55:00</th>\n",
       "      <td>-0.846089</td>\n",
       "    </tr>\n",
       "  </tbody>\n",
       "</table>\n",
       "</div>"
      ],
      "text/plain": [
       "                        value\n",
       "timestamp                    \n",
       "2014-04-14 23:35:00 -0.791647\n",
       "2014-04-14 23:40:00 -0.780255\n",
       "2014-04-14 23:45:00 -0.833640\n",
       "2014-04-14 23:50:00 -0.735102\n",
       "2014-04-14 23:55:00 -0.846089"
      ]
     },
     "execution_count": 28,
     "metadata": {},
     "output_type": "execute_result"
    }
   ],
   "source": [
    "# to check: return the last 5 values in the dataframe\n",
    "df_train_vals.tail()"
   ]
  },
  {
   "cell_type": "code",
   "execution_count": 29,
   "metadata": {},
   "outputs": [
    {
     "data": {
      "image/png": "[encoded data removed]",
      "text/plain": [
       "<Figure size 720x288 with 1 Axes>"
      ]
     },
     "metadata": {
      "needs_background": "light"
     },
     "output_type": "display_data"
    }
   ],
   "source": [
    "# now lets plot the train_vals dataframe to have a look\n",
    "\n",
    "fig, ax = plt.subplots(figsize=(10,4))\n",
    "\n",
    "# Use pandas to plot data frame.\n",
    "df_train_vals.plot(legend=False, ax=ax);"
   ]
  },
  {
   "cell_type": "markdown",
   "metadata": {},
   "source": [
    "The x values (time) unaffected.  The y values are now centered around 0.  \n",
    "However importantly the overall trend is maintained.  \n",
    "The df is overwritten.  \n",
    "To show the transformation in an alternative way, the df can be extended as below.  \n",
    "The resulting data should be the same.  \n",
    "As can be seen, a quick check and the df_train_vals 'value' (above) correspond to df_small_noise 'value' (below)."
   ]
  },
  {
   "cell_type": "code",
   "execution_count": 30,
   "metadata": {},
   "outputs": [],
   "source": [
    "# create a new dataset by subtracting the mean from all values\n",
    "# designate these 'less_mean'\n",
    "# The new data will be added to the dataset as additional columns\n",
    "df_small_noise['less_mean'] = df_small_noise['value'] - df_small_noise['value'].mean()\n",
    "df_small_noise['div_std'] = df_small_noise['less_mean'] / df_small_noise['value'].std()"
   ]
  },
  {
   "cell_type": "code",
   "execution_count": 31,
   "metadata": {},
   "outputs": [
    {
     "data": {
      "text/html": [
       "<div>\n",
       "<style scoped>\n",
       "    .dataframe tbody tr th:only-of-type {\n",
       "        vertical-align: middle;\n",
       "    }\n",
       "\n",
       "    .dataframe tbody tr th {\n",
       "        vertical-align: top;\n",
       "    }\n",
       "\n",
       "    .dataframe thead th {\n",
       "        text-align: right;\n",
       "    }\n",
       "</style>\n",
       "<table border=\"1\" class=\"dataframe\">\n",
       "  <thead>\n",
       "    <tr style=\"text-align: right;\">\n",
       "      <th></th>\n",
       "      <th>value</th>\n",
       "      <th>less_mean</th>\n",
       "      <th>div_std</th>\n",
       "    </tr>\n",
       "    <tr>\n",
       "      <th>timestamp</th>\n",
       "      <th></th>\n",
       "      <th></th>\n",
       "      <th></th>\n",
       "    </tr>\n",
       "  </thead>\n",
       "  <tbody>\n",
       "    <tr>\n",
       "      <th>2014-04-01 00:00:00</th>\n",
       "      <td>18.324919</td>\n",
       "      <td>-24.113435</td>\n",
       "      <td>-0.858829</td>\n",
       "    </tr>\n",
       "    <tr>\n",
       "      <th>2014-04-01 00:05:00</th>\n",
       "      <td>21.970327</td>\n",
       "      <td>-20.468026</td>\n",
       "      <td>-0.728993</td>\n",
       "    </tr>\n",
       "    <tr>\n",
       "      <th>2014-04-01 00:10:00</th>\n",
       "      <td>18.624806</td>\n",
       "      <td>-23.813547</td>\n",
       "      <td>-0.848148</td>\n",
       "    </tr>\n",
       "    <tr>\n",
       "      <th>2014-04-01 00:15:00</th>\n",
       "      <td>21.953684</td>\n",
       "      <td>-20.484669</td>\n",
       "      <td>-0.729586</td>\n",
       "    </tr>\n",
       "    <tr>\n",
       "      <th>2014-04-01 00:20:00</th>\n",
       "      <td>21.909120</td>\n",
       "      <td>-20.529234</td>\n",
       "      <td>-0.731173</td>\n",
       "    </tr>\n",
       "    <tr>\n",
       "      <th>...</th>\n",
       "      <td>...</td>\n",
       "      <td>...</td>\n",
       "      <td>...</td>\n",
       "    </tr>\n",
       "    <tr>\n",
       "      <th>2014-04-14 23:35:00</th>\n",
       "      <td>20.211195</td>\n",
       "      <td>-22.227159</td>\n",
       "      <td>-0.791647</td>\n",
       "    </tr>\n",
       "    <tr>\n",
       "      <th>2014-04-14 23:40:00</th>\n",
       "      <td>20.531041</td>\n",
       "      <td>-21.907313</td>\n",
       "      <td>-0.780255</td>\n",
       "    </tr>\n",
       "    <tr>\n",
       "      <th>2014-04-14 23:45:00</th>\n",
       "      <td>19.032127</td>\n",
       "      <td>-23.406226</td>\n",
       "      <td>-0.833640</td>\n",
       "    </tr>\n",
       "    <tr>\n",
       "      <th>2014-04-14 23:50:00</th>\n",
       "      <td>21.798801</td>\n",
       "      <td>-20.639552</td>\n",
       "      <td>-0.735102</td>\n",
       "    </tr>\n",
       "    <tr>\n",
       "      <th>2014-04-14 23:55:00</th>\n",
       "      <td>18.682620</td>\n",
       "      <td>-23.755733</td>\n",
       "      <td>-0.846089</td>\n",
       "    </tr>\n",
       "  </tbody>\n",
       "</table>\n",
       "<p>4032 rows × 3 columns</p>\n",
       "</div>"
      ],
      "text/plain": [
       "                         value  less_mean   div_std\n",
       "timestamp                                          \n",
       "2014-04-01 00:00:00  18.324919 -24.113435 -0.858829\n",
       "2014-04-01 00:05:00  21.970327 -20.468026 -0.728993\n",
       "2014-04-01 00:10:00  18.624806 -23.813547 -0.848148\n",
       "2014-04-01 00:15:00  21.953684 -20.484669 -0.729586\n",
       "2014-04-01 00:20:00  21.909120 -20.529234 -0.731173\n",
       "...                        ...        ...       ...\n",
       "2014-04-14 23:35:00  20.211195 -22.227159 -0.791647\n",
       "2014-04-14 23:40:00  20.531041 -21.907313 -0.780255\n",
       "2014-04-14 23:45:00  19.032127 -23.406226 -0.833640\n",
       "2014-04-14 23:50:00  21.798801 -20.639552 -0.735102\n",
       "2014-04-14 23:55:00  18.682620 -23.755733 -0.846089\n",
       "\n",
       "[4032 rows x 3 columns]"
      ]
     },
     "execution_count": 31,
     "metadata": {},
     "output_type": "execute_result"
    }
   ],
   "source": [
    "# print out dataframe\n",
    "# check the # of rows\n",
    "df_small_noise"
   ]
  },
  {
   "cell_type": "code",
   "execution_count": 32,
   "metadata": {},
   "outputs": [
    {
     "data": {
      "text/plain": [
       "(42.438353335806646, -7.342627387941552e-14, -2.616541242931684e-15)"
      ]
     },
     "execution_count": 32,
     "metadata": {},
     "output_type": "execute_result"
    }
   ],
   "source": [
    "# calculate and print out the mean of the above columns\n",
    "df_small_noise['value'].mean(), df_small_noise['less_mean'].mean(), df_small_noise['div_std'].mean()"
   ]
  },
  {
   "cell_type": "markdown",
   "metadata": {},
   "source": [
    "##### Explanation:\n",
    "The mean of the 'less_mean' column is effectively zero as expected as its a mean of normalized data.  \n",
    "The mean of the 'div_std' column is effectively zero as expected as its a mean of stdev.  \n",
    "The mean of the 'value' column is 42.43 and is the same as df_small_noise (mean) i.e it is unaffected.  \n",
    "The new dataset is linearly equivalent to the original but an effective mean of 0 and a standard deviation of 0.  \n"
   ]
  },
  {
   "cell_type": "code",
   "execution_count": 33,
   "metadata": {},
   "outputs": [
    {
     "data": {
      "text/plain": [
       "(28.077122281262515, 28.077122281262508, 1.0000000000000018)"
      ]
     },
     "execution_count": 33,
     "metadata": {},
     "output_type": "execute_result"
    }
   ],
   "source": [
    "# Return the standard deviation of the columns above\n",
    "df_small_noise['value'].std(), df_small_noise['less_mean'].std(), df_small_noise['div_std'].std()"
   ]
  },
  {
   "cell_type": "markdown",
   "metadata": {},
   "source": [
    "<br>\n",
    "\n",
    "The standard deviation of 'value' and 'less_mean' are the same.  \n",
    "The standard deviation is unaffected by the transformation.  \n",
    "The data transformation uses the mean divide to scale the data only.  \n",
    "The standard deviation of the div_std is 1.0 as normalized stdev is expected to be +/1.0.  \n",
    "Standard deviation is centered by the mean."
   ]
  },
  {
   "cell_type": "code",
   "execution_count": 34,
   "metadata": {},
   "outputs": [
    {
     "data": {
      "image/png": "[encoded data removed]",
      "text/plain": [
       "<Figure size 720x288 with 1 Axes>"
      ]
     },
     "metadata": {
      "needs_background": "light"
     },
     "output_type": "display_data"
    }
   ],
   "source": [
    "# plot the transformed data\n",
    "# define size of plot\n",
    "fig, ax = plt.subplots(figsize=(10,4))\n",
    "\n",
    "\n",
    "# Use pandas to plot data frame.\n",
    "df_train_vals.plot(legend=False, ax=ax);"
   ]
  },
  {
   "cell_type": "markdown",
   "metadata": {},
   "source": [
    "The plot shows the training values with mean/stdev transformation as above are now between +1.5 and -0.8.  \n",
    "Effectively the transformation has just scaled the graph by transforming the numbers (-mean and /stdev) to create a standardised plot.  \n",
    "Its easier to discern that the data shows more low values than high values."
   ]
  },
  {
   "cell_type": "code",
   "execution_count": 35,
   "metadata": {},
   "outputs": [
    {
     "data": {
      "text/plain": [
       "(4032, 1)"
      ]
     },
     "execution_count": 35,
     "metadata": {},
     "output_type": "execute_result"
    }
   ],
   "source": [
    "# check the dataframe shape\n",
    "df_train_vals.shape"
   ]
  },
  {
   "cell_type": "markdown",
   "metadata": {},
   "source": [
    "<br>\n",
    "\n",
    "Confirmation of 4032 rows in df_train vals.  \n",
    "Therefore no data missing after transformation."
   ]
  },
  {
   "cell_type": "code",
   "execution_count": 36,
   "metadata": {},
   "outputs": [
    {
     "data": {
      "text/plain": [
       "Index(['value'], dtype='object')"
      ]
     },
     "execution_count": 36,
     "metadata": {},
     "output_type": "execute_result"
    }
   ],
   "source": [
    "# lets check the dataframe columns\n",
    "df_train_vals.columns"
   ]
  },
  {
   "cell_type": "markdown",
   "metadata": {},
   "source": [
    "<br>\n",
    "\n",
    "Thus column names are values , datatype = object.  \n",
    "Value is name of the column"
   ]
  },
  {
   "cell_type": "markdown",
   "metadata": {},
   "source": [
    "### Data Preparation for Keras"
   ]
  },
  {
   "cell_type": "code",
   "execution_count": 37,
   "metadata": {},
   "outputs": [],
   "source": [
    "# define the value of 'time_steps'which the code originally used\n",
    "time_steps =288"
   ]
  },
  {
   "cell_type": "markdown",
   "metadata": {},
   "source": [
    "The below is the standard code structure to create training sequences for keras that we will follow.  \n",
    "The modified code can be found below.   \n",
    "Note we renamed to window_size below."
   ]
  },
  {
   "cell_type": "code",
   "execution_count": 38,
   "metadata": {},
   "outputs": [],
   "source": [
    "# Generated training sequences for use in the model\n",
    "\n",
    "#def create_sequences(values, time_steps=TIME_STEPS):\n",
    "    #output = []\n",
    "    #for i in range(len(values)- time_steps +1):\n",
    "        #output.append(values[i : (i+ time_steps)])\n",
    "    #return np.stack(output)\n",
    "\n",
    "#def create_sequences(values, time_steps):\n",
    "    #output = []\n",
    "    #for i in range(len(values)- time_steps +1):\n",
    "        #output.append(values[i : (i+ time_steps)])\n",
    "    #return np.stack(output)"
   ]
  },
  {
   "cell_type": "markdown",
   "metadata": {},
   "source": [
    "<br>\n",
    "\n",
    "#### Assigning a value for 'time steps'\n",
    "\n",
    "To run the Neural Network we need the pre-processed data to be fed in a specific format.  \n",
    "The format is an array of 'values' of defined length.  \n",
    "The length of the array to  be used is defined as 'time_steps'.  \n",
    "A series of arrays or 'windows' will be fed into the neural network as training data.  \n",
    "The concept of 'windows' or more specifically 'sliding windows' is an important aspect in data analytics and will be explained below.  \n"
   ]
  },
  {
   "cell_type": "markdown",
   "metadata": {},
   "source": [
    "<br>\n",
    "\n",
    "#### Sliding window concept  \n",
    "We have a linear array of 4032 values.  \n",
    "Rather than looking at particular values Keras model looks for a change in trend across a series of values.  \n",
    "The model looks for changes by relative to a specific value in the middle of the 'window'\n",
    "i.e. how the values in the window left and right of the value are changing.  \n",
    "This is how the NN model uses training data to train the network.  \n",
    "The way this is achieved is to split the linear dataset into packets of data defined by a sliding window.  \n",
    "The window of predesigned size is moved left to right across the dataset  \n",
    "The data window containing 'training values' is passed into Keras.  \n",
    "Once the window reaches the end of the dataset the 1st cycle is completed.  \n",
    "Thus the last data point is included in just one window.  \n",
    "For additional clarity there is a detailed explanation using a dummy array as a worked example below.\n",
    "\n",
    "<br>\n",
    "\n",
    "![image](../images/sliding_window.png)\n"
   ]
  },
  {
   "cell_type": "code",
   "execution_count": 39,
   "metadata": {},
   "outputs": [],
   "source": [
    "# set 'time_steps'\n",
    "window_size = 288"
   ]
  },
  {
   "cell_type": "markdown",
   "metadata": {},
   "source": [
    "<br>\n",
    "\n",
    "##### Further explanation of sliding windows\n",
    "###### Dummy Data Window example:\n",
    "###### We begin with a linear array of 12 values and a window size of 3:\n",
    "###### Python window function can reshape the array with window_size command:\n",
    "###### Note its not a split in to 4 arrays but rather 10:\n",
    "###### Last array will contain last three values [3,4,5]:\n",
    "\n",
    "```python\n",
    "[1, 1, 2, 4, 5, 6, 7, 1, 2, 3, 4, 5]\n",
    "window_size = 3\n",
    "[1, 1, 2]\n",
    "[1, 2, 4]\n",
    "[2, 4, 5]\n",
    "[4, 5, 6]\n",
    "...\n",
    "```"
   ]
  },
  {
   "cell_type": "code",
   "execution_count": 40,
   "metadata": {},
   "outputs": [
    {
     "data": {
      "text/plain": [
       "12"
      ]
     },
     "execution_count": 40,
     "metadata": {},
     "output_type": "execute_result"
    }
   ],
   "source": [
    "# Window list example.\n",
    "L = [1, 1, 2, 4, 5, 6, 7, 1, 2, 3, 4, 5]\n",
    "# Example window size.\n",
    "win_size = 3\n",
    "# Length of L.\n",
    "len(L)"
   ]
  },
  {
   "cell_type": "code",
   "execution_count": 41,
   "metadata": {},
   "outputs": [
    {
     "data": {
      "text/plain": [
       "10"
      ]
     },
     "execution_count": 41,
     "metadata": {},
     "output_type": "execute_result"
    }
   ],
   "source": [
    "# Number of windows from L.\n",
    "len(L) - (win_size - 1)"
   ]
  },
  {
   "cell_type": "markdown",
   "metadata": {},
   "source": [
    "As shown above the number of windows is calculated by  \n",
    "the length of the array minus window size +1  \n",
    "Lets build further the code."
   ]
  },
  {
   "cell_type": "code",
   "execution_count": 42,
   "metadata": {},
   "outputs": [
    {
     "data": {
      "text/plain": [
       "10"
      ]
     },
     "execution_count": 42,
     "metadata": {},
     "output_type": "execute_result"
    }
   ],
   "source": [
    "# Remove brackets.\n",
    "len(L) - win_size + 1"
   ]
  },
  {
   "cell_type": "code",
   "execution_count": 43,
   "metadata": {},
   "outputs": [
    {
     "name": "stdout",
     "output_type": "stream",
     "text": [
      "[1, 1, 2]\n",
      "[1, 2, 4]\n",
      "[2, 4, 5]\n",
      "[4, 5, 6]\n",
      "[5, 6, 7]\n",
      "[6, 7, 1]\n",
      "[7, 1, 2]\n",
      "[1, 2, 3]\n",
      "[2, 3, 4]\n",
      "[3, 4, 5]\n"
     ]
    }
   ],
   "source": [
    "# Print the windows.\n",
    "for i in range(len(L) - win_size + 1):\n",
    "    print(L[i:i + win_size])"
   ]
  },
  {
   "cell_type": "markdown",
   "metadata": {},
   "source": [
    "<br>\n",
    "\n",
    "As shown above the final array or 'window' contains the last three values 3,4,5.  \n",
    "Accumulating the arrays can be executed using relatively simple python code.  \n",
    "Lets build the arrays required."
   ]
  },
  {
   "cell_type": "code",
   "execution_count": 44,
   "metadata": {},
   "outputs": [
    {
     "data": {
      "text/plain": [
       "[[1, 1, 2],\n",
       " [1, 2, 4],\n",
       " [2, 4, 5],\n",
       " [4, 5, 6],\n",
       " [5, 6, 7],\n",
       " [6, 7, 1],\n",
       " [7, 1, 2],\n",
       " [1, 2, 3],\n",
       " [2, 3, 4],\n",
       " [3, 4, 5]]"
      ]
     },
     "execution_count": 44,
     "metadata": {},
     "output_type": "execute_result"
    }
   ],
   "source": [
    "# For accumulating the windows.\n",
    "wins = []\n",
    "\n",
    "# Generate the windows\n",
    "for i in range(len(L) - win_size + 1):\n",
    "    wins.append(L[i:i + win_size])\n",
    "\n",
    "wins\n",
    "# outpus the linear array above in dataframe of len 3 starting with each element"
   ]
  },
  {
   "cell_type": "markdown",
   "metadata": {},
   "source": [
    "<br>\n",
    "\n",
    "Keras requires the data to be fed in as individual arrays.  \n",
    "Therefore we need to convert the single array into individual arrays"
   ]
  },
  {
   "cell_type": "code",
   "execution_count": 45,
   "metadata": {},
   "outputs": [
    {
     "data": {
      "text/plain": [
       "array([[1, 1, 2],\n",
       "       [1, 2, 4],\n",
       "       [2, 4, 5],\n",
       "       [4, 5, 6],\n",
       "       [5, 6, 7],\n",
       "       [6, 7, 1],\n",
       "       [7, 1, 2],\n",
       "       [1, 2, 3],\n",
       "       [2, 3, 4],\n",
       "       [3, 4, 5]])"
      ]
     },
     "execution_count": 45,
     "metadata": {},
     "output_type": "execute_result"
    }
   ],
   "source": [
    "# Create a 2D numpy array from wins.\n",
    "# output as individual arrys\n",
    "np.stack(wins)"
   ]
  },
  {
   "cell_type": "markdown",
   "metadata": {},
   "source": [
    "<br>\n",
    "\n",
    "We now need to create a python function to create correct data shape for input to NN (Keras).  \n",
    "To do this we will need to pass in the values and window size  as parameters into the function.  \n",
    "We need to slice the the array into windows of data each containing the required number of values.  \n",
    "Create a function that passes in the values and the window size and outputs a new set of arrays.  \n",
    "\n",
    "This could be visualised as 'slicing' the array after each value with a slice size as ' window size' . \n",
    "Individual values can be in multiple slices.  \n",
    "Finally we create a vertical stack of these slices in readiness for passing into keras."
   ]
  },
  {
   "cell_type": "code",
   "execution_count": 46,
   "metadata": {},
   "outputs": [],
   "source": [
    "# create a function \n",
    "def windows(vals, N=window_size):\n",
    "  # define an empty array for values\n",
    "  L = []\n",
    "  # iterate through vals for all windows of len N \n",
    "  for i in range(len(vals) - N + 1):\n",
    "    # append another row 'slice' of N vals to L[]\n",
    "    L.append(vals[i:i+N])\n",
    "  # Stack i.e output L as individual arrays\n",
    "  return np.stack(L)"
   ]
  },
  {
   "cell_type": "markdown",
   "metadata": {},
   "source": [
    "As we slice the 1d array of 'vals' left to right using the 'window size slicer' all windows will have a full set of values, with exception of window size-1.  \n",
    "These will have an incomplete set."
   ]
  },
  {
   "cell_type": "markdown",
   "metadata": {},
   "source": [
    "##### Check of code\n",
    "Check the code returns the right amount of windows.  \n",
    "Use the sample array to verify the code is working as expected before using on the training data."
   ]
  },
  {
   "cell_type": "code",
   "execution_count": 47,
   "metadata": {},
   "outputs": [
    {
     "data": {
      "text/plain": [
       "(10, 10)"
      ]
     },
     "execution_count": 47,
     "metadata": {},
     "output_type": "execute_result"
    }
   ],
   "source": [
    "# number of windows from L\n",
    "d= len(L)-(win_size -1)\n",
    "# remove brackets\n",
    "w= len(L)-win_size +1\n",
    "d,w"
   ]
  },
  {
   "cell_type": "code",
   "execution_count": 48,
   "metadata": {},
   "outputs": [
    {
     "data": {
      "text/plain": [
       "10"
      ]
     },
     "execution_count": 48,
     "metadata": {},
     "output_type": "execute_result"
    }
   ],
   "source": [
    "# NUMBERS OF WINDOWS FROM l\n",
    "len(L) -(win_size -1)"
   ]
  },
  {
   "cell_type": "code",
   "execution_count": 49,
   "metadata": {},
   "outputs": [
    {
     "data": {
      "text/plain": [
       "10"
      ]
     },
     "execution_count": 49,
     "metadata": {},
     "output_type": "execute_result"
    }
   ],
   "source": [
    "# NUMBERS OF WINDOWS FROM l (no brackets- same)\n",
    "len(L) -win_size +1"
   ]
  },
  {
   "cell_type": "code",
   "execution_count": 50,
   "metadata": {},
   "outputs": [
    {
     "name": "stdout",
     "output_type": "stream",
     "text": [
      "[1, 1, 2]\n",
      "[1, 2, 4]\n",
      "[2, 4, 5]\n",
      "[4, 5, 6]\n",
      "[5, 6, 7]\n",
      "[6, 7, 1]\n",
      "[7, 1, 2]\n",
      "[1, 2, 3]\n",
      "[2, 3, 4]\n",
      "[3, 4, 5]\n"
     ]
    }
   ],
   "source": [
    "# Have a look at the windows visually\n",
    "# iterate through i arrays using a for loop and print what loop returns\n",
    "for i in range(len(L) -win_size +1):\n",
    "    print(L[i:i + win_size]) "
   ]
  },
  {
   "cell_type": "markdown",
   "metadata": {},
   "source": [
    "<br>\n",
    "\n",
    "Collate the individual arrays into a new array"
   ]
  },
  {
   "cell_type": "code",
   "execution_count": 51,
   "metadata": {},
   "outputs": [
    {
     "data": {
      "text/plain": [
       "[[1, 1, 2],\n",
       " [1, 2, 4],\n",
       " [2, 4, 5],\n",
       " [4, 5, 6],\n",
       " [5, 6, 7],\n",
       " [6, 7, 1],\n",
       " [7, 1, 2],\n",
       " [1, 2, 3],\n",
       " [2, 3, 4],\n",
       " [3, 4, 5]]"
      ]
     },
     "execution_count": 51,
     "metadata": {},
     "output_type": "execute_result"
    }
   ],
   "source": [
    "# accumulatigng the windows in a new empty array\n",
    "wins = []\n",
    "\n",
    "# Generate the windows\n",
    "for i in range(len(L) -win_size +1):\n",
    "    wins.append(L[i:i + win_size]) \n",
    "wins"
   ]
  },
  {
   "cell_type": "markdown",
   "metadata": {},
   "source": [
    "<br>\n",
    "\n",
    "However it is still a 1d array.  Need to transform to a 2d array.  \n",
    "Python NUMPY 'stack' does this."
   ]
  },
  {
   "cell_type": "code",
   "execution_count": 52,
   "metadata": {},
   "outputs": [
    {
     "data": {
      "text/plain": [
       "array([[1, 1, 2],\n",
       "       [1, 2, 4],\n",
       "       [2, 4, 5],\n",
       "       [4, 5, 6],\n",
       "       [5, 6, 7],\n",
       "       [6, 7, 1],\n",
       "       [7, 1, 2],\n",
       "       [1, 2, 3],\n",
       "       [2, 3, 4],\n",
       "       [3, 4, 5]])"
      ]
     },
     "execution_count": 52,
     "metadata": {},
     "output_type": "execute_result"
    }
   ],
   "source": [
    "# stack wins\n",
    "np.stack(wins)"
   ]
  },
  {
   "cell_type": "markdown",
   "metadata": {},
   "source": [
    "<br>\n",
    "\n",
    "We are now ready to create the actual data for Keras NN."
   ]
  },
  {
   "cell_type": "markdown",
   "metadata": {},
   "source": [
    "<br>\n",
    "\n",
    "#### Create the training set  \n",
    "We create a similar numpy array.  \n",
    "We call it x_train and create it from the original dataset.  \n",
    "We then transform the original df (4032,1) to x_train ((3745, 288, 1)) using def windows().  \n",
    "df_train_vals is the zeroed array.  \n",
    "x_train is the windows function applied to dataset."
   ]
  },
  {
   "cell_type": "code",
   "execution_count": 53,
   "metadata": {},
   "outputs": [],
   "source": [
    "# create x_train\n",
    "x_train = windows(df_train_vals)"
   ]
  },
  {
   "cell_type": "markdown",
   "metadata": {},
   "source": [
    "<br>\n",
    "\n",
    "Lets have a look at the array first value [0] and last value [-1]  \n",
    "There should be 288 rows.  \n",
    "Keras requires each individual value  in an individual list.\n"
   ]
  },
  {
   "cell_type": "code",
   "execution_count": 54,
   "metadata": {},
   "outputs": [
    {
     "data": {
      "text/plain": [
       "(array([-0.85882857]), array([-0.79671155]))"
      ]
     },
     "execution_count": 54,
     "metadata": {},
     "output_type": "execute_result"
    }
   ],
   "source": [
    "# inspect the x_train array\n",
    "# first and last figures\n",
    "x_train[0][0], x_train[0][-1]"
   ]
  },
  {
   "cell_type": "markdown",
   "metadata": {},
   "source": [
    "df_train_vals is the zeroed array, whereas x_train is the windows applied to the dataset.  \n",
    "Lets take a look at the df_train_vals.  \n",
    "Lets compare the 1st value in x_train and 1st value in 1st window of df_train_vals.  \n",
    "As mentioned eariler, checking the provenance of the data is important to ensure data accuracy."
   ]
  },
  {
   "cell_type": "code",
   "execution_count": 55,
   "metadata": {},
   "outputs": [
    {
     "data": {
      "text/plain": [
       "(value   -0.858829\n",
       " Name: 2014-04-01 00:00:00, dtype: float64,\n",
       " value   -0.846089\n",
       " Name: 2014-04-14 23:55:00, dtype: float64)"
      ]
     },
     "execution_count": 55,
     "metadata": {},
     "output_type": "execute_result"
    }
   ],
   "source": [
    "#get 1st and last values from dataframe using iloc\n",
    "df_train_vals.iloc[0], df_train_vals.iloc[-1]"
   ]
  },
  {
   "cell_type": "markdown",
   "metadata": {},
   "source": [
    "<br>\n",
    "\n",
    "Lest spot check midway in dataset:"
   ]
  },
  {
   "cell_type": "code",
   "execution_count": 56,
   "metadata": {},
   "outputs": [
    {
     "data": {
      "text/plain": [
       "value   -0.757285\n",
       "Name: 2014-04-07 22:40:00, dtype: float64"
      ]
     },
     "execution_count": 56,
     "metadata": {},
     "output_type": "execute_result"
    }
   ],
   "source": [
    "#get 2000th value from dataframe using iloc\n",
    "df_train_vals.iloc[2000]"
   ]
  },
  {
   "cell_type": "markdown",
   "metadata": {},
   "source": [
    "<br>\n",
    "\n",
    "Lets have a look at the data within x-train arrays.  \n",
    "Check the data format.  \n",
    "It looks reasonable."
   ]
  },
  {
   "cell_type": "code",
   "execution_count": 57,
   "metadata": {},
   "outputs": [
    {
     "data": {
      "text/plain": [
       "(array([-0.85882857]), array([-0.8460886]))"
      ]
     },
     "execution_count": 57,
     "metadata": {},
     "output_type": "execute_result"
    }
   ],
   "source": [
    "# have a look at the array first value [0] and value [1]\n",
    "#RETURN 1ST VALUE IN 1ST WINDOW ALONG WITH FIRST VALUE IN THE LAST WINDOW\n",
    "x_train[0][0], x_train[-1][-1]"
   ]
  },
  {
   "cell_type": "markdown",
   "metadata": {},
   "source": [
    "<br>\n",
    "\n",
    "Lets do a quick re-check of the original dataset shape"
   ]
  },
  {
   "cell_type": "code",
   "execution_count": 58,
   "metadata": {},
   "outputs": [
    {
     "data": {
      "text/plain": [
       "array([-0.85882857, -0.72899302, -0.84814772, ..., -0.83364049,\n",
       "       -0.73510213, -0.8460886 ])"
      ]
     },
     "execution_count": 58,
     "metadata": {},
     "output_type": "execute_result"
    }
   ],
   "source": [
    "# print out the values where 'value'\n",
    "df_train_vals['value'].values"
   ]
  },
  {
   "cell_type": "code",
   "execution_count": 59,
   "metadata": {},
   "outputs": [
    {
     "data": {
      "text/plain": [
       "(4032, 1)"
      ]
     },
     "execution_count": 59,
     "metadata": {},
     "output_type": "execute_result"
    }
   ],
   "source": [
    "# review original shape of df -i.e 4032 values\n",
    "df_train_vals.shape"
   ]
  },
  {
   "cell_type": "markdown",
   "metadata": {},
   "source": [
    "<br>\n",
    "\n",
    "Lets confirm the X-train shape is transposed from the original dataset shape"
   ]
  },
  {
   "cell_type": "code",
   "execution_count": 60,
   "metadata": {},
   "outputs": [
    {
     "data": {
      "text/plain": [
       "(3745, 288, 1)"
      ]
     },
     "execution_count": 60,
     "metadata": {},
     "output_type": "execute_result"
    }
   ],
   "source": [
    "# check shape\n",
    "x_train.shape"
   ]
  },
  {
   "cell_type": "markdown",
   "metadata": {},
   "source": [
    "<br>\n",
    "\n",
    "Theoretical: 4032(dataset)-288(window size)+1 =3745.  \n",
    "We have confirmed x_train consists of 'windows' of size 288.  \n",
    "3745 of these x_train 'windows' ready to pass in to the model.  \n",
    "',1' says 3rd dimension of 1.  \n",
    "<br>\n",
    "\n",
    "Lets have a look at the 1st 'window' in x_train."
   ]
  },
  {
   "cell_type": "code",
   "execution_count": 61,
   "metadata": {},
   "outputs": [
    {
     "data": {
      "text/plain": [
       "array([-0.85882857, -0.72899302, -0.84814772, -0.72958579, -0.731173  ,\n",
       "       -0.75730984, -0.77645641, -0.7880838 , -0.747012  , -0.829166  ,\n",
       "       -0.80377285, -0.7821597 , -0.81182078, -0.80949918, -0.82334701,\n",
       "       -0.79001779, -0.74922405, -0.84169024, -0.73727717, -0.77223023,\n",
       "       -0.75311352, -0.79116337, -0.75934728, -0.86809294, -0.75381057,\n",
       "       -0.86468256, -0.74361965, -0.72908121, -0.82850668, -0.84043795,\n",
       "       -0.76136364, -0.8343536 , -0.74708881, -0.85574949, -0.85245676,\n",
       "       -0.73090636, -0.77440264, -0.74974936, -0.82419543, -0.77402585,\n",
       "       -0.78574242, -0.7844733 , -0.77316412, -0.78843253, -0.80927467,\n",
       "       -0.83109167, -0.76090519, -0.83816509, -0.77176485, -0.83715923,\n",
       "       -0.78131343, -0.76396862, -0.83924191, -0.86186112, -0.85174179,\n",
       "       -0.78406773, -0.74938477, -0.86399047, -0.76581026, -0.82177506,\n",
       "       -0.80222751, -0.73807119, -0.82310669, -0.80410682, -0.86845167,\n",
       "       -0.85877599, -0.83356075, -0.86643297, -0.78045221, -0.8096542 ,\n",
       "       -0.79230956, -0.84551986, -0.82824105, -0.77582935, -0.73287933,\n",
       "       -0.86321832, -0.74355256, -0.7882157 , -0.79006227, -0.79912888,\n",
       "       -0.86051472, -0.85759665, -0.78479216, -0.82182635, -0.73972257,\n",
       "       -0.81247611, -0.84998837, -0.76857869, -0.82860841, -0.79553994,\n",
       "       -0.77098436, -0.74214503, -0.75754161, -0.77404332, -0.77357716,\n",
       "       -0.73564002, -0.82825643, -0.8702425 , -0.83165699, -0.83935909,\n",
       "       -0.77611284, -0.78011937, -0.78585361, -0.86808681, -0.76657575,\n",
       "       -0.82430925, -0.7756539 , -0.79110813,  0.83423034,  0.73340436,\n",
       "        0.71395293,  1.07098925,  1.11307181,  0.98296271,  0.71831972,\n",
       "        0.86295228,  1.02130195,  1.04594803,  0.72548104,  0.66823317,\n",
       "        1.36958529,  1.17305538,  1.11661005,  0.98307138,  1.27459976,\n",
       "        1.44642694,  1.50528567,  1.28866513,  1.26031743,  1.02295817,\n",
       "        1.27933882,  1.18598059,  1.3813925 ,  1.25767699,  1.1736019 ,\n",
       "        1.09127902,  1.21586925,  1.09223039,  1.13768838,  1.59675342,\n",
       "        1.28904484,  1.33876025,  1.53233922,  1.60141677,  1.38146244,\n",
       "        1.51223576,  1.23588256,  1.22381772,  1.2790048 ,  1.43257027,\n",
       "        1.43808241,  1.22922231,  1.12561563,  1.40974009,  1.12283575,\n",
       "        1.37905941,  1.44731563,  1.45141157,  1.48152744,  1.54954504,\n",
       "        1.33709539,  1.46829683,  1.4050141 ,  1.15859057,  1.06689361,\n",
       "        1.21436719,  1.30466379,  1.40383661,  1.53708371,  1.16457702,\n",
       "        1.12429225,  1.60177134,  1.11431721,  1.32540935,  1.38642273,\n",
       "        1.36124227,  1.10177385,  1.08524575,  1.1128578 ,  1.38643638,\n",
       "        1.36304532,  1.18604649,  1.41628631,  1.52016681,  1.07654239,\n",
       "        1.33670957,  1.44565443,  1.19662931,  1.22823281,  1.40253218,\n",
       "        1.56454005,  1.51438674,  1.38516952,  1.46899077,  1.26076513,\n",
       "        1.41812743,  1.31852542,  1.16110478,  1.45275926,  1.36997393,\n",
       "        1.25723151,  1.57220199,  1.06479764,  1.23281399,  1.08528647,\n",
       "        1.48968441,  1.45297419,  1.24169607,  1.43790453,  1.2785004 ,\n",
       "        1.48382995,  1.31169265,  1.28781332,  1.58553613,  1.19583776,\n",
       "        1.12151008, -0.35250349, -0.26479567, -0.39962031, -0.47160544,\n",
       "       -0.40840388, -0.37042247, -0.44883702, -0.33573617, -0.25831579,\n",
       "       -0.38277522, -0.40488824, -0.39440839, -0.77509723, -0.65253443,\n",
       "       -0.72728022, -0.73167631, -0.6882095 , -0.72293893, -0.69003755,\n",
       "       -0.78366561, -0.6636319 , -0.64340272, -0.68995268, -0.64115899,\n",
       "       -0.83292321, -0.78536741, -0.76722084, -0.77014874, -0.79644794,\n",
       "       -0.80569367, -0.83651316, -0.79786583, -0.83128515, -0.74788262,\n",
       "       -0.82454968, -0.84647101, -0.78825327, -0.78211741, -0.74251058,\n",
       "       -0.7847296 , -0.8178686 , -0.75237369, -0.78998354, -0.85597483,\n",
       "       -0.78632299, -0.73734213, -0.81059211, -0.82490508, -0.84932652,\n",
       "       -0.84818912, -0.80807162, -0.78484064, -0.8582896 , -0.73580158,\n",
       "       -0.76210229, -0.78613203, -0.75164888, -0.85835073, -0.80178754,\n",
       "       -0.77993325, -0.75220135, -0.75863962, -0.83079766, -0.73620985,\n",
       "       -0.85255954, -0.74557822, -0.73192653, -0.84503486, -0.76738913,\n",
       "       -0.86453747, -0.81250829, -0.79671155])"
      ]
     },
     "execution_count": 61,
     "metadata": {},
     "output_type": "execute_result"
    }
   ],
   "source": [
    "# return 1st window of 288 values\n",
    "x_train[0].flatten()"
   ]
  },
  {
   "cell_type": "markdown",
   "metadata": {},
   "source": [
    "<br>\n",
    "\n",
    "We also should check the initial values remain the same as original dataset.  \n",
    "We can do this by printing the df_train_vals again.  \n",
    "See below the df_train 1st three values correspond to 1st 3 values in 1st row of x_train above."
   ]
  },
  {
   "cell_type": "code",
   "execution_count": 62,
   "metadata": {},
   "outputs": [
    {
     "data": {
      "text/plain": [
       "array([-0.85882857, -0.72899302, -0.84814772, ..., -0.83364049,\n",
       "       -0.73510213, -0.8460886 ])"
      ]
     },
     "execution_count": 62,
     "metadata": {},
     "output_type": "execute_result"
    }
   ],
   "source": [
    "df_train_vals['value'].values"
   ]
  },
  {
   "cell_type": "markdown",
   "metadata": {},
   "source": [
    "<br>\n",
    "\n",
    "#### Lets start to plot the dataframes to visualise."
   ]
  },
  {
   "cell_type": "code",
   "execution_count": 63,
   "metadata": {},
   "outputs": [
    {
     "data": {
      "image/png": "[encoded data removed]",
      "text/plain": [
       "<Figure size 864x432 with 1 Axes>"
      ]
     },
     "metadata": {
      "needs_background": "light"
     },
     "output_type": "display_data"
    }
   ],
   "source": [
    "# plot df_train- take a look at data\n",
    "fig, ax = plt.subplots(figsize=(12, 6))\n",
    "\n",
    "# define y values as df_train_vals values\n",
    "y =df_train_vals['value'].values\n",
    "\n",
    "\n",
    "# create a plot\n",
    "ax.plot(np.arange(y.shape[0]), y);"
   ]
  },
  {
   "cell_type": "markdown",
   "metadata": {},
   "source": [
    "<br>\n",
    "\n",
    "##### Lets plot 1st 100 df_train_vals values"
   ]
  },
  {
   "cell_type": "code",
   "execution_count": 64,
   "metadata": {},
   "outputs": [
    {
     "data": {
      "image/png": "[encoded data removed]",
      "text/plain": [
       "<Figure size 864x432 with 1 Axes>"
      ]
     },
     "metadata": {
      "needs_background": "light"
     },
     "output_type": "display_data"
    }
   ],
   "source": [
    "# plot df_train initial 100 values take a look at data\n",
    "fig, ax = plt.subplots(figsize=(12, 6))\n",
    "\n",
    "# define y values as df_train_vals values\n",
    "y =df_train_vals['value'].values[:100]\n",
    "\n",
    "# create a plot\n",
    "ax.plot(np.arange(y.shape[0]), y);"
   ]
  },
  {
   "cell_type": "markdown",
   "metadata": {},
   "source": [
    "<br>\n",
    "\n",
    "This shows the standard time-series data at baseline.  There is nothing very significant here."
   ]
  },
  {
   "cell_type": "markdown",
   "metadata": {},
   "source": [
    "<br>\n",
    "\n",
    "##### Lets plot 1st 200 df_train_vals values"
   ]
  },
  {
   "cell_type": "code",
   "execution_count": 65,
   "metadata": {},
   "outputs": [
    {
     "data": {
      "image/png": "[encoded data removed]",
      "text/plain": [
       "<Figure size 864x432 with 1 Axes>"
      ]
     },
     "metadata": {
      "needs_background": "light"
     },
     "output_type": "display_data"
    }
   ],
   "source": [
    "# plot df_train up to 200 values take a look at data\n",
    "fig, ax = plt.subplots(figsize=(12, 6))\n",
    "\n",
    "# define y values as df_train_vals values\n",
    "y =df_train_vals['value'].values[:200] \n",
    "\n",
    "# create a plot\n",
    "ax.plot(np.arange(y.shape[0]), y);"
   ]
  },
  {
   "cell_type": "markdown",
   "metadata": {},
   "source": [
    "<br>\n",
    "\n",
    "The dataset now shows the daily data jump."
   ]
  },
  {
   "cell_type": "markdown",
   "metadata": {},
   "source": [
    "<br>\n",
    "\n",
    "##### Lets plot 1st 1200 df_train_vals values"
   ]
  },
  {
   "cell_type": "code",
   "execution_count": 66,
   "metadata": {},
   "outputs": [
    {
     "data": {
      "image/png": "[encoded data removed]",
      "text/plain": [
       "<Figure size 864x432 with 1 Axes>"
      ]
     },
     "metadata": {
      "needs_background": "light"
     },
     "output_type": "display_data"
    }
   ],
   "source": [
    "# plot df_train 1st 1200 od 4032- take a look at data\n",
    "fig, ax = plt.subplots(figsize=(12, 6))\n",
    "\n",
    "# define Y values as df_train_vals values\n",
    "y =df_train_vals['value'].values[:1200] \n",
    "\n",
    "ax.plot(np.arange(y.shape[0]), y);"
   ]
  },
  {
   "cell_type": "markdown",
   "metadata": {},
   "source": [
    "<br>\n",
    "\n",
    "The dataset now shows a series of 4 data jumps and falls as seen when we inspected the raw csv files."
   ]
  },
  {
   "cell_type": "markdown",
   "metadata": {},
   "source": [
    "<br>\n",
    "\n",
    "##### Lets plot all 4032 df_train_vals values"
   ]
  },
  {
   "cell_type": "code",
   "execution_count": 67,
   "metadata": {},
   "outputs": [
    {
     "data": {
      "image/png": "[encoded data removed]",
      "text/plain": [
       "<Figure size 864x432 with 1 Axes>"
      ]
     },
     "metadata": {
      "needs_background": "light"
     },
     "output_type": "display_data"
    }
   ],
   "source": [
    "# plot df_train- all4032 take a look at data\n",
    "fig, ax = plt.subplots(figsize=(12, 6))\n",
    "\n",
    "# define Y values as df_train_vals values\n",
    "y =df_train_vals['value'].values\n",
    "\n",
    "ax.plot(np.arange(y.shape[0]), y);"
   ]
  },
  {
   "cell_type": "markdown",
   "metadata": {},
   "source": [
    "<br>\n",
    "\n",
    "Now lets explore the 'window' slider.  \n",
    "We can do this by overlaying the window data to the overall plot.  \n",
    "This way we can see where the impact of the # of values in the 'window'."
   ]
  },
  {
   "cell_type": "markdown",
   "metadata": {},
   "source": [
    "<br>\n",
    "\n",
    "On the x axis below is shown the number of datapoints.  \n",
    "This creats an array of data from 0-4032.  \n",
    "Superimposed in Orange is the nth window data (n=200).  \n",
    "We will change this below to show how that affects the plot.  \n",
    "We create the window data (w) by calling the n values in the X array and declaring this new array as w.  \n",
    "Flatten removes the inner arrays.  \n"
   ]
  },
  {
   "cell_type": "code",
   "execution_count": 68,
   "metadata": {},
   "outputs": [
    {
     "data": {
      "image/png": "[encoded data removed]",
      "text/plain": [
       "<Figure size 864x432 with 1 Axes>"
      ]
     },
     "metadata": {
      "needs_background": "light"
     },
     "output_type": "display_data"
    }
   ],
   "source": [
    "# define the window number (n)\n",
    "window_no = 200\n",
    "\n",
    "# plot df_train-window superimposed asd different colour data\n",
    "fig, ax = plt.subplots(figsize=(12, 6))\n",
    "\n",
    "\n",
    "y = df_train_vals['value'].values # ADD [:1200] ETC TO VIEW LESS DATA\n",
    "\n",
    "# change [0] below to change window\n",
    "ax.plot(np.arange(y.shape[0]), y, label='signal')\n",
    "\n",
    "# The first window. \n",
    "w = x_train[window_no].flatten()\n",
    "\n",
    "# change [0] below to change window\n",
    "ax.plot(np.arange(w.shape[0]) + window_no, w, label='window')\n",
    "\n",
    "# add a legend to plot\n",
    "ax.legend();"
   ]
  },
  {
   "cell_type": "markdown",
   "metadata": {},
   "source": [
    "The window number 200 shown above spans two peaks and troughs."
   ]
  },
  {
   "cell_type": "code",
   "execution_count": 69,
   "metadata": {},
   "outputs": [
    {
     "data": {
      "image/png": "[encoded data removed]",
      "text/plain": [
       "<Figure size 864x432 with 1 Axes>"
      ]
     },
     "metadata": {
      "needs_background": "light"
     },
     "output_type": "display_data"
    }
   ],
   "source": [
    "# define the window number (n)\n",
    "window_no = 0\n",
    "\n",
    "# plot df_train-window superimposed asd different colour data\n",
    "fig, ax = plt.subplots(figsize=(12, 6))\n",
    "\n",
    "\n",
    "y = df_train_vals['value'].values # ADD [:1200] ETC TO VIEW LESS DATA\n",
    "\n",
    "# change [0] below to change window\n",
    "ax.plot(np.arange(y.shape[0]), y, label='signal')\n",
    "\n",
    "# The first window. \n",
    "w = x_train[window_no].flatten()\n",
    "\n",
    "# change [0] below to change window\n",
    "ax.plot(np.arange(w.shape[0]) + window_no, w, label='window')\n",
    "\n",
    "# add a legend to plot\n",
    "ax.legend();"
   ]
  },
  {
   "cell_type": "markdown",
   "metadata": {},
   "source": [
    "The window number 0 (first window) is shown above. The data window spans one peaks and from trough to trough.  \n",
    "It also shows the chosen window size as encompassing one full set of signal rise and fall."
   ]
  },
  {
   "cell_type": "code",
   "execution_count": 70,
   "metadata": {},
   "outputs": [
    {
     "data": {
      "image/png": "[encoded data removed]",
      "text/plain": [
       "<Figure size 864x432 with 1 Axes>"
      ]
     },
     "metadata": {
      "needs_background": "light"
     },
     "output_type": "display_data"
    }
   ],
   "source": [
    "# define the window number (n)\n",
    "window_no =3744\n",
    "\n",
    "# plot df_train-window superimposed asd different colour data\n",
    "fig, ax = plt.subplots(figsize=(12, 6))\n",
    "\n",
    "\n",
    "y = df_train_vals['value'].values # ADD [:1200] ETC TO VIEW LESS DATA\n",
    "\n",
    "# change [0] below to change window\n",
    "ax.plot(np.arange(y.shape[0]), y, label='signal')\n",
    "\n",
    "# The first window. \n",
    "w = x_train[window_no].flatten()\n",
    "\n",
    "# change [0] below to change window\n",
    "ax.plot(np.arange(w.shape[0]) + window_no, w, label='window')\n",
    "\n",
    "# add a legend to plot\n",
    "ax.legend();"
   ]
  },
  {
   "cell_type": "markdown",
   "metadata": {},
   "source": [
    "The last available window number 3744 is shown above. Thereafter we would have an incomplete dataset."
   ]
  },
  {
   "cell_type": "markdown",
   "metadata": {},
   "source": [
    "<br>\n",
    "\n",
    "Effectively we get less windows than values (4032) as we run out of '288' values in a row.  \n",
    "This is because the numbers remaining in array cannot make-up a 288 window thus are not used.  \n",
    "Note: Although data is not 3d keras requires the 3rd dimesion shown (,1)"
   ]
  },
  {
   "cell_type": "code",
   "execution_count": 71,
   "metadata": {},
   "outputs": [
    {
     "data": {
      "text/plain": [
       "(3745, 288, 1)"
      ]
     },
     "execution_count": 71,
     "metadata": {},
     "output_type": "execute_result"
    }
   ],
   "source": [
    "# return df shape\n",
    "x_train.shape"
   ]
  },
  {
   "cell_type": "markdown",
   "metadata": {},
   "source": [
    "## Neural Network\n",
    "\n",
    "***"
   ]
  },
  {
   "cell_type": "markdown",
   "metadata": {},
   "source": [
    "##### Training a Model:  \n",
    "Training a model simply means learning (determining) good values for all the weights and the bias from labelled examples.  \n",
    "In supervised learning, a machine learning algorithm builds a model by examining many examples and attempting to find a model that minimizes loss; this process is called empirical risk minimization.  \n",
    "<br>Loss is the penalty for a bad prediction.  \n",
    "That is, loss is a number indicating how bad the model's prediction was on a single example. \n",
    "If the model's prediction is perfect, the loss is zero; otherwise, the loss is greater.  \n",
    "The goal of training a model is to find a set of weights and biases that have low loss, on average, given a set of input values.  \n",
    "<br>\n",
    "The **squared loss** for a single example is square of the difference between the label and the prediction:  \n",
    "\n",
    "  = (observation - prediction(x))2  \n",
    "  = (y - y')2  \n",
    "  \n",
    "##### Mean absolute error (MAE)**  \n",
    "\n",
    "In the context of machine learning, absolute error refers to the magnitude of difference between the prediction of an observation and the true value of that observation.  \n",
    "MAE takes the average of absolute errors for a group of predictions and observations as a measurement of the magnitude of errors for the entire group  \n",
    "MAE can also be referred as L1 loss function, least absolute deviations (LAD), least absolute errors (LAE).  \n",
    "It is basically minimizing the sum of the absolute differences between the real value and the predicted values.  \n",
    "\n",
    "##### Mean square error (MSE)** \n",
    "\n",
    "Mean square error is the average **squared** loss per example over the whole dataset. \n",
    "To calculate MSE, sum up all the squared losses for individual examples and then divide by the number of examples.  \n",
    "The choice of which to use is related to robustness of the model and likelihood of outliers.  \n",
    "MAE is more robust than MSE as the former is more resistant to potential outliers in the data.  \n",
    "This may be helpful in studies where outliers may be safely and effectively ignored.\n",
    "If it is important to pay attention to any and all outliers, the method of least squares is a better choice.\n",
    "\n"
   ]
  },
  {
   "cell_type": "markdown",
   "metadata": {},
   "source": [
    "##### Description of the Neural Network- whats happening\n",
    "\n",
    "A Keras *tensor* is a symbolic tensor-like object.  \n",
    "\n",
    "An input layer only has nodes. It's only job is take in the data and pass it on the hidden layer. \n",
    "\n",
    "All of the 288 nodes are coming in as one.  We have an input layer so there is no need for 1D.\n",
    "\n",
    "A dense layer has the links (edges) connected to it, with weights. It also has an activation function.\n",
    "\n",
    "The data from each input node gets multiplied with the weights of the links via which those input nodes are connected to the first hidden layer  \n",
    "\n",
    "Each node of the hidden layer then combines all the inputs to it (one from each input node) and passes through an activation fuction.\n",
    "\n",
    "A similar process repeats for the second hidden layer.\n",
    "\n",
    "A dropout layer (see explanation below) is added before the output layer.  \n",
    "It drops a certain percentage (20% in our case) of the links randomly, that are connected to the output node.\n",
    "\n",
    "We simply define each layer and the preceding layer it's connected to, and then package them all together using the function 'Model'\n",
    "\n",
    "The data will be passed through this network, one row at a time. The network will spit out an answer which will be compared with the value in the first column.  \n",
    "This first prediction will be based on weights that mare set randomly  \n",
    "The error in the prediction will be used to change the weights in such a way that the prediction is better.\n",
    "\n",
    "This will happen for all the 3745 rows. We can adjust the weights after passing through multiple samples (rows) in what we call a \"batch\"  \n",
    "When all the rows have passed in this way, we say one \"epoch\" is over. We go through many epochs.\n",
    "\n",
    "##### Epochs\n",
    " \n",
    "This happens when the NN assesses it has captured the patterns in the data and is in a position to make predictions.  \n",
    "This is achieved by holding out a few samples of data as a *validation set*.  \n",
    "They are not used for training (i.e for updating the weights).  \n",
    "The validation set is run after every epoch, by keras and the error checked.  \n",
    "\n",
    "Keras also keeps a track of the training error but it's not as important as validation error since the training error is what adjusts the weights.  \n",
    "\n",
    "When the validation error approaches the training error, the NN training is complete.\n",
    "\n"
   ]
  },
  {
   "cell_type": "markdown",
   "metadata": {},
   "source": [
    "ConvolutionLayer(filters,kernelsize,opts) creates a convolutional neural network layer with filter filter and kernel size kernelsize.  \n",
    "\n",
    "Conv1d is used when you slide your convolution kernels along 1 dimensions (i.e. you reuse the same weights, sliding them along 1 dimensions). whereas tf. layers. conv2d is used when you slide your convolution kernels along 2 dimensions (i.e. you reuse the same weights, sliding them along 2 dimensions).  \n",
    "\n"
   ]
  },
  {
   "cell_type": "markdown",
   "metadata": {},
   "source": [
    "##### Lets now input the Layers for Keras\n",
    "\n",
    "##### Parameters:\n",
    "- filters: Integer, the dimensionality of the output space (i.e. the number of output filters in the convolution)\n",
    "- kernel size =7\n",
    "- shape= defines the expected input dimensional vectors\n",
    "- padding: \"same\": output has same dimension as the input\n",
    "- strides: An integer or tuple/list of a single integer, specifying the stride length of the convolution\n",
    "- activation: \"relu\" Rectified Linear Unit activation function.  The \"relu\" function returns 0 if it receives any negative input, but for any positive value  x  it returns that value back"
   ]
  },
  {
   "cell_type": "code",
   "execution_count": 72,
   "metadata": {},
   "outputs": [],
   "source": [
    "# create layers for keras\n",
    "\n",
    "layers = [\n",
    "  # Input() is used to instantiate a Keras tensor    \n",
    "  keras.layers.Input(shape=(x_train.shape[1], x_train.shape[2])),\n",
    "    \n",
    "  # This layer creates a convolution kernel that is convolved with the layer input\n",
    "    # over a single spatial (or temporal) dimension to produce a tensor of outputs\n",
    "    # use a transformation going in the opposite direction of a normal convolution\n",
    "  keras.layers.Conv1D(\n",
    "    filters=32, kernel_size=7, padding=\"same\", strides=2, activation=\"relu\"),\n",
    "    \n",
    "  # ratio of randomly selected neurons are ignored during training\n",
    "  keras.layers.Dropout(rate=0.2),\n",
    "    \n",
    "  # Another convolution kernel taking in the neurons from previous\n",
    "  keras.layers.Conv1D(\n",
    "    filters=16, kernel_size=7, padding=\"same\", strides=2, activation=\"relu\"),\n",
    "    \n",
    "  #  Transpose the tensor from shape of the output to the shape of the input\n",
    "    #the number of output filters in the convolution= 16\n",
    "    keras.layers.Conv1DTranspose(\n",
    "    filters=16, kernel_size=7, padding=\"same\", strides=2, activation=\"relu\"),\n",
    "    \n",
    "  # another dropout layer at same ratio (see above)\n",
    "  keras.layers.Dropout(rate=0.2),\n",
    "    \n",
    "  # Transpose once more: the number of output filters in the convolution= 32\n",
    "  keras.layers.Conv1DTranspose(\n",
    "    filters=32, kernel_size=7, padding=\"same\", strides=2, activation=\"relu\"),\n",
    "    \n",
    "  # Transpose one final time: the number of output filters in the convolution= 1\n",
    "  keras.layers.Conv1DTranspose(filters=1, kernel_size=7, padding=\"same\"),\n",
    "]"
   ]
  },
  {
   "cell_type": "markdown",
   "metadata": {},
   "source": [
    "<br>\n",
    "\n",
    "#### Dropout in keras\n",
    "\n",
    "[Dropout][6] is a technique where randomly selected neurons are ignored during training. They are “dropped out” randomly. This means that their contribution to the activation of downstream neurons is temporally removed on the forward pass, and any weight updates are not applied to the neuron on the backward pass.\n",
    "\n",
    "As a neural network learns, neuron weights settle into their context within the network. Weights of neurons are tuned for specific features, providing some specialization. Neighboring neurons come to rely on this specialization, which, if taken too far, can result in a fragile model too specialized for the training data. This reliance on context for a neuron during training is referred to as complex co-adaptations.\n",
    "\n",
    "You can imagine that if neurons are randomly dropped out of the network during training, other neurons will have to step in and handle the representation required to make predictions for the missing neurons. This is believed to result in multiple independent internal representations being learned by the network.\n",
    "\n",
    "The effect is that the network becomes less sensitive to the specific weights of neurons. This, in turn, results in a network capable of better generalization and less likely to overfit the training data.\n",
    "\n",
    "[6]: https://machinelearningmastery.com/dropout-regularization-deep-learning-models-keras/"
   ]
  },
  {
   "cell_type": "markdown",
   "metadata": {},
   "source": [
    "<br>\n",
    "The layers of data are passed in to Keras as per above i.e. 'sequentially'  \n",
    "i.e. the order that the layers are listedf above is the way that the neural Network will be built-up and run."
   ]
  },
  {
   "cell_type": "code",
   "execution_count": 73,
   "metadata": {},
   "outputs": [],
   "source": [
    "# pass in layers var into keras Sequential function\n",
    "# model is an instance of keras.Sequential\n",
    "model = keras.Sequential(layers)"
   ]
  },
  {
   "cell_type": "markdown",
   "metadata": {},
   "source": [
    "<br>\n",
    "\n",
    "\n",
    "#### Optimizers  \n",
    "\n",
    "Optimizers are Classes or methods used to change the attributes of your machine/deep learning model such as weights and learning rate in order to reduce the losses. Optimizers assist the model reaching the desired output faster.  Some examples below:  \n",
    "\n",
    "- Optimizer class: Base class for Keras optimizers\n",
    "- SGD: Gradient descent (with momentum) optimizer.e examples below:  \n",
    "- Adam: Optimizer that implements the Adam algorithm.\n",
    "- Adagrad: Optimizer that implements the Adagrad algorithm.\n",
    "- Adamax: Optimizer that implements the Adamax algorithm.\n",
    "- RMSprop: Optimizer that implements the RMSprop algorithm.\n",
    "\n",
    "<br>\n",
    "\n",
    "#### Choice of Optimizer  \n",
    "The most popular are [Stochtasic Gradient Descent (SGD)][4] and [Adam][5] each with individual advantages and disadvantages. The choice of algorithm should be done with a knowledge of the data being analysed as different algorithms fit different data types/structures.\n",
    "\n",
    "##### SGD:  \n",
    "\n",
    "Stochastic gradient descent is a very popular and common algorithm used in various Machine Learning algorithms, most importantly forms the basis of Neural Networks. \n",
    "\n",
    "If you envisage an expression represented by a parabola or U plot, gradient, in plain terms means slope or slant of a surface.  So gradient descent literally means descending a slope to reach the lowest point on that surface. For a linear function, the objective of regression is to minimize the sum of squared residuals. We know that a function reaches its minimum value when the slope is equal to 0. The same problem can be solved by gradient descent technique.  Gradient descent is an iterative algorithm, that starts from a random point on a function and travels down its slope in steps until it reaches the lowest point of that function.\n",
    " \n",
    "Find the slope of the objective function with respect to each parameter/feature. In other words, compute the gradient of the function.\n",
    "- Pick a random initial value for the parameters.  \n",
    "- Update the gradient function by plugging in the parameter values.\n",
    "- Calculate the step sizes for each feature as : step size = gradient * learning rate.\n",
    "- Calculate the new parameters as : new params = old params -step size\n",
    "- Repeat the above steps until gradient is almost 0.  \n",
    "\n",
    "The “learning rate” mentioned above is a flexible parameter which heavily influences the convergence of the algorithm. Larger learning rates make the algorithm take huge steps down the slope and it might jump across the minimum point thereby missing it. So, it is always good to stick to low learning rate such as 0.01  It can also be mathematically shown that the gradient descent algorithm takes larger steps down the slope if the starting point is high above and takes smaller steps as it reaches closer to the finishing line to be careful not to miss it and also be quick enough. In order to reduce the computations involved with iterating ‘blind’, SGD randomly picks one data point from the whole data set at each iteration to reduce the computations enormously.\n",
    "\n",
    "\n",
    "##### Adam:  \n",
    "\n",
    "Adam is an adaptive learning rate optimization algorithm that’s been designed specifically for training deep neural networks.The algorithms leverages the power of adaptive learning rates methods to find individual learning rates for each parameter. Adam is an adaptive learning rate method, which means, it computes individual learning rates for different parameters. \n",
    "Its name is derived from *adaptive moment estimation*, and the reason it’s called that is because Adam uses estimations of first and second moments of gradient to adapt the learning rate for each weight of the neural network.\n",
    "Although it offers significantly faster performance, issues have been noticed in certain problems where Adam does not converge to an optimal solution.  researchers continue to work on solutions to bring Adam results to be on par with stochastic gradient descent.  \n",
    "\n",
    "For the time-series anomaly challenge *Adam* was chosen as it should not experience issues seen with more complex imaging based challenges, while Adam should be faster than SGD.\n",
    "\n",
    "[4]: https://towardsdatascience.com/stochastic-gradient-descent-clearly-explained-53d239905d31\n",
    "[5]: https://towardsdatascience.com/adam-latest-trends-in-deep-learning-optimization-6be9a291375c#:~:text=Adam%20can%20be%20looked%20at,itself%20like%20SGD%20with%20momentum.\n"
   ]
  },
  {
   "cell_type": "code",
   "execution_count": 74,
   "metadata": {},
   "outputs": [],
   "source": [
    "optimizer = keras.optimizers.Adam(learning_rate=0.001)"
   ]
  },
  {
   "cell_type": "code",
   "execution_count": 75,
   "metadata": {},
   "outputs": [],
   "source": [
    "# compile the output 'model'\n",
    "# 'mse' is Mean square error is the average **squared** loss per example over the whole dataset.\n",
    "# See above for more details.\n",
    "model.compile(optimizer=optimizer, loss=\"mse\")"
   ]
  },
  {
   "cell_type": "code",
   "execution_count": 76,
   "metadata": {},
   "outputs": [
    {
     "name": "stdout",
     "output_type": "stream",
     "text": [
      "Model: \"sequential\"\n",
      "_________________________________________________________________\n",
      " Layer (type)                Output Shape              Param #   \n",
      "=================================================================\n",
      " conv1d (Conv1D)             (None, 144, 32)           256       \n",
      "                                                                 \n",
      " dropout (Dropout)           (None, 144, 32)           0         \n",
      "                                                                 \n",
      " conv1d_1 (Conv1D)           (None, 72, 16)            3600      \n",
      "                                                                 \n",
      " conv1d_transpose (Conv1DTra  (None, 144, 16)          1808      \n",
      " nspose)                                                         \n",
      "                                                                 \n",
      " dropout_1 (Dropout)         (None, 144, 16)           0         \n",
      "                                                                 \n",
      " conv1d_transpose_1 (Conv1DT  (None, 288, 32)          3616      \n",
      " ranspose)                                                       \n",
      "                                                                 \n",
      " conv1d_transpose_2 (Conv1DT  (None, 288, 1)           225       \n",
      " ranspose)                                                       \n",
      "                                                                 \n",
      "=================================================================\n",
      "Total params: 9,505\n",
      "Trainable params: 9,505\n",
      "Non-trainable params: 0\n",
      "_________________________________________________________________\n"
     ]
    }
   ],
   "source": [
    "# print out a summary\n",
    "model.summary()"
   ]
  },
  {
   "cell_type": "markdown",
   "metadata": {},
   "source": [
    "<br>\n",
    "\n",
    "## Model Fit Parameters\n",
    "\n",
    "**Epochs:** This defines the maximum iterations of the Neural Network whereafter the process stops.  \n",
    "Note: the NN is designed to stop affter a lower number of epochs if the loss is no longer decreasing significantly.  <br>\n",
    "\n",
    "**Batch size:** This defines how many windows are fed into the neural Network at any time.  <br>\n",
    "\n",
    "**Validation split:** Float between 0 and 1. Fraction of the training data to be used as validation data  \n",
    "i.e. the model is asked to hold back 10% for validation.  \n",
    "The model will set apart this fraction of the training data, will not train on it,  \n",
    "and will evaluate the loss and any model metrics on this data at the end of each epoch  \n",
    "(see further explanation above).    <br>\n",
    "\n",
    "**Callbacks:** List of callbacks to apply during training.  \n",
    "The callback below is to interrupt training when the validation loss isn't decreasing anymore.  <br>\n",
    "\n",
    "\n"
   ]
  },
  {
   "cell_type": "markdown",
   "metadata": {},
   "source": [
    "The training data is fed in with both input and output data."
   ]
  },
  {
   "cell_type": "code",
   "execution_count": 77,
   "metadata": {},
   "outputs": [
    {
     "name": "stdout",
     "output_type": "stream",
     "text": [
      "Epoch 1/50\n",
      "27/27 [==============================] - 4s 89ms/step - loss: 0.7263 - val_loss: 0.3142\n",
      "Epoch 2/50\n",
      "27/27 [==============================] - 2s 80ms/step - loss: 0.1202 - val_loss: 0.0444\n",
      "Epoch 3/50\n",
      "27/27 [==============================] - 2s 86ms/step - loss: 0.0573 - val_loss: 0.0332\n",
      "Epoch 4/50\n",
      "27/27 [==============================] - 2s 80ms/step - loss: 0.0475 - val_loss: 0.0290\n",
      "Epoch 5/50\n",
      "27/27 [==============================] - 2s 81ms/step - loss: 0.0414 - val_loss: 0.0270\n",
      "Epoch 6/50\n",
      "27/27 [==============================] - 2s 86ms/step - loss: 0.0367 - val_loss: 0.0248\n",
      "Epoch 7/50\n",
      "27/27 [==============================] - 2s 80ms/step - loss: 0.0330 - val_loss: 0.0230\n",
      "Epoch 8/50\n",
      "27/27 [==============================] - 2s 81ms/step - loss: 0.0299 - val_loss: 0.0222\n",
      "Epoch 9/50\n",
      "27/27 [==============================] - 2s 81ms/step - loss: 0.0277 - val_loss: 0.0216\n",
      "Epoch 10/50\n",
      "27/27 [==============================] - 2s 81ms/step - loss: 0.0261 - val_loss: 0.0216\n",
      "Epoch 11/50\n",
      "27/27 [==============================] - 2s 80ms/step - loss: 0.0246 - val_loss: 0.0209\n",
      "Epoch 12/50\n",
      "27/27 [==============================] - 2s 82ms/step - loss: 0.0235 - val_loss: 0.0215\n",
      "Epoch 13/50\n",
      "27/27 [==============================] - 2s 83ms/step - loss: 0.0226 - val_loss: 0.0213\n",
      "Epoch 14/50\n",
      "27/27 [==============================] - 2s 83ms/step - loss: 0.0216 - val_loss: 0.0211\n",
      "Epoch 15/50\n",
      "27/27 [==============================] - 2s 83ms/step - loss: 0.0210 - val_loss: 0.0211\n",
      "Epoch 16/50\n",
      "27/27 [==============================] - 2s 85ms/step - loss: 0.0202 - val_loss: 0.0205\n",
      "Epoch 17/50\n",
      "27/27 [==============================] - 2s 80ms/step - loss: 0.0196 - val_loss: 0.0191\n",
      "Epoch 18/50\n",
      "27/27 [==============================] - 2s 81ms/step - loss: 0.0190 - val_loss: 0.0184\n",
      "Epoch 19/50\n",
      "27/27 [==============================] - 2s 81ms/step - loss: 0.0185 - val_loss: 0.0171\n",
      "Epoch 20/50\n",
      "27/27 [==============================] - 2s 83ms/step - loss: 0.0181 - val_loss: 0.0170\n",
      "Epoch 21/50\n",
      "27/27 [==============================] - 2s 82ms/step - loss: 0.0176 - val_loss: 0.0163\n",
      "Epoch 22/50\n",
      "27/27 [==============================] - 2s 82ms/step - loss: 0.0171 - val_loss: 0.0159\n",
      "Epoch 23/50\n",
      "27/27 [==============================] - 2s 82ms/step - loss: 0.0167 - val_loss: 0.0148\n",
      "Epoch 24/50\n",
      "27/27 [==============================] - 2s 82ms/step - loss: 0.0163 - val_loss: 0.0141\n",
      "Epoch 25/50\n",
      "27/27 [==============================] - 2s 87ms/step - loss: 0.0159 - val_loss: 0.0141\n",
      "Epoch 26/50\n",
      "27/27 [==============================] - 2s 83ms/step - loss: 0.0154 - val_loss: 0.0135\n",
      "Epoch 27/50\n",
      "27/27 [==============================] - 2s 82ms/step - loss: 0.0150 - val_loss: 0.0128\n",
      "Epoch 28/50\n",
      "27/27 [==============================] - 2s 80ms/step - loss: 0.0145 - val_loss: 0.0121\n",
      "Epoch 29/50\n",
      "27/27 [==============================] - 2s 81ms/step - loss: 0.0140 - val_loss: 0.0114\n",
      "Epoch 30/50\n",
      "27/27 [==============================] - 2s 80ms/step - loss: 0.0135 - val_loss: 0.0114\n",
      "Epoch 31/50\n",
      "27/27 [==============================] - 2s 77ms/step - loss: 0.0130 - val_loss: 0.0108\n",
      "Epoch 32/50\n",
      "27/27 [==============================] - 2s 79ms/step - loss: 0.0124 - val_loss: 0.0107\n",
      "Epoch 33/50\n",
      "27/27 [==============================] - 2s 86ms/step - loss: 0.0119 - val_loss: 0.0104\n",
      "Epoch 34/50\n",
      "27/27 [==============================] - 2s 82ms/step - loss: 0.0116 - val_loss: 0.0103\n",
      "Epoch 35/50\n",
      "27/27 [==============================] - 2s 84ms/step - loss: 0.0111 - val_loss: 0.0102\n",
      "Epoch 36/50\n",
      "27/27 [==============================] - 2s 81ms/step - loss: 0.0108 - val_loss: 0.0095\n",
      "Epoch 37/50\n",
      "27/27 [==============================] - 2s 78ms/step - loss: 0.0105 - val_loss: 0.0111\n",
      "Epoch 38/50\n",
      "27/27 [==============================] - 2s 79ms/step - loss: 0.0102 - val_loss: 0.0096\n",
      "Epoch 39/50\n",
      "27/27 [==============================] - 2s 79ms/step - loss: 0.0099 - val_loss: 0.0110\n",
      "Epoch 40/50\n",
      "27/27 [==============================] - 2s 80ms/step - loss: 0.0097 - val_loss: 0.0103\n",
      "Epoch 41/50\n",
      "27/27 [==============================] - 2s 81ms/step - loss: 0.0095 - val_loss: 0.0105\n"
     ]
    }
   ],
   "source": [
    "# model.fit function\n",
    "# define it as 'history' variable\n",
    "\n",
    "history = model.fit(\n",
    "    x_train,\n",
    "    x_train,\n",
    "    epochs=50, \n",
    "    batch_size=128, \n",
    "    validation_split=0.1, \n",
    "    callbacks=[\n",
    "        keras.callbacks.EarlyStopping(monitor=\"val_loss\", patience=5, mode=\"min\")\n",
    "    ],\n",
    ")\n"
   ]
  },
  {
   "cell_type": "markdown",
   "metadata": {},
   "source": [
    "<br><br>\n",
    "In case the validation loss had remained significantly more than the training loss at the end of training, but was continously coming down in the last few epochs, it would have been an indication that we need to run our model for more epochs, as the model needed more training.\n",
    "\n",
    "If the validation loss had remained significantly more than the training loss at the end of training, and also become more or less static, then it would have been an indication of \"overfitting\", that is our model works far too well on the training data, it has perfectly captured it, including the noise, but it would work poorly on unseen data. In such a case, it's advised to increase the value in the dropout layer, reduce number of epcohs, increase the batch size, reduce the number of hidden layers, reduce the number of nodes in the hidden layers.\n"
   ]
  },
  {
   "cell_type": "markdown",
   "metadata": {},
   "source": [
    "Accuracy calculates the percentage of predicted values  that match with actual values. \n",
    "For a record, if the predicted value is equal to the actual value, it is considered accurate.  \n",
    "We then calculate Accuracy by dividing the number of accurately predicted records by the total number of records."
   ]
  },
  {
   "cell_type": "markdown",
   "metadata": {},
   "source": [
    "#### The Loss Function   \n",
    "\n",
    "At its core, a loss function is incredibly simple: It's a method of evaluating how well your algorithm models your dataset.  \n",
    "If your predictions are totally off, your loss function will output a higher number.  \n",
    "If they're pretty good, it'll output a lower number.  \n",
    "We use a loss function to determine how far the predicted values deviate from the actual values in the training data.  \n",
    "We change the model weights to make the loss minimum.  \n",
    "\n",
    "#### Training Loss vs Validation Loss  \n",
    "\n",
    "The training loss indicates how well the model is fitting the training data, while the validation loss indicates how well the model fits new data. \n",
    "\n",
    "![image](../images/T&V.png)\n",
    "\n",
    "##### Epochs:  \n",
    "The right number of epochs depends on the inherent complexity of the dataset.  \n",
    "In the above the maximum is set to 50 epochs/iterations. However the process can stop earlier if the loss is no longer changing (reducing) between epochs.  \n",
    "Otherwise it will run to the maximum. \n"
   ]
  },
  {
   "cell_type": "markdown",
   "metadata": {},
   "source": [
    "<br>\n",
    "\n",
    "## Evaluation\n",
    "\n",
    "##### evaluating the model\n",
    "***"
   ]
  },
  {
   "cell_type": "markdown",
   "metadata": {},
   "source": [
    "Once the model is run we can take a look at some of the output parameters to see how well it worked.  \n",
    "*History* is the fitted model.  \n",
    "Training loss [\"loss\"] and validation loss [\"val_loss\"] are output parameters.  \n",
    "The training loss indicates how well the model is fitting the training data.  \n",
    "The validation loss indicates how well the model fits new data."
   ]
  },
  {
   "cell_type": "markdown",
   "metadata": {},
   "source": [
    "##### Lets have a look at the loss as the model ran.  \n",
    "Lets output the training and validation values."
   ]
  },
  {
   "cell_type": "code",
   "execution_count": 78,
   "metadata": {},
   "outputs": [
    {
     "data": {
      "text/plain": [
       "[0.7263025641441345,\n",
       " 0.12020719051361084,\n",
       " 0.057344503700733185,\n",
       " 0.04752754792571068,\n",
       " 0.04142340272665024,\n",
       " 0.03674051910638809,\n",
       " 0.032981693744659424,\n",
       " 0.02990475855767727,\n",
       " 0.027699077501893044,\n",
       " 0.026100648567080498,\n",
       " 0.024630744010210037,\n",
       " 0.023501059040427208,\n",
       " 0.02255084738135338,\n",
       " 0.021637042984366417,\n",
       " 0.020953277125954628,\n",
       " 0.020178120583295822,\n",
       " 0.019581029191613197,\n",
       " 0.0190423633903265,\n",
       " 0.018532296642661095,\n",
       " 0.01810571551322937,\n",
       " 0.01758597232401371,\n",
       " 0.017122533172369003,\n",
       " 0.016676774248480797,\n",
       " 0.01626865193247795,\n",
       " 0.01586373709142208,\n",
       " 0.015422028489410877,\n",
       " 0.015018122270703316,\n",
       " 0.014487951062619686,\n",
       " 0.014043744653463364,\n",
       " 0.01349614653736353,\n",
       " 0.012983638793230057,\n",
       " 0.012401370331645012,\n",
       " 0.011943764053285122,\n",
       " 0.01155935600399971,\n",
       " 0.01110538374632597,\n",
       " 0.01079700980335474,\n",
       " 0.01048031635582447,\n",
       " 0.010226642712950706,\n",
       " 0.00993430893868208,\n",
       " 0.009695041924715042,\n",
       " 0.009488801471889019]"
      ]
     },
     "execution_count": 78,
     "metadata": {},
     "output_type": "execute_result"
    }
   ],
   "source": [
    "# Output history.history ['loss']\n",
    "history.history[\"loss\"]"
   ]
  },
  {
   "cell_type": "markdown",
   "metadata": {},
   "source": [
    "The history [\"loss\"] indicates how well the model is fitting the training data.  \n",
    "As can be seen the loss is decreasing after repeated iterations."
   ]
  },
  {
   "cell_type": "markdown",
   "metadata": {},
   "source": [
    " Lets have a look at the validation loss as the model ran"
   ]
  },
  {
   "cell_type": "code",
   "execution_count": 79,
   "metadata": {},
   "outputs": [
    {
     "data": {
      "text/plain": [
       "[0.3142165243625641,\n",
       " 0.04444218426942825,\n",
       " 0.03321415185928345,\n",
       " 0.028991272673010826,\n",
       " 0.026958435773849487,\n",
       " 0.024823321029543877,\n",
       " 0.0230121873319149,\n",
       " 0.022164642810821533,\n",
       " 0.021599646657705307,\n",
       " 0.021572886034846306,\n",
       " 0.02093053236603737,\n",
       " 0.02148885279893875,\n",
       " 0.021293820813298225,\n",
       " 0.02108384296298027,\n",
       " 0.021129745990037918,\n",
       " 0.020490417256951332,\n",
       " 0.019114777445793152,\n",
       " 0.01840900257229805,\n",
       " 0.01714940555393696,\n",
       " 0.017016056925058365,\n",
       " 0.01626240275800228,\n",
       " 0.015884678810834885,\n",
       " 0.014805585145950317,\n",
       " 0.014132965356111526,\n",
       " 0.01409955509006977,\n",
       " 0.013509743846952915,\n",
       " 0.012780948542058468,\n",
       " 0.0120780561119318,\n",
       " 0.01139055099338293,\n",
       " 0.011381366290152073,\n",
       " 0.010784083046019077,\n",
       " 0.010708620771765709,\n",
       " 0.010354303754866123,\n",
       " 0.010335450060665607,\n",
       " 0.010178472846746445,\n",
       " 0.009489869698882103,\n",
       " 0.011084988713264465,\n",
       " 0.00963539257645607,\n",
       " 0.010954925790429115,\n",
       " 0.01030068937689066,\n",
       " 0.010545176453888416]"
      ]
     },
     "execution_count": 79,
     "metadata": {},
     "output_type": "execute_result"
    }
   ],
   "source": [
    "# output the values\n",
    "history.history[\"val_loss\"]"
   ]
  },
  {
   "cell_type": "markdown",
   "metadata": {},
   "source": [
    "The validation [\"loss\"] indicates how well the model is fitting the validation data.  \n",
    "As can be seen the loss is decreasing after repeated iterations.  \n",
    "The val loss starts from a lower value and therefore the rate of drop is lower."
   ]
  },
  {
   "cell_type": "markdown",
   "metadata": {},
   "source": [
    "<br>\n",
    "\n",
    "#####  Lets have a look at a trend of training loss"
   ]
  },
  {
   "cell_type": "code",
   "execution_count": 80,
   "metadata": {},
   "outputs": [
    {
     "data": {
      "image/png": "[encoded data removed]",
      "text/plain": [
       "<Figure size 720x432 with 1 Axes>"
      ]
     },
     "metadata": {
      "needs_background": "light"
     },
     "output_type": "display_data"
    }
   ],
   "source": [
    "# pandas fig -define the size\n",
    "fig, ax = plt.subplots(figsize=(10, 6))\n",
    "\n",
    "# plot values of history.history[\"loss\"]\n",
    "ax.plot(history.history[\"loss\"], label=\"Training Loss\")\n",
    "\n",
    "# add a legend\n",
    "ax.legend();"
   ]
  },
  {
   "cell_type": "markdown",
   "metadata": {},
   "source": [
    "<br>\n",
    "\n",
    "#####  Lets have a look at a trend of validation loss"
   ]
  },
  {
   "cell_type": "code",
   "execution_count": 81,
   "metadata": {},
   "outputs": [
    {
     "data": {
      "image/png": "[encoded data removed]",
      "text/plain": [
       "<Figure size 720x432 with 1 Axes>"
      ]
     },
     "metadata": {
      "needs_background": "light"
     },
     "output_type": "display_data"
    }
   ],
   "source": [
    "# pandas fig -define the size\n",
    "fig, ax = plt.subplots(figsize=(10, 6))\n",
    "\n",
    "# plot values of history.history[\"val_loss\"]\n",
    "ax.plot(history.history[\"val_loss\"], label=\"Validation Loss\")\n",
    "\n",
    "# add a legend\n",
    "ax.legend();"
   ]
  },
  {
   "cell_type": "markdown",
   "metadata": {},
   "source": [
    "<br>\n",
    "\n",
    "#####  Lets have a look at both trends overlaid"
   ]
  },
  {
   "cell_type": "code",
   "execution_count": 82,
   "metadata": {},
   "outputs": [
    {
     "data": {
      "image/png": "[encoded data removed]",
      "text/plain": [
       "<Figure size 720x432 with 1 Axes>"
      ]
     },
     "metadata": {
      "needs_background": "light"
     },
     "output_type": "display_data"
    }
   ],
   "source": [
    "# pandas fig -define the size\n",
    "fig, ax = plt.subplots(figsize=(10, 6))\n",
    "\n",
    "# plot values of history.history[\"loss\"]\n",
    "ax.plot(history.history[\"loss\"], label=\"Training Loss\")\n",
    "\n",
    "# plot values of history.history[\"val_loss\"]\n",
    "ax.plot(history.history[\"val_loss\"], label=\"Validation Loss\")\n",
    "\n",
    "# add a legend\n",
    "ax.legend();"
   ]
  },
  {
   "cell_type": "markdown",
   "metadata": {},
   "source": [
    "<br>\n",
    "\n",
    "## Predict\n",
    "\n",
    "##### predict using the model\n",
    "***"
   ]
  },
  {
   "cell_type": "markdown",
   "metadata": {},
   "source": [
    "Keras models can be used to detect trends and make predictions, using the model.predict() class and  it’s variant, reconstructed_model.predict().  \n",
    "Using model.predict()  a model can be created and fitted with trained data, and used to make a prediction."
   ]
  },
  {
   "cell_type": "markdown",
   "metadata": {},
   "source": [
    "The original code suggetsed is below.  \n",
    "For clarity we will break it out into separate code packages.  \n",
    "- x_train_pred = model.predict(x_train)\n",
    "- train_mae_loss = np.mean(np.abs(x_train_pred - x_train), axis=1)\n",
    "- plotting code"
   ]
  },
  {
   "cell_type": "code",
   "execution_count": 83,
   "metadata": {},
   "outputs": [
    {
     "name": "stdout",
     "output_type": "stream",
     "text": [
      "118/118 [==============================] - 1s 8ms/step\n"
     ]
    }
   ],
   "source": [
    "# Get train MAE loss.\n",
    " #ASK IT TO DO A FEW PREDICTIONS\n",
    "\n",
    "# what doing: get the mode that s trained to predict the vaslues out of the training set\n",
    "# looking for anomalies\n",
    "x_train_pred = model.predict(x_train)"
   ]
  },
  {
   "cell_type": "markdown",
   "metadata": {},
   "source": [
    "<br>\n",
    "\n",
    "Here we are instructing Keras to run a number of predictions using the model.  \n",
    "to predict the values from the training set.  \n",
    "Get the difference between actual and predicted values.  \n",
    "Convert them to absolute values.  \n",
    "Calculate the mean of these absolute differences.  \n",
    "This returns the *mean of the absolute difference between actual and predicted values*.  \n",
    "We can then plot these to see how accurate the model is."
   ]
  },
  {
   "cell_type": "code",
   "execution_count": 84,
   "metadata": {},
   "outputs": [],
   "source": [
    "# Return mean of the absolute difference between actual and predicted values.\n",
    "train_mae_loss = np.mean(np.abs(x_train_pred - x_train), axis=1)"
   ]
  },
  {
   "cell_type": "markdown",
   "metadata": {},
   "source": [
    "<br>\n",
    "\n",
    "Now lets plot these difference 'loss' values against # of samples."
   ]
  },
  {
   "cell_type": "code",
   "execution_count": 85,
   "metadata": {},
   "outputs": [
    {
     "data": {
      "image/png": "[encoded data removed]",
      "text/plain": [
       "<Figure size 720x432 with 1 Axes>"
      ]
     },
     "metadata": {
      "needs_background": "light"
     },
     "output_type": "display_data"
    }
   ],
   "source": [
    "# Create histogram\n",
    "\n",
    "# Pandas fig size\n",
    "fig, ax = plt.subplots(figsize=(10, 6))\n",
    "\n",
    "# create a histogram\n",
    "ax.hist(train_mae_loss, bins=50)\n",
    "\n",
    "# define x label\n",
    "ax.set_xlabel(\"Train MAE loss\")\n",
    "\n",
    "# define y label\n",
    "ax.set_ylabel(\"No of samples\");\n"
   ]
  },
  {
   "cell_type": "code",
   "execution_count": 86,
   "metadata": {},
   "outputs": [
    {
     "data": {
      "text/plain": [
       "0.07294891587514186"
      ]
     },
     "execution_count": 86,
     "metadata": {},
     "output_type": "execute_result"
    }
   ],
   "source": [
    "# Get reconstruction loss median value.\n",
    "median = np.median(train_mae_loss)\n",
    "\n",
    "# print out the threshold\n",
    "median"
   ]
  },
  {
   "cell_type": "code",
   "execution_count": 87,
   "metadata": {},
   "outputs": [
    {
     "data": {
      "text/plain": [
       "0.09374597686695375"
      ]
     },
     "execution_count": 87,
     "metadata": {},
     "output_type": "execute_result"
    }
   ],
   "source": [
    "# Get reconstruction loss threshold.\n",
    "threshold = np.max(train_mae_loss)\n",
    "\n",
    "# print out the threshold\n",
    "threshold"
   ]
  },
  {
   "cell_type": "markdown",
   "metadata": {},
   "source": [
    "<br>\n",
    "The median and threshold are outputs of the model when run and will differ each time.  \n",
    "\n",
    "Here we plot the training set against what it is predicting.  \n",
    "The neural network is receiving the training set as input and output.  \n",
    "The neural network is attempting to train itself.  \n",
    "When there is an anomaly the difference between predicetd and actual is *significant*.  \n",
    "Therefore there must be an anomaly.  \n",
    "##### Importantly we set a threshold for the 'standard' loss.  Anything higher we consider an anomaly."
   ]
  },
  {
   "cell_type": "code",
   "execution_count": 88,
   "metadata": {},
   "outputs": [
    {
     "data": {
      "image/png": "[encoded data removed]",
      "text/plain": [
       "<Figure size 720x432 with 1 Axes>"
      ]
     },
     "metadata": {
      "needs_background": "light"
     },
     "output_type": "display_data"
    }
   ],
   "source": [
    "# Plot the x_train data- predicted vs actual\n",
    "\n",
    "# Pandas fig size\n",
    "fig, ax = plt.subplots(figsize=(10, 6))\n",
    "\n",
    "# define x axis\n",
    "ax.plot(x_train[0])\n",
    "\n",
    "# define y axis\n",
    "ax.plot(x_train_pred[0]);\n"
   ]
  },
  {
   "cell_type": "markdown",
   "metadata": {},
   "source": [
    "<br>\n",
    "\n",
    "As can be seen when the raw data is processed in Keras into a training set it smooths out some of the noise.  \n",
    "However it does predict the daily jumps."
   ]
  },
  {
   "cell_type": "markdown",
   "metadata": {},
   "source": [
    "We can subtract the training mean and training stdev from the values.  \n",
    "Train_mean and train_std are as defined above.  \n",
    "The new dataset = df_daily_jumpsup.  \n",
    "We apply anything from training set to new dataset hence same operation.  \n",
    "We then get a final dataset we can plot 'df_test_value'.\n"
   ]
  },
  {
   "cell_type": "code",
   "execution_count": 89,
   "metadata": {},
   "outputs": [],
   "source": [
    "# calculate difference between df_daily_jumpsup-train_mean\n",
    "# divide by train_std\n",
    "df_test_value = (df_daily_jumpsup - train_mean) / train_std"
   ]
  },
  {
   "cell_type": "code",
   "execution_count": 90,
   "metadata": {},
   "outputs": [
    {
     "data": {
      "image/png": "[encoded data removed]",
      "text/plain": [
       "<Figure size 720x432 with 1 Axes>"
      ]
     },
     "metadata": {
      "needs_background": "light"
     },
     "output_type": "display_data"
    }
   ],
   "source": [
    "# define pandas fig size\n",
    "fig, ax = plt.subplots(figsize=(10, 6))\n",
    "\n",
    "#  plot 'df_test_value' values\n",
    "df_test_value.plot(legend=False, ax=ax);"
   ]
  },
  {
   "cell_type": "markdown",
   "metadata": {},
   "source": [
    "As with training data above, we need to create sequences from test values.  \n",
    "To do this we need to rearrange the data frame as before.  \n",
    "The data is similar, we set same window size = 288."
   ]
  },
  {
   "cell_type": "code",
   "execution_count": 91,
   "metadata": {},
   "outputs": [
    {
     "data": {
      "text/plain": [
       "(3745, 288, 1)"
      ]
     },
     "execution_count": 91,
     "metadata": {},
     "output_type": "execute_result"
    }
   ],
   "source": [
    "# Create sequences from test values.\n",
    "x_test = windows(df_test_value.values)\n",
    "# check the x shape as output is same\n",
    "x_test.shape"
   ]
  },
  {
   "cell_type": "code",
   "execution_count": 92,
   "metadata": {},
   "outputs": [
    {
     "name": "stdout",
     "output_type": "stream",
     "text": [
      "118/118 [==============================] - 1s 9ms/step\n"
     ]
    }
   ],
   "source": [
    "# feed the new dataset into the keras.Sequential model\n",
    "x_test_pred = model.predict(x_test)"
   ]
  },
  {
   "cell_type": "code",
   "execution_count": 93,
   "metadata": {},
   "outputs": [
    {
     "data": {
      "text/plain": [
       "array([[0.07527085],\n",
       "       [0.07184274],\n",
       "       [0.07258045],\n",
       "       ...,\n",
       "       [0.07121547],\n",
       "       [0.07281812],\n",
       "       [0.07128485]])"
      ]
     },
     "execution_count": 93,
     "metadata": {},
     "output_type": "execute_result"
    }
   ],
   "source": [
    "# Return mean of the absolute difference between actual and predicted values.\n",
    "test_mae_loss = np.mean(np.abs(x_test_pred - x_test), axis=1)\n",
    "test_mae_loss"
   ]
  },
  {
   "cell_type": "code",
   "execution_count": 94,
   "metadata": {},
   "outputs": [
    {
     "data": {
      "text/plain": [
       "array([0.07527085, 0.07184274, 0.07258045, ..., 0.07121547, 0.07281812,\n",
       "       0.07128485])"
      ]
     },
     "execution_count": 94,
     "metadata": {},
     "output_type": "execute_result"
    }
   ],
   "source": [
    "# reshape the arrays to one\n",
    "test_mae_loss = test_mae_loss.reshape((-1))\n",
    "test_mae_loss"
   ]
  },
  {
   "cell_type": "markdown",
   "metadata": {},
   "source": [
    "<br>\n",
    "\n",
    "Now lets plot these difference values against # of samples.  Is there an anomaly?"
   ]
  },
  {
   "cell_type": "code",
   "execution_count": 95,
   "metadata": {},
   "outputs": [
    {
     "data": {
      "image/png": "[encoded data removed]",
      "text/plain": [
       "<Figure size 720x432 with 1 Axes>"
      ]
     },
     "metadata": {
      "needs_background": "light"
     },
     "output_type": "display_data"
    }
   ],
   "source": [
    "# Create histogram\n",
    "\n",
    "# define pandas fig size (histogram)\n",
    "fig, ax = plt.subplots(figsize=(10, 6))\n",
    "\n",
    "# plot the histogram\n",
    "ax.hist(test_mae_loss, bins=50)\n",
    "\n",
    "# set x label\n",
    "ax.set_xlabel(\"test MAE loss\")\n",
    "\n",
    "# set y label\n",
    "ax.set_ylabel(\"No of samples\");"
   ]
  },
  {
   "cell_type": "markdown",
   "metadata": {},
   "source": [
    "<br>\n",
    "\n",
    "There are always likely to be differences between actual and training.  \n",
    "But we can define true anomalies as differences > the threshold calculated from the baseline dataset."
   ]
  },
  {
   "cell_type": "code",
   "execution_count": 96,
   "metadata": {},
   "outputs": [
    {
     "data": {
      "text/plain": [
       "396"
      ]
     },
     "execution_count": 96,
     "metadata": {},
     "output_type": "execute_result"
    }
   ],
   "source": [
    "# Detect all the samples which are anomalies.\n",
    "anomalies = test_mae_loss > threshold\n",
    "\n",
    "# Number of anomalies.\n",
    "np.sum(anomalies)"
   ]
  },
  {
   "cell_type": "markdown",
   "metadata": {},
   "source": [
    "<br>\n",
    "\n",
    "The above are the  number of samples with anomalies.  \n",
    "This could be on a scorecard to predict unwanted/unexpected behaviour in a system."
   ]
  },
  {
   "cell_type": "markdown",
   "metadata": {},
   "source": [
    "<br>\n",
    "\n",
    "We can now 'collect' these anomalies in an empty list/array using a simple for loop.  \n",
    "So we can pass them into other functions we define them as their array indexes i."
   ]
  },
  {
   "cell_type": "code",
   "execution_count": 97,
   "metadata": {},
   "outputs": [],
   "source": [
    "# simplified\n",
    "# data i is an anomaly if samples [(i - timesteps + 1) to (i)] are anomalies\n",
    "inds = []\n",
    "\n",
    "for i in range(window_size - 1, len(df_test_value) - window_size + 1):\n",
    "    if np.all(anomalies[i - window_size + 1 : i]):\n",
    "        inds.append(i)"
   ]
  },
  {
   "cell_type": "code",
   "execution_count": 98,
   "metadata": {},
   "outputs": [
    {
     "name": "stdout",
     "output_type": "stream",
     "text": [
      "[2988, 2989, 2990, 2991, 2992, 2993, 2994, 2995, 2996, 2997, 2998, 2999, 3000, 3001, 3002, 3003, 3004, 3005, 3006, 3007, 3008, 3009, 3010, 3011, 3012, 3013, 3014, 3015, 3016, 3017, 3018, 3019, 3020, 3021, 3022, 3023, 3024, 3025, 3026, 3027, 3028, 3029, 3030, 3031, 3032, 3033, 3034, 3035, 3036, 3037, 3038, 3039, 3040, 3041, 3042, 3043, 3044, 3045, 3046, 3047, 3048, 3049, 3050, 3051, 3052, 3053, 3054, 3055, 3056, 3057, 3058, 3059, 3060, 3061, 3062, 3063, 3064, 3065, 3066, 3067, 3068, 3069, 3070, 3071, 3072, 3073, 3074, 3075, 3076, 3077, 3078, 3079, 3080, 3081, 3082, 3083, 3084, 3085, 3086, 3087, 3088, 3089, 3090, 3091, 3092, 3093, 3094, 3095]\n"
     ]
    }
   ],
   "source": [
    "print(inds);"
   ]
  },
  {
   "cell_type": "markdown",
   "metadata": {},
   "source": [
    "<br>\n",
    "\n",
    "We can use this data to plot anomalies over the original no_anomalies trend.  \n",
    "To do this we 'gather' the samples where were 'allowables losses'are greater than the threshold, by their indexes above.  \n",
    "This can then be plotted (overlaid) onto the original dataset to show the extent of the anomaly."
   ]
  },
  {
   "cell_type": "code",
   "execution_count": 99,
   "metadata": {},
   "outputs": [],
   "source": [
    "# create the subset of df_subset where index = anomalies\n",
    "# can be located using pandas iloc (indexes passed in)\n",
    "df_subset = df_daily_jumpsup.iloc[inds]"
   ]
  },
  {
   "cell_type": "code",
   "execution_count": 100,
   "metadata": {},
   "outputs": [
    {
     "data": {
      "image/png": "[encoded data removed]",
      "text/plain": [
       "<Figure size 720x432 with 1 Axes>"
      ]
     },
     "metadata": {
      "needs_background": "light"
     },
     "output_type": "display_data"
    }
   ],
   "source": [
    "# WHATS PREDICTED OUT OF THIS WITH THIS ANOMALLY  FOR NN IS V DIFFERENT TO WHATS SEEN\n",
    " #NICE LITTLE PLOT THAT COULD BE \n",
    "# define pandas plot size\n",
    "fig, ax = plt.subplots(figsize=(10, 6))\n",
    "\n",
    "# plot the original dataset in default blue\n",
    "df_daily_jumpsup.plot(legend=False, ax=ax,)\n",
    "\n",
    "# plot anomalies over the original plot in red\n",
    "df_subset.plot(legend=False, ax=ax, color=\"r\");"
   ]
  },
  {
   "cell_type": "markdown",
   "metadata": {},
   "source": [
    "<br>\n",
    "\n",
    "The neural network has been shown to be able to predict the time series pattern from a training set generated from 'baseline' no_anomaly data (4032 data points spanning 2 weeks).  \n",
    "The model is then used to predict using a new data_set that has an anomaly. The anomalies are identifiable by the mae loss being  greater than the model baseline loss threshold.  \n",
    "Thus the model has learned to predict anomalies in the time-series data."
   ]
  },
  {
   "cell_type": "markdown",
   "metadata": {},
   "source": [
    "<br>\n",
    "\n",
    "## Summary\n",
    "\n",
    "For 1D linear data the Neural Network takes in 'windows' of data from the original normailzed dataset one at a time.  \n",
    "The Keras Neural Network takes input/output at the same time.  \n",
    "When an anomaly is detected it will detect that signal (for instance the signal has gone too high).  \n",
    "The model should now be able to detect an anomaly in the signal."
   ]
  },
  {
   "cell_type": "markdown",
   "metadata": {},
   "source": [
    "## Potential improvements\n",
    "\n",
    "To ensure the ability to recover from an interrupted training run at any time (fault tolerance), perhaps better to use a tf.keras.callbacks.experimental.BackupAndRestore  \n",
    "This regularly saves the training progress, including the epoch number and weights, to disk, and loads it the next time we call Model.fit().  \n",
    "\n",
    "From a comparison of mean trends over  for 2w instance, the mean values of both time_series datasets are significantly different.  It is outside the realm of Neural Networks but a monitoring of mean weekly values could be a simple albeit crude solution for this type of system in the real world.  "
   ]
  },
  {
   "cell_type": "markdown",
   "metadata": {},
   "source": [
    "The following are a list of algorithms and their performance using the [NAB][8] datasets:\n",
    "\n",
    "[8]: https://www.sciencedirect.com/science/article/pii/S0925231217309864"
   ]
  },
  {
   "cell_type": "markdown",
   "metadata": {},
   "source": [
    "|Detector |Standard Profile |Reward Low | FPReward Low FN |  \n",
    "|:-------:|:-------:|:-------:|:-------:|  \n",
    "|Perfect |100 |100 |100 |  \n",
    "|:-------:|:-------:|:-------:|:-------:|  \n",
    "|HTM AL |70.1 |63.1 |74.3 |  \n",
    "|:-------:|:-------:|:-------:|:-------:|\n",
    "|CAD OSE+|69.9|67.0|73.2|  \n",
    "|:-------:|:-------:|:-------:|:-------:|\n",
    "|nab-comportex+|64.6|58.8|69.6|\n",
    "|:-------:|:-------:|:-------:|:-------:|\n",
    "|KNNsingle bondCAD+|58.0|43.4|64.8|\n",
    "|:-------:|:-------:|:-------:|:-------:|\n",
    "|Relative Entropy|54.6|47.6|58.8|\n",
    "|:-------:|:-------:|:-------:|:-------:|\n",
    "|HTM PE|53.6|34.2|61.9|\n",
    "|:-------:|:-------:|:-------:|:-------:|\n",
    "|Twitter ADVec|47.1|33.6|53.5|\n",
    "|:-------:|:-------:|:-------:|:-------:|\n",
    "|Etsy Skyline|35.7|27.1|44.5|\n",
    "|:-------:|:-------:|:-------:|:-------:|\n",
    "|Sliding Threshold|30.7|12.1|38.3|\n",
    "|:-------:|:-------:|:-------:|:-------:|\n",
    "|Bayesian Changepoint|17.7|3.2|32.2|\n",
    "|:-------:|:-------:|:-------:|:-------:|\n",
    "|EXPoSE|16.4|3.2|26.9|\n",
    "|:-------:|:-------:|:-------:|:-------:|\n",
    "|Random|11|1.2|19.5|\n",
    "|:-------:|:-------:|:-------:|:-------:|\n",
    "|Null|0|0|0|"
   ]
  },
  {
   "cell_type": "markdown",
   "metadata": {},
   "source": [
    "#### References:  \n",
    "\n",
    "1. Tensorflow https://www.tensorflow.org/about\n",
    "2. Numenta Anomaly Benchmark (Kaggle) https://www.kaggle.com/datasets/boltzmannbrain/nab\n",
    "3. Numenta Anomaly Benchmark <https://github.com/numenta/NAB>\n",
    "4. Time Series Anomaly Detection <https://keras.io/examples/timeseries/timeseries_anomaly_detection/>\n",
    "5. Evaluating Real-time Anomaly Detection Algorithms - the Numenta Anomaly Benchmark https://doi.org/10.48550/arXiv.1510.03336\n",
    "6. Anomaly detection https://www.anodot.com/blog/what-is-anomaly-detection  \n",
    "7. Detecting anomalies using autoencoder  https://www.kaggle.com/code/ohseokkim/dectecting-anomaly-using-autoencoder\n",
    "8. Keras <https://keras.io/>\n",
    "9. Training and Loss <https://developers.google.com/machine-learning/crash-course/descending-into-ml/training-and-loss>  \n",
    "10. ML Training <https://developers.google.com/machine-learning>\n",
    "11. Cross-entropy & loss functions <https://ml-cheatsheet.readthedocs.io/en/latest/loss_functions.html#cross-entropy>\n",
    "12. Loss-function in Tensorflow <https://medium.datadriveninvestor.com/loss-function-in-tensorflow-b7eb1215ef78>\n",
    "13. Stochtastic Gradient Descent <https://towardsdatascience.com/stochastic-gradient-descent-clearly-explained-53d239905d31>\n",
    "14. Adam Optimizer <https://towardsdatascience.com/adam-latest-trends-in-deep-learning-optimization-6be9a291375c#:~:text=Adam%20can%20be%20looked%20at,itself%20like%20SGD%20with%20momentum>\n",
    "15. Time Series Prediction with Keras https://www.kaggle.com/code/nitinsss/time-series-prediction-with-keras-for-beginners\n",
    "16. Rectified Linear Units in deep learning https://www.kaggle.com/code/dansbecker/rectified-linear-units-relu-in-deep-learning/notebook\n",
    "17. Time Series Windows for Tensorflow https://www.mlq.ai/time-series-tensorflow-windows-horizons/\n",
    "18. NAB Paper https://www.sciencedirect.com/science/article/pii/S0925231217309864\n",
    "19. Model Predictions with Keras https://www.activestate.com/resources/quick-reads/how-to-use-a-model-to-do-predictions-with-keras/\n",
    "20. Convolutional Neural Networks https://towardsdatascience.com/a-comprehensive-guide-to-convolutional-neural-networks-the-eli5-way-3bd2b1164a53\n",
    "21. Convolutional Neural Networks Course https://machinelearningmastery.com/crash-course-convolutional-neural-networks/\n",
    "22. Understanding 1D and 3D CNNs https://towardsdatascience.com/understanding-1d-and-3d-convolution-neural-network-keras-9d8f76e29610\n",
    "22. Machine Learning Mastery https://machinelearningmastery.com/convolutional-layers-for-deep-learning-neural-networks/\n"
   ]
  },
  {
   "cell_type": "markdown",
   "metadata": {},
   "source": [
    "***\n",
    "\n",
    "## End"
   ]
  }
 ],
 "metadata": {
  "kernelspec": {
   "display_name": "Python 3",
   "language": "python",
   "name": "python3"
  },
  "language_info": {
   "codemirror_mode": {
    "name": "ipython",
    "version": 3
   },
   "file_extension": ".py",
   "mimetype": "text/x-python",
   "name": "python",
   "nbconvert_exporter": "python",
   "pygments_lexer": "ipython3",
   "version": "3.8.8"
  }
 },
 "nbformat": 4,
 "nbformat_minor": 4
}
