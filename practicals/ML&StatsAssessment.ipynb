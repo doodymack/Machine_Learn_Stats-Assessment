{
 "cells": [
  {
   "cell_type": "markdown",
   "id": "6b1ab686-82f1-4c42-b550-0f2b7d684ead",
   "metadata": {},
   "source": [
    "# Machine Learning & Statistics Assessment-PaulMcGrath<br>\n",
    "___"
   ]
  },
  {
   "cell_type": "markdown",
   "id": "daabf186-9afa-4c0d-8d1d-c8432f0426fa",
   "metadata": {},
   "source": [
    "#### Fisher Tea test -Exercise 1<br>\n",
    "The Fisher Tea Test gives about a 1.5% chance of randomly selecting the correct cups. <br> Calculate the minimum number of cups of tea required to ensure the probability of randomly selecting the correct cups is less than or equal to 1%.\n"
   ]
  },
  {
   "cell_type": "code",
   "execution_count": 1,
   "id": "d753f9a1-16f5-42b9-aa58-6d07d95fc624",
   "metadata": {},
   "outputs": [
    {
     "data": {
      "text/plain": [
       "10"
      ]
     },
     "execution_count": 1,
     "metadata": {},
     "output_type": "execute_result"
    }
   ],
   "source": [
    "# the following is adapted from https://stackoverflow.com/a/4941932\n",
    "\n",
    "# scipy.stats explanation of function:  https://docs.scipy.org/doc/scipy/reference/generated/scipy.special.comb.html#scipy.special.comb\n",
    "# As of Python 3.8, binomial coefficients are available in the standard library as math.comb:\n",
    "# import and test the function.  output should be 10\n",
    "from math import comb\n",
    "comb(5,2)"
   ]
  },
  {
   "cell_type": "markdown",
   "id": "e9b7a03a-daf5-4dca-8fc0-e44743643c8e",
   "metadata": {},
   "source": [
    "The first group is the cups with milk first <br>\n",
    "The second group is the cups with tea first <br>\n",
    "Once we select four cups for the first group, the second group is made up of the remaining cups <br>\n",
    "So, we only really need to count how many different ways there are to select 4 cups from 8 <br>\n",
    "To begin we give each of the eight cups a lable from 0 to 7 <br>\n",
    "Note thast the cups have no order in the experiemnt, we are labelling them with integers simply for convenience"
   ]
  },
  {
   "cell_type": "code",
   "execution_count": null,
   "id": "e737baad-2730-4972-bce7-337c8d3d187c",
   "metadata": {},
   "outputs": [],
   "source": [
    "# The eight cups\n",
    "cups =list(range(8))\n",
    "cups"
   ]
  },
  {
   "cell_type": "code",
   "execution_count": null,
   "id": "a6163ead-dc6d-4fcd-bc3a-d0d1fcb772d4",
   "metadata": {},
   "outputs": [],
   "source": [
    "# The eight cups\n",
    "cups =list(range(8))\n",
    "cups"
   ]
  },
  {
   "cell_type": "markdown",
   "id": "618b756c-e924-466e-8f31-83d3536d573c",
   "metadata": {},
   "source": [
    "Suppose the subject is trying to pick the four cups with milk in first\n",
    "If the subject is picking the cups randonly then they are randomly picking one of 70 different options\n",
    "By randomly we mean thsat they cannot tell which cups have milk in first (other than taste)\n",
    "Therefore if taste is not a factor- they only have a probability of 1/70 (0.014) of randomly getting the right answer\n",
    "The number of ways of selecting 4 unordered items from 8 can be worked out by using the 'choose' function in Mathemathics"
   ]
  },
  {
   "cell_type": "code",
   "execution_count": 2,
   "id": "582e5516-05dd-4866-acaa-3bb6a9788c0c",
   "metadata": {},
   "outputs": [
    {
     "data": {
      "text/plain": [
       "70.0"
      ]
     },
     "execution_count": 2,
     "metadata": {},
     "output_type": "execute_result"
    }
   ],
   "source": [
    "# choose function \n",
    "(8*7*6*5/(4*3*2*1))"
   ]
  },
  {
   "cell_type": "markdown",
   "id": "75d0389e-d621-42e5-a978-a5b0ed708cd1",
   "metadata": {},
   "source": [
    "These possibilities can be enumerated using the combination fucnction 'comb' from itertools package in Python <br>\n",
    "Thus first have to import itertools from library <br>\n",
    "This function takes a list *l* of items and a number *n*. It returnsor generates each way of selecting *n* unordered items from *l*"
   ]
  },
  {
   "cell_type": "markdown",
   "id": "4f349961-74e8-4664-abd7-bdc57cfebc3a",
   "metadata": {},
   "source": [
    "## The Null Hypothesis\n",
    "---"
   ]
  },
  {
   "cell_type": "markdown",
   "id": "93dd1f7d-9d77-4db6-bf1e-8e6cb0ea69af",
   "metadata": {},
   "source": [
    "In the book, Fisher describes  the null hypothesis <br>\n",
    "It is the statement to be countered by the experiment <br>\n",
    "In this case it is the hypothesis that the subject **cannot** tell the difference between a cup of tea that had milk in it first and one that had the tea in it first<br> <br>\n",
    "**Null Hypothesis**<br>\n",
    "<br>\n",
    "Once we collect the experimental data we evaluate how likely we were to see such data if the null hypothesis is true <br>\n",
    "If it is very unlikely, then we may **reject** the null hypothesis<br>\n",
    "Typically we have an alternative hypothesis that we sugegst rejecting the null hypothesis is evidence for <br><br>\n",
    "**Alternative Hypothesis**<br>\n",
    "<br>\n",
    "Should the subject pick the correct four cups with milk in them first, there is only a 1 in 70 (1.4%) chance of them having chosen those simply by chance. <br>\n",
    "<br>\n",
    "Fisher considered that unlikely enough to reject the null hypothesis i.e. if they choose right its not random chance and the taster CAN taste the difference<br>"
   ]
  },
  {
   "cell_type": "code",
   "execution_count": null,
   "id": "4693c5c5-ec9a-4d16-922c-797b14e97458",
   "metadata": {},
   "outputs": [],
   "source": [
    "# show the different combinations as an output\n",
    "\n",
    "import itertools\n",
    "poss = list(itertools.combinations (cups,4))\n",
    "poss"
   ]
  },
  {
   "cell_type": "code",
   "execution_count": null,
   "id": "c587feb4-ed3b-4c8e-9c86-8412e016e85a",
   "metadata": {},
   "outputs": [],
   "source": [
    "# choose math funtion in python\n",
    "import math"
   ]
  },
  {
   "cell_type": "code",
   "execution_count": null,
   "id": "862d567f-0a67-4c72-b925-3a1eca885f76",
   "metadata": {},
   "outputs": [],
   "source": [
    "# number of ways of selecting 4 cups from 8\n",
    "math.comb(8,4)"
   ]
  },
  {
   "cell_type": "code",
   "execution_count": null,
   "id": "8d95e6d4-03e7-450a-baa8-49f1a4ed1d72",
   "metadata": {},
   "outputs": [],
   "source": [
    "# probability of selecting 4 cups from 8 is 1/(number of choices)\n",
    "1.0/math.comb(8,4)"
   ]
  },
  {
   "cell_type": "code",
   "execution_count": null,
   "id": "5c2a0a62-19d9-413f-b3a0-758e17b50b36",
   "metadata": {},
   "outputs": [],
   "source": [
    "# probability of selecting 4 cups from 8 - as a percentage\n",
    "1.0/math.comb(8,4)*100"
   ]
  },
  {
   "cell_type": "markdown",
   "id": "ee11472c-d299-49aa-b3ff-870d1e75768b",
   "metadata": {},
   "source": [
    "i.e. for the tea experiment with 8 cups - 4 tea first, 4 milk first the probability of selecting a given combination is approx 1.5%  as was quoted above"
   ]
  },
  {
   "cell_type": "code",
   "execution_count": null,
   "id": "269517ee-c8df-427e-ae5b-e181cd02b727",
   "metadata": {},
   "outputs": [],
   "source": [
    "# number of ways of selecting 5 cups from 10\n",
    "math.comb(10,5)"
   ]
  },
  {
   "cell_type": "markdown",
   "id": "e04245db-50ab-423e-859d-5026d21f2cfb",
   "metadata": {},
   "source": [
    "#### Hence the probability of one specific combination is 1/(# of possible combinations)"
   ]
  },
  {
   "cell_type": "code",
   "execution_count": null,
   "id": "f9fbdbbe-5aa8-4652-aa04-66039d92b8b7",
   "metadata": {},
   "outputs": [],
   "source": [
    "# Probability of randonly selecting correct 5 cups is:\n",
    "1.0/math.comb(10,5)"
   ]
  },
  {
   "cell_type": "code",
   "execution_count": null,
   "id": "d464f24d-7d51-44a1-9abc-c6de3b9f395c",
   "metadata": {},
   "outputs": [],
   "source": [
    "# Probability of randonly selecting correct 5 cups from 10 is:\n",
    "1.0/math.comb(10,5)"
   ]
  },
  {
   "cell_type": "code",
   "execution_count": null,
   "id": "66fe2a50-2a15-49a3-b5ff-9642c85bc4c6",
   "metadata": {},
   "outputs": [],
   "source": [
    "# Probability of randonly selecting correct 5 cups - as a percentage is:\n",
    "1.0/math.comb(10,5)*100"
   ]
  },
  {
   "cell_type": "markdown",
   "id": "0db27aad-3087-4443-b2fb-15f5b0e43d0e",
   "metadata": {},
   "source": [
    "So if the experiment was done with 10 cups total, five with milk in first and five with tea in first, <br> then the chance of selecting correctly randomly is **much** less than 1%"
   ]
  },
  {
   "cell_type": "markdown",
   "id": "f8668e48-f828-496e-acab-49981a548e58",
   "metadata": {},
   "source": [
    "Of course we could design the experiment to have 9 cups in total, with 4 with milk in first and 5 with tea in first- or vice versa"
   ]
  },
  {
   "cell_type": "code",
   "execution_count": null,
   "id": "c094cd44-9365-4a8c-9ff7-2573623ce165",
   "metadata": {},
   "outputs": [],
   "source": [
    "# number of ways of selecting 4 cups from 9\n",
    "math.comb (9,4)"
   ]
  },
  {
   "cell_type": "code",
   "execution_count": null,
   "id": "47ab082c-61dc-4b32-9a7a-9abe5648b176",
   "metadata": {},
   "outputs": [],
   "source": [
    "# number of ways of selecting 4 cups from 9\n",
    "math.comb (9,5)"
   ]
  },
  {
   "cell_type": "markdown",
   "id": "67c0a0bf-6981-4fd7-9ebe-4c5124e60d63",
   "metadata": {},
   "source": [
    "__this is <1% too !!__"
   ]
  },
  {
   "cell_type": "markdown",
   "id": "9967318a-ec5e-4c5c-b57d-55430bcaa1a0",
   "metadata": {},
   "source": [
    "Note the number of combinations is the same if select 4 or 5 'cups' in the tea test as it gives the same remaining i.e. 4 or 5.<br>"
   ]
  },
  {
   "cell_type": "markdown",
   "id": "3f5c7c4e-c441-48b7-aa0e-63af3f2e357c",
   "metadata": {},
   "source": [
    "## So the answer is 9 cups!"
   ]
  },
  {
   "cell_type": "markdown",
   "id": "5bab157c-3e39-4262-9985-f1d895be5945",
   "metadata": {},
   "source": [
    "*Bonus:* How many would be required if you were to let the taster get one cup wrong while maintaining the 1% threshold?"
   ]
  },
  {
   "cell_type": "markdown",
   "id": "29eae127-6d2a-446f-ac83-03dca060c641",
   "metadata": {},
   "source": [
    "<h3 style=\"color: #001a79;\">Exercise</h3>\n",
    "\n",
    "<hr style=\"border-top: 1px solid #001a79;\" />\n",
    "\n",
    "<i style=\"color: #001a79;\">Remember to do these exercises in your own notebook in your assessment repository.</i>\n",
    "\n",
    "Use <a href=\"https://docs.scipy.org/doc/scipy/reference/generated/scipy.stats.fisher_exact.html\" style=\"color: #ff791e\">scipy's version of Fisher's exact test</a> to simulate the Lady Tasting Tea problem."
   ]
  },
  {
   "cell_type": "markdown",
   "id": "7f32103d-0176-4008-b49d-9f1f9b30975b",
   "metadata": {},
   "source": [
    "fisher_exact is a function <br> two parameters <br> 1. table (2 x 2 cells i.e 4 numbers in 2d array) <br> default is 2-sided <br>"
   ]
  },
  {
   "cell_type": "markdown",
   "id": "8d82021b-055f-4d6d-8ae3-6cc2b65d1ed0",
   "metadata": {},
   "source": [
    "can click on the [source] button and remove some of mystique <br>\n",
    "it hyperlinks to github <br>\n",
    "scipy is the name of the repository <br>\n",
    "asks to go to line 4492.  The scipystats_fisher function (code) is here <br>\n",
    "This is what is used i.e. code pulled out of comments from a repository in github <br> scipy_stats text is pulled from here <br>from line 4661 actually have the python code that executes the function <br>  e.g. 'return oddsratio, pvalue' line 4723 is the output of the python code <br>\n",
    "ultimately its just open source python code <br>"
   ]
  },
  {
   "cell_type": "markdown",
   "id": "b3bf4932-a861-4ffc-a576-80de22ab362b",
   "metadata": {},
   "source": [
    "## Statistical Methods"
   ]
  },
  {
   "cell_type": "code",
   "execution_count": null,
   "id": "7195e1ce-961c-49b3-b1a2-6bb682754dbb",
   "metadata": {},
   "outputs": [],
   "source": [
    "# statistical methods\n",
    "import scipy.stats as ss"
   ]
  },
  {
   "cell_type": "code",
   "execution_count": null,
   "id": "76b677fd-0064-4178-8cd5-7e85d7c209bc",
   "metadata": {},
   "outputs": [],
   "source": [
    "# use this figure it out\n",
    "# in scipy stats if scroll down you will get loads of examples of how to do things\n",
    "\n",
    "ss.fisher_exact"
   ]
  },
  {
   "cell_type": "code",
   "execution_count": null,
   "id": "fb2bfb5e-36fd-449d-990b-bf3012c72d3f",
   "metadata": {},
   "outputs": [],
   "source": [
    "# using fisher exact get to similar output as itertools"
   ]
  },
  {
   "cell_type": "code",
   "execution_count": null,
   "id": "712d2cba-2647-4df8-8232-6ef83f404a77",
   "metadata": {},
   "outputs": [],
   "source": [
    "# example\n",
    "ss.fisher_exact([[4,0], [0,4]])\n",
    "# should have been 0.014285"
   ]
  },
  {
   "cell_type": "code",
   "execution_count": null,
   "id": "a8e69e05-3a59-4925-914a-90bdc8c88078",
   "metadata": {},
   "outputs": [],
   "source": [
    "# turns out its double the chance\n",
    "# use scipy stats.fisher_exact to get the right result\n",
    "# but its giving the probability * 2\n",
    "# whats going on\n",
    "# go down to the code\n",
    "# use it to get the exepcted value\n",
    "# go back and understand why the statisitical code is giving the correct value- make sense of it \n",
    "# see if anything you can change in use of function without understanding the fisher-exact test\n",
    "# get comfortable with scipy.stats\n",
    "# reverse engineer scipy.stats to get the value you want\n",
    "# treat like learning how to drive the car\n",
    "# google lady tasting tea -scipy stats\n",
    "\n",
    "0.014285*2"
   ]
  },
  {
   "cell_type": "markdown",
   "id": "42ae75fd-406c-4e33-89f1-ccf836161178",
   "metadata": {},
   "source": [
    "# Models \n",
    "-------"
   ]
  },
  {
   "cell_type": "markdown",
   "id": "54e9d594-6254-4652-8cc3-6a70dc86d57b",
   "metadata": {},
   "source": [
    "In this notebook, we will learn about mathematical models."
   ]
  },
  {
   "cell_type": "code",
   "execution_count": null,
   "id": "0cf9503d-4152-490e-9998-28c445ea93a1",
   "metadata": {},
   "outputs": [],
   "source": [
    "# add in the remainder of course worl and complete the exercises"
   ]
  }
 ],
 "metadata": {
  "kernelspec": {
   "display_name": "Python 3",
   "language": "python",
   "name": "python3"
  },
  "language_info": {
   "codemirror_mode": {
    "name": "ipython",
    "version": 3
   },
   "file_extension": ".py",
   "mimetype": "text/x-python",
   "name": "python",
   "nbconvert_exporter": "python",
   "pygments_lexer": "ipython3",
   "version": "3.8.8"
  }
 },
 "nbformat": 4,
 "nbformat_minor": 5
}
