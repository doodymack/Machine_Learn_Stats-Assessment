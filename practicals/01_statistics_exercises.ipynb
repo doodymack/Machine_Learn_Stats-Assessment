{
 "cells": [
  {
   "cell_type": "markdown",
   "id": "7dfc6e65",
   "metadata": {},
   "source": [
    "<h3 style=\"color: #001a79;\">Exercise</h3>\n",
    "\n",
    "<hr style=\"border-top: 1px solid #001a79;\" />\n",
    "\n",
    "<i style=\"color: #001a79;\">Remember to do these exercises in your own notebook in your assessment repository.</i>\n",
    "\n",
    "The above gives about a 1.5% chance of randomly selecting the correct cups. Calculate the minimum number of cups of tea required to ensure the probability of randomly selecting the correct cups is less than or equal to 1%.\n"
   ]
  },
  {
   "cell_type": "markdown",
   "id": "58ded3b8",
   "metadata": {},
   "source": []
  },
  {
   "cell_type": "code",
   "execution_count": 1,
   "id": "0c459c97",
   "metadata": {},
   "outputs": [],
   "source": [
    "# the following is adapted from https://stackoverflow.com/a/4941932"
   ]
  },
  {
   "cell_type": "code",
   "execution_count": 2,
   "id": "664b00ac",
   "metadata": {},
   "outputs": [],
   "source": [
    "# choose math funtion in python\n",
    "import math\n"
   ]
  },
  {
   "cell_type": "code",
   "execution_count": 3,
   "id": "8b190655",
   "metadata": {},
   "outputs": [
    {
     "data": {
      "text/plain": [
       "70"
      ]
     },
     "execution_count": 3,
     "metadata": {},
     "output_type": "execute_result"
    }
   ],
   "source": [
    "# number of ways of selecting 4 cups from 8\n",
    "math.comb(8,4)"
   ]
  },
  {
   "cell_type": "code",
   "execution_count": 4,
   "id": "8cd6d2ad",
   "metadata": {},
   "outputs": [
    {
     "data": {
      "text/plain": [
       "252"
      ]
     },
     "execution_count": 4,
     "metadata": {},
     "output_type": "execute_result"
    }
   ],
   "source": [
    "# number of ways of selecting 5 cups from 10\n",
    "math.comb(10,5)"
   ]
  },
  {
   "cell_type": "code",
   "execution_count": 5,
   "id": "bb6d301f",
   "metadata": {},
   "outputs": [
    {
     "data": {
      "text/plain": [
       "0.003968253968253968"
      ]
     },
     "execution_count": 5,
     "metadata": {},
     "output_type": "execute_result"
    }
   ],
   "source": [
    "# Probability of randonly selecting correct 5 cups is:\n",
    "1.0/math.comb(10,5)"
   ]
  },
  {
   "cell_type": "markdown",
   "id": "b2b6ed56",
   "metadata": {},
   "source": [
    "So if the experiment was done with 10 cup total, five with milk in first and five with tea in first, then the chance of selecting correctly randomly is much less than 1%"
   ]
  },
  {
   "cell_type": "markdown",
   "id": "836c83cd",
   "metadata": {},
   "source": []
  },
  {
   "cell_type": "code",
   "execution_count": 6,
   "id": "6e78f2cf",
   "metadata": {},
   "outputs": [
    {
     "data": {
      "text/plain": [
       "126"
      ]
     },
     "execution_count": 6,
     "metadata": {},
     "output_type": "execute_result"
    }
   ],
   "source": [
    "# number of ways of selecting 4 cups from 9\n",
    "math.comb (9,4)"
   ]
  },
  {
   "cell_type": "markdown",
   "id": "638040ac",
   "metadata": {},
   "source": [
    "this is <1% too"
   ]
  },
  {
   "cell_type": "code",
   "execution_count": 7,
   "id": "2ae71ab5",
   "metadata": {},
   "outputs": [
    {
     "data": {
      "text/plain": [
       "126"
      ]
     },
     "execution_count": 7,
     "metadata": {},
     "output_type": "execute_result"
    }
   ],
   "source": [
    "# Note the number of ways of selecting 5 cups from 9: \n",
    "math.comb (9,5)"
   ]
  },
  {
   "cell_type": "markdown",
   "id": "4d116546",
   "metadata": {},
   "source": [
    "\n",
    "*Bonus:* How many would be required if you were to let the taster get one cup wrong while maintaining the 1% threshold?"
   ]
  },
  {
   "cell_type": "code",
   "execution_count": null,
   "id": "c0fc9abd",
   "metadata": {},
   "outputs": [],
   "source": []
  },
  {
   "cell_type": "code",
   "execution_count": null,
   "id": "88377aca",
   "metadata": {},
   "outputs": [],
   "source": []
  },
  {
   "cell_type": "code",
   "execution_count": null,
   "id": "25cbea56",
   "metadata": {},
   "outputs": [],
   "source": []
  },
  {
   "cell_type": "code",
   "execution_count": null,
   "id": "3f012302",
   "metadata": {},
   "outputs": [],
   "source": []
  },
  {
   "cell_type": "code",
   "execution_count": null,
   "id": "fc65683a",
   "metadata": {},
   "outputs": [],
   "source": []
  },
  {
   "cell_type": "code",
   "execution_count": null,
   "id": "b8b2b952",
   "metadata": {},
   "outputs": [],
   "source": []
  },
  {
   "cell_type": "markdown",
   "id": "a863caf0",
   "metadata": {},
   "source": [
    "<h3 style=\"color: #001a79;\">Exercise</h3>\n",
    "\n",
    "<hr style=\"border-top: 1px solid #001a79;\" />\n",
    "\n",
    "<i style=\"color: #001a79;\">Remember to do these exercises in your own notebook in your assessment repository.</i>\n",
    "\n",
    "Use <a href=\"https://docs.scipy.org/doc/scipy/reference/generated/scipy.stats.fisher_exact.html\" style=\"color: #ff791e\">scipy's version of Fisher's exact test</a> to simulate the Lady Tasting Tea problem."
   ]
  },
  {
   "cell_type": "code",
   "execution_count": 8,
   "id": "f5a72050",
   "metadata": {},
   "outputs": [],
   "source": [
    "# statistical methods\n",
    "import scipy.stats as ss"
   ]
  },
  {
   "cell_type": "code",
   "execution_count": 9,
   "id": "2a2c6495",
   "metadata": {},
   "outputs": [
    {
     "data": {
      "text/plain": [
       "<function scipy.stats.stats.fisher_exact(table, alternative='two-sided')>"
      ]
     },
     "execution_count": 9,
     "metadata": {},
     "output_type": "execute_result"
    }
   ],
   "source": [
    "# use this figure it out\n",
    "# in scipy stats if scroll down you wil lget loads of examples of how to do things\n",
    "\n",
    "ss.fisher_exact"
   ]
  },
  {
   "cell_type": "code",
   "execution_count": 10,
   "id": "88b3ef6b",
   "metadata": {},
   "outputs": [],
   "source": [
    "# using fisher exact get to similar output as itertools"
   ]
  },
  {
   "cell_type": "code",
   "execution_count": 11,
   "id": "782500a9",
   "metadata": {},
   "outputs": [
    {
     "data": {
      "text/plain": [
       "(inf, 0.028571428571428536)"
      ]
     },
     "execution_count": 11,
     "metadata": {},
     "output_type": "execute_result"
    }
   ],
   "source": [
    "# example\n",
    "ss.fisher_exact([[4,0], [0,4]])\n",
    "# should have been 0.014285"
   ]
  },
  {
   "cell_type": "code",
   "execution_count": 12,
   "id": "78868042",
   "metadata": {},
   "outputs": [
    {
     "data": {
      "text/plain": [
       "0.02857"
      ]
     },
     "execution_count": 12,
     "metadata": {},
     "output_type": "execute_result"
    }
   ],
   "source": [
    "# turns out its double the chance\n",
    "# use scipy stats.fisher_exact to get the right result\n",
    "# but its giving the probability * 2\n",
    "# whats going on\n",
    "# go down to the code\n",
    "# use it to get the exepcted value\n",
    "# go back and understand why the statisitical code is giving the correct value- make sense of it \n",
    "# see if anything you can change in use of function without understanding the fisher-exact test\n",
    "# get comfortable with scipy.stats\n",
    "# reverse engineer scipy.stats to get the value you want\n",
    "# treat like learning how to drive the car\n",
    "# google lady tasting tea -scipy stats\n",
    "\n",
    "0.014285*2"
   ]
  },
  {
   "cell_type": "code",
   "execution_count": null,
   "id": "b4b0911f",
   "metadata": {},
   "outputs": [],
   "source": []
  }
 ],
 "metadata": {
  "kernelspec": {
   "display_name": "Python 3",
   "language": "python",
   "name": "python3"
  },
  "language_info": {
   "codemirror_mode": {
    "name": "ipython",
    "version": 3
   },
   "file_extension": ".py",
   "mimetype": "text/x-python",
   "name": "python",
   "nbconvert_exporter": "python",
   "pygments_lexer": "ipython3",
   "version": "3.8.8"
  }
 },
 "nbformat": 4,
 "nbformat_minor": 5
}
